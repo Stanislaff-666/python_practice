{
  "nbformat": 4,
  "nbformat_minor": 0,
  "metadata": {
    "colab": {
      "provenance": [],
      "include_colab_link": true
    },
    "kernelspec": {
      "name": "python3",
      "display_name": "Python 3"
    },
    "language_info": {
      "name": "python"
    }
  },
  "cells": [
    {
      "cell_type": "markdown",
      "metadata": {
        "id": "view-in-github",
        "colab_type": "text"
      },
      "source": [
        "<a href=\"https://colab.research.google.com/github/Stanislaff-666/python_practice/blob/main/Numpy_%D0%9E%D0%B4%D0%BD%D0%BE%D0%BC%D0%B5%D1%80%D0%BD%D1%8B%D0%B5_%D0%BC%D0%B0%D1%81%D1%81%D0%B8%D0%B2%D1%8B.ipynb\" target=\"_parent\"><img src=\"https://colab.research.google.com/assets/colab-badge.svg\" alt=\"Open In Colab\"/></a>"
      ]
    },
    {
      "cell_type": "code",
      "execution_count": null,
      "metadata": {
        "id": "uWBd4xaFl--R"
      },
      "outputs": [],
      "source": [
        "import numpy as np"
      ]
    },
    {
      "cell_type": "code",
      "source": [
        "import numpy as np\n",
        "a=np.arange(1,10.5,0.5)\n",
        "print(a)"
      ],
      "metadata": {
        "colab": {
          "base_uri": "https://localhost:8080/"
        },
        "id": "97cZ3FAumz2a",
        "outputId": "deef37e1-c183-436b-e601-a977d8b106b4"
      },
      "execution_count": null,
      "outputs": [
        {
          "output_type": "stream",
          "name": "stdout",
          "text": [
            "[ 1.   1.5  2.   2.5  3.   3.5  4.   4.5  5.   5.5  6.   6.5  7.   7.5\n",
            "  8.   8.5  9.   9.5 10. ]\n"
          ]
        }
      ]
    },
    {
      "cell_type": "code",
      "source": [
        "import numpy as np\n",
        "a=np.linspace(-5,5,10)\n",
        "print(a)"
      ],
      "metadata": {
        "colab": {
          "base_uri": "https://localhost:8080/"
        },
        "id": "yZGHLfR8pRIE",
        "outputId": "9d7701ab-008c-42e9-d993-a1ac385946f2"
      },
      "execution_count": null,
      "outputs": [
        {
          "output_type": "stream",
          "name": "stdout",
          "text": [
            "[-5.         -3.88888889 -2.77777778 -1.66666667 -0.55555556  0.55555556\n",
            "  1.66666667  2.77777778  3.88888889  5.        ]\n"
          ]
        }
      ]
    },
    {
      "cell_type": "code",
      "source": [
        "import numpy as np\n",
        "a=np.arange(10,0.5,-1)\n",
        "print(a)"
      ],
      "metadata": {
        "colab": {
          "base_uri": "https://localhost:8080/"
        },
        "id": "GL_IZZ01phM4",
        "outputId": "396f1bbd-be04-4331-fd91-fb9f50f5f26e"
      },
      "execution_count": null,
      "outputs": [
        {
          "output_type": "stream",
          "name": "stdout",
          "text": [
            "[10.  9.  8.  7.  6.  5.  4.  3.  2.  1.]\n"
          ]
        }
      ]
    },
    {
      "cell_type": "code",
      "source": [
        "import numpy as np\n",
        "a=int(input('введите число'))\n",
        "arr=np.random.rand(a)\n",
        "print(arr)"
      ],
      "metadata": {
        "colab": {
          "base_uri": "https://localhost:8080/"
        },
        "id": "yCul2r1Du6NJ",
        "outputId": "b2f09efb-48ed-4ad5-8b37-77b148e0a55d"
      },
      "execution_count": null,
      "outputs": [
        {
          "output_type": "stream",
          "name": "stdout",
          "text": [
            "введите число10\n",
            "[0.09178413 0.34518624 0.66275252 0.44171349 0.55148779 0.70371249\n",
            " 0.58940123 0.04993276 0.56179184 0.76635847]\n"
          ]
        }
      ]
    },
    {
      "cell_type": "markdown",
      "source": [
        "На вход подаются 2 числа a и b в виде строки чисел через пробел. Создайте массив NumPy, содержащий числа от a до b включительно, кратные 3, выведите его на экран,"
      ],
      "metadata": {
        "id": "G5h-35ywqcb4"
      }
    },
    {
      "cell_type": "code",
      "source": [
        "import numpy as np\n",
        "a, b = map(int, input().split())\n",
        "arr = np.arange(a, b + 1, 1)\n",
        "res = []\n",
        "for i in arr:\n",
        "  if i % 3 == 0:\n",
        "    res.append(i)\n",
        "print(np.array(res))"
      ],
      "metadata": {
        "colab": {
          "base_uri": "https://localhost:8080/"
        },
        "id": "VhVXLAUYtNz4",
        "outputId": "cd793f57-6919-460e-e88a-0df7dd000588"
      },
      "execution_count": null,
      "outputs": [
        {
          "output_type": "stream",
          "name": "stdout",
          "text": [
            "-5 15\n",
            "[-3  0  3  6  9 12 15]\n",
            "[-3, 0, 3, 6, 9, 12, 15]\n"
          ]
        }
      ]
    },
    {
      "cell_type": "markdown",
      "source": [
        "На вход подается целое число n. Cоздайте массив из n случайных действительных чисел в интервале от 0 до 1 не включительно.\n",
        "\n",
        "Важно: перед генерацией чисел используйте строчку np.random.seed(32)."
      ],
      "metadata": {
        "id": "3eIyjI-AwUiw"
      }
    },
    {
      "cell_type": "code",
      "source": [
        "import numpy as np\n",
        "a=int(input())\n",
        "np.random.seed(32)\n",
        "arr=np.random.rand(a)\n",
        "print(arr)\n"
      ],
      "metadata": {
        "colab": {
          "base_uri": "https://localhost:8080/"
        },
        "id": "7Q-SbJyTuJ9o",
        "outputId": "7322b8c5-9088-4962-87a8-0c5ae6b523d4"
      },
      "execution_count": null,
      "outputs": [
        {
          "output_type": "stream",
          "name": "stdout",
          "text": [
            "10\n",
            "[0.85888927 0.37271115 0.55512878 0.95565655 0.7366696  0.81620514\n",
            " 0.10108656 0.92848807 0.60910917 0.59655344]\n"
          ]
        }
      ]
    },
    {
      "cell_type": "markdown",
      "source": [
        "На вход подается целое число n>=1. Создайте массив, содержащий n первых простых чисел. Выведите его на экран."
      ],
      "metadata": {
        "id": "BdF3DRkDwqro"
      }
    },
    {
      "cell_type": "code",
      "source": [
        "import numpy as np\n",
        "from sympy import prime\n",
        "a=int(input())\n",
        "res = []\n",
        "nth_prime = prime(range(1,a))\n",
        "res.append(a)\n",
        "print(res)\n"
      ],
      "metadata": {
        "colab": {
          "base_uri": "https://localhost:8080/",
          "height": 484
        },
        "id": "nhy5wbbzwq6A",
        "outputId": "1ae57de3-a67a-4d48-a175-8ddfd747b8bd"
      },
      "execution_count": null,
      "outputs": [
        {
          "name": "stdout",
          "output_type": "stream",
          "text": [
            "3\n"
          ]
        },
        {
          "output_type": "error",
          "ename": "ValueError",
          "evalue": "ignored",
          "traceback": [
            "\u001b[0;31m---------------------------------------------------------------------------\u001b[0m",
            "\u001b[0;31mTypeError\u001b[0m                                 Traceback (most recent call last)",
            "\u001b[0;32m/usr/local/lib/python3.10/dist-packages/sympy/utilities/misc.py\u001b[0m in \u001b[0;36mas_int\u001b[0;34m(n, strict)\u001b[0m\n\u001b[1;32m    554\u001b[0m                 \u001b[0;32mraise\u001b[0m \u001b[0mTypeError\u001b[0m\u001b[0;34m\u001b[0m\u001b[0;34m\u001b[0m\u001b[0m\n\u001b[0;32m--> 555\u001b[0;31m             \u001b[0;32mreturn\u001b[0m \u001b[0moperator\u001b[0m\u001b[0;34m.\u001b[0m\u001b[0mindex\u001b[0m\u001b[0;34m(\u001b[0m\u001b[0mn\u001b[0m\u001b[0;34m)\u001b[0m\u001b[0;34m\u001b[0m\u001b[0;34m\u001b[0m\u001b[0m\n\u001b[0m\u001b[1;32m    556\u001b[0m         \u001b[0;32mexcept\u001b[0m \u001b[0mTypeError\u001b[0m\u001b[0;34m:\u001b[0m\u001b[0;34m\u001b[0m\u001b[0;34m\u001b[0m\u001b[0m\n",
            "\u001b[0;31mTypeError\u001b[0m: 'range' object cannot be interpreted as an integer",
            "\nDuring handling of the above exception, another exception occurred:\n",
            "\u001b[0;31mValueError\u001b[0m                                Traceback (most recent call last)",
            "\u001b[0;32m<ipython-input-73-65871eb15b38>\u001b[0m in \u001b[0;36m<cell line: 5>\u001b[0;34m()\u001b[0m\n\u001b[1;32m      3\u001b[0m \u001b[0ma\u001b[0m\u001b[0;34m=\u001b[0m\u001b[0mint\u001b[0m\u001b[0;34m(\u001b[0m\u001b[0minput\u001b[0m\u001b[0;34m(\u001b[0m\u001b[0;34m)\u001b[0m\u001b[0;34m)\u001b[0m\u001b[0;34m\u001b[0m\u001b[0;34m\u001b[0m\u001b[0m\n\u001b[1;32m      4\u001b[0m \u001b[0mres\u001b[0m \u001b[0;34m=\u001b[0m \u001b[0;34m[\u001b[0m\u001b[0;34m]\u001b[0m\u001b[0;34m\u001b[0m\u001b[0;34m\u001b[0m\u001b[0m\n\u001b[0;32m----> 5\u001b[0;31m \u001b[0mnth_prime\u001b[0m \u001b[0;34m=\u001b[0m \u001b[0mprime\u001b[0m\u001b[0;34m(\u001b[0m\u001b[0mrange\u001b[0m\u001b[0;34m(\u001b[0m\u001b[0;36m1\u001b[0m\u001b[0;34m,\u001b[0m\u001b[0ma\u001b[0m\u001b[0;34m)\u001b[0m\u001b[0;34m)\u001b[0m\u001b[0;34m\u001b[0m\u001b[0;34m\u001b[0m\u001b[0m\n\u001b[0m\u001b[1;32m      6\u001b[0m \u001b[0mres\u001b[0m\u001b[0;34m.\u001b[0m\u001b[0mappend\u001b[0m\u001b[0;34m(\u001b[0m\u001b[0ma\u001b[0m\u001b[0;34m)\u001b[0m\u001b[0;34m\u001b[0m\u001b[0;34m\u001b[0m\u001b[0m\n\u001b[1;32m      7\u001b[0m \u001b[0mprint\u001b[0m\u001b[0;34m(\u001b[0m\u001b[0mres\u001b[0m\u001b[0;34m)\u001b[0m\u001b[0;34m\u001b[0m\u001b[0;34m\u001b[0m\u001b[0m\n",
            "\u001b[0;32m/usr/local/lib/python3.10/dist-packages/sympy/ntheory/generate.py\u001b[0m in \u001b[0;36mprime\u001b[0;34m(nth)\u001b[0m\n\u001b[1;32m    392\u001b[0m         \u001b[0;34m.\u001b[0m\u001b[0;34m.\u001b[0m \u001b[0;34m[\u001b[0m\u001b[0;36m3\u001b[0m\u001b[0;34m]\u001b[0m \u001b[0mhttps\u001b[0m\u001b[0;34m:\u001b[0m\u001b[0;34m//\u001b[0m\u001b[0men\u001b[0m\u001b[0;34m.\u001b[0m\u001b[0mwikipedia\u001b[0m\u001b[0;34m.\u001b[0m\u001b[0morg\u001b[0m\u001b[0;34m/\u001b[0m\u001b[0mwiki\u001b[0m\u001b[0;34m/\u001b[0m\u001b[0mSkewes\u001b[0m\u001b[0;34m%\u001b[0m\u001b[0;36m27\u001b[0m\u001b[0m_number\u001b[0m\u001b[0;34m\u001b[0m\u001b[0;34m\u001b[0m\u001b[0m\n\u001b[1;32m    393\u001b[0m     \"\"\"\n\u001b[0;32m--> 394\u001b[0;31m     \u001b[0mn\u001b[0m \u001b[0;34m=\u001b[0m \u001b[0mas_int\u001b[0m\u001b[0;34m(\u001b[0m\u001b[0mnth\u001b[0m\u001b[0;34m)\u001b[0m\u001b[0;34m\u001b[0m\u001b[0;34m\u001b[0m\u001b[0m\n\u001b[0m\u001b[1;32m    395\u001b[0m     \u001b[0;32mif\u001b[0m \u001b[0mn\u001b[0m \u001b[0;34m<\u001b[0m \u001b[0;36m1\u001b[0m\u001b[0;34m:\u001b[0m\u001b[0;34m\u001b[0m\u001b[0;34m\u001b[0m\u001b[0m\n\u001b[1;32m    396\u001b[0m         \u001b[0;32mraise\u001b[0m \u001b[0mValueError\u001b[0m\u001b[0;34m(\u001b[0m\u001b[0;34m\"nth must be a positive integer; prime(1) == 2\"\u001b[0m\u001b[0;34m)\u001b[0m\u001b[0;34m\u001b[0m\u001b[0;34m\u001b[0m\u001b[0m\n",
            "\u001b[0;32m/usr/local/lib/python3.10/dist-packages/sympy/utilities/misc.py\u001b[0m in \u001b[0;36mas_int\u001b[0;34m(n, strict)\u001b[0m\n\u001b[1;32m    555\u001b[0m             \u001b[0;32mreturn\u001b[0m \u001b[0moperator\u001b[0m\u001b[0;34m.\u001b[0m\u001b[0mindex\u001b[0m\u001b[0;34m(\u001b[0m\u001b[0mn\u001b[0m\u001b[0;34m)\u001b[0m\u001b[0;34m\u001b[0m\u001b[0;34m\u001b[0m\u001b[0m\n\u001b[1;32m    556\u001b[0m         \u001b[0;32mexcept\u001b[0m \u001b[0mTypeError\u001b[0m\u001b[0;34m:\u001b[0m\u001b[0;34m\u001b[0m\u001b[0;34m\u001b[0m\u001b[0m\n\u001b[0;32m--> 557\u001b[0;31m             \u001b[0;32mraise\u001b[0m \u001b[0mValueError\u001b[0m\u001b[0;34m(\u001b[0m\u001b[0;34m'%s is not an integer'\u001b[0m \u001b[0;34m%\u001b[0m \u001b[0;34m(\u001b[0m\u001b[0mn\u001b[0m\u001b[0;34m,\u001b[0m\u001b[0;34m)\u001b[0m\u001b[0;34m)\u001b[0m\u001b[0;34m\u001b[0m\u001b[0;34m\u001b[0m\u001b[0m\n\u001b[0m\u001b[1;32m    558\u001b[0m     \u001b[0;32melse\u001b[0m\u001b[0;34m:\u001b[0m\u001b[0;34m\u001b[0m\u001b[0;34m\u001b[0m\u001b[0m\n\u001b[1;32m    559\u001b[0m         \u001b[0;32mtry\u001b[0m\u001b[0;34m:\u001b[0m\u001b[0;34m\u001b[0m\u001b[0;34m\u001b[0m\u001b[0m\n",
            "\u001b[0;31mValueError\u001b[0m: range(1, 3) is not an integer"
          ]
        }
      ]
    },
    {
      "cell_type": "code",
      "source": [
        "# import sympy\n",
        "from sympy import prime\n",
        "n = 5\n",
        "# Use prime() method\n",
        "nth_prime = prime(n)\n",
        "print(\"The {}th prime is {}\".format(n, nth_prime))"
      ],
      "metadata": {
        "colab": {
          "base_uri": "https://localhost:8080/"
        },
        "id": "GqnzwGHlw_YA",
        "outputId": "b33c88c6-32c1-48e0-a3c9-9f4ff8eb4187"
      },
      "execution_count": null,
      "outputs": [
        {
          "output_type": "stream",
          "name": "stdout",
          "text": [
            "The 5th prime is 11\n"
          ]
        }
      ]
    },
    {
      "cell_type": "markdown",
      "source": [
        "На вход подается 2 действительных числа а>0, b>=0.001. Создайте массив, содержащий числа от -a до числа c <= a, такого что a - c <= b, с шагом b. Числа округляйте до двух знаков после запятой, используя np.round(). Выведите массив на экран."
      ],
      "metadata": {
        "id": "42MQOQak1Q0w"
      }
    },
    {
      "cell_type": "code",
      "source": [
        "a,b=input().split()\n",
        "x=float(a)\n",
        "y=float(b)\n",
        "arr=np.round(np.arange (-x, x + y/10, y),1)\n",
        "print(arr)"
      ],
      "metadata": {
        "colab": {
          "base_uri": "https://localhost:8080/"
        },
        "id": "VjPxV_O60rWZ",
        "outputId": "222e6429-155a-484e-dd83-f6a007a8df98"
      },
      "execution_count": null,
      "outputs": [
        {
          "output_type": "stream",
          "name": "stdout",
          "text": [
            "10 .3\n",
            "[-10.   -9.7  -9.4  -9.1  -8.8  -8.5  -8.2  -7.9  -7.6  -7.3  -7.   -6.7\n",
            "  -6.4  -6.1  -5.8  -5.5  -5.2  -4.9  -4.6  -4.3  -4.   -3.7  -3.4  -3.1\n",
            "  -2.8  -2.5  -2.2  -1.9  -1.6  -1.3  -1.   -0.7  -0.4  -0.1   0.2   0.5\n",
            "   0.8   1.1   1.4   1.7   2.    2.3   2.6   2.9   3.2   3.5   3.8   4.1\n",
            "   4.4   4.7   5.    5.3   5.6   5.9   6.2   6.5   6.8   7.1   7.4   7.7\n",
            "   8.    8.3   8.6   8.9   9.2   9.5   9.8]\n"
          ]
        }
      ]
    },
    {
      "cell_type": "markdown",
      "source": [
        "На вход подается целое число b > 0. Создайте массив numpy, содержащий b чисел от 0 до pi включительно. Для генерации числа пи используйте numpy константу np.pi. Выведите массив на экран."
      ],
      "metadata": {
        "id": "EjupXFy_97H5"
      }
    },
    {
      "cell_type": "code",
      "source": [
        "import numpy as np\n",
        "a=int(input())\n",
        "arr=np.linspace(0,np.pi,a)\n",
        "print(arr)"
      ],
      "metadata": {
        "colab": {
          "base_uri": "https://localhost:8080/"
        },
        "id": "swj6ZIyB-vDJ",
        "outputId": "697b7fbf-1fb9-4acc-ec2a-060a2c57ad37"
      },
      "execution_count": null,
      "outputs": [
        {
          "output_type": "stream",
          "name": "stdout",
          "text": [
            "10\n",
            "[0.         0.34906585 0.6981317  1.04719755 1.3962634  1.74532925\n",
            " 2.0943951  2.44346095 2.7925268  3.14159265]\n"
          ]
        }
      ]
    },
    {
      "cell_type": "markdown",
      "source": [
        "На вход подается целое число n>1. Создайте numpy массив, содержащий n первых чисел Фибоначчи, выведите его на экран."
      ],
      "metadata": {
        "id": "BOa-c_Zc_J4A"
      }
    },
    {
      "cell_type": "code",
      "source": [
        "n=int(input())\n",
        "arr=np.arange(0,n,1)\n",
        "print(arr)"
      ],
      "metadata": {
        "colab": {
          "base_uri": "https://localhost:8080/"
        },
        "id": "m_ycxZ7c_KLh",
        "outputId": "ca0c97d5-60fc-4d68-d532-36d2772ef267"
      },
      "execution_count": null,
      "outputs": [
        {
          "output_type": "stream",
          "name": "stdout",
          "text": [
            "3\n",
            "[0 1 2]\n"
          ]
        }
      ]
    },
    {
      "cell_type": "code",
      "source": [
        "fib1 = fib2 = 1\n",
        "n = int(input())\n",
        "print(fib1, fib2, end=' ')\n",
        "\n",
        "for i in range(2, n):\n",
        "    fib1, fib2 = fib2, fib1 + fib2\n",
        "    print(fib2, end=' ')\n"
      ],
      "metadata": {
        "colab": {
          "base_uri": "https://localhost:8080/"
        },
        "id": "9kLwmyanCn0T",
        "outputId": "9b472224-1daf-475c-c37f-713a6e30c496"
      },
      "execution_count": null,
      "outputs": [
        {
          "output_type": "stream",
          "name": "stdout",
          "text": [
            "5\n",
            "1 1 2 3 5 "
          ]
        }
      ]
    },
    {
      "cell_type": "code",
      "source": [
        "import numpy as np\n",
        "fNumber = int(input())\n",
        "a = np.arange(0, fNumber)\n",
        "length_a = len(a)\n",
        "\n",
        "sqrt_five = np.sqrt(5)\n",
        "alpha = (1 + sqrt_five) / 2\n",
        "beta = (1 - sqrt_five) / 2\n",
        "\n",
        "Fn = np.rint(((alpha ** a) - (beta ** a)) / (sqrt_five))\n",
        "print(Fn)"
      ],
      "metadata": {
        "colab": {
          "base_uri": "https://localhost:8080/"
        },
        "id": "84S-FV1zGcta",
        "outputId": "5e740d28-ec32-4592-d904-9f80bda38e25"
      },
      "execution_count": null,
      "outputs": [
        {
          "output_type": "stream",
          "name": "stdout",
          "text": [
            "5\n",
            "[0. 1. 1. 2. 3.]\n"
          ]
        }
      ]
    },
    {
      "cell_type": "markdown",
      "source": [
        "На вход подается целое число n>0, cоздайте одномерный массив numpy, состоящий из n элементов, равных числу pi, и выведите его на экран."
      ],
      "metadata": {
        "id": "IgLjp2aJIh-O"
      }
    },
    {
      "cell_type": "code",
      "source": [
        "import numpy as np\n",
        "n = int(input())\n",
        "print(np.full(n, np.pi))"
      ],
      "metadata": {
        "colab": {
          "base_uri": "https://localhost:8080/"
        },
        "id": "AvV0OnpyLGsq",
        "outputId": "b23c1a9c-01db-489c-ed2a-124b3340b6cf"
      },
      "execution_count": null,
      "outputs": [
        {
          "output_type": "stream",
          "name": "stdout",
          "text": [
            "2\n",
            "[3.14159265 3.14159265]\n"
          ]
        }
      ]
    },
    {
      "cell_type": "markdown",
      "source": [
        "На вход подается строка слов, разделенных пробелом, создайте одномерный массив numpy, содержащий эти слова. Выведите массив на экран."
      ],
      "metadata": {
        "id": "4uWjlbvCN_PI"
      }
    },
    {
      "cell_type": "code",
      "source": [
        "import numpy as np\n",
        "a=input()\n",
        "arr=np.array(a.split())\n",
        "print(arr)"
      ],
      "metadata": {
        "colab": {
          "base_uri": "https://localhost:8080/"
        },
        "id": "0FyTmiT2N_dg",
        "outputId": "5ba855bb-e386-4b7a-da0c-e3aca8bb2ba0"
      },
      "execution_count": null,
      "outputs": [
        {
          "output_type": "stream",
          "name": "stdout",
          "text": [
            "sd dns sdksl sj\n",
            "['sd' 'dns' 'sdksl' 'sj']\n"
          ]
        }
      ]
    },
    {
      "cell_type": "markdown",
      "source": [
        "На вход подается строка, создайте одномерный массив numpy, содержащий символы этой строки. Выведите массив на экран"
      ],
      "metadata": {
        "id": "pbJEA-cUOvlI"
      }
    },
    {
      "cell_type": "code",
      "source": [
        "import numpy as np\n",
        "a=input()\n",
        "list_1=list(a)\n",
        "arr=np.array(list_1)\n",
        "print(arr)"
      ],
      "metadata": {
        "colab": {
          "base_uri": "https://localhost:8080/"
        },
        "id": "f_uwRn6jOuwQ",
        "outputId": "47861c3f-a6f6-475e-95e3-cc6b50caedff"
      },
      "execution_count": null,
      "outputs": [
        {
          "output_type": "stream",
          "name": "stdout",
          "text": [
            "аро длы фвфыв98 фы_о\n",
            "['а' 'р' 'о' ' ' 'д' 'л' 'ы' ' ' 'ф' 'в' 'ф' 'ы' 'в' '9' '8' ' ' 'ф' 'ы'\n",
            " '_' 'о']\n"
          ]
        }
      ]
    },
    {
      "cell_type": "markdown",
      "source": [
        "На вход подается строка состоящая из слов, разделенных пробелом. Создайте одномерный массив, содержащий длины этих слов. Выведите массив на экран."
      ],
      "metadata": {
        "id": "GYHhoA7mPUJb"
      }
    },
    {
      "cell_type": "code",
      "source": [
        "import numpy as np\n",
        "q = input()\n",
        "word=q.split()\n",
        "word_lengths = [len(word) for word in words]\n",
        "arr=np.array(word_lengths)\n",
        "print(arr)"
      ],
      "metadata": {
        "colab": {
          "base_uri": "https://localhost:8080/"
        },
        "id": "2t2ttFXAR7ii",
        "outputId": "41fc4986-7985-4a42-b7e1-5e411db7ca8e"
      },
      "execution_count": null,
      "outputs": [
        {
          "output_type": "stream",
          "name": "stdout",
          "text": [
            "аро длы фвфыв98 фы_о\n",
            "[3 3 7 4]\n"
          ]
        }
      ]
    },
    {
      "cell_type": "markdown",
      "source": [],
      "metadata": {
        "id": "OCZiUPpmWAOq"
      }
    },
    {
      "cell_type": "markdown",
      "source": [],
      "metadata": {
        "id": "oDN_t-AnWARD"
      }
    },
    {
      "cell_type": "markdown",
      "source": [],
      "metadata": {
        "id": "Soa0-cZyWAWS"
      }
    },
    {
      "cell_type": "markdown",
      "source": [],
      "metadata": {
        "id": "bQIIB7ySWAY6"
      }
    },
    {
      "cell_type": "markdown",
      "source": [],
      "metadata": {
        "id": "Sa2zffHlWAci"
      }
    },
    {
      "cell_type": "markdown",
      "source": [],
      "metadata": {
        "id": "ni9tDYMKWAfW"
      }
    },
    {
      "cell_type": "markdown",
      "source": [],
      "metadata": {
        "id": "gafWyoyOWAh7"
      }
    },
    {
      "cell_type": "markdown",
      "source": [],
      "metadata": {
        "id": "NQUxH6BnWAky"
      }
    },
    {
      "cell_type": "markdown",
      "source": [
        "На вход поступают две строки, состоящие из чисел, разделённых пробелом.\n",
        "\n",
        "Необходимо создать два массива numpy a и b, в которые поместить эти числа. При этом нужно правильно определить какой тип использовать, исходя из данных, содержащихся в строках.\n",
        "\n",
        "Затем на основе данных второго массива b необходимо создать третий c, значения которого взяты из второго массива b, а тип данных равен типу данных первого массива a.\n",
        "\n",
        "Полученные три массива a, b, c вывести на экран в порядке их создания через пробел."
      ],
      "metadata": {
        "id": "byDuO4bDWA2B"
      }
    },
    {
      "cell_type": "code",
      "source": [
        "import numpy as np\n",
        "data_1=list(input())\n",
        "data_2=list(input())\n",
        "qs=data_1.dtype\n",
        "qx=type(data_2)\n",
        "print(qs, qx)"
      ],
      "metadata": {
        "colab": {
          "base_uri": "https://localhost:8080/",
          "height": 294
        },
        "id": "2yQkRJAhaKYg",
        "outputId": "9d5c3844-59c3-447e-fd99-b59f483137b7"
      },
      "execution_count": null,
      "outputs": [
        {
          "name": "stdout",
          "output_type": "stream",
          "text": [
            "1 2 3\n",
            "2.2 2 2\n"
          ]
        },
        {
          "output_type": "error",
          "ename": "AttributeError",
          "evalue": "ignored",
          "traceback": [
            "\u001b[0;31m---------------------------------------------------------------------------\u001b[0m",
            "\u001b[0;31mAttributeError\u001b[0m                            Traceback (most recent call last)",
            "\u001b[0;32m<ipython-input-15-ad0e534ab49e>\u001b[0m in \u001b[0;36m<cell line: 4>\u001b[0;34m()\u001b[0m\n\u001b[1;32m      2\u001b[0m \u001b[0mdata_1\u001b[0m\u001b[0;34m=\u001b[0m\u001b[0mlist\u001b[0m\u001b[0;34m(\u001b[0m\u001b[0minput\u001b[0m\u001b[0;34m(\u001b[0m\u001b[0;34m)\u001b[0m\u001b[0;34m)\u001b[0m\u001b[0;34m\u001b[0m\u001b[0;34m\u001b[0m\u001b[0m\n\u001b[1;32m      3\u001b[0m \u001b[0mdata_2\u001b[0m\u001b[0;34m=\u001b[0m\u001b[0mlist\u001b[0m\u001b[0;34m(\u001b[0m\u001b[0minput\u001b[0m\u001b[0;34m(\u001b[0m\u001b[0;34m)\u001b[0m\u001b[0;34m)\u001b[0m\u001b[0;34m\u001b[0m\u001b[0;34m\u001b[0m\u001b[0m\n\u001b[0;32m----> 4\u001b[0;31m \u001b[0mqs\u001b[0m\u001b[0;34m=\u001b[0m\u001b[0mdata_1\u001b[0m\u001b[0;34m.\u001b[0m\u001b[0mdtype\u001b[0m\u001b[0;34m\u001b[0m\u001b[0;34m\u001b[0m\u001b[0m\n\u001b[0m\u001b[1;32m      5\u001b[0m \u001b[0mqx\u001b[0m\u001b[0;34m=\u001b[0m\u001b[0mtype\u001b[0m\u001b[0;34m(\u001b[0m\u001b[0mdata_2\u001b[0m\u001b[0;34m)\u001b[0m\u001b[0;34m\u001b[0m\u001b[0;34m\u001b[0m\u001b[0m\n\u001b[1;32m      6\u001b[0m \u001b[0mprint\u001b[0m\u001b[0;34m(\u001b[0m\u001b[0mqs\u001b[0m\u001b[0;34m,\u001b[0m \u001b[0mqx\u001b[0m\u001b[0;34m)\u001b[0m\u001b[0;34m\u001b[0m\u001b[0;34m\u001b[0m\u001b[0m\n",
            "\u001b[0;31mAttributeError\u001b[0m: 'list' object has no attribute 'dtype'"
          ]
        }
      ]
    },
    {
      "cell_type": "code",
      "source": [
        "import numpy as np\n",
        "data_1=input()\n",
        "data_2=input()\n",
        "arr1 = np.fromstring(data_1, dtype=None, sep=\" \")\n",
        "arr2 = np.fromstring(data_2, dtype=None, sep=\" \")\n",
        "print(arr1, arr2)"
      ],
      "metadata": {
        "colab": {
          "base_uri": "https://localhost:8080/"
        },
        "id": "-dIliBK0YngJ",
        "outputId": "e0a56962-a612-49e2-c698-42fd188815c6"
      },
      "execution_count": null,
      "outputs": [
        {
          "output_type": "stream",
          "name": "stdout",
          "text": [
            "1 2 3\n",
            "2.2 2 2\n",
            "[1. 2. 3.] [2.2 2.  2. ]\n"
          ]
        }
      ]
    },
    {
      "cell_type": "code",
      "source": [
        "import numpy as np\n",
        "s1=np.array(input().split())\n",
        "s2=np.array(input().split())\n",
        "a=s1.dtype\n",
        "b=s2.dtype\n",
        "print (a, b)"
      ],
      "metadata": {
        "colab": {
          "base_uri": "https://localhost:8080/"
        },
        "id": "Q-dq7hGZYDaR",
        "outputId": "f8975f2d-9999-4095-b4a3-a9ec60da08ba"
      },
      "execution_count": null,
      "outputs": [
        {
          "output_type": "stream",
          "name": "stdout",
          "text": [
            "1 2 3\n",
            "2.2 2 2\n",
            "<U1 <U3\n"
          ]
        }
      ]
    },
    {
      "cell_type": "code",
      "source": [
        "import numpy as np\n",
        "data_1=input().split()\n",
        "data_2=input().split()\n",
        "for i in data_1:\n",
        "  if i%1==0:\n",
        "    data_1.astype(int)\n",
        "  else:\n",
        "    data_1\n",
        "print(type(data_1))"
      ],
      "metadata": {
        "colab": {
          "base_uri": "https://localhost:8080/",
          "height": 294
        },
        "id": "rgeFlftpbiuv",
        "outputId": "8ca17c41-933d-49c0-8467-406f0de9ae34"
      },
      "execution_count": null,
      "outputs": [
        {
          "name": "stdout",
          "output_type": "stream",
          "text": [
            "1 2 3\n",
            "2.2 2 2\n"
          ]
        },
        {
          "output_type": "error",
          "ename": "TypeError",
          "evalue": "ignored",
          "traceback": [
            "\u001b[0;31m---------------------------------------------------------------------------\u001b[0m",
            "\u001b[0;31mTypeError\u001b[0m                                 Traceback (most recent call last)",
            "\u001b[0;32m<ipython-input-20-7bcfc878571a>\u001b[0m in \u001b[0;36m<cell line: 4>\u001b[0;34m()\u001b[0m\n\u001b[1;32m      3\u001b[0m \u001b[0mdata_2\u001b[0m\u001b[0;34m=\u001b[0m\u001b[0minput\u001b[0m\u001b[0;34m(\u001b[0m\u001b[0;34m)\u001b[0m\u001b[0;34m.\u001b[0m\u001b[0msplit\u001b[0m\u001b[0;34m(\u001b[0m\u001b[0;34m)\u001b[0m\u001b[0;34m\u001b[0m\u001b[0;34m\u001b[0m\u001b[0m\n\u001b[1;32m      4\u001b[0m \u001b[0;32mfor\u001b[0m \u001b[0mi\u001b[0m \u001b[0;32min\u001b[0m \u001b[0mdata_1\u001b[0m\u001b[0;34m:\u001b[0m\u001b[0;34m\u001b[0m\u001b[0;34m\u001b[0m\u001b[0m\n\u001b[0;32m----> 5\u001b[0;31m   \u001b[0;32mif\u001b[0m \u001b[0mi\u001b[0m\u001b[0;34m%\u001b[0m\u001b[0;36m1\u001b[0m\u001b[0;34m==\u001b[0m\u001b[0;36m0\u001b[0m\u001b[0;34m:\u001b[0m\u001b[0;34m\u001b[0m\u001b[0;34m\u001b[0m\u001b[0m\n\u001b[0m\u001b[1;32m      6\u001b[0m     \u001b[0mdata_1\u001b[0m\u001b[0;34m.\u001b[0m\u001b[0mastype\u001b[0m\u001b[0;34m(\u001b[0m\u001b[0mint\u001b[0m\u001b[0;34m)\u001b[0m\u001b[0;34m\u001b[0m\u001b[0;34m\u001b[0m\u001b[0m\n\u001b[1;32m      7\u001b[0m   \u001b[0;32melse\u001b[0m\u001b[0;34m:\u001b[0m\u001b[0;34m\u001b[0m\u001b[0;34m\u001b[0m\u001b[0m\n",
            "\u001b[0;31mTypeError\u001b[0m: not all arguments converted during string formatting"
          ]
        }
      ]
    },
    {
      "cell_type": "markdown",
      "source": [
        "Напишите функцию convert_type(), которая принимает на вход одномерный numpy массив и возвращает новый массив того же размера, но с типом данных str.\n",
        "\n",
        "Нужно только определить функцию, вызывать ее не нужно!"
      ],
      "metadata": {
        "id": "C-Jwh1LabPkf"
      }
    },
    {
      "cell_type": "code",
      "source": [
        "import numpy as np\n",
        "arr=np.array(str(input()))\n",
        "print(type(arr))\n",
        "print(arr)"
      ],
      "metadata": {
        "colab": {
          "base_uri": "https://localhost:8080/"
        },
        "id": "1g-uVWhibP4v",
        "outputId": "87c85a0d-caff-42fe-8b78-303c0a0df2b7"
      },
      "execution_count": null,
      "outputs": [
        {
          "output_type": "stream",
          "name": "stdout",
          "text": [
            "2 3.3 5 5\n",
            "<class 'numpy.ndarray'>\n",
            "2 3.3 5 5\n"
          ]
        }
      ]
    },
    {
      "cell_type": "markdown",
      "source": [],
      "metadata": {
        "id": "zPtfz7NyeZg-"
      }
    },
    {
      "cell_type": "markdown",
      "source": [],
      "metadata": {
        "id": "9rXwP4qweZq2"
      }
    },
    {
      "cell_type": "markdown",
      "source": [],
      "metadata": {
        "id": "hf5H6-zleZte"
      }
    },
    {
      "cell_type": "markdown",
      "source": [],
      "metadata": {
        "id": "jin0eAlQeZv-"
      }
    },
    {
      "cell_type": "markdown",
      "source": [],
      "metadata": {
        "id": "hHvWE9FbeZyS"
      }
    },
    {
      "cell_type": "markdown",
      "source": [],
      "metadata": {
        "id": "oP1JjCVUeZ0_"
      }
    },
    {
      "cell_type": "markdown",
      "source": [
        "На вход подается целое число n.\n",
        "\n",
        "Напишите программу, которая создает одномерный массив из n чисел, равномерно распределенных в диапазоне от 0 до 100 (включительно), и выводит в первой строке сам массив и в следующей строке его размерность, форму и количество элементов через пробел.ndim, shape и size."
      ],
      "metadata": {
        "id": "wZkn6KFheZ3J"
      }
    },
    {
      "cell_type": "code",
      "source": [
        "import numpy as np\n",
        "arr=np.linspace(0, 100, int(input()))\n",
        "print (arr)\n",
        "print(arr.ndim, arr.shape, arr.size)"
      ],
      "metadata": {
        "colab": {
          "base_uri": "https://localhost:8080/"
        },
        "id": "Sx9wXQOHea_g",
        "outputId": "f57eabba-34af-49ef-a273-c61e0e7c585f"
      },
      "execution_count": null,
      "outputs": [
        {
          "output_type": "stream",
          "name": "stdout",
          "text": [
            "10\n",
            "[  0.          11.11111111  22.22222222  33.33333333  44.44444444\n",
            "  55.55555556  66.66666667  77.77777778  88.88888889 100.        ]\n",
            "1 (10,) 10\n"
          ]
        }
      ]
    },
    {
      "cell_type": "markdown",
      "source": [
        "На вход подается  строка действительных чисел разделенных пробелом. Напишите программу, которая создает одномерный массив из чисел, введенной строки с типом float16. Выведите на экран данный массив его тип и размер в байтах каждого элемента массива."
      ],
      "metadata": {
        "id": "21X34qKHhQR8"
      }
    },
    {
      "cell_type": "code",
      "source": [
        "import numpy as np\n",
        "a=input().split()\n",
        "arr=np.array(a)\n",
        "num16 = np.float16(arr)\n",
        "print(num16)\n",
        "print (num16.dtype, num16.itemsize)"
      ],
      "metadata": {
        "colab": {
          "base_uri": "https://localhost:8080/"
        },
        "id": "gKnFnLLohPZ0",
        "outputId": "5d034b04-c99f-4d2e-c6be-c99002af16bc"
      },
      "execution_count": null,
      "outputs": [
        {
          "output_type": "stream",
          "name": "stdout",
          "text": [
            "3.4 6 4.333\n",
            "[3.4   6.    4.332]\n",
            "float16 2\n"
          ]
        }
      ]
    },
    {
      "cell_type": "code",
      "source": [
        "import numpy as np\n",
        "arr_fl = np.array(input().split(), dtype = np.float16)\n",
        "print(arr_fl)\n",
        "print(arr_fl.dtype, arr_fl.itemsize)"
      ],
      "metadata": {
        "colab": {
          "base_uri": "https://localhost:8080/"
        },
        "id": "EoYOtzerjcgL",
        "outputId": "99dfabaf-f934-4574-c938-9136006b970e"
      },
      "execution_count": null,
      "outputs": [
        {
          "output_type": "stream",
          "name": "stdout",
          "text": [
            "3.4 6 4.333\n",
            "[3.4   6.    4.332]\n",
            "float16 2\n"
          ]
        }
      ]
    },
    {
      "cell_type": "markdown",
      "source": [
        "На вход подается строка целых чисел, разделенных пробелом, в которой содержится количество проданных за день билетов в течение прошедшей недели.\n",
        "\n",
        "Создайте массив NumPy из этих данных, используйте тип int64. Выведите на экран сам массив в первой строке, среднее количество проданных за неделю билетов, округленное до трех знаков после запятой, и  тип данных массива через пробел во второй строке."
      ],
      "metadata": {
        "id": "3olGVQpkjndk"
      }
    },
    {
      "cell_type": "code",
      "source": [
        "import numpy as np\n",
        "arr=np.array(input().split(), dtype=np.int64)\n",
        "print(arr)\n",
        "print(round(sum(arr)/len(arr),3), arr.dtype)"
      ],
      "metadata": {
        "colab": {
          "base_uri": "https://localhost:8080/"
        },
        "id": "RbfMFkxRjnoT",
        "outputId": "9b272d13-22cc-4096-c10d-7c669657eab4"
      },
      "execution_count": null,
      "outputs": [
        {
          "output_type": "stream",
          "name": "stdout",
          "text": [
            "100 200 300 150 250 175 225\n",
            "[100 200 300 150 250 175 225]\n",
            "200.0 int64\n"
          ]
        }
      ]
    },
    {
      "cell_type": "markdown",
      "source": [
        "На вход поступает строка целых чисел, разделенных запятой с пробелом, в которой записана температура в городе N за каждый день месяца.\n",
        "\n",
        "Создайте массив numpy из данных о температуре в городе за каждый день месяца. Выведите на экран максимальную температуру в городе за месяц, размерность массива, его форму и тип, в одной строке, через пробел."
      ],
      "metadata": {
        "id": "oKRjUY2UmOIZ"
      }
    },
    {
      "cell_type": "code",
      "source": [
        "import numpy as np\n",
        "arr=np.array(input().split(', '), dtype=np.int32)\n",
        "print (max(arr), arr.ndim, arr.shape, arr.dtype)"
      ],
      "metadata": {
        "colab": {
          "base_uri": "https://localhost:8080/"
        },
        "id": "PHXr9JYVmOUC",
        "outputId": "8df9e9f0-8110-4bba-ddb1-93f574e373dd"
      },
      "execution_count": null,
      "outputs": [
        {
          "output_type": "stream",
          "name": "stdout",
          "text": [
            "10, 15, 20, 25, 20, 18, 16, 21, 23, 22, 19, 14, 12, 11, 13, 17, 18, 19, 20, 22, 25, 27, 24, 23, 20, 18, 16, 12, 10, 11\n",
            "27 1 (30,) int32\n"
          ]
        }
      ]
    },
    {
      "cell_type": "markdown",
      "source": [
        "На вход поступает строка целых чисел, в которой содержатся данных о загрязнении воздуха за некоторый период времени.\n",
        "\n",
        "Создайте массив numpy из данных о загрязнении воздуха. Выведите на экран количество дней в году, когда уровень загрязнения воздуха превышал норму. Нормой считайте значение 45."
      ],
      "metadata": {
        "id": "447wQl5On4xy"
      }
    },
    {
      "cell_type": "code",
      "source": [
        "import numpy as np\n",
        "arr=np.array(input().split(), dtype=np.int32)\n",
        "result=0\n",
        "for i in arr:\n",
        "  if i>45:\n",
        "    result+=1\n",
        "print(result)"
      ],
      "metadata": {
        "colab": {
          "base_uri": "https://localhost:8080/"
        },
        "id": "rpD_k2IJn48p",
        "outputId": "83d47c62-4429-4a2c-fcd5-6c00f0f91b51"
      },
      "execution_count": null,
      "outputs": [
        {
          "output_type": "stream",
          "name": "stdout",
          "text": [
            "33 57 87 51 31 31 87 37 65 98 91 41 29 59 43 41 68 39 65 17 11 66 1 74 77 91 79 54 43 19 41 4 45 9 36 55 86 29 29 18 71 90 68 40 39 57 63 24 24 13 32 48 27 3 28 95 19 64 42 60 33 86 23 96 54 1 25 49 79 94 77 44 44 79 53 66 25\n",
            "37\n"
          ]
        }
      ]
    },
    {
      "cell_type": "markdown",
      "source": [
        "Лесной гном собирает золотые яблоки, которые растут на деревьях в его лесу. Он создает массив numpy из количества яблок, которые он нашел на каждом дереве. Выведите на экран суммарное количество яблок, найденных гномом. Определите тип данных массива."
      ],
      "metadata": {
        "id": "Zg0_IU8ZozjA"
      }
    },
    {
      "cell_type": "code",
      "source": [
        "import numpy as np\n",
        "arr=np.array(input().split(), dtype=np.int32)\n",
        "print(sum(arr), arr.dtype)"
      ],
      "metadata": {
        "colab": {
          "base_uri": "https://localhost:8080/"
        },
        "id": "IB2Fcrc2ozyA",
        "outputId": "dd0680c5-b3ec-4286-ff4b-d5f5e6f553a0"
      },
      "execution_count": null,
      "outputs": [
        {
          "output_type": "stream",
          "name": "stdout",
          "text": [
            "40 12 28 4 7 38 21 9 3 5 42 26 34 4 7 12 36 22 22 6 35 19 4 44 32 38 7 11 30 26 5 33 7\n",
            "669 int32\n"
          ]
        }
      ]
    },
    {
      "cell_type": "markdown",
      "source": [
        "Маленький рыцарь отправляется на поиски драконьего гнезда. Он создает массив numpy из количества драконов в каждом гнезде, которые он обнаруживает в своем путешествии. Выведите на экран наименьшее количество драконов в гнезде и индекс гнезда с максимальным количеством драконов. Если ему повстречалось несколько гнезд с максимальным количеством драконов, выведите индекс первого встретившегося ему гнезда."
      ],
      "metadata": {
        "id": "36Cu_2GtpNVw"
      }
    },
    {
      "cell_type": "code",
      "source": [
        "import numpy as np\n",
        "arr=np.array(input().split(), dtype=np.int32)\n",
        "max=arr.max()\n",
        "list_1=list(arr)\n",
        "q=list_1.index(max)\n",
        "print (min(arr), q)"
      ],
      "metadata": {
        "colab": {
          "base_uri": "https://localhost:8080/"
        },
        "id": "koLx5GexrRWH",
        "outputId": "fb5eb64f-c76e-4539-dd0f-00f24557374c"
      },
      "execution_count": null,
      "outputs": [
        {
          "output_type": "stream",
          "name": "stdout",
          "text": [
            "18 44 10 9 7 31 18 21 40 41 42 6 16 39 41 5 14 26 2 32 34 17 20 26 14 36 12 3 6 12 44 17 10\n",
            "2 1\n"
          ]
        }
      ]
    },
    {
      "cell_type": "markdown",
      "source": [
        "Пираты обнаруживают сундук с сокровищами на необитаемом острове. Они создают массив numpy из веса каждой монеты в сундуке, округляя вес каждой монеты до трех знаков после запятой. Выведите на экран суммарный вес сокровищ, которые они обнаружили, и определите тип данных массива."
      ],
      "metadata": {
        "id": "w5_xrAg6saAe"
      }
    },
    {
      "cell_type": "code",
      "source": [
        "import numpy as np\n",
        "arr=np.array(input().split(), dtype=np.float64)\n",
        "print (sum(arr), arr.dtype)"
      ],
      "metadata": {
        "colab": {
          "base_uri": "https://localhost:8080/"
        },
        "id": "Avs48z20saLu",
        "outputId": "30691120-e28d-4359-a04d-6298f0f014fc"
      },
      "execution_count": null,
      "outputs": [
        {
          "output_type": "stream",
          "name": "stdout",
          "text": [
            "164.357 248.462 337.148 1.408 661.915 376.46 452.997 364.914 366.963 50.349 104.352 17.029 373.695 386.679 313.316 67.886 659.198 191.347 39.324 300.299 367.913 172.754 564.768 455.142 572.764 517.435 329.967 435.285 567.868 228.024 243.25 567.91 226.866\n",
            "10728.044 float64\n"
          ]
        }
      ]
    },
    {
      "cell_type": "markdown",
      "source": [
        "Принцесса хранит свои волшебные заклинания в заколдованном замке. Она создает массив NumPy из слов заклинания. Выведите на экран количество слов заклинания с нечетным количеством символов и количество слов заклинания, в которых больше 5 символов. Определите тип данных массива.\n",
        "\n",
        "Слово - последовательность символов, разделенная пробелами."
      ],
      "metadata": {
        "id": "nHTdu6TAtMG-"
      }
    },
    {
      "cell_type": "code",
      "source": [
        "import numpy as np\n",
        "arr=np.array(input().split())\n",
        "res=0\n",
        "res1=0\n",
        "for i in arr:\n",
        "  if len(i)>5:\n",
        "    res+=1\n",
        "for x in arr:\n",
        "  if len(x)%2!=0:\n",
        "    res1+=1\n",
        "print(res1, res, arr.dtype)"
      ],
      "metadata": {
        "colab": {
          "base_uri": "https://localhost:8080/"
        },
        "id": "xdZmR1fatNGV",
        "outputId": "034d91ae-5505-4ade-b826-924de88d1898"
      },
      "execution_count": null,
      "outputs": [
        {
          "output_type": "stream",
          "name": "stdout",
          "text": [
            "Ветер времени взлетит, чтобы привнести силы в мою сущность, и я стану непобедимой в любой битве\n",
            "14 5 <U11\n"
          ]
        }
      ]
    },
    {
      "cell_type": "markdown",
      "source": [
        "Главный историк Средиземья ведет записи о событиях, происходящих в мире. Он создает массив numpy из объектов datetime, представляющих даты ключевых событий в истории мира. Выведите на экран тип данных массива, даты самого раннего и самого позднего событий."
      ],
      "metadata": {
        "id": "_9QeOGHjwrKp"
      }
    },
    {
      "cell_type": "code",
      "source": [
        "import numpy as np\n",
        "arr=np.array(input().split(), dtype=object)\n",
        "print(arr.dtype, arr.min(), arr.max())"
      ],
      "metadata": {
        "colab": {
          "base_uri": "https://localhost:8080/"
        },
        "id": "KdcHc4SPwsV7",
        "outputId": "debb0af9-70b5-43c6-dfe1-a1f772dbfbb3"
      },
      "execution_count": null,
      "outputs": [
        {
          "output_type": "stream",
          "name": "stdout",
          "text": [
            "1598-04-29 1711-11-28 1661-05-06 0869-11-22 0930-05-22 0987-05-06 0827-05-22 1029-11-04 1255-02-12 1123-11-13 1697-03-17 1384-01-21 1408-06-10 1166-09-04 1109-09-18\n",
            "object 0827-05-22 1711-11-28\n"
          ]
        }
      ]
    },
    {
      "cell_type": "markdown",
      "source": [
        "Детектив Джо Ривера получил информацию о местонахождении опасного преступника по кличке Кармен. Он создает массив numpy из булевых значений, где True означает наличие признаков, свидетельствующих о присутствии Кармен на заданной территории. Определите тип данных массива и выведите на экран количество локаций, в которых может находиться Кармен."
      ],
      "metadata": {
        "id": "3g0Wz9M_xnlk"
      }
    },
    {
      "cell_type": "code",
      "source": [
        "import numpy as np\n",
        "arr=np.array(input().split())\n",
        "ai=np.array(input().split(), dtype=bool)\n",
        "res=[]\n",
        "result=0\n",
        "for i in arr:\n",
        "  if i=='True':\n",
        "    res.append(1)\n",
        "  else:\n",
        "    res.append(0)\n",
        "for i in res:\n",
        "  if i==1:\n",
        "    result+=1\n",
        "print(result, ai.dtype)"
      ],
      "metadata": {
        "colab": {
          "base_uri": "https://localhost:8080/"
        },
        "id": "3vZgcIjAxnCU",
        "outputId": "a31cf314-25d1-4cf4-ef2d-c1b159b591b9"
      },
      "execution_count": null,
      "outputs": [
        {
          "output_type": "stream",
          "name": "stdout",
          "text": [
            "True False  True  True  True  True  True  True False False  True  True True False False False  True  True  True  True  True False  True  True True  True False  True False  True False  True False False  True\n",
            "True False  True  True  True  True  True  True False False  True  True True False False False  True  True  True  True  True False  True  True True  True False  True False  True False  True False False  True\n",
            "23 bool\n"
          ]
        }
      ]
    },
    {
      "cell_type": "code",
      "source": [
        "import numpy as np\n",
        "arr1=np.array(input().split(), dtype=str)\n",
        "arr=np.array(arr1, dtype=bool)\n",
        "res=[]\n",
        "result=0\n",
        "for i in arr:\n",
        "  if i=='True':\n",
        "    res.append(1)\n",
        "  else:\n",
        "    res.append(0)\n",
        "for i in res:\n",
        "  if i==1:\n",
        "    result+=1\n",
        "print(arr,result, arr.dtype)"
      ],
      "metadata": {
        "colab": {
          "base_uri": "https://localhost:8080/",
          "height": 276
        },
        "id": "TbaooOm01w9J",
        "outputId": "1d4dabe8-1992-4c67-b1d2-3066fef2aa42"
      },
      "execution_count": null,
      "outputs": [
        {
          "name": "stdout",
          "output_type": "stream",
          "text": [
            "True False  True  True  True  True  True  True False False  True  True True False False False  True  True  True  True  True False  True  True True  True False  True False  True False  True False False  True\n"
          ]
        },
        {
          "output_type": "error",
          "ename": "ValueError",
          "evalue": "ignored",
          "traceback": [
            "\u001b[0;31m---------------------------------------------------------------------------\u001b[0m",
            "\u001b[0;31mValueError\u001b[0m                                Traceback (most recent call last)",
            "\u001b[0;32m<ipython-input-161-c9cd51ed15bb>\u001b[0m in \u001b[0;36m<cell line: 3>\u001b[0;34m()\u001b[0m\n\u001b[1;32m      1\u001b[0m \u001b[0;32mimport\u001b[0m \u001b[0mnumpy\u001b[0m \u001b[0;32mas\u001b[0m \u001b[0mnp\u001b[0m\u001b[0;34m\u001b[0m\u001b[0;34m\u001b[0m\u001b[0m\n\u001b[1;32m      2\u001b[0m \u001b[0marr1\u001b[0m\u001b[0;34m=\u001b[0m\u001b[0mnp\u001b[0m\u001b[0;34m.\u001b[0m\u001b[0marray\u001b[0m\u001b[0;34m(\u001b[0m\u001b[0minput\u001b[0m\u001b[0;34m(\u001b[0m\u001b[0;34m)\u001b[0m\u001b[0;34m.\u001b[0m\u001b[0msplit\u001b[0m\u001b[0;34m(\u001b[0m\u001b[0;34m)\u001b[0m\u001b[0;34m,\u001b[0m \u001b[0mdtype\u001b[0m\u001b[0;34m=\u001b[0m\u001b[0mstr\u001b[0m\u001b[0;34m)\u001b[0m\u001b[0;34m\u001b[0m\u001b[0;34m\u001b[0m\u001b[0m\n\u001b[0;32m----> 3\u001b[0;31m \u001b[0marr\u001b[0m\u001b[0;34m=\u001b[0m\u001b[0mnp\u001b[0m\u001b[0;34m.\u001b[0m\u001b[0marray\u001b[0m\u001b[0;34m(\u001b[0m\u001b[0marr1\u001b[0m\u001b[0;34m,\u001b[0m \u001b[0mdtype\u001b[0m\u001b[0;34m=\u001b[0m\u001b[0mbool\u001b[0m\u001b[0;34m)\u001b[0m\u001b[0;34m\u001b[0m\u001b[0;34m\u001b[0m\u001b[0m\n\u001b[0m\u001b[1;32m      4\u001b[0m \u001b[0mres\u001b[0m\u001b[0;34m=\u001b[0m\u001b[0;34m[\u001b[0m\u001b[0;34m]\u001b[0m\u001b[0;34m\u001b[0m\u001b[0;34m\u001b[0m\u001b[0m\n\u001b[1;32m      5\u001b[0m \u001b[0mresult\u001b[0m\u001b[0;34m=\u001b[0m\u001b[0;36m0\u001b[0m\u001b[0;34m\u001b[0m\u001b[0;34m\u001b[0m\u001b[0m\n",
            "\u001b[0;31mValueError\u001b[0m: invalid literal for int() with base 10: 'True'"
          ]
        }
      ]
    },
    {
      "cell_type": "markdown",
      "source": [
        "Шерлок Холмс попросил вас создать массив numpy, в котором содержится информация о телефонных звонках, совершенных потенциальными жертвами серийного убийцы. На вход поступает строка в которой значение 1 в массиве означает, что звонок был совершен в момент времени, когда было совершена убийство. Значение 0 - звонок был совершен в другое время или не был совершен вообще. Создайте массив numpy на основе этой строки, содержащий данные за последний месяц в виде булевых значений. Выведите на экран количество звонков, которые совершались в моменты времени, когда были совершены убийства и тип данных массива, через пробел."
      ],
      "metadata": {
        "id": "zWiX73d32utB"
      }
    },
    {
      "cell_type": "code",
      "source": [
        "import numpy as np\n",
        "arr=np.array(input().split(), dtype=np.int32)\n",
        "sum=0\n",
        "for i in arr:\n",
        "  if i==1:\n",
        "    sum+=1\n",
        "print(sum)"
      ],
      "metadata": {
        "colab": {
          "base_uri": "https://localhost:8080/"
        },
        "id": "yuaq38bS2uap",
        "outputId": "6e8e2aaa-eecb-44a2-90c8-74d049a95063"
      },
      "execution_count": null,
      "outputs": [
        {
          "output_type": "stream",
          "name": "stdout",
          "text": [
            "1 0 1 0 1 0 1 1 1 0 1 0 0 0 0 1 0 0 1 1 1 0 0 1 0 0 1 1 0 0\n",
            "0\n"
          ]
        }
      ]
    },
    {
      "cell_type": "code",
      "source": [
        "import numpy as np\n",
        "a=list(input().split())\n",
        "print (a)\n",
        "arr=np.array(a,dtype=bool)\n",
        "print(arr)"
      ],
      "metadata": {
        "colab": {
          "base_uri": "https://localhost:8080/"
        },
        "id": "n0VMKDbi3kiJ",
        "outputId": "15505a49-237b-487c-e93d-73d2c1c7fde2"
      },
      "execution_count": null,
      "outputs": [
        {
          "output_type": "stream",
          "name": "stdout",
          "text": [
            "1 0 1 0 1 0 1 1 1 0 1 0 0 0 0 1 0 0 1 1 1 0 0 1 0 0 1 1 0 0\n",
            "['1', '0', '1', '0', '1', '0', '1', '1', '1', '0', '1', '0', '0', '0', '0', '1', '0', '0', '1', '1', '1', '0', '0', '1', '0', '0', '1', '1', '0', '0']\n",
            "[ True  True  True  True  True  True  True  True  True  True  True  True\n",
            "  True  True  True  True  True  True  True  True  True  True  True  True\n",
            "  True  True  True  True  True  True]\n"
          ]
        }
      ]
    },
    {
      "cell_type": "markdown",
      "source": [],
      "metadata": {
        "id": "nxP3tX-_mrM2"
      }
    },
    {
      "cell_type": "markdown",
      "source": [],
      "metadata": {
        "id": "l_xOOlItmrPp"
      }
    },
    {
      "cell_type": "markdown",
      "source": [],
      "metadata": {
        "id": "pOKvkKD6mrR2"
      }
    },
    {
      "cell_type": "markdown",
      "source": [],
      "metadata": {
        "id": "cegAdImlmrUV"
      }
    },
    {
      "cell_type": "markdown",
      "source": [],
      "metadata": {
        "id": "Bcbefl9JmrWf"
      }
    },
    {
      "cell_type": "markdown",
      "source": [],
      "metadata": {
        "id": "_tuKOyuamrZF"
      }
    },
    {
      "cell_type": "markdown",
      "source": [],
      "metadata": {
        "id": "g-9tCs8hmrbl"
      }
    },
    {
      "cell_type": "markdown",
      "source": [],
      "metadata": {
        "id": "XD0WwNCJmrdx"
      }
    },
    {
      "cell_type": "markdown",
      "source": [
        "На вход поступают две строки, содержащие целые числа. Необходимо создать на их основе два массива numpy, объединить их, а затем повторить полученный массив три раза. Выведите на экран итоговый массив."
      ],
      "metadata": {
        "id": "A0_mVFwAmrwF"
      }
    },
    {
      "cell_type": "code",
      "source": [
        "import numpy as np\n",
        "arr1=np.array(input().split(), dtype=np.int32)\n",
        "arr2=np.array(input().split(), dtype=np.int32)\n",
        "arr3=np.concatenate((arr1,arr2))\n",
        "arr3=np.repeat(arr3, 3)\n",
        "print(arr3)"
      ],
      "metadata": {
        "colab": {
          "base_uri": "https://localhost:8080/"
        },
        "id": "nCA70S3ZmtS1",
        "outputId": "c0087a00-5e1e-41d3-83c1-fa7b146e6062"
      },
      "execution_count": null,
      "outputs": [
        {
          "output_type": "stream",
          "name": "stdout",
          "text": [
            "4 4 16 27 42 49 32 1 5 26 34 37 45 12 2 4 20 14 38 50\n",
            "21 36 23 30 51 24 10 26 51 26 45 26 11 30 29 49 36 9 13 27\n",
            "[ 4  4  4  4  4  4 16 16 16 27 27 27 42 42 42 49 49 49 32 32 32  1  1  1\n",
            "  5  5  5 26 26 26 34 34 34 37 37 37 45 45 45 12 12 12  2  2  2  4  4  4\n",
            " 20 20 20 14 14 14 38 38 38 50 50 50 21 21 21 36 36 36 23 23 23 30 30 30\n",
            " 51 51 51 24 24 24 10 10 10 26 26 26 51 51 51 26 26 26 45 45 45 26 26 26\n",
            " 11 11 11 30 30 30 29 29 29 49 49 49 36 36 36  9  9  9 13 13 13 27 27 27]\n"
          ]
        }
      ]
    },
    {
      "cell_type": "markdown",
      "source": [
        "На вход поступают две строки. В первой строке содержится последовательность целых чисел, разделенных пробелом, во второй строке целое число i. Из первой строки нужно создать массив numpy и затем удалить из него с помощью функции delete() элемент с индексом i. Выведите на экран исходный и итоговый массивы, каждый с новой строки."
      ],
      "metadata": {
        "id": "X66qZUzcooUE"
      }
    },
    {
      "cell_type": "code",
      "source": [
        "import numpy as np\n",
        "arr1=np.array(input().split(), dtype=np.int32)\n",
        "arr2=np.array(input(), dtype=np.int32)\n",
        "print (arr1)\n",
        "arr1=np.delete(arr1, arr2)\n",
        "print(arr1)"
      ],
      "metadata": {
        "colab": {
          "base_uri": "https://localhost:8080/"
        },
        "id": "q_8O-L4PnJ1s",
        "outputId": "98c8aea2-177b-4d7d-c3e1-3a80ceace825"
      },
      "execution_count": null,
      "outputs": [
        {
          "output_type": "stream",
          "name": "stdout",
          "text": [
            "28 22 24 9 32 33 53 27 50 30 48 49\n",
            "4\n",
            "[28 22 24  9 32 33 53 27 50 30 48 49]\n",
            "[28 22 24  9 33 53 27 50 30 48 49]\n"
          ]
        }
      ]
    },
    {
      "cell_type": "markdown",
      "source": [
        "На вход поступают два числа a и b в одной строке, разделенные пробелом. Вам нужно создать массив numpy A чисел от a до b (b включительно, если оно нечетное), содержащий только нечетные числа. Затем создайте новый массив B путем повторения каждого элемента массива А дважды. Выведите на экран исходный A и итоговый массив B, каждый с новой строки."
      ],
      "metadata": {
        "id": "KuWI9e3fpeBL"
      }
    },
    {
      "cell_type": "code",
      "source": [
        "import numpy as np\n",
        "a, b = map(int, input().split())\n",
        "if b%2!=0:\n",
        "  arr1=np.arange(a,b+1)\n",
        "else:\n",
        "  arr1=np.arange(a,b)\n",
        "#print(arr1)\n",
        "arr2=np.empty(0, dtype=int)\n",
        "for i in arr1:\n",
        "  if i%2!=0:\n",
        "    arr2=np.append(arr2, i)\n",
        "  else:\n",
        "    arr2\n",
        "print(arr2)\n",
        "arr2=np.repeat(arr2,2)\n",
        "print(arr2)"
      ],
      "metadata": {
        "colab": {
          "base_uri": "https://localhost:8080/"
        },
        "id": "JvV7m-uLuLUg",
        "outputId": "99845e25-06f4-4e21-f95a-0f57faf1c8a8"
      },
      "execution_count": null,
      "outputs": [
        {
          "output_type": "stream",
          "name": "stdout",
          "text": [
            "3 19\n",
            "[ 3  5  7  9 11 13 15 17 19]\n",
            "[ 3  3  5  5  7  7  9  9 11 11 13 13 15 15 17 17 19 19]\n"
          ]
        }
      ]
    },
    {
      "cell_type": "markdown",
      "source": [
        "На вход поступают две строки, содержащие целые  числа, разделенные пробелом. На их основе создайте два одномерных масcива numpy a и b. Далее создайте третий массив c, который состоит из элементов массива a, затем из элементов массива b. Причем каждый элемент в массиве с повторяется 2 раза. Выведите на экран массивы a, b, c каждый с новой строки."
      ],
      "metadata": {
        "id": "fwYiAruZy6ed"
      }
    },
    {
      "cell_type": "code",
      "source": [
        "import numpy as np\n",
        "arr1=np.array(input().split(), dtype=np.int32)\n",
        "arr2=np.array(input().split(), dtype=np.int32)\n",
        "arr3=np.concatenate((arr1,arr2)).repeat(2)\n",
        "print(arr1)\n",
        "print(arr2)\n",
        "print(arr3)"
      ],
      "metadata": {
        "colab": {
          "base_uri": "https://localhost:8080/"
        },
        "id": "EBetJyh9nLD0",
        "outputId": "2811eb35-e2f5-4bea-ca41-16760f416e0d"
      },
      "execution_count": null,
      "outputs": [
        {
          "output_type": "stream",
          "name": "stdout",
          "text": [
            "19 34 39 -5 41 27 34 8\n",
            "45 -5 12 6 48\n",
            "[19 34 39 -5 41 27 34  8]\n",
            "[45 -5 12  6 48]\n",
            "[19 19 34 34 39 39 -5 -5 41 41 27 27 34 34  8  8 45 45 -5 -5 12 12  6  6\n",
            " 48 48]\n"
          ]
        }
      ]
    },
    {
      "cell_type": "markdown",
      "source": [],
      "metadata": {
        "id": "6_xZA2RJ2EZV"
      }
    },
    {
      "cell_type": "markdown",
      "source": [],
      "metadata": {
        "id": "1usRMiQ22EcN"
      }
    },
    {
      "cell_type": "markdown",
      "source": [],
      "metadata": {
        "id": "i9pC13H02Ee-"
      }
    },
    {
      "cell_type": "markdown",
      "source": [],
      "metadata": {
        "id": "1LzgM37R2Ehn"
      }
    },
    {
      "cell_type": "markdown",
      "source": [],
      "metadata": {
        "id": "RMpG1ys82Ejk"
      }
    },
    {
      "cell_type": "markdown",
      "source": [],
      "metadata": {
        "id": "fLD_cbUH2EmX"
      }
    },
    {
      "cell_type": "markdown",
      "source": [],
      "metadata": {
        "id": "G8SE0auB2Eo5"
      }
    },
    {
      "cell_type": "markdown",
      "source": [],
      "metadata": {
        "id": "RrkbCMZH2Erl"
      }
    },
    {
      "cell_type": "markdown",
      "source": [],
      "metadata": {
        "id": "A682G3EJ2Etx"
      }
    },
    {
      "cell_type": "markdown",
      "source": [],
      "metadata": {
        "id": "uyaBLTY02Ewe"
      }
    },
    {
      "cell_type": "markdown",
      "source": [
        "На вход поступает целое число n. Вам нужно создать массив a из n случайных действительных чисел равномерно распределенных в диапазоне от 0 до 1. Затем создайте массив b, увеличив размер массива a до 2n элементов с помощью функции resize(). Выведите на экран исходный массив a, итоговый массив b, каждый вывод с новой строки."
      ],
      "metadata": {
        "id": "zdd17RMR0tsk"
      }
    },
    {
      "cell_type": "code",
      "source": [
        "import numpy as np\n",
        "n = int(input())\n",
        "np.random.seed(n)\n",
        "arr1=np.random.rand(n)\n",
        "arr2=np.resize(arr1, (2*n))\n",
        "print(arr1, arr2, sep='\\n')"
      ],
      "metadata": {
        "colab": {
          "base_uri": "https://localhost:8080/"
        },
        "id": "tFTAfXPn0uB3",
        "outputId": "7ac99cfb-b6d6-4d24-f890-c79a20888578"
      },
      "execution_count": null,
      "outputs": [
        {
          "output_type": "stream",
          "name": "stdout",
          "text": [
            "10\n",
            "[0.77132064 0.02075195 0.63364823 0.74880388 0.49850701 0.22479665\n",
            " 0.19806286 0.76053071 0.16911084 0.08833981]\n",
            "[0.77132064 0.02075195 0.63364823 0.74880388 0.49850701 0.22479665\n",
            " 0.19806286 0.76053071 0.16911084 0.08833981 0.77132064 0.02075195\n",
            " 0.63364823 0.74880388 0.49850701 0.22479665 0.19806286 0.76053071\n",
            " 0.16911084 0.08833981]\n"
          ]
        }
      ]
    },
    {
      "cell_type": "markdown",
      "source": [
        "На вход поступает строка с целыми числами разделенными пробелами. На основе этой строки необходимо создать numpy массив а. Затем из массива а создайте массив b, в котором удалены все повторяющиеся элементы кроме первого. Порядок оставшихся элементов в массиве b должен совпадать с порядком этих элементов в массиве а. Выведите исходный массив а, итоговый b и тип элементов массива b, каждый вывод с новой строки."
      ],
      "metadata": {
        "id": "TgmmiNcU2Frk"
      }
    },
    {
      "cell_type": "code",
      "source": [
        "import numpy as np\n",
        "arr1=np.array(input().split(), dtype=np.int32)\n",
        "arr2=np.empty(0, dtype=int)\n",
        "for i in arr1:\n",
        "  if i not in arr2:\n",
        "    arr2=np.append(arr2, i)\n",
        "  else:\n",
        "    arr2\n",
        "print(arr1)\n",
        "print(arr2)\n",
        "print(arr2.dtype)"
      ],
      "metadata": {
        "colab": {
          "base_uri": "https://localhost:8080/"
        },
        "id": "ik5nasjx2F9u",
        "outputId": "4190de86-5c25-4691-b10e-2e4081f501b4"
      },
      "execution_count": null,
      "outputs": [
        {
          "output_type": "stream",
          "name": "stdout",
          "text": [
            "4 5 2 3 5 3 5 2 3 2 3 5 4 5 2 4 3 3\n",
            "[4 5 2 3 5 3 5 2 3 2 3 5 4 5 2 4 3 3]\n",
            "[4 5 2 3]\n",
            "int64\n"
          ]
        }
      ]
    },
    {
      "cell_type": "markdown",
      "source": [
        "На вход поступают две строки. В первой содержатся целые числа, разделенные пробелом, во второй одно целое число n. На основе первой строки создать numpy массив a. Далее создать numpy массив b, в котором первым элементом является число n, далее следуют числа массива a. Массивы a и b вывести на экран, каждый с новой строки."
      ],
      "metadata": {
        "id": "Z04a2ISw3zwF"
      }
    },
    {
      "cell_type": "code",
      "source": [
        "import numpy as np\n",
        "arr1=np.array(input().split(), dtype=np.int32)\n",
        "arr2=np.array(input(), dtype=np.int32)\n",
        "arr3=np.empty(0, dtype=int)\n",
        "arr3=np.insert(arr1, 0, arr2)\n",
        "print(arr1)\n",
        "print(arr3)"
      ],
      "metadata": {
        "colab": {
          "base_uri": "https://localhost:8080/"
        },
        "id": "xmRhpcGz3z6U",
        "outputId": "908ed4bd-03c0-44ea-98e7-3a9e8dd7e832"
      },
      "execution_count": null,
      "outputs": [
        {
          "output_type": "stream",
          "name": "stdout",
          "text": [
            "2 24 17 23 29 23 18 26\n",
            "-1\n",
            "[ 2 24 17 23 29 23 18 26]\n",
            "[-1  2 24 17 23 29 23 18 26]\n"
          ]
        }
      ]
    },
    {
      "cell_type": "markdown",
      "source": [
        "На вход поступают две строки. В первой идут целые числа разделенные пробелом, во второй единственное целое число n. На основе чисел первой строки создайте массив a. Затем на основе массива a создайте массив b, в котором будут числа массива а > n. Порядок чисел в массиве b должен совпадать с порядком в массиве a. При этом типы элементов в массиве a и b должны быть одинаковыми. Выведите на экран массивы a и b, каждый с новой строки."
      ],
      "metadata": {
        "id": "GlHBcUxE5PSb"
      }
    },
    {
      "cell_type": "code",
      "source": [
        "import numpy as np\n",
        "a=np.array(input().split(), dtype=np.int32)\n",
        "#arr2=np.array(input(), dtype=np.int32)\n",
        "c=int(input())\n",
        "b=np.empty(0, dtype=np.int32)\n",
        "for i in a:\n",
        "  if i>c:\n",
        "    b=np.append(b, i)\n",
        "  else:\n",
        "    b\n",
        "print(a, b, a.dtype==b.dtype, sep='\\n')"
      ],
      "metadata": {
        "colab": {
          "base_uri": "https://localhost:8080/"
        },
        "id": "9DlGXOSW5Pkb",
        "outputId": "16f63eee-7b2b-492e-ea0e-93f42b503555"
      },
      "execution_count": null,
      "outputs": [
        {
          "output_type": "stream",
          "name": "stdout",
          "text": [
            "5 0 9 20 14 18 28 26 18 3\n",
            "9\n",
            "[ 5  0  9 20 14 18 28 26 18  3]\n",
            "[20 14 18 28 26 18]\n",
            "True\n"
          ]
        }
      ]
    },
    {
      "cell_type": "markdown",
      "source": [
        "На вход поступают две строки. В первой строке расположены целые числа, разделенные пробелом. Во второй строке два целых числа start и end. Создайте массив a на основе чисел первой строки. Затем на основе массива a создайте массив b, который состоит из всех элементов массива a, кроме тех которые находятся на позициях от  start до end+1 не включительно. Выведите на экран массивы a и b каждый с новой строки."
      ],
      "metadata": {
        "id": "F-wW-xYj8atp"
      }
    },
    {
      "cell_type": "code",
      "source": [
        "import numpy as np\n",
        "arr1=np.array(input().split(), dtype=np.int32)\n",
        "a, b = map(int, input().split())\n",
        "print(arr1)\n",
        "arr2=np.delete(arr1, np.arange(a,b+1))\n",
        "print(arr2)"
      ],
      "metadata": {
        "colab": {
          "base_uri": "https://localhost:8080/"
        },
        "id": "fnT0pzEO8bf5",
        "outputId": "c0b05d30-f07a-4816-c227-e47859fedf8c"
      },
      "execution_count": null,
      "outputs": [
        {
          "output_type": "stream",
          "name": "stdout",
          "text": [
            "15 21 12 3 27 20 20 27 0 4\n",
            "3 6\n",
            "[15 21 12  3 27 20 20 27  0  4]\n",
            "[15 21 12 27  0  4]\n"
          ]
        }
      ]
    },
    {
      "cell_type": "markdown",
      "source": [
        "В первой строке поступает целое число n - количество массивов целых чисел, разделенных пробелом, которые поступают на вход в следующих n строках. В последней строке поступает целое число m - максимальное количество элементов в итоговом массиве. Необходимо объединить все массивы и создать массив numpy, назвав его a. Если количество элементов в них больше m, обрезать его. При этом тип итогового массива должен быть int64. Затем вывести итоговый массив на экран."
      ],
      "metadata": {
        "id": "2jSm6-1g-kXQ"
      }
    },
    {
      "cell_type": "code",
      "source": [
        "import numpy as np\n",
        "n=int(input())\n",
        "a=np.array(input().split(), dtype=np.int64)\n",
        "m=int(input())\n",
        "a = a[:m]\n",
        "print(a)\n",
        "print(a.dtype)"
      ],
      "metadata": {
        "colab": {
          "base_uri": "https://localhost:8080/"
        },
        "id": "YRBBV4BA-mNA",
        "outputId": "bdd5c67b-128b-4b39-ffb0-00a224cee932"
      },
      "execution_count": null,
      "outputs": [
        {
          "output_type": "stream",
          "name": "stdout",
          "text": [
            "4\n",
            "22 -8 50 7 27 13 5 3 11 1 10 4 27 20 27 1 10 4 27 20 2 5\n",
            "10\n",
            "[22 -8 50  7 27 13  5  3 11  1]\n",
            "int64\n"
          ]
        }
      ]
    },
    {
      "cell_type": "markdown",
      "source": [
        "На вход поступает массив элементов, разделенных пробелом в первой строке, необходимо на его основе создать numpy массив a. Во второй строке дается название типа, к которому необходимо привести элементы массива а. Наконец в третьей строке последовательность целых чисел - индексы элементов которые нужно удалить из массива а. Выведите итоговый массив на экран."
      ],
      "metadata": {
        "id": "YrNHwqTjEx1c"
      }
    },
    {
      "cell_type": "code",
      "source": [
        "import numpy as np\n",
        "arr1=np.array(input().split())\n",
        "t=input()\n",
        "arr3=np.array(input().split(), dtype=np.int64)\n",
        "#print(arr1)\n",
        "qqq=arr1.astype(t)\n",
        "#print(qqq)\n",
        "zzz=np.delete(qqq, arr3)\n",
        "print(zzz)"
      ],
      "metadata": {
        "colab": {
          "base_uri": "https://localhost:8080/"
        },
        "id": "lIK5V3rtFNKE",
        "outputId": "1fb44b8a-fbe8-496b-d01e-b6ea5f9a0710"
      },
      "execution_count": null,
      "outputs": [
        {
          "output_type": "stream",
          "name": "stdout",
          "text": [
            "1 2 3 4 5 6 7\n",
            "int32\n",
            "1 3 4\n",
            "[1 3 6 7]\n"
          ]
        }
      ]
    },
    {
      "cell_type": "markdown",
      "source": [
        "На вход поступают три строки. В первой и второй строках - числа (действительные или целые), разделенные пробелом. Необходимо на их основе создать два numpy массива a и b. В третьей строке целое число n - размер итогового массива. Необходимо объединить массивы a и b, привести тип элементов получившегося массива к типу элементов первого массива а и привести размер получившегося массива к n. Вывести итоговый массив на экран."
      ],
      "metadata": {
        "id": "g1tfzi9LJrnS"
      }
    },
    {
      "cell_type": "code",
      "source": [
        "import numpy as np\n",
        "s1=input().split()\n",
        "s2=input().split()\n",
        "n=int(input())\n",
        "if '.' in s1[1]:\n",
        "    arr1=np.array(s1,dtype=np.float64)\n",
        "else:\n",
        "    arr1=np.array(s1,dtype=np.int32)\n",
        "if '.' in s2[1]:\n",
        "    arr2=np.array(s2,dtype=np.float64)\n",
        "else:\n",
        "    arr2=np.array(s2,dtype=np.int32)\n",
        "tp=arr1.dtype\n",
        "qq=arr2.astype(tp)\n",
        "arr3=np.concatenate((arr1,qq))\n",
        "resized_arr=np.resize(arr3, (n,))\n",
        "print(resized_arr)\n",
        "\n",
        "\n"
      ],
      "metadata": {
        "colab": {
          "base_uri": "https://localhost:8080/"
        },
        "id": "fY8Rmva4NThI",
        "outputId": "0a2c62d8-54a0-4c39-be11-298fc0c12a21"
      },
      "execution_count": null,
      "outputs": [
        {
          "output_type": "stream",
          "name": "stdout",
          "text": [
            "12 3 1 8 9 3 5 3 11 0 11 11 7 8\n",
            "5.814 18.797 21.87 6.032 3.065 3.861 9.439 11.137 3.36 16.504\n",
            "18\n",
            "[12  3  1  8  9  3  5  3 11  0 11 11  7  8  5 18 21  6]\n"
          ]
        }
      ]
    },
    {
      "cell_type": "markdown",
      "source": [
        "Три мушкетера - Атос, Портос и Арамис - решили объединить свои одномерные массивы numpy целых чисел в один массив. Однако у каждого мушкетера есть свой массив разного размера. Помогите им объединить свои массивы в один массив, используя функцию concatenate."
      ],
      "metadata": {
        "id": "3wbAeEcYReSW"
      }
    },
    {
      "cell_type": "code",
      "source": [
        "import numpy as np\n",
        "s1=np.array(input().split(), dtype=np.float16)\n",
        "s2=np.array(input().split(), dtype=np.float16)\n",
        "s3=np.array(input().split(), dtype=np.float16)\n",
        "arr1=np.concatenate((s1,s2, s3))\n",
        "print(arr1)\n"
      ],
      "metadata": {
        "colab": {
          "base_uri": "https://localhost:8080/"
        },
        "id": "kLVYD0qgRepH",
        "outputId": "b89a307f-735f-4ac8-85f7-238cd3a12fd4"
      },
      "execution_count": null,
      "outputs": [
        {
          "output_type": "stream",
          "name": "stdout",
          "text": [
            "12 3 1 8 9 3 5 3 11\n",
            "22 -8 50 7 27\n",
            "8 9 3 5 4 5 6\n",
            "[12.  3.  1.  8.  9.  3.  5.  3. 11. 22. -8. 50.  7. 27.  8.  9.  3.  5.\n",
            "  4.  5.  6.]\n"
          ]
        }
      ]
    },
    {
      "cell_type": "markdown",
      "source": [
        "В первой строке поступает целое число n - количество массивов с числами, разделенными пробелами. Во второй строке - название типа к которому нужно привести элементы всех массивов, далее в следующих n строках идут сами массивы.  В последней строке идет целое число m - количество элементов, которое должно быть в каждом из массивов. Привести тип элементов всех массивов к необходимому типу, также привести размерность каждого массива к типу n, если при этом размерность нового массива больше, чем исходного, лишние значения заполнить нулями. Вывести все получившиеся массивы на экран через пробел."
      ],
      "metadata": {
        "id": "9-1hkckhmW6s"
      }
    },
    {
      "cell_type": "code",
      "source": [
        "import numpy as np\n",
        "cnt=int(input().split())\n",
        "form=input().split()\n",
        "arr=np.array(input().split())\n",
        "count_el=input().split()\n"
      ],
      "metadata": {
        "id": "J_U_MxA7R7sd"
      },
      "execution_count": null,
      "outputs": []
    },
    {
      "cell_type": "markdown",
      "source": [
        "В древнем доме на окраине города, где жил исследователь мистических артефактов, был обнаружен таинственный массив. Символы на массиве были написаны на древнем языке, и никто не мог прочитать их. Однако массив был наделен темной магией, и когда исследователь начал изучать его, массив начал расширяться и превращаться в портал в иной мир. Помогите исследователю уменьшить размеры массива, используя функцию resize, чтобы остановить его расширение и предотвратить открытие портала в темный мир. Однако, будьте осторожны, вам придется преодолеть множество трудностей и противостоять неизвестным силам, чтобы остановить этот зловещий массив."
      ],
      "metadata": {
        "id": "StWSKuSUozgC"
      }
    },
    {
      "cell_type": "code",
      "source": [
        "import numpy as np\n",
        "arr=np.array(input().split())\n",
        "#arr1=np.resize(arr, 5)\n",
        "#print(arr1)\n",
        "arr.resize(5)\n",
        "print(arr)"
      ],
      "metadata": {
        "colab": {
          "base_uri": "https://localhost:8080/"
        },
        "id": "YF_scnLwozwK",
        "outputId": "3f0ce8db-490d-4465-b706-6f6dfb6a5239"
      },
      "execution_count": null,
      "outputs": [
        {
          "output_type": "stream",
          "name": "stdout",
          "text": [
            "4 3 2 12 11 1 4 3 7 11 1 10 2 10 3 8 6 7 7 7 7 6 5 4 7 0 7 5 0 6 9 4 5 5 0 3 12 1 9 1 2 3 8 5 5\n",
            "['4' '3' '2' '12' '11']\n"
          ]
        }
      ]
    },
    {
      "cell_type": "markdown",
      "source": [],
      "metadata": {
        "id": "ArqscFpm_t1X"
      }
    },
    {
      "cell_type": "markdown",
      "source": [],
      "metadata": {
        "id": "aTUClA39_t4H"
      }
    },
    {
      "cell_type": "markdown",
      "source": [],
      "metadata": {
        "id": "qlBDwCmJ_t6U"
      }
    },
    {
      "cell_type": "markdown",
      "source": [],
      "metadata": {
        "id": "XcbjMXSB_t9L"
      }
    },
    {
      "cell_type": "markdown",
      "source": [],
      "metadata": {
        "id": "A1lqxIyt_t_2"
      }
    },
    {
      "cell_type": "markdown",
      "source": [],
      "metadata": {
        "id": "LlMByzxu_uCO"
      }
    },
    {
      "cell_type": "markdown",
      "source": [],
      "metadata": {
        "id": "XUGgo7Mz_uEz"
      }
    },
    {
      "cell_type": "markdown",
      "source": [],
      "metadata": {
        "id": "tnWSblIO_uHE"
      }
    },
    {
      "cell_type": "markdown",
      "source": [
        "На вход поступает строка целых чисел, разделенных пробелом. Создайте на ее основе numpy массив а. Затем  создайте новый массив b, содержащий только первые 5 элементов исходного массива. Оба массива выведите на экран, каждый с новой строки."
      ],
      "metadata": {
        "id": "xI01-VRZ_uPG"
      }
    },
    {
      "cell_type": "code",
      "source": [
        "import numpy as np\n",
        "arr1=np.array(input().split(), dtype=np.int32)\n",
        "arr2=np.array(arr1[:5])\n",
        "print(arr1)\n",
        "print(arr2)"
      ],
      "metadata": {
        "colab": {
          "base_uri": "https://localhost:8080/"
        },
        "id": "WY3ATd8q_usm",
        "outputId": "3c26df9a-6767-4301-cf49-81b6a5b067be"
      },
      "execution_count": 2,
      "outputs": [
        {
          "output_type": "stream",
          "name": "stdout",
          "text": [
            "30 3 12 8 9 10 3 3 14 16\n",
            "[30  3 12  8  9 10  3  3 14 16]\n",
            "[30  3 12  8  9]\n"
          ]
        }
      ]
    },
    {
      "cell_type": "markdown",
      "source": [
        "На вход поступает последовательность действительных чисел, разделенных пробелом. На ее основе создать одномерный numpy массив чисел a. Затем создать новый массив b, содержащий только последние 3 элемента исходного массива. Оба массива вывести на экран, каждый с новой строки."
      ],
      "metadata": {
        "id": "AD4x48BqAZk-"
      }
    },
    {
      "cell_type": "code",
      "source": [
        "import numpy as np\n",
        "arr1=np.array(input().split(), dtype=np.float32)\n",
        "arr2=np.array(arr1[::-1])\n",
        "q=arr2[:3]\n",
        "r=q[::-1]\n",
        "print(arr1)\n",
        "print(r)"
      ],
      "metadata": {
        "colab": {
          "base_uri": "https://localhost:8080/"
        },
        "id": "5CaFxzRyAZvf",
        "outputId": "4869c7d8-ee7d-468c-9f3b-080a07252b25"
      },
      "execution_count": 14,
      "outputs": [
        {
          "output_type": "stream",
          "name": "stdout",
          "text": [
            "24 24 15 2 19 4 30 16 32 30\n",
            "[24. 24. 15.  2. 19.  4. 30. 16. 32. 30.]\n",
            "[16. 32. 30.]\n"
          ]
        }
      ]
    },
    {
      "cell_type": "code",
      "source": [
        "import numpy as np\n",
        "arr1=np.array(input().split(), dtype=np.float32)\n",
        "arr2=np.array(arr1[-3:])\n",
        "print(arr1)\n",
        "print(arr2)"
      ],
      "metadata": {
        "colab": {
          "base_uri": "https://localhost:8080/"
        },
        "id": "nkAYx8rXC3zV",
        "outputId": "aef9eac0-f957-4e4a-f5ca-254060136ae9"
      },
      "execution_count": 21,
      "outputs": [
        {
          "output_type": "stream",
          "name": "stdout",
          "text": [
            "24 24 15 2 19 4 30 16 32 30\n",
            "[24. 24. 15.  2. 19.  4. 30. 16. 32. 30.]\n",
            "[16. 32. 30.]\n"
          ]
        }
      ]
    },
    {
      "cell_type": "markdown",
      "source": [
        "На вход поступает строка целых чисел, разделенных пробелом. На ее основе создать одномерный numpy массив чисел a. Затем создать новый массив b, содержащий все элементы исходного массива в обратном порядке. Оба массива вывести на экран, каждый с новой строки"
      ],
      "metadata": {
        "id": "Eq-9rQhdDuxf"
      }
    },
    {
      "cell_type": "code",
      "source": [
        "import numpy as np\n",
        "arr1=np.array(input().split(), dtype=np.int32)\n",
        "arr2=np.array(arr1[::-1])\n",
        "print(arr1)\n",
        "print(arr2)"
      ],
      "metadata": {
        "colab": {
          "base_uri": "https://localhost:8080/"
        },
        "id": "4QpEJoIKDv2v",
        "outputId": "7126e21e-d069-469c-886a-25be9310cd4d"
      },
      "execution_count": 22,
      "outputs": [
        {
          "output_type": "stream",
          "name": "stdout",
          "text": [
            "24 24 15 2 19 4 30 16 32 30\n",
            "[24 24 15  2 19  4 30 16 32 30]\n",
            "[30 32 16 30  4 19  2 15 24 24]\n"
          ]
        }
      ]
    },
    {
      "cell_type": "markdown",
      "source": [
        "На вход поступает строка целых чисел, разделенных пробелом. На ее основе создать одномерный numpy массив чисел a. Затем создать новый массив b, содержащий только элементы исходного массива с нечетными индексами. Оба массива вывести на экран, каждый с новой строки."
      ],
      "metadata": {
        "id": "uHz0GfydEAXU"
      }
    },
    {
      "cell_type": "code",
      "source": [
        "import numpy as np\n",
        "arr1=np.array(input().split(), dtype=np.int32)\n",
        "arr2=np.array(arr1[1::2])\n",
        "print(arr1)\n",
        "print(arr2)"
      ],
      "metadata": {
        "colab": {
          "base_uri": "https://localhost:8080/"
        },
        "id": "uLA6w_ljEAnU",
        "outputId": "1a337d18-d006-46ee-8ed2-9a1570d65760"
      },
      "execution_count": 23,
      "outputs": [
        {
          "output_type": "stream",
          "name": "stdout",
          "text": [
            "20 8 3 25 16 9 16 20 2 10\n",
            "[20  8  3 25 16  9 16 20  2 10]\n",
            "[ 8 25  9 20 10]\n"
          ]
        }
      ]
    },
    {
      "cell_type": "markdown",
      "source": [
        "На вход поступает строка целых чисел, разделенных пробелом. На ее основе создать одномерный numpy массив чисел a. Затем создать новый массив b, содержащий элементы исходного массива, кроме первых 3 и последних 2. Оба массива вывести на экран, каждый с новой строки."
      ],
      "metadata": {
        "id": "ElcKgJ40ET30"
      }
    },
    {
      "cell_type": "code",
      "source": [
        "import numpy as np\n",
        "arr1=np.array(input().split(), dtype=np.int32)\n",
        "arr2=np.array(arr1[3:-2])\n",
        "print(arr1)\n",
        "print(arr2)"
      ],
      "metadata": {
        "colab": {
          "base_uri": "https://localhost:8080/"
        },
        "id": "36hKiltIEUJs",
        "outputId": "9a0d49e8-c481-4e15-c2b1-546fd1951a47"
      },
      "execution_count": 24,
      "outputs": [
        {
          "output_type": "stream",
          "name": "stdout",
          "text": [
            "3 27 1 11 0 26 23 16 21 11 5\n",
            "[ 3 27  1 11  0 26 23 16 21 11  5]\n",
            "[11  0 26 23 16 21]\n"
          ]
        }
      ]
    },
    {
      "cell_type": "markdown",
      "source": [
        "На вход поступает строка целых чисел, разделенных пробелом. На ее основе создать одномерный numpy массив чисел a. Затем создать новый массив b, содержащий все элементы исходного массива, с индексами кратными 3. Оба массива вывести на экран, каждый с новой строки."
      ],
      "metadata": {
        "id": "IjGQHTHYEjJc"
      }
    },
    {
      "cell_type": "code",
      "source": [
        "import numpy as np\n",
        "arr1=np.array(input().split(), dtype=np.int32)\n",
        "arr2=np.array(arr1[::3])\n",
        "print(arr1)\n",
        "print(arr2)\n",
        "#b = np.array([a[i] for i in range(len(a)) if i % 3 == 0])"
      ],
      "metadata": {
        "colab": {
          "base_uri": "https://localhost:8080/"
        },
        "id": "KCGB8_HkEjW0",
        "outputId": "fd291301-c710-4cd2-86fc-63f748cc571f"
      },
      "execution_count": 31,
      "outputs": [
        {
          "output_type": "stream",
          "name": "stdout",
          "text": [
            "17 0 10 17 23 8 28 16 14 7 31 7 17 21 22 5 31 31 8 6 16 20 26 23 31\n",
            "[17  0 10 17 23  8 28 16 14  7 31  7 17 21 22  5 31 31  8  6 16 20 26 23\n",
            " 31]\n",
            "[17 17 28  7 17  5  8 20 31]\n"
          ]
        }
      ]
    },
    {
      "cell_type": "markdown",
      "source": [
        "На вход поступает две строки, содержащие одинаковое количество целых чисел, разделенных пробелом. На их основе создать список numpy, состоящий из элементов, которые находятся на четных позициях первого списка, затем следуют элементы, стоящие на нечетных позициях второго списка. Если длина списков нечетная, то последний элемент не учитывается. Полученный список вывести на экран."
      ],
      "metadata": {
        "id": "qMms1ZovHelk"
      }
    },
    {
      "cell_type": "code",
      "source": [
        "import numpy as np\n",
        "arr1=np.array(input().split(), dtype=np.int32)\n",
        "arr2=np.array(input().split(), dtype=np.int32)\n",
        "if len(arr1)%2!=0 and len(arr2)%2!=0:\n",
        "  g=arr1[:-1]\n",
        "  b=arr2[:-1]\n",
        "else:\n",
        "  g=arr1\n",
        "  b=arr2\n",
        "arr1_1=np.array(g[::2])\n",
        "arr2_2=np.array(b[1::2])\n",
        "arr_rez=np.concatenate((arr1_1,arr2_2))\n",
        "print(arr_rez)\n"
      ],
      "metadata": {
        "colab": {
          "base_uri": "https://localhost:8080/"
        },
        "id": "b48_0caiHgFz",
        "outputId": "af9af219-41f1-4e06-e2e4-7838b4de2036"
      },
      "execution_count": 49,
      "outputs": [
        {
          "output_type": "stream",
          "name": "stdout",
          "text": [
            "27 22 24 1 26 20 6 14 31 7 31\n",
            "83 92 1 49 43 45 78 6 27 33 27\n",
            "[27 24 26  6 31 92 49 45  6 33]\n"
          ]
        }
      ]
    },
    {
      "cell_type": "markdown",
      "source": [
        "Золушка готовится к балу, но у нее нет подходящих туфель. Ей нужно найти туфли, которые подойдут по размеру, а размер у нее это целое число, которое поступает на вход в первой строке. Во второй строке поступает массив, в котором каждый элемент - это размер туфель. Найдите все туфли, которые подходят Золушке. В качестве ответа выведите numpy массив из индексов туфель, которые подходят Золушке."
      ],
      "metadata": {
        "id": "ZVBOKeO_NFJA"
      }
    },
    {
      "cell_type": "code",
      "source": [
        "import numpy as np\n",
        "arr1=np.array(input().split(), dtype=np.int32)\n",
        "arr2=np.array(input().split(), dtype=np.int32)\n",
        "result = np.where(arr2 == arr1)\n",
        "print(result[0])"
      ],
      "metadata": {
        "colab": {
          "base_uri": "https://localhost:8080/"
        },
        "id": "XnqLpTZxNFYo",
        "outputId": "d28db4cf-96d3-4db5-e4dd-bc44812ca6fe"
      },
      "execution_count": 68,
      "outputs": [
        {
          "output_type": "stream",
          "name": "stdout",
          "text": [
            "33\n",
            "37 37 40 36 36 41 36 42 40 36 39 36 41 36 41 34 33 35 41 37 35\n",
            "[16]\n"
          ]
        }
      ]
    },
    {
      "cell_type": "markdown",
      "source": [
        "Вы исследуете древний храм, где вам нужно разгадать загадку, чтобы достать древний артефакт. Загадка представляет собой одномерный массив, который нужно перевернуть задом наперед, чтобы получить правильный ответ. Вы можете использовать срезы одномерных массивов numpy, чтобы перевернуть массив и раскрыть тайну."
      ],
      "metadata": {
        "id": "WQ0LG_NBRf51"
      }
    },
    {
      "cell_type": "code",
      "source": [
        "import numpy as np\n",
        "sl=list(input())\n",
        "sl.reverse()\n",
        "arr=np.array(sl)\n",
        "print(arr)"
      ],
      "metadata": {
        "colab": {
          "base_uri": "https://localhost:8080/"
        },
        "id": "reBXY266R5Qs",
        "outputId": "80105711-411a-4cee-8e30-9464f37912cb"
      },
      "execution_count": 78,
      "outputs": [
        {
          "output_type": "stream",
          "name": "stdout",
          "text": [
            "имактеверксордеввлапуток\n",
            "['к' 'о' 'т' 'у' 'п' 'а' 'л' 'в' 'в' 'е' 'д' 'р' 'о' 'с' 'к' 'р' 'е' 'в'\n",
            " 'е' 'т' 'к' 'а' 'м' 'и']\n"
          ]
        }
      ]
    },
    {
      "cell_type": "markdown",
      "source": [
        "Волшебная рыбка просит вас помочь ей отсортировать массив чисел. Она хочет, чтобы вы взяли первые 5 элементов массива и отсортировали их по убыванию. Затем вы должны взять последние 3 элемента массива и отсортировать их по возрастанию. Затем выведите получившийся массив в виде чисел, разделенных пробелом, на экран. Если вы выполните ее просьбу, она исполнит любое ваше желание."
      ],
      "metadata": {
        "id": "Xi0_wRvLU1Or"
      }
    },
    {
      "cell_type": "code",
      "source": [
        "import numpy as np\n",
        "a = np.array(input().split(), dtype=np.int32)\n",
        "b = sorted(a[:5], reverse=True)\n",
        "c = sorted(a[-3:])\n",
        "d = np.concatenate((b, c))\n",
        "print(*d)"
      ],
      "metadata": {
        "colab": {
          "base_uri": "https://localhost:8080/"
        },
        "id": "SkXM4mWCdlV-",
        "outputId": "bda37878-9f84-49a4-b211-6f3d5590b4fa"
      },
      "execution_count": 111,
      "outputs": [
        {
          "output_type": "stream",
          "name": "stdout",
          "text": [
            "37 41 37 37 41 38 33 37 38 41 3\n",
            "41 41 37 37 37 3 38 41\n"
          ]
        }
      ]
    },
    {
      "cell_type": "code",
      "source": [
        "import numpy as np\n",
        "sl=np.array(input().split(), dtype=np.int32)\n",
        "sl_left=sl[:5]\n",
        "sl_right=sl[-3:]\n",
        "q=-np.sort(-sl_left)\n",
        "a=np.sort(sl_right)\n",
        "rez=np.concatenate((q,a))\n",
        "rezz=' '.join(map(str, rez))\n",
        "print(rezz)"
      ],
      "metadata": {
        "colab": {
          "base_uri": "https://localhost:8080/"
        },
        "id": "e1EwZ48vU3bY",
        "outputId": "64530c04-2664-40b0-954f-6ec32858b8bd"
      },
      "execution_count": 108,
      "outputs": [
        {
          "output_type": "stream",
          "name": "stdout",
          "text": [
            "37 41 37 37 41 38 33 37 38 41 3\n",
            "41 41 37 37 37 3 38 41\n"
          ]
        }
      ]
    },
    {
      "cell_type": "markdown",
      "source": [
        "Колдунья дала вам массив чисел и просит вас изменить его содержимое. Она хочет, чтобы вы взяли каждый второй элемент массива, начиная со второго, и заменили их на 0. Затем она хочет, чтобы вы взяли последние 3 элемента массива и заменили их на 1. Отдайте ей итоговый массив."
      ],
      "metadata": {
        "id": "K3wgIM-id2i3"
      }
    },
    {
      "cell_type": "code",
      "source": [
        "import numpy as np\n",
        "arr=np.array(input().split(), dtype=np.int64)\n",
        "b=np.empty(0, dtype=np.int64)\n",
        "for i in arr:\n",
        "  if arr[i]%2!=0:\n",
        "    b=np.append(b,0)\n",
        "  else:\n",
        "    b=np.append(b,i)\n",
        "print (b)"
      ],
      "metadata": {
        "colab": {
          "base_uri": "https://localhost:8080/",
          "height": 274
        },
        "id": "YChuuyS-d2vf",
        "outputId": "6983245a-bec4-4b77-ca03-6868ff0ab410"
      },
      "execution_count": 124,
      "outputs": [
        {
          "name": "stdout",
          "output_type": "stream",
          "text": [
            "37 39 37 41 37 37 41 38 33 37 38 41 34 41 40 39 36 34 37 34 39 33 39 35 42 42 36\n"
          ]
        },
        {
          "output_type": "error",
          "ename": "IndexError",
          "evalue": "ignored",
          "traceback": [
            "\u001b[0;31m---------------------------------------------------------------------------\u001b[0m",
            "\u001b[0;31mIndexError\u001b[0m                                Traceback (most recent call last)",
            "\u001b[0;32m<ipython-input-124-087ae6b87a3e>\u001b[0m in \u001b[0;36m<cell line: 4>\u001b[0;34m()\u001b[0m\n\u001b[1;32m      3\u001b[0m \u001b[0mb\u001b[0m\u001b[0;34m=\u001b[0m\u001b[0mnp\u001b[0m\u001b[0;34m.\u001b[0m\u001b[0mempty\u001b[0m\u001b[0;34m(\u001b[0m\u001b[0;36m0\u001b[0m\u001b[0;34m,\u001b[0m \u001b[0mdtype\u001b[0m\u001b[0;34m=\u001b[0m\u001b[0mnp\u001b[0m\u001b[0;34m.\u001b[0m\u001b[0mint64\u001b[0m\u001b[0;34m)\u001b[0m\u001b[0;34m\u001b[0m\u001b[0;34m\u001b[0m\u001b[0m\n\u001b[1;32m      4\u001b[0m \u001b[0;32mfor\u001b[0m \u001b[0mi\u001b[0m \u001b[0;32min\u001b[0m \u001b[0marr\u001b[0m\u001b[0;34m:\u001b[0m\u001b[0;34m\u001b[0m\u001b[0;34m\u001b[0m\u001b[0m\n\u001b[0;32m----> 5\u001b[0;31m   \u001b[0;32mif\u001b[0m \u001b[0marr\u001b[0m\u001b[0;34m[\u001b[0m\u001b[0mi\u001b[0m\u001b[0;34m]\u001b[0m\u001b[0;34m%\u001b[0m\u001b[0;36m2\u001b[0m\u001b[0;34m!=\u001b[0m\u001b[0;36m0\u001b[0m\u001b[0;34m:\u001b[0m\u001b[0;34m\u001b[0m\u001b[0;34m\u001b[0m\u001b[0m\n\u001b[0m\u001b[1;32m      6\u001b[0m     \u001b[0mb\u001b[0m\u001b[0;34m=\u001b[0m\u001b[0mnp\u001b[0m\u001b[0;34m.\u001b[0m\u001b[0mappend\u001b[0m\u001b[0;34m(\u001b[0m\u001b[0mb\u001b[0m\u001b[0;34m,\u001b[0m\u001b[0;36m0\u001b[0m\u001b[0;34m)\u001b[0m\u001b[0;34m\u001b[0m\u001b[0;34m\u001b[0m\u001b[0m\n\u001b[1;32m      7\u001b[0m   \u001b[0;32melse\u001b[0m\u001b[0;34m:\u001b[0m\u001b[0;34m\u001b[0m\u001b[0;34m\u001b[0m\u001b[0m\n",
            "\u001b[0;31mIndexError\u001b[0m: index 37 is out of bounds for axis 0 with size 27"
          ]
        }
      ]
    }
  ]
}