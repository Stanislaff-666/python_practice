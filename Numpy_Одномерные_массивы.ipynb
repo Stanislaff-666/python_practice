{
  "nbformat": 4,
  "nbformat_minor": 0,
  "metadata": {
    "colab": {
      "provenance": [],
      "authorship_tag": "ABX9TyODrxdxH/FWraseVjeJKK9U",
      "include_colab_link": true
    },
    "kernelspec": {
      "name": "python3",
      "display_name": "Python 3"
    },
    "language_info": {
      "name": "python"
    }
  },
  "cells": [
    {
      "cell_type": "markdown",
      "metadata": {
        "id": "view-in-github",
        "colab_type": "text"
      },
      "source": [
        "<a href=\"https://colab.research.google.com/github/Stanislaff-666/python_practice/blob/main/Numpy_%D0%9E%D0%B4%D0%BD%D0%BE%D0%BC%D0%B5%D1%80%D0%BD%D1%8B%D0%B5_%D0%BC%D0%B0%D1%81%D1%81%D0%B8%D0%B2%D1%8B.ipynb\" target=\"_parent\"><img src=\"https://colab.research.google.com/assets/colab-badge.svg\" alt=\"Open In Colab\"/></a>"
      ]
    },
    {
      "cell_type": "code",
      "execution_count": null,
      "metadata": {
        "id": "uWBd4xaFl--R"
      },
      "outputs": [],
      "source": [
        "import numpy as np"
      ]
    },
    {
      "cell_type": "code",
      "source": [
        "import numpy as np\n",
        "a=np.arange(1,10.5,0.5)\n",
        "print(a)"
      ],
      "metadata": {
        "colab": {
          "base_uri": "https://localhost:8080/"
        },
        "id": "97cZ3FAumz2a",
        "outputId": "deef37e1-c183-436b-e601-a977d8b106b4"
      },
      "execution_count": null,
      "outputs": [
        {
          "output_type": "stream",
          "name": "stdout",
          "text": [
            "[ 1.   1.5  2.   2.5  3.   3.5  4.   4.5  5.   5.5  6.   6.5  7.   7.5\n",
            "  8.   8.5  9.   9.5 10. ]\n"
          ]
        }
      ]
    },
    {
      "cell_type": "code",
      "source": [
        "import numpy as np\n",
        "a=np.linspace(-5,5,10)\n",
        "print(a)"
      ],
      "metadata": {
        "colab": {
          "base_uri": "https://localhost:8080/"
        },
        "id": "yZGHLfR8pRIE",
        "outputId": "9d7701ab-008c-42e9-d993-a1ac385946f2"
      },
      "execution_count": null,
      "outputs": [
        {
          "output_type": "stream",
          "name": "stdout",
          "text": [
            "[-5.         -3.88888889 -2.77777778 -1.66666667 -0.55555556  0.55555556\n",
            "  1.66666667  2.77777778  3.88888889  5.        ]\n"
          ]
        }
      ]
    },
    {
      "cell_type": "code",
      "source": [
        "import numpy as np\n",
        "a=np.arange(10,0.5,-1)\n",
        "print(a)"
      ],
      "metadata": {
        "colab": {
          "base_uri": "https://localhost:8080/"
        },
        "id": "GL_IZZ01phM4",
        "outputId": "396f1bbd-be04-4331-fd91-fb9f50f5f26e"
      },
      "execution_count": null,
      "outputs": [
        {
          "output_type": "stream",
          "name": "stdout",
          "text": [
            "[10.  9.  8.  7.  6.  5.  4.  3.  2.  1.]\n"
          ]
        }
      ]
    },
    {
      "cell_type": "code",
      "source": [
        "import numpy as np\n",
        "a=int(input('введите число'))\n",
        "arr=np.random.rand(a)\n",
        "print(arr)"
      ],
      "metadata": {
        "colab": {
          "base_uri": "https://localhost:8080/"
        },
        "id": "yCul2r1Du6NJ",
        "outputId": "b2f09efb-48ed-4ad5-8b37-77b148e0a55d"
      },
      "execution_count": null,
      "outputs": [
        {
          "output_type": "stream",
          "name": "stdout",
          "text": [
            "введите число10\n",
            "[0.09178413 0.34518624 0.66275252 0.44171349 0.55148779 0.70371249\n",
            " 0.58940123 0.04993276 0.56179184 0.76635847]\n"
          ]
        }
      ]
    },
    {
      "cell_type": "markdown",
      "source": [
        "На вход подаются 2 числа a и b в виде строки чисел через пробел. Создайте массив NumPy, содержащий числа от a до b включительно, кратные 3, выведите его на экран,"
      ],
      "metadata": {
        "id": "G5h-35ywqcb4"
      }
    },
    {
      "cell_type": "code",
      "source": [
        "import numpy as np\n",
        "a, b = map(int, input().split())\n",
        "arr = np.arange(a, b + 1, 1)\n",
        "res = []\n",
        "for i in arr:\n",
        "  if i % 3 == 0:\n",
        "    res.append(i)\n",
        "print(np.array(res))"
      ],
      "metadata": {
        "colab": {
          "base_uri": "https://localhost:8080/"
        },
        "id": "VhVXLAUYtNz4",
        "outputId": "cd793f57-6919-460e-e88a-0df7dd000588"
      },
      "execution_count": null,
      "outputs": [
        {
          "output_type": "stream",
          "name": "stdout",
          "text": [
            "-5 15\n",
            "[-3  0  3  6  9 12 15]\n",
            "[-3, 0, 3, 6, 9, 12, 15]\n"
          ]
        }
      ]
    },
    {
      "cell_type": "markdown",
      "source": [
        "На вход подается целое число n. Cоздайте массив из n случайных действительных чисел в интервале от 0 до 1 не включительно.\n",
        "\n",
        "Важно: перед генерацией чисел используйте строчку np.random.seed(32)."
      ],
      "metadata": {
        "id": "3eIyjI-AwUiw"
      }
    },
    {
      "cell_type": "code",
      "source": [
        "import numpy as np\n",
        "a=int(input())\n",
        "np.random.seed(32)\n",
        "arr=np.random.rand(a)\n",
        "print(arr)\n"
      ],
      "metadata": {
        "colab": {
          "base_uri": "https://localhost:8080/"
        },
        "id": "7Q-SbJyTuJ9o",
        "outputId": "7322b8c5-9088-4962-87a8-0c5ae6b523d4"
      },
      "execution_count": null,
      "outputs": [
        {
          "output_type": "stream",
          "name": "stdout",
          "text": [
            "10\n",
            "[0.85888927 0.37271115 0.55512878 0.95565655 0.7366696  0.81620514\n",
            " 0.10108656 0.92848807 0.60910917 0.59655344]\n"
          ]
        }
      ]
    },
    {
      "cell_type": "markdown",
      "source": [
        "На вход подается целое число n>=1. Создайте массив, содержащий n первых простых чисел. Выведите его на экран."
      ],
      "metadata": {
        "id": "BdF3DRkDwqro"
      }
    },
    {
      "cell_type": "code",
      "source": [
        "import numpy as np\n",
        "from sympy import prime\n",
        "a=int(input())\n",
        "res = []\n",
        "nth_prime = prime(range(1,a))\n",
        "res.append(a)\n",
        "print(res)\n"
      ],
      "metadata": {
        "colab": {
          "base_uri": "https://localhost:8080/",
          "height": 484
        },
        "id": "nhy5wbbzwq6A",
        "outputId": "1ae57de3-a67a-4d48-a175-8ddfd747b8bd"
      },
      "execution_count": null,
      "outputs": [
        {
          "name": "stdout",
          "output_type": "stream",
          "text": [
            "3\n"
          ]
        },
        {
          "output_type": "error",
          "ename": "ValueError",
          "evalue": "ignored",
          "traceback": [
            "\u001b[0;31m---------------------------------------------------------------------------\u001b[0m",
            "\u001b[0;31mTypeError\u001b[0m                                 Traceback (most recent call last)",
            "\u001b[0;32m/usr/local/lib/python3.10/dist-packages/sympy/utilities/misc.py\u001b[0m in \u001b[0;36mas_int\u001b[0;34m(n, strict)\u001b[0m\n\u001b[1;32m    554\u001b[0m                 \u001b[0;32mraise\u001b[0m \u001b[0mTypeError\u001b[0m\u001b[0;34m\u001b[0m\u001b[0;34m\u001b[0m\u001b[0m\n\u001b[0;32m--> 555\u001b[0;31m             \u001b[0;32mreturn\u001b[0m \u001b[0moperator\u001b[0m\u001b[0;34m.\u001b[0m\u001b[0mindex\u001b[0m\u001b[0;34m(\u001b[0m\u001b[0mn\u001b[0m\u001b[0;34m)\u001b[0m\u001b[0;34m\u001b[0m\u001b[0;34m\u001b[0m\u001b[0m\n\u001b[0m\u001b[1;32m    556\u001b[0m         \u001b[0;32mexcept\u001b[0m \u001b[0mTypeError\u001b[0m\u001b[0;34m:\u001b[0m\u001b[0;34m\u001b[0m\u001b[0;34m\u001b[0m\u001b[0m\n",
            "\u001b[0;31mTypeError\u001b[0m: 'range' object cannot be interpreted as an integer",
            "\nDuring handling of the above exception, another exception occurred:\n",
            "\u001b[0;31mValueError\u001b[0m                                Traceback (most recent call last)",
            "\u001b[0;32m<ipython-input-73-65871eb15b38>\u001b[0m in \u001b[0;36m<cell line: 5>\u001b[0;34m()\u001b[0m\n\u001b[1;32m      3\u001b[0m \u001b[0ma\u001b[0m\u001b[0;34m=\u001b[0m\u001b[0mint\u001b[0m\u001b[0;34m(\u001b[0m\u001b[0minput\u001b[0m\u001b[0;34m(\u001b[0m\u001b[0;34m)\u001b[0m\u001b[0;34m)\u001b[0m\u001b[0;34m\u001b[0m\u001b[0;34m\u001b[0m\u001b[0m\n\u001b[1;32m      4\u001b[0m \u001b[0mres\u001b[0m \u001b[0;34m=\u001b[0m \u001b[0;34m[\u001b[0m\u001b[0;34m]\u001b[0m\u001b[0;34m\u001b[0m\u001b[0;34m\u001b[0m\u001b[0m\n\u001b[0;32m----> 5\u001b[0;31m \u001b[0mnth_prime\u001b[0m \u001b[0;34m=\u001b[0m \u001b[0mprime\u001b[0m\u001b[0;34m(\u001b[0m\u001b[0mrange\u001b[0m\u001b[0;34m(\u001b[0m\u001b[0;36m1\u001b[0m\u001b[0;34m,\u001b[0m\u001b[0ma\u001b[0m\u001b[0;34m)\u001b[0m\u001b[0;34m)\u001b[0m\u001b[0;34m\u001b[0m\u001b[0;34m\u001b[0m\u001b[0m\n\u001b[0m\u001b[1;32m      6\u001b[0m \u001b[0mres\u001b[0m\u001b[0;34m.\u001b[0m\u001b[0mappend\u001b[0m\u001b[0;34m(\u001b[0m\u001b[0ma\u001b[0m\u001b[0;34m)\u001b[0m\u001b[0;34m\u001b[0m\u001b[0;34m\u001b[0m\u001b[0m\n\u001b[1;32m      7\u001b[0m \u001b[0mprint\u001b[0m\u001b[0;34m(\u001b[0m\u001b[0mres\u001b[0m\u001b[0;34m)\u001b[0m\u001b[0;34m\u001b[0m\u001b[0;34m\u001b[0m\u001b[0m\n",
            "\u001b[0;32m/usr/local/lib/python3.10/dist-packages/sympy/ntheory/generate.py\u001b[0m in \u001b[0;36mprime\u001b[0;34m(nth)\u001b[0m\n\u001b[1;32m    392\u001b[0m         \u001b[0;34m.\u001b[0m\u001b[0;34m.\u001b[0m \u001b[0;34m[\u001b[0m\u001b[0;36m3\u001b[0m\u001b[0;34m]\u001b[0m \u001b[0mhttps\u001b[0m\u001b[0;34m:\u001b[0m\u001b[0;34m//\u001b[0m\u001b[0men\u001b[0m\u001b[0;34m.\u001b[0m\u001b[0mwikipedia\u001b[0m\u001b[0;34m.\u001b[0m\u001b[0morg\u001b[0m\u001b[0;34m/\u001b[0m\u001b[0mwiki\u001b[0m\u001b[0;34m/\u001b[0m\u001b[0mSkewes\u001b[0m\u001b[0;34m%\u001b[0m\u001b[0;36m27\u001b[0m\u001b[0m_number\u001b[0m\u001b[0;34m\u001b[0m\u001b[0;34m\u001b[0m\u001b[0m\n\u001b[1;32m    393\u001b[0m     \"\"\"\n\u001b[0;32m--> 394\u001b[0;31m     \u001b[0mn\u001b[0m \u001b[0;34m=\u001b[0m \u001b[0mas_int\u001b[0m\u001b[0;34m(\u001b[0m\u001b[0mnth\u001b[0m\u001b[0;34m)\u001b[0m\u001b[0;34m\u001b[0m\u001b[0;34m\u001b[0m\u001b[0m\n\u001b[0m\u001b[1;32m    395\u001b[0m     \u001b[0;32mif\u001b[0m \u001b[0mn\u001b[0m \u001b[0;34m<\u001b[0m \u001b[0;36m1\u001b[0m\u001b[0;34m:\u001b[0m\u001b[0;34m\u001b[0m\u001b[0;34m\u001b[0m\u001b[0m\n\u001b[1;32m    396\u001b[0m         \u001b[0;32mraise\u001b[0m \u001b[0mValueError\u001b[0m\u001b[0;34m(\u001b[0m\u001b[0;34m\"nth must be a positive integer; prime(1) == 2\"\u001b[0m\u001b[0;34m)\u001b[0m\u001b[0;34m\u001b[0m\u001b[0;34m\u001b[0m\u001b[0m\n",
            "\u001b[0;32m/usr/local/lib/python3.10/dist-packages/sympy/utilities/misc.py\u001b[0m in \u001b[0;36mas_int\u001b[0;34m(n, strict)\u001b[0m\n\u001b[1;32m    555\u001b[0m             \u001b[0;32mreturn\u001b[0m \u001b[0moperator\u001b[0m\u001b[0;34m.\u001b[0m\u001b[0mindex\u001b[0m\u001b[0;34m(\u001b[0m\u001b[0mn\u001b[0m\u001b[0;34m)\u001b[0m\u001b[0;34m\u001b[0m\u001b[0;34m\u001b[0m\u001b[0m\n\u001b[1;32m    556\u001b[0m         \u001b[0;32mexcept\u001b[0m \u001b[0mTypeError\u001b[0m\u001b[0;34m:\u001b[0m\u001b[0;34m\u001b[0m\u001b[0;34m\u001b[0m\u001b[0m\n\u001b[0;32m--> 557\u001b[0;31m             \u001b[0;32mraise\u001b[0m \u001b[0mValueError\u001b[0m\u001b[0;34m(\u001b[0m\u001b[0;34m'%s is not an integer'\u001b[0m \u001b[0;34m%\u001b[0m \u001b[0;34m(\u001b[0m\u001b[0mn\u001b[0m\u001b[0;34m,\u001b[0m\u001b[0;34m)\u001b[0m\u001b[0;34m)\u001b[0m\u001b[0;34m\u001b[0m\u001b[0;34m\u001b[0m\u001b[0m\n\u001b[0m\u001b[1;32m    558\u001b[0m     \u001b[0;32melse\u001b[0m\u001b[0;34m:\u001b[0m\u001b[0;34m\u001b[0m\u001b[0;34m\u001b[0m\u001b[0m\n\u001b[1;32m    559\u001b[0m         \u001b[0;32mtry\u001b[0m\u001b[0;34m:\u001b[0m\u001b[0;34m\u001b[0m\u001b[0;34m\u001b[0m\u001b[0m\n",
            "\u001b[0;31mValueError\u001b[0m: range(1, 3) is not an integer"
          ]
        }
      ]
    },
    {
      "cell_type": "code",
      "source": [
        "# import sympy\n",
        "from sympy import prime\n",
        "n = 5\n",
        "# Use prime() method\n",
        "nth_prime = prime(n)\n",
        "print(\"The {}th prime is {}\".format(n, nth_prime))"
      ],
      "metadata": {
        "colab": {
          "base_uri": "https://localhost:8080/"
        },
        "id": "GqnzwGHlw_YA",
        "outputId": "b33c88c6-32c1-48e0-a3c9-9f4ff8eb4187"
      },
      "execution_count": null,
      "outputs": [
        {
          "output_type": "stream",
          "name": "stdout",
          "text": [
            "The 5th prime is 11\n"
          ]
        }
      ]
    },
    {
      "cell_type": "markdown",
      "source": [
        "На вход подается 2 действительных числа а>0, b>=0.001. Создайте массив, содержащий числа от -a до числа c <= a, такого что a - c <= b, с шагом b. Числа округляйте до двух знаков после запятой, используя np.round(). Выведите массив на экран."
      ],
      "metadata": {
        "id": "42MQOQak1Q0w"
      }
    },
    {
      "cell_type": "code",
      "source": [
        "a,b=input().split()\n",
        "x=float(a)\n",
        "y=float(b)\n",
        "arr=np.round(np.arange (-x, x + y/10, y),1)\n",
        "print(arr)"
      ],
      "metadata": {
        "colab": {
          "base_uri": "https://localhost:8080/"
        },
        "id": "VjPxV_O60rWZ",
        "outputId": "222e6429-155a-484e-dd83-f6a007a8df98"
      },
      "execution_count": null,
      "outputs": [
        {
          "output_type": "stream",
          "name": "stdout",
          "text": [
            "10 .3\n",
            "[-10.   -9.7  -9.4  -9.1  -8.8  -8.5  -8.2  -7.9  -7.6  -7.3  -7.   -6.7\n",
            "  -6.4  -6.1  -5.8  -5.5  -5.2  -4.9  -4.6  -4.3  -4.   -3.7  -3.4  -3.1\n",
            "  -2.8  -2.5  -2.2  -1.9  -1.6  -1.3  -1.   -0.7  -0.4  -0.1   0.2   0.5\n",
            "   0.8   1.1   1.4   1.7   2.    2.3   2.6   2.9   3.2   3.5   3.8   4.1\n",
            "   4.4   4.7   5.    5.3   5.6   5.9   6.2   6.5   6.8   7.1   7.4   7.7\n",
            "   8.    8.3   8.6   8.9   9.2   9.5   9.8]\n"
          ]
        }
      ]
    },
    {
      "cell_type": "markdown",
      "source": [
        "На вход подается целое число b > 0. Создайте массив numpy, содержащий b чисел от 0 до pi включительно. Для генерации числа пи используйте numpy константу np.pi. Выведите массив на экран."
      ],
      "metadata": {
        "id": "EjupXFy_97H5"
      }
    },
    {
      "cell_type": "code",
      "source": [
        "import numpy as np\n",
        "a=int(input())\n",
        "arr=np.linspace(0,np.pi,a)\n",
        "print(arr)"
      ],
      "metadata": {
        "colab": {
          "base_uri": "https://localhost:8080/"
        },
        "id": "swj6ZIyB-vDJ",
        "outputId": "697b7fbf-1fb9-4acc-ec2a-060a2c57ad37"
      },
      "execution_count": null,
      "outputs": [
        {
          "output_type": "stream",
          "name": "stdout",
          "text": [
            "10\n",
            "[0.         0.34906585 0.6981317  1.04719755 1.3962634  1.74532925\n",
            " 2.0943951  2.44346095 2.7925268  3.14159265]\n"
          ]
        }
      ]
    },
    {
      "cell_type": "markdown",
      "source": [
        "На вход подается целое число n>1. Создайте numpy массив, содержащий n первых чисел Фибоначчи, выведите его на экран."
      ],
      "metadata": {
        "id": "BOa-c_Zc_J4A"
      }
    },
    {
      "cell_type": "code",
      "source": [
        "n=int(input())\n",
        "arr=np.arange(0,n,1)\n",
        "print(arr)"
      ],
      "metadata": {
        "colab": {
          "base_uri": "https://localhost:8080/"
        },
        "id": "m_ycxZ7c_KLh",
        "outputId": "ca0c97d5-60fc-4d68-d532-36d2772ef267"
      },
      "execution_count": null,
      "outputs": [
        {
          "output_type": "stream",
          "name": "stdout",
          "text": [
            "3\n",
            "[0 1 2]\n"
          ]
        }
      ]
    },
    {
      "cell_type": "code",
      "source": [
        "fib1 = fib2 = 1\n",
        "n = int(input())\n",
        "print(fib1, fib2, end=' ')\n",
        "\n",
        "for i in range(2, n):\n",
        "    fib1, fib2 = fib2, fib1 + fib2\n",
        "    print(fib2, end=' ')\n"
      ],
      "metadata": {
        "colab": {
          "base_uri": "https://localhost:8080/"
        },
        "id": "9kLwmyanCn0T",
        "outputId": "9b472224-1daf-475c-c37f-713a6e30c496"
      },
      "execution_count": null,
      "outputs": [
        {
          "output_type": "stream",
          "name": "stdout",
          "text": [
            "5\n",
            "1 1 2 3 5 "
          ]
        }
      ]
    },
    {
      "cell_type": "code",
      "source": [
        "import numpy as np\n",
        "fNumber = int(input())\n",
        "a = np.arange(0, fNumber)\n",
        "length_a = len(a)\n",
        "\n",
        "sqrt_five = np.sqrt(5)\n",
        "alpha = (1 + sqrt_five) / 2\n",
        "beta = (1 - sqrt_five) / 2\n",
        "\n",
        "Fn = np.rint(((alpha ** a) - (beta ** a)) / (sqrt_five))\n",
        "print(Fn)"
      ],
      "metadata": {
        "colab": {
          "base_uri": "https://localhost:8080/"
        },
        "id": "84S-FV1zGcta",
        "outputId": "5e740d28-ec32-4592-d904-9f80bda38e25"
      },
      "execution_count": null,
      "outputs": [
        {
          "output_type": "stream",
          "name": "stdout",
          "text": [
            "5\n",
            "[0. 1. 1. 2. 3.]\n"
          ]
        }
      ]
    },
    {
      "cell_type": "markdown",
      "source": [
        "На вход подается целое число n>0, cоздайте одномерный массив numpy, состоящий из n элементов, равных числу pi, и выведите его на экран."
      ],
      "metadata": {
        "id": "IgLjp2aJIh-O"
      }
    },
    {
      "cell_type": "code",
      "source": [
        "import numpy as np\n",
        "n = int(input())\n",
        "print(np.full(n, np.pi))"
      ],
      "metadata": {
        "colab": {
          "base_uri": "https://localhost:8080/"
        },
        "id": "AvV0OnpyLGsq",
        "outputId": "b23c1a9c-01db-489c-ed2a-124b3340b6cf"
      },
      "execution_count": 224,
      "outputs": [
        {
          "output_type": "stream",
          "name": "stdout",
          "text": [
            "2\n",
            "[3.14159265 3.14159265]\n"
          ]
        }
      ]
    },
    {
      "cell_type": "markdown",
      "source": [
        "На вход подается строка слов, разделенных пробелом, создайте одномерный массив numpy, содержащий эти слова. Выведите массив на экран."
      ],
      "metadata": {
        "id": "4uWjlbvCN_PI"
      }
    },
    {
      "cell_type": "code",
      "source": [
        "import numpy as np\n",
        "a=input()\n",
        "arr=np.array(a.split())\n",
        "print(arr)"
      ],
      "metadata": {
        "colab": {
          "base_uri": "https://localhost:8080/"
        },
        "id": "0FyTmiT2N_dg",
        "outputId": "5ba855bb-e386-4b7a-da0c-e3aca8bb2ba0"
      },
      "execution_count": 235,
      "outputs": [
        {
          "output_type": "stream",
          "name": "stdout",
          "text": [
            "sd dns sdksl sj\n",
            "['sd' 'dns' 'sdksl' 'sj']\n"
          ]
        }
      ]
    },
    {
      "cell_type": "markdown",
      "source": [
        "На вход подается строка, создайте одномерный массив numpy, содержащий символы этой строки. Выведите массив на экран"
      ],
      "metadata": {
        "id": "pbJEA-cUOvlI"
      }
    },
    {
      "cell_type": "code",
      "source": [
        "import numpy as np\n",
        "a=input()\n",
        "list_1=list(a)\n",
        "arr=np.array(list_1)\n",
        "print(arr)"
      ],
      "metadata": {
        "colab": {
          "base_uri": "https://localhost:8080/"
        },
        "id": "f_uwRn6jOuwQ",
        "outputId": "47861c3f-a6f6-475e-95e3-cc6b50caedff"
      },
      "execution_count": 266,
      "outputs": [
        {
          "output_type": "stream",
          "name": "stdout",
          "text": [
            "аро длы фвфыв98 фы_о\n",
            "['а' 'р' 'о' ' ' 'д' 'л' 'ы' ' ' 'ф' 'в' 'ф' 'ы' 'в' '9' '8' ' ' 'ф' 'ы'\n",
            " '_' 'о']\n"
          ]
        }
      ]
    },
    {
      "cell_type": "markdown",
      "source": [
        "На вход подается строка состоящая из слов, разделенных пробелом. Создайте одномерный массив, содержащий длины этих слов. Выведите массив на экран."
      ],
      "metadata": {
        "id": "GYHhoA7mPUJb"
      }
    },
    {
      "cell_type": "code",
      "source": [
        "import numpy as np\n",
        "q = input()\n",
        "word=q.split()\n",
        "word_lengths = [len(word) for word in words]\n",
        "arr=np.array(word_lengths)\n",
        "print(arr)"
      ],
      "metadata": {
        "colab": {
          "base_uri": "https://localhost:8080/"
        },
        "id": "2t2ttFXAR7ii",
        "outputId": "41fc4986-7985-4a42-b7e1-5e411db7ca8e"
      },
      "execution_count": 267,
      "outputs": [
        {
          "output_type": "stream",
          "name": "stdout",
          "text": [
            "аро длы фвфыв98 фы_о\n",
            "[3 3 7 4]\n"
          ]
        }
      ]
    }
  ]
}