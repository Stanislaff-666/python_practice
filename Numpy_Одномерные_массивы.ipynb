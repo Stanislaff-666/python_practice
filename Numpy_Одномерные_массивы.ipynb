{
  "nbformat": 4,
  "nbformat_minor": 0,
  "metadata": {
    "colab": {
      "provenance": [],
      "include_colab_link": true
    },
    "kernelspec": {
      "name": "python3",
      "display_name": "Python 3"
    },
    "language_info": {
      "name": "python"
    }
  },
  "cells": [
    {
      "cell_type": "markdown",
      "metadata": {
        "id": "view-in-github",
        "colab_type": "text"
      },
      "source": [
        "<a href=\"https://colab.research.google.com/github/Stanislaff-666/python_practice/blob/main/Numpy_%D0%9E%D0%B4%D0%BD%D0%BE%D0%BC%D0%B5%D1%80%D0%BD%D1%8B%D0%B5_%D0%BC%D0%B0%D1%81%D1%81%D0%B8%D0%B2%D1%8B.ipynb\" target=\"_parent\"><img src=\"https://colab.research.google.com/assets/colab-badge.svg\" alt=\"Open In Colab\"/></a>"
      ]
    },
    {
      "cell_type": "code",
      "execution_count": null,
      "metadata": {
        "id": "uWBd4xaFl--R"
      },
      "outputs": [],
      "source": [
        "import numpy as np"
      ]
    },
    {
      "cell_type": "code",
      "source": [
        "import numpy as np\n",
        "a=np.arange(1,10.5,0.5)\n",
        "print(a)"
      ],
      "metadata": {
        "colab": {
          "base_uri": "https://localhost:8080/"
        },
        "id": "97cZ3FAumz2a",
        "outputId": "deef37e1-c183-436b-e601-a977d8b106b4"
      },
      "execution_count": null,
      "outputs": [
        {
          "output_type": "stream",
          "name": "stdout",
          "text": [
            "[ 1.   1.5  2.   2.5  3.   3.5  4.   4.5  5.   5.5  6.   6.5  7.   7.5\n",
            "  8.   8.5  9.   9.5 10. ]\n"
          ]
        }
      ]
    },
    {
      "cell_type": "code",
      "source": [
        "import numpy as np\n",
        "a=np.linspace(-5,5,10)\n",
        "print(a)"
      ],
      "metadata": {
        "colab": {
          "base_uri": "https://localhost:8080/"
        },
        "id": "yZGHLfR8pRIE",
        "outputId": "9d7701ab-008c-42e9-d993-a1ac385946f2"
      },
      "execution_count": null,
      "outputs": [
        {
          "output_type": "stream",
          "name": "stdout",
          "text": [
            "[-5.         -3.88888889 -2.77777778 -1.66666667 -0.55555556  0.55555556\n",
            "  1.66666667  2.77777778  3.88888889  5.        ]\n"
          ]
        }
      ]
    },
    {
      "cell_type": "code",
      "source": [
        "import numpy as np\n",
        "a=np.arange(10,0.5,-1)\n",
        "print(a)"
      ],
      "metadata": {
        "colab": {
          "base_uri": "https://localhost:8080/"
        },
        "id": "GL_IZZ01phM4",
        "outputId": "396f1bbd-be04-4331-fd91-fb9f50f5f26e"
      },
      "execution_count": null,
      "outputs": [
        {
          "output_type": "stream",
          "name": "stdout",
          "text": [
            "[10.  9.  8.  7.  6.  5.  4.  3.  2.  1.]\n"
          ]
        }
      ]
    },
    {
      "cell_type": "code",
      "source": [
        "import numpy as np\n",
        "a=int(input('введите число'))\n",
        "arr=np.random.rand(a)\n",
        "print(arr)"
      ],
      "metadata": {
        "colab": {
          "base_uri": "https://localhost:8080/"
        },
        "id": "yCul2r1Du6NJ",
        "outputId": "b2f09efb-48ed-4ad5-8b37-77b148e0a55d"
      },
      "execution_count": null,
      "outputs": [
        {
          "output_type": "stream",
          "name": "stdout",
          "text": [
            "введите число10\n",
            "[0.09178413 0.34518624 0.66275252 0.44171349 0.55148779 0.70371249\n",
            " 0.58940123 0.04993276 0.56179184 0.76635847]\n"
          ]
        }
      ]
    },
    {
      "cell_type": "markdown",
      "source": [
        "На вход подаются 2 числа a и b в виде строки чисел через пробел. Создайте массив NumPy, содержащий числа от a до b включительно, кратные 3, выведите его на экран,"
      ],
      "metadata": {
        "id": "G5h-35ywqcb4"
      }
    },
    {
      "cell_type": "code",
      "source": [
        "import numpy as np\n",
        "a, b = map(int, input().split())\n",
        "arr = np.arange(a, b + 1, 1)\n",
        "res = []\n",
        "for i in arr:\n",
        "  if i % 3 == 0:\n",
        "    res.append(i)\n",
        "print(np.array(res))"
      ],
      "metadata": {
        "colab": {
          "base_uri": "https://localhost:8080/"
        },
        "id": "VhVXLAUYtNz4",
        "outputId": "cd793f57-6919-460e-e88a-0df7dd000588"
      },
      "execution_count": null,
      "outputs": [
        {
          "output_type": "stream",
          "name": "stdout",
          "text": [
            "-5 15\n",
            "[-3  0  3  6  9 12 15]\n",
            "[-3, 0, 3, 6, 9, 12, 15]\n"
          ]
        }
      ]
    },
    {
      "cell_type": "markdown",
      "source": [
        "На вход подается целое число n. Cоздайте массив из n случайных действительных чисел в интервале от 0 до 1 не включительно.\n",
        "\n",
        "Важно: перед генерацией чисел используйте строчку np.random.seed(32)."
      ],
      "metadata": {
        "id": "3eIyjI-AwUiw"
      }
    },
    {
      "cell_type": "code",
      "source": [
        "import numpy as np\n",
        "a=int(input())\n",
        "np.random.seed(32)\n",
        "arr=np.random.rand(a)\n",
        "print(arr)\n"
      ],
      "metadata": {
        "colab": {
          "base_uri": "https://localhost:8080/"
        },
        "id": "7Q-SbJyTuJ9o",
        "outputId": "7322b8c5-9088-4962-87a8-0c5ae6b523d4"
      },
      "execution_count": null,
      "outputs": [
        {
          "output_type": "stream",
          "name": "stdout",
          "text": [
            "10\n",
            "[0.85888927 0.37271115 0.55512878 0.95565655 0.7366696  0.81620514\n",
            " 0.10108656 0.92848807 0.60910917 0.59655344]\n"
          ]
        }
      ]
    },
    {
      "cell_type": "markdown",
      "source": [
        "На вход подается целое число n>=1. Создайте массив, содержащий n первых простых чисел. Выведите его на экран."
      ],
      "metadata": {
        "id": "BdF3DRkDwqro"
      }
    },
    {
      "cell_type": "code",
      "source": [
        "import numpy as np\n",
        "from sympy import prime\n",
        "a=int(input())\n",
        "res = []\n",
        "nth_prime = prime(range(1,a))\n",
        "res.append(a)\n",
        "print(res)\n"
      ],
      "metadata": {
        "colab": {
          "base_uri": "https://localhost:8080/",
          "height": 484
        },
        "id": "nhy5wbbzwq6A",
        "outputId": "1ae57de3-a67a-4d48-a175-8ddfd747b8bd"
      },
      "execution_count": null,
      "outputs": [
        {
          "name": "stdout",
          "output_type": "stream",
          "text": [
            "3\n"
          ]
        },
        {
          "output_type": "error",
          "ename": "ValueError",
          "evalue": "ignored",
          "traceback": [
            "\u001b[0;31m---------------------------------------------------------------------------\u001b[0m",
            "\u001b[0;31mTypeError\u001b[0m                                 Traceback (most recent call last)",
            "\u001b[0;32m/usr/local/lib/python3.10/dist-packages/sympy/utilities/misc.py\u001b[0m in \u001b[0;36mas_int\u001b[0;34m(n, strict)\u001b[0m\n\u001b[1;32m    554\u001b[0m                 \u001b[0;32mraise\u001b[0m \u001b[0mTypeError\u001b[0m\u001b[0;34m\u001b[0m\u001b[0;34m\u001b[0m\u001b[0m\n\u001b[0;32m--> 555\u001b[0;31m             \u001b[0;32mreturn\u001b[0m \u001b[0moperator\u001b[0m\u001b[0;34m.\u001b[0m\u001b[0mindex\u001b[0m\u001b[0;34m(\u001b[0m\u001b[0mn\u001b[0m\u001b[0;34m)\u001b[0m\u001b[0;34m\u001b[0m\u001b[0;34m\u001b[0m\u001b[0m\n\u001b[0m\u001b[1;32m    556\u001b[0m         \u001b[0;32mexcept\u001b[0m \u001b[0mTypeError\u001b[0m\u001b[0;34m:\u001b[0m\u001b[0;34m\u001b[0m\u001b[0;34m\u001b[0m\u001b[0m\n",
            "\u001b[0;31mTypeError\u001b[0m: 'range' object cannot be interpreted as an integer",
            "\nDuring handling of the above exception, another exception occurred:\n",
            "\u001b[0;31mValueError\u001b[0m                                Traceback (most recent call last)",
            "\u001b[0;32m<ipython-input-73-65871eb15b38>\u001b[0m in \u001b[0;36m<cell line: 5>\u001b[0;34m()\u001b[0m\n\u001b[1;32m      3\u001b[0m \u001b[0ma\u001b[0m\u001b[0;34m=\u001b[0m\u001b[0mint\u001b[0m\u001b[0;34m(\u001b[0m\u001b[0minput\u001b[0m\u001b[0;34m(\u001b[0m\u001b[0;34m)\u001b[0m\u001b[0;34m)\u001b[0m\u001b[0;34m\u001b[0m\u001b[0;34m\u001b[0m\u001b[0m\n\u001b[1;32m      4\u001b[0m \u001b[0mres\u001b[0m \u001b[0;34m=\u001b[0m \u001b[0;34m[\u001b[0m\u001b[0;34m]\u001b[0m\u001b[0;34m\u001b[0m\u001b[0;34m\u001b[0m\u001b[0m\n\u001b[0;32m----> 5\u001b[0;31m \u001b[0mnth_prime\u001b[0m \u001b[0;34m=\u001b[0m \u001b[0mprime\u001b[0m\u001b[0;34m(\u001b[0m\u001b[0mrange\u001b[0m\u001b[0;34m(\u001b[0m\u001b[0;36m1\u001b[0m\u001b[0;34m,\u001b[0m\u001b[0ma\u001b[0m\u001b[0;34m)\u001b[0m\u001b[0;34m)\u001b[0m\u001b[0;34m\u001b[0m\u001b[0;34m\u001b[0m\u001b[0m\n\u001b[0m\u001b[1;32m      6\u001b[0m \u001b[0mres\u001b[0m\u001b[0;34m.\u001b[0m\u001b[0mappend\u001b[0m\u001b[0;34m(\u001b[0m\u001b[0ma\u001b[0m\u001b[0;34m)\u001b[0m\u001b[0;34m\u001b[0m\u001b[0;34m\u001b[0m\u001b[0m\n\u001b[1;32m      7\u001b[0m \u001b[0mprint\u001b[0m\u001b[0;34m(\u001b[0m\u001b[0mres\u001b[0m\u001b[0;34m)\u001b[0m\u001b[0;34m\u001b[0m\u001b[0;34m\u001b[0m\u001b[0m\n",
            "\u001b[0;32m/usr/local/lib/python3.10/dist-packages/sympy/ntheory/generate.py\u001b[0m in \u001b[0;36mprime\u001b[0;34m(nth)\u001b[0m\n\u001b[1;32m    392\u001b[0m         \u001b[0;34m.\u001b[0m\u001b[0;34m.\u001b[0m \u001b[0;34m[\u001b[0m\u001b[0;36m3\u001b[0m\u001b[0;34m]\u001b[0m \u001b[0mhttps\u001b[0m\u001b[0;34m:\u001b[0m\u001b[0;34m//\u001b[0m\u001b[0men\u001b[0m\u001b[0;34m.\u001b[0m\u001b[0mwikipedia\u001b[0m\u001b[0;34m.\u001b[0m\u001b[0morg\u001b[0m\u001b[0;34m/\u001b[0m\u001b[0mwiki\u001b[0m\u001b[0;34m/\u001b[0m\u001b[0mSkewes\u001b[0m\u001b[0;34m%\u001b[0m\u001b[0;36m27\u001b[0m\u001b[0m_number\u001b[0m\u001b[0;34m\u001b[0m\u001b[0;34m\u001b[0m\u001b[0m\n\u001b[1;32m    393\u001b[0m     \"\"\"\n\u001b[0;32m--> 394\u001b[0;31m     \u001b[0mn\u001b[0m \u001b[0;34m=\u001b[0m \u001b[0mas_int\u001b[0m\u001b[0;34m(\u001b[0m\u001b[0mnth\u001b[0m\u001b[0;34m)\u001b[0m\u001b[0;34m\u001b[0m\u001b[0;34m\u001b[0m\u001b[0m\n\u001b[0m\u001b[1;32m    395\u001b[0m     \u001b[0;32mif\u001b[0m \u001b[0mn\u001b[0m \u001b[0;34m<\u001b[0m \u001b[0;36m1\u001b[0m\u001b[0;34m:\u001b[0m\u001b[0;34m\u001b[0m\u001b[0;34m\u001b[0m\u001b[0m\n\u001b[1;32m    396\u001b[0m         \u001b[0;32mraise\u001b[0m \u001b[0mValueError\u001b[0m\u001b[0;34m(\u001b[0m\u001b[0;34m\"nth must be a positive integer; prime(1) == 2\"\u001b[0m\u001b[0;34m)\u001b[0m\u001b[0;34m\u001b[0m\u001b[0;34m\u001b[0m\u001b[0m\n",
            "\u001b[0;32m/usr/local/lib/python3.10/dist-packages/sympy/utilities/misc.py\u001b[0m in \u001b[0;36mas_int\u001b[0;34m(n, strict)\u001b[0m\n\u001b[1;32m    555\u001b[0m             \u001b[0;32mreturn\u001b[0m \u001b[0moperator\u001b[0m\u001b[0;34m.\u001b[0m\u001b[0mindex\u001b[0m\u001b[0;34m(\u001b[0m\u001b[0mn\u001b[0m\u001b[0;34m)\u001b[0m\u001b[0;34m\u001b[0m\u001b[0;34m\u001b[0m\u001b[0m\n\u001b[1;32m    556\u001b[0m         \u001b[0;32mexcept\u001b[0m \u001b[0mTypeError\u001b[0m\u001b[0;34m:\u001b[0m\u001b[0;34m\u001b[0m\u001b[0;34m\u001b[0m\u001b[0m\n\u001b[0;32m--> 557\u001b[0;31m             \u001b[0;32mraise\u001b[0m \u001b[0mValueError\u001b[0m\u001b[0;34m(\u001b[0m\u001b[0;34m'%s is not an integer'\u001b[0m \u001b[0;34m%\u001b[0m \u001b[0;34m(\u001b[0m\u001b[0mn\u001b[0m\u001b[0;34m,\u001b[0m\u001b[0;34m)\u001b[0m\u001b[0;34m)\u001b[0m\u001b[0;34m\u001b[0m\u001b[0;34m\u001b[0m\u001b[0m\n\u001b[0m\u001b[1;32m    558\u001b[0m     \u001b[0;32melse\u001b[0m\u001b[0;34m:\u001b[0m\u001b[0;34m\u001b[0m\u001b[0;34m\u001b[0m\u001b[0m\n\u001b[1;32m    559\u001b[0m         \u001b[0;32mtry\u001b[0m\u001b[0;34m:\u001b[0m\u001b[0;34m\u001b[0m\u001b[0;34m\u001b[0m\u001b[0m\n",
            "\u001b[0;31mValueError\u001b[0m: range(1, 3) is not an integer"
          ]
        }
      ]
    },
    {
      "cell_type": "code",
      "source": [
        "# import sympy\n",
        "from sympy import prime\n",
        "n = 5\n",
        "# Use prime() method\n",
        "nth_prime = prime(n)\n",
        "print(\"The {}th prime is {}\".format(n, nth_prime))"
      ],
      "metadata": {
        "colab": {
          "base_uri": "https://localhost:8080/"
        },
        "id": "GqnzwGHlw_YA",
        "outputId": "b33c88c6-32c1-48e0-a3c9-9f4ff8eb4187"
      },
      "execution_count": null,
      "outputs": [
        {
          "output_type": "stream",
          "name": "stdout",
          "text": [
            "The 5th prime is 11\n"
          ]
        }
      ]
    },
    {
      "cell_type": "markdown",
      "source": [
        "На вход подается 2 действительных числа а>0, b>=0.001. Создайте массив, содержащий числа от -a до числа c <= a, такого что a - c <= b, с шагом b. Числа округляйте до двух знаков после запятой, используя np.round(). Выведите массив на экран."
      ],
      "metadata": {
        "id": "42MQOQak1Q0w"
      }
    },
    {
      "cell_type": "code",
      "source": [
        "a,b=input().split()\n",
        "x=float(a)\n",
        "y=float(b)\n",
        "arr=np.round(np.arange (-x, x + y/10, y),1)\n",
        "print(arr)"
      ],
      "metadata": {
        "colab": {
          "base_uri": "https://localhost:8080/"
        },
        "id": "VjPxV_O60rWZ",
        "outputId": "222e6429-155a-484e-dd83-f6a007a8df98"
      },
      "execution_count": null,
      "outputs": [
        {
          "output_type": "stream",
          "name": "stdout",
          "text": [
            "10 .3\n",
            "[-10.   -9.7  -9.4  -9.1  -8.8  -8.5  -8.2  -7.9  -7.6  -7.3  -7.   -6.7\n",
            "  -6.4  -6.1  -5.8  -5.5  -5.2  -4.9  -4.6  -4.3  -4.   -3.7  -3.4  -3.1\n",
            "  -2.8  -2.5  -2.2  -1.9  -1.6  -1.3  -1.   -0.7  -0.4  -0.1   0.2   0.5\n",
            "   0.8   1.1   1.4   1.7   2.    2.3   2.6   2.9   3.2   3.5   3.8   4.1\n",
            "   4.4   4.7   5.    5.3   5.6   5.9   6.2   6.5   6.8   7.1   7.4   7.7\n",
            "   8.    8.3   8.6   8.9   9.2   9.5   9.8]\n"
          ]
        }
      ]
    },
    {
      "cell_type": "markdown",
      "source": [
        "На вход подается целое число b > 0. Создайте массив numpy, содержащий b чисел от 0 до pi включительно. Для генерации числа пи используйте numpy константу np.pi. Выведите массив на экран."
      ],
      "metadata": {
        "id": "EjupXFy_97H5"
      }
    },
    {
      "cell_type": "code",
      "source": [
        "import numpy as np\n",
        "a=int(input())\n",
        "arr=np.linspace(0,np.pi,a)\n",
        "print(arr)"
      ],
      "metadata": {
        "colab": {
          "base_uri": "https://localhost:8080/"
        },
        "id": "swj6ZIyB-vDJ",
        "outputId": "697b7fbf-1fb9-4acc-ec2a-060a2c57ad37"
      },
      "execution_count": null,
      "outputs": [
        {
          "output_type": "stream",
          "name": "stdout",
          "text": [
            "10\n",
            "[0.         0.34906585 0.6981317  1.04719755 1.3962634  1.74532925\n",
            " 2.0943951  2.44346095 2.7925268  3.14159265]\n"
          ]
        }
      ]
    },
    {
      "cell_type": "markdown",
      "source": [
        "На вход подается целое число n>1. Создайте numpy массив, содержащий n первых чисел Фибоначчи, выведите его на экран."
      ],
      "metadata": {
        "id": "BOa-c_Zc_J4A"
      }
    },
    {
      "cell_type": "code",
      "source": [
        "n=int(input())\n",
        "arr=np.arange(0,n,1)\n",
        "print(arr)"
      ],
      "metadata": {
        "colab": {
          "base_uri": "https://localhost:8080/"
        },
        "id": "m_ycxZ7c_KLh",
        "outputId": "ca0c97d5-60fc-4d68-d532-36d2772ef267"
      },
      "execution_count": null,
      "outputs": [
        {
          "output_type": "stream",
          "name": "stdout",
          "text": [
            "3\n",
            "[0 1 2]\n"
          ]
        }
      ]
    },
    {
      "cell_type": "code",
      "source": [
        "fib1 = fib2 = 1\n",
        "n = int(input())\n",
        "print(fib1, fib2, end=' ')\n",
        "\n",
        "for i in range(2, n):\n",
        "    fib1, fib2 = fib2, fib1 + fib2\n",
        "    print(fib2, end=' ')\n"
      ],
      "metadata": {
        "colab": {
          "base_uri": "https://localhost:8080/"
        },
        "id": "9kLwmyanCn0T",
        "outputId": "9b472224-1daf-475c-c37f-713a6e30c496"
      },
      "execution_count": null,
      "outputs": [
        {
          "output_type": "stream",
          "name": "stdout",
          "text": [
            "5\n",
            "1 1 2 3 5 "
          ]
        }
      ]
    },
    {
      "cell_type": "code",
      "source": [
        "import numpy as np\n",
        "fNumber = int(input())\n",
        "a = np.arange(0, fNumber)\n",
        "length_a = len(a)\n",
        "\n",
        "sqrt_five = np.sqrt(5)\n",
        "alpha = (1 + sqrt_five) / 2\n",
        "beta = (1 - sqrt_five) / 2\n",
        "\n",
        "Fn = np.rint(((alpha ** a) - (beta ** a)) / (sqrt_five))\n",
        "print(Fn)"
      ],
      "metadata": {
        "colab": {
          "base_uri": "https://localhost:8080/"
        },
        "id": "84S-FV1zGcta",
        "outputId": "5e740d28-ec32-4592-d904-9f80bda38e25"
      },
      "execution_count": null,
      "outputs": [
        {
          "output_type": "stream",
          "name": "stdout",
          "text": [
            "5\n",
            "[0. 1. 1. 2. 3.]\n"
          ]
        }
      ]
    },
    {
      "cell_type": "markdown",
      "source": [
        "На вход подается целое число n>0, cоздайте одномерный массив numpy, состоящий из n элементов, равных числу pi, и выведите его на экран."
      ],
      "metadata": {
        "id": "IgLjp2aJIh-O"
      }
    },
    {
      "cell_type": "code",
      "source": [
        "import numpy as np\n",
        "n = int(input())\n",
        "print(np.full(n, np.pi))"
      ],
      "metadata": {
        "colab": {
          "base_uri": "https://localhost:8080/"
        },
        "id": "AvV0OnpyLGsq",
        "outputId": "b23c1a9c-01db-489c-ed2a-124b3340b6cf"
      },
      "execution_count": null,
      "outputs": [
        {
          "output_type": "stream",
          "name": "stdout",
          "text": [
            "2\n",
            "[3.14159265 3.14159265]\n"
          ]
        }
      ]
    },
    {
      "cell_type": "markdown",
      "source": [
        "На вход подается строка слов, разделенных пробелом, создайте одномерный массив numpy, содержащий эти слова. Выведите массив на экран."
      ],
      "metadata": {
        "id": "4uWjlbvCN_PI"
      }
    },
    {
      "cell_type": "code",
      "source": [
        "import numpy as np\n",
        "a=input()\n",
        "arr=np.array(a.split())\n",
        "print(arr)"
      ],
      "metadata": {
        "colab": {
          "base_uri": "https://localhost:8080/"
        },
        "id": "0FyTmiT2N_dg",
        "outputId": "5ba855bb-e386-4b7a-da0c-e3aca8bb2ba0"
      },
      "execution_count": null,
      "outputs": [
        {
          "output_type": "stream",
          "name": "stdout",
          "text": [
            "sd dns sdksl sj\n",
            "['sd' 'dns' 'sdksl' 'sj']\n"
          ]
        }
      ]
    },
    {
      "cell_type": "markdown",
      "source": [
        "На вход подается строка, создайте одномерный массив numpy, содержащий символы этой строки. Выведите массив на экран"
      ],
      "metadata": {
        "id": "pbJEA-cUOvlI"
      }
    },
    {
      "cell_type": "code",
      "source": [
        "import numpy as np\n",
        "a=input()\n",
        "list_1=list(a)\n",
        "arr=np.array(list_1)\n",
        "print(arr)"
      ],
      "metadata": {
        "colab": {
          "base_uri": "https://localhost:8080/"
        },
        "id": "f_uwRn6jOuwQ",
        "outputId": "47861c3f-a6f6-475e-95e3-cc6b50caedff"
      },
      "execution_count": null,
      "outputs": [
        {
          "output_type": "stream",
          "name": "stdout",
          "text": [
            "аро длы фвфыв98 фы_о\n",
            "['а' 'р' 'о' ' ' 'д' 'л' 'ы' ' ' 'ф' 'в' 'ф' 'ы' 'в' '9' '8' ' ' 'ф' 'ы'\n",
            " '_' 'о']\n"
          ]
        }
      ]
    },
    {
      "cell_type": "markdown",
      "source": [
        "На вход подается строка состоящая из слов, разделенных пробелом. Создайте одномерный массив, содержащий длины этих слов. Выведите массив на экран."
      ],
      "metadata": {
        "id": "GYHhoA7mPUJb"
      }
    },
    {
      "cell_type": "code",
      "source": [
        "import numpy as np\n",
        "q = input()\n",
        "word=q.split()\n",
        "word_lengths = [len(word) for word in words]\n",
        "arr=np.array(word_lengths)\n",
        "print(arr)"
      ],
      "metadata": {
        "colab": {
          "base_uri": "https://localhost:8080/"
        },
        "id": "2t2ttFXAR7ii",
        "outputId": "41fc4986-7985-4a42-b7e1-5e411db7ca8e"
      },
      "execution_count": null,
      "outputs": [
        {
          "output_type": "stream",
          "name": "stdout",
          "text": [
            "аро длы фвфыв98 фы_о\n",
            "[3 3 7 4]\n"
          ]
        }
      ]
    },
    {
      "cell_type": "markdown",
      "source": [],
      "metadata": {
        "id": "OCZiUPpmWAOq"
      }
    },
    {
      "cell_type": "markdown",
      "source": [],
      "metadata": {
        "id": "oDN_t-AnWARD"
      }
    },
    {
      "cell_type": "markdown",
      "source": [],
      "metadata": {
        "id": "Soa0-cZyWAWS"
      }
    },
    {
      "cell_type": "markdown",
      "source": [],
      "metadata": {
        "id": "bQIIB7ySWAY6"
      }
    },
    {
      "cell_type": "markdown",
      "source": [],
      "metadata": {
        "id": "Sa2zffHlWAci"
      }
    },
    {
      "cell_type": "markdown",
      "source": [],
      "metadata": {
        "id": "ni9tDYMKWAfW"
      }
    },
    {
      "cell_type": "markdown",
      "source": [],
      "metadata": {
        "id": "gafWyoyOWAh7"
      }
    },
    {
      "cell_type": "markdown",
      "source": [],
      "metadata": {
        "id": "NQUxH6BnWAky"
      }
    },
    {
      "cell_type": "markdown",
      "source": [
        "На вход поступают две строки, состоящие из чисел, разделённых пробелом.\n",
        "\n",
        "Необходимо создать два массива numpy a и b, в которые поместить эти числа. При этом нужно правильно определить какой тип использовать, исходя из данных, содержащихся в строках.\n",
        "\n",
        "Затем на основе данных второго массива b необходимо создать третий c, значения которого взяты из второго массива b, а тип данных равен типу данных первого массива a.\n",
        "\n",
        "Полученные три массива a, b, c вывести на экран в порядке их создания через пробел."
      ],
      "metadata": {
        "id": "byDuO4bDWA2B"
      }
    },
    {
      "cell_type": "code",
      "source": [
        "import numpy as np\n",
        "data_1=list(input())\n",
        "data_2=list(input())\n",
        "qs=data_1.dtype\n",
        "qx=type(data_2)\n",
        "print(qs, qx)"
      ],
      "metadata": {
        "colab": {
          "base_uri": "https://localhost:8080/",
          "height": 294
        },
        "id": "2yQkRJAhaKYg",
        "outputId": "9d5c3844-59c3-447e-fd99-b59f483137b7"
      },
      "execution_count": null,
      "outputs": [
        {
          "name": "stdout",
          "output_type": "stream",
          "text": [
            "1 2 3\n",
            "2.2 2 2\n"
          ]
        },
        {
          "output_type": "error",
          "ename": "AttributeError",
          "evalue": "ignored",
          "traceback": [
            "\u001b[0;31m---------------------------------------------------------------------------\u001b[0m",
            "\u001b[0;31mAttributeError\u001b[0m                            Traceback (most recent call last)",
            "\u001b[0;32m<ipython-input-15-ad0e534ab49e>\u001b[0m in \u001b[0;36m<cell line: 4>\u001b[0;34m()\u001b[0m\n\u001b[1;32m      2\u001b[0m \u001b[0mdata_1\u001b[0m\u001b[0;34m=\u001b[0m\u001b[0mlist\u001b[0m\u001b[0;34m(\u001b[0m\u001b[0minput\u001b[0m\u001b[0;34m(\u001b[0m\u001b[0;34m)\u001b[0m\u001b[0;34m)\u001b[0m\u001b[0;34m\u001b[0m\u001b[0;34m\u001b[0m\u001b[0m\n\u001b[1;32m      3\u001b[0m \u001b[0mdata_2\u001b[0m\u001b[0;34m=\u001b[0m\u001b[0mlist\u001b[0m\u001b[0;34m(\u001b[0m\u001b[0minput\u001b[0m\u001b[0;34m(\u001b[0m\u001b[0;34m)\u001b[0m\u001b[0;34m)\u001b[0m\u001b[0;34m\u001b[0m\u001b[0;34m\u001b[0m\u001b[0m\n\u001b[0;32m----> 4\u001b[0;31m \u001b[0mqs\u001b[0m\u001b[0;34m=\u001b[0m\u001b[0mdata_1\u001b[0m\u001b[0;34m.\u001b[0m\u001b[0mdtype\u001b[0m\u001b[0;34m\u001b[0m\u001b[0;34m\u001b[0m\u001b[0m\n\u001b[0m\u001b[1;32m      5\u001b[0m \u001b[0mqx\u001b[0m\u001b[0;34m=\u001b[0m\u001b[0mtype\u001b[0m\u001b[0;34m(\u001b[0m\u001b[0mdata_2\u001b[0m\u001b[0;34m)\u001b[0m\u001b[0;34m\u001b[0m\u001b[0;34m\u001b[0m\u001b[0m\n\u001b[1;32m      6\u001b[0m \u001b[0mprint\u001b[0m\u001b[0;34m(\u001b[0m\u001b[0mqs\u001b[0m\u001b[0;34m,\u001b[0m \u001b[0mqx\u001b[0m\u001b[0;34m)\u001b[0m\u001b[0;34m\u001b[0m\u001b[0;34m\u001b[0m\u001b[0m\n",
            "\u001b[0;31mAttributeError\u001b[0m: 'list' object has no attribute 'dtype'"
          ]
        }
      ]
    },
    {
      "cell_type": "code",
      "source": [
        "import numpy as np\n",
        "data_1=input()\n",
        "data_2=input()\n",
        "arr1 = np.fromstring(data_1, dtype=None, sep=\" \")\n",
        "arr2 = np.fromstring(data_2, dtype=None, sep=\" \")\n",
        "print(arr1, arr2)"
      ],
      "metadata": {
        "colab": {
          "base_uri": "https://localhost:8080/"
        },
        "id": "-dIliBK0YngJ",
        "outputId": "e0a56962-a612-49e2-c698-42fd188815c6"
      },
      "execution_count": null,
      "outputs": [
        {
          "output_type": "stream",
          "name": "stdout",
          "text": [
            "1 2 3\n",
            "2.2 2 2\n",
            "[1. 2. 3.] [2.2 2.  2. ]\n"
          ]
        }
      ]
    },
    {
      "cell_type": "code",
      "source": [
        "import numpy as np\n",
        "s1=np.array(input().split())\n",
        "s2=np.array(input().split())\n",
        "a=s1.dtype\n",
        "b=s2.dtype\n",
        "print (a, b)"
      ],
      "metadata": {
        "colab": {
          "base_uri": "https://localhost:8080/"
        },
        "id": "Q-dq7hGZYDaR",
        "outputId": "f8975f2d-9999-4095-b4a3-a9ec60da08ba"
      },
      "execution_count": null,
      "outputs": [
        {
          "output_type": "stream",
          "name": "stdout",
          "text": [
            "1 2 3\n",
            "2.2 2 2\n",
            "<U1 <U3\n"
          ]
        }
      ]
    },
    {
      "cell_type": "code",
      "source": [
        "import numpy as np\n",
        "data_1=input().split()\n",
        "data_2=input().split()\n",
        "for i in data_1:\n",
        "  if i%1==0:\n",
        "    data_1.astype(int)\n",
        "  else:\n",
        "    data_1\n",
        "print(type(data_1))"
      ],
      "metadata": {
        "colab": {
          "base_uri": "https://localhost:8080/",
          "height": 294
        },
        "id": "rgeFlftpbiuv",
        "outputId": "8ca17c41-933d-49c0-8467-406f0de9ae34"
      },
      "execution_count": null,
      "outputs": [
        {
          "name": "stdout",
          "output_type": "stream",
          "text": [
            "1 2 3\n",
            "2.2 2 2\n"
          ]
        },
        {
          "output_type": "error",
          "ename": "TypeError",
          "evalue": "ignored",
          "traceback": [
            "\u001b[0;31m---------------------------------------------------------------------------\u001b[0m",
            "\u001b[0;31mTypeError\u001b[0m                                 Traceback (most recent call last)",
            "\u001b[0;32m<ipython-input-20-7bcfc878571a>\u001b[0m in \u001b[0;36m<cell line: 4>\u001b[0;34m()\u001b[0m\n\u001b[1;32m      3\u001b[0m \u001b[0mdata_2\u001b[0m\u001b[0;34m=\u001b[0m\u001b[0minput\u001b[0m\u001b[0;34m(\u001b[0m\u001b[0;34m)\u001b[0m\u001b[0;34m.\u001b[0m\u001b[0msplit\u001b[0m\u001b[0;34m(\u001b[0m\u001b[0;34m)\u001b[0m\u001b[0;34m\u001b[0m\u001b[0;34m\u001b[0m\u001b[0m\n\u001b[1;32m      4\u001b[0m \u001b[0;32mfor\u001b[0m \u001b[0mi\u001b[0m \u001b[0;32min\u001b[0m \u001b[0mdata_1\u001b[0m\u001b[0;34m:\u001b[0m\u001b[0;34m\u001b[0m\u001b[0;34m\u001b[0m\u001b[0m\n\u001b[0;32m----> 5\u001b[0;31m   \u001b[0;32mif\u001b[0m \u001b[0mi\u001b[0m\u001b[0;34m%\u001b[0m\u001b[0;36m1\u001b[0m\u001b[0;34m==\u001b[0m\u001b[0;36m0\u001b[0m\u001b[0;34m:\u001b[0m\u001b[0;34m\u001b[0m\u001b[0;34m\u001b[0m\u001b[0m\n\u001b[0m\u001b[1;32m      6\u001b[0m     \u001b[0mdata_1\u001b[0m\u001b[0;34m.\u001b[0m\u001b[0mastype\u001b[0m\u001b[0;34m(\u001b[0m\u001b[0mint\u001b[0m\u001b[0;34m)\u001b[0m\u001b[0;34m\u001b[0m\u001b[0;34m\u001b[0m\u001b[0m\n\u001b[1;32m      7\u001b[0m   \u001b[0;32melse\u001b[0m\u001b[0;34m:\u001b[0m\u001b[0;34m\u001b[0m\u001b[0;34m\u001b[0m\u001b[0m\n",
            "\u001b[0;31mTypeError\u001b[0m: not all arguments converted during string formatting"
          ]
        }
      ]
    },
    {
      "cell_type": "markdown",
      "source": [
        "Напишите функцию convert_type(), которая принимает на вход одномерный numpy массив и возвращает новый массив того же размера, но с типом данных str.\n",
        "\n",
        "Нужно только определить функцию, вызывать ее не нужно!"
      ],
      "metadata": {
        "id": "C-Jwh1LabPkf"
      }
    },
    {
      "cell_type": "code",
      "source": [
        "import numpy as np\n",
        "arr=np.array(str(input()))\n",
        "print(type(arr))\n",
        "print(arr)"
      ],
      "metadata": {
        "colab": {
          "base_uri": "https://localhost:8080/"
        },
        "id": "1g-uVWhibP4v",
        "outputId": "87c85a0d-caff-42fe-8b78-303c0a0df2b7"
      },
      "execution_count": null,
      "outputs": [
        {
          "output_type": "stream",
          "name": "stdout",
          "text": [
            "2 3.3 5 5\n",
            "<class 'numpy.ndarray'>\n",
            "2 3.3 5 5\n"
          ]
        }
      ]
    },
    {
      "cell_type": "markdown",
      "source": [],
      "metadata": {
        "id": "zPtfz7NyeZg-"
      }
    },
    {
      "cell_type": "markdown",
      "source": [],
      "metadata": {
        "id": "9rXwP4qweZq2"
      }
    },
    {
      "cell_type": "markdown",
      "source": [],
      "metadata": {
        "id": "hf5H6-zleZte"
      }
    },
    {
      "cell_type": "markdown",
      "source": [],
      "metadata": {
        "id": "jin0eAlQeZv-"
      }
    },
    {
      "cell_type": "markdown",
      "source": [],
      "metadata": {
        "id": "hHvWE9FbeZyS"
      }
    },
    {
      "cell_type": "markdown",
      "source": [],
      "metadata": {
        "id": "oP1JjCVUeZ0_"
      }
    },
    {
      "cell_type": "markdown",
      "source": [
        "На вход подается целое число n.\n",
        "\n",
        "Напишите программу, которая создает одномерный массив из n чисел, равномерно распределенных в диапазоне от 0 до 100 (включительно), и выводит в первой строке сам массив и в следующей строке его размерность, форму и количество элементов через пробел.ndim, shape и size."
      ],
      "metadata": {
        "id": "wZkn6KFheZ3J"
      }
    },
    {
      "cell_type": "code",
      "source": [
        "import numpy as np\n",
        "arr=np.linspace(0, 100, int(input()))\n",
        "print (arr)\n",
        "print(arr.ndim, arr.shape, arr.size)"
      ],
      "metadata": {
        "colab": {
          "base_uri": "https://localhost:8080/"
        },
        "id": "Sx9wXQOHea_g",
        "outputId": "f57eabba-34af-49ef-a273-c61e0e7c585f"
      },
      "execution_count": null,
      "outputs": [
        {
          "output_type": "stream",
          "name": "stdout",
          "text": [
            "10\n",
            "[  0.          11.11111111  22.22222222  33.33333333  44.44444444\n",
            "  55.55555556  66.66666667  77.77777778  88.88888889 100.        ]\n",
            "1 (10,) 10\n"
          ]
        }
      ]
    },
    {
      "cell_type": "markdown",
      "source": [
        "На вход подается  строка действительных чисел разделенных пробелом. Напишите программу, которая создает одномерный массив из чисел, введенной строки с типом float16. Выведите на экран данный массив его тип и размер в байтах каждого элемента массива."
      ],
      "metadata": {
        "id": "21X34qKHhQR8"
      }
    },
    {
      "cell_type": "code",
      "source": [
        "import numpy as np\n",
        "a=input().split()\n",
        "arr=np.array(a)\n",
        "num16 = np.float16(arr)\n",
        "print(num16)\n",
        "print (num16.dtype, num16.itemsize)"
      ],
      "metadata": {
        "colab": {
          "base_uri": "https://localhost:8080/"
        },
        "id": "gKnFnLLohPZ0",
        "outputId": "5d034b04-c99f-4d2e-c6be-c99002af16bc"
      },
      "execution_count": null,
      "outputs": [
        {
          "output_type": "stream",
          "name": "stdout",
          "text": [
            "3.4 6 4.333\n",
            "[3.4   6.    4.332]\n",
            "float16 2\n"
          ]
        }
      ]
    },
    {
      "cell_type": "code",
      "source": [
        "import numpy as np\n",
        "arr_fl = np.array(input().split(), dtype = np.float16)\n",
        "print(arr_fl)\n",
        "print(arr_fl.dtype, arr_fl.itemsize)"
      ],
      "metadata": {
        "colab": {
          "base_uri": "https://localhost:8080/"
        },
        "id": "EoYOtzerjcgL",
        "outputId": "99dfabaf-f934-4574-c938-9136006b970e"
      },
      "execution_count": null,
      "outputs": [
        {
          "output_type": "stream",
          "name": "stdout",
          "text": [
            "3.4 6 4.333\n",
            "[3.4   6.    4.332]\n",
            "float16 2\n"
          ]
        }
      ]
    },
    {
      "cell_type": "markdown",
      "source": [
        "На вход подается строка целых чисел, разделенных пробелом, в которой содержится количество проданных за день билетов в течение прошедшей недели.\n",
        "\n",
        "Создайте массив NumPy из этих данных, используйте тип int64. Выведите на экран сам массив в первой строке, среднее количество проданных за неделю билетов, округленное до трех знаков после запятой, и  тип данных массива через пробел во второй строке."
      ],
      "metadata": {
        "id": "3olGVQpkjndk"
      }
    },
    {
      "cell_type": "code",
      "source": [
        "import numpy as np\n",
        "arr=np.array(input().split(), dtype=np.int64)\n",
        "print(arr)\n",
        "print(round(sum(arr)/len(arr),3), arr.dtype)"
      ],
      "metadata": {
        "colab": {
          "base_uri": "https://localhost:8080/"
        },
        "id": "RbfMFkxRjnoT",
        "outputId": "9b272d13-22cc-4096-c10d-7c669657eab4"
      },
      "execution_count": null,
      "outputs": [
        {
          "output_type": "stream",
          "name": "stdout",
          "text": [
            "100 200 300 150 250 175 225\n",
            "[100 200 300 150 250 175 225]\n",
            "200.0 int64\n"
          ]
        }
      ]
    },
    {
      "cell_type": "markdown",
      "source": [
        "На вход поступает строка целых чисел, разделенных запятой с пробелом, в которой записана температура в городе N за каждый день месяца.\n",
        "\n",
        "Создайте массив numpy из данных о температуре в городе за каждый день месяца. Выведите на экран максимальную температуру в городе за месяц, размерность массива, его форму и тип, в одной строке, через пробел."
      ],
      "metadata": {
        "id": "oKRjUY2UmOIZ"
      }
    },
    {
      "cell_type": "code",
      "source": [
        "import numpy as np\n",
        "arr=np.array(input().split(', '), dtype=np.int32)\n",
        "print (max(arr), arr.ndim, arr.shape, arr.dtype)"
      ],
      "metadata": {
        "colab": {
          "base_uri": "https://localhost:8080/"
        },
        "id": "PHXr9JYVmOUC",
        "outputId": "8df9e9f0-8110-4bba-ddb1-93f574e373dd"
      },
      "execution_count": null,
      "outputs": [
        {
          "output_type": "stream",
          "name": "stdout",
          "text": [
            "10, 15, 20, 25, 20, 18, 16, 21, 23, 22, 19, 14, 12, 11, 13, 17, 18, 19, 20, 22, 25, 27, 24, 23, 20, 18, 16, 12, 10, 11\n",
            "27 1 (30,) int32\n"
          ]
        }
      ]
    },
    {
      "cell_type": "markdown",
      "source": [
        "На вход поступает строка целых чисел, в которой содержатся данных о загрязнении воздуха за некоторый период времени.\n",
        "\n",
        "Создайте массив numpy из данных о загрязнении воздуха. Выведите на экран количество дней в году, когда уровень загрязнения воздуха превышал норму. Нормой считайте значение 45."
      ],
      "metadata": {
        "id": "447wQl5On4xy"
      }
    },
    {
      "cell_type": "code",
      "source": [
        "import numpy as np\n",
        "arr=np.array(input().split(), dtype=np.int32)\n",
        "result=0\n",
        "for i in arr:\n",
        "  if i>45:\n",
        "    result+=1\n",
        "print(result)"
      ],
      "metadata": {
        "colab": {
          "base_uri": "https://localhost:8080/"
        },
        "id": "rpD_k2IJn48p",
        "outputId": "83d47c62-4429-4a2c-fcd5-6c00f0f91b51"
      },
      "execution_count": null,
      "outputs": [
        {
          "output_type": "stream",
          "name": "stdout",
          "text": [
            "33 57 87 51 31 31 87 37 65 98 91 41 29 59 43 41 68 39 65 17 11 66 1 74 77 91 79 54 43 19 41 4 45 9 36 55 86 29 29 18 71 90 68 40 39 57 63 24 24 13 32 48 27 3 28 95 19 64 42 60 33 86 23 96 54 1 25 49 79 94 77 44 44 79 53 66 25\n",
            "37\n"
          ]
        }
      ]
    },
    {
      "cell_type": "markdown",
      "source": [
        "Лесной гном собирает золотые яблоки, которые растут на деревьях в его лесу. Он создает массив numpy из количества яблок, которые он нашел на каждом дереве. Выведите на экран суммарное количество яблок, найденных гномом. Определите тип данных массива."
      ],
      "metadata": {
        "id": "Zg0_IU8ZozjA"
      }
    },
    {
      "cell_type": "code",
      "source": [
        "import numpy as np\n",
        "arr=np.array(input().split(), dtype=np.int32)\n",
        "print(sum(arr), arr.dtype)"
      ],
      "metadata": {
        "colab": {
          "base_uri": "https://localhost:8080/"
        },
        "id": "IB2Fcrc2ozyA",
        "outputId": "dd0680c5-b3ec-4286-ff4b-d5f5e6f553a0"
      },
      "execution_count": null,
      "outputs": [
        {
          "output_type": "stream",
          "name": "stdout",
          "text": [
            "40 12 28 4 7 38 21 9 3 5 42 26 34 4 7 12 36 22 22 6 35 19 4 44 32 38 7 11 30 26 5 33 7\n",
            "669 int32\n"
          ]
        }
      ]
    },
    {
      "cell_type": "markdown",
      "source": [
        "Маленький рыцарь отправляется на поиски драконьего гнезда. Он создает массив numpy из количества драконов в каждом гнезде, которые он обнаруживает в своем путешествии. Выведите на экран наименьшее количество драконов в гнезде и индекс гнезда с максимальным количеством драконов. Если ему повстречалось несколько гнезд с максимальным количеством драконов, выведите индекс первого встретившегося ему гнезда."
      ],
      "metadata": {
        "id": "36Cu_2GtpNVw"
      }
    },
    {
      "cell_type": "code",
      "source": [
        "import numpy as np\n",
        "arr=np.array(input().split(), dtype=np.int32)\n",
        "max=arr.max()\n",
        "list_1=list(arr)\n",
        "q=list_1.index(max)\n",
        "print (min(arr), q)"
      ],
      "metadata": {
        "colab": {
          "base_uri": "https://localhost:8080/"
        },
        "id": "koLx5GexrRWH",
        "outputId": "fb5eb64f-c76e-4539-dd0f-00f24557374c"
      },
      "execution_count": null,
      "outputs": [
        {
          "output_type": "stream",
          "name": "stdout",
          "text": [
            "18 44 10 9 7 31 18 21 40 41 42 6 16 39 41 5 14 26 2 32 34 17 20 26 14 36 12 3 6 12 44 17 10\n",
            "2 1\n"
          ]
        }
      ]
    },
    {
      "cell_type": "markdown",
      "source": [
        "Пираты обнаруживают сундук с сокровищами на необитаемом острове. Они создают массив numpy из веса каждой монеты в сундуке, округляя вес каждой монеты до трех знаков после запятой. Выведите на экран суммарный вес сокровищ, которые они обнаружили, и определите тип данных массива."
      ],
      "metadata": {
        "id": "w5_xrAg6saAe"
      }
    },
    {
      "cell_type": "code",
      "source": [
        "import numpy as np\n",
        "arr=np.array(input().split(), dtype=np.float64)\n",
        "print (sum(arr), arr.dtype)"
      ],
      "metadata": {
        "colab": {
          "base_uri": "https://localhost:8080/"
        },
        "id": "Avs48z20saLu",
        "outputId": "30691120-e28d-4359-a04d-6298f0f014fc"
      },
      "execution_count": null,
      "outputs": [
        {
          "output_type": "stream",
          "name": "stdout",
          "text": [
            "164.357 248.462 337.148 1.408 661.915 376.46 452.997 364.914 366.963 50.349 104.352 17.029 373.695 386.679 313.316 67.886 659.198 191.347 39.324 300.299 367.913 172.754 564.768 455.142 572.764 517.435 329.967 435.285 567.868 228.024 243.25 567.91 226.866\n",
            "10728.044 float64\n"
          ]
        }
      ]
    },
    {
      "cell_type": "markdown",
      "source": [
        "Принцесса хранит свои волшебные заклинания в заколдованном замке. Она создает массив NumPy из слов заклинания. Выведите на экран количество слов заклинания с нечетным количеством символов и количество слов заклинания, в которых больше 5 символов. Определите тип данных массива.\n",
        "\n",
        "Слово - последовательность символов, разделенная пробелами."
      ],
      "metadata": {
        "id": "nHTdu6TAtMG-"
      }
    },
    {
      "cell_type": "code",
      "source": [
        "import numpy as np\n",
        "arr=np.array(input().split())\n",
        "res=0\n",
        "res1=0\n",
        "for i in arr:\n",
        "  if len(i)>5:\n",
        "    res+=1\n",
        "for x in arr:\n",
        "  if len(x)%2!=0:\n",
        "    res1+=1\n",
        "print(res1, res, arr.dtype)"
      ],
      "metadata": {
        "colab": {
          "base_uri": "https://localhost:8080/"
        },
        "id": "xdZmR1fatNGV",
        "outputId": "034d91ae-5505-4ade-b826-924de88d1898"
      },
      "execution_count": null,
      "outputs": [
        {
          "output_type": "stream",
          "name": "stdout",
          "text": [
            "Ветер времени взлетит, чтобы привнести силы в мою сущность, и я стану непобедимой в любой битве\n",
            "14 5 <U11\n"
          ]
        }
      ]
    },
    {
      "cell_type": "markdown",
      "source": [
        "Главный историк Средиземья ведет записи о событиях, происходящих в мире. Он создает массив numpy из объектов datetime, представляющих даты ключевых событий в истории мира. Выведите на экран тип данных массива, даты самого раннего и самого позднего событий."
      ],
      "metadata": {
        "id": "_9QeOGHjwrKp"
      }
    },
    {
      "cell_type": "code",
      "source": [
        "import numpy as np\n",
        "arr=np.array(input().split(), dtype=object)\n",
        "print(arr.dtype, arr.min(), arr.max())"
      ],
      "metadata": {
        "colab": {
          "base_uri": "https://localhost:8080/"
        },
        "id": "KdcHc4SPwsV7",
        "outputId": "debb0af9-70b5-43c6-dfe1-a1f772dbfbb3"
      },
      "execution_count": null,
      "outputs": [
        {
          "output_type": "stream",
          "name": "stdout",
          "text": [
            "1598-04-29 1711-11-28 1661-05-06 0869-11-22 0930-05-22 0987-05-06 0827-05-22 1029-11-04 1255-02-12 1123-11-13 1697-03-17 1384-01-21 1408-06-10 1166-09-04 1109-09-18\n",
            "object 0827-05-22 1711-11-28\n"
          ]
        }
      ]
    },
    {
      "cell_type": "markdown",
      "source": [
        "Детектив Джо Ривера получил информацию о местонахождении опасного преступника по кличке Кармен. Он создает массив numpy из булевых значений, где True означает наличие признаков, свидетельствующих о присутствии Кармен на заданной территории. Определите тип данных массива и выведите на экран количество локаций, в которых может находиться Кармен."
      ],
      "metadata": {
        "id": "3g0Wz9M_xnlk"
      }
    },
    {
      "cell_type": "code",
      "source": [
        "import numpy as np\n",
        "arr=np.array(input().split())\n",
        "ai=np.array(input().split(), dtype=bool)\n",
        "res=[]\n",
        "result=0\n",
        "for i in arr:\n",
        "  if i=='True':\n",
        "    res.append(1)\n",
        "  else:\n",
        "    res.append(0)\n",
        "for i in res:\n",
        "  if i==1:\n",
        "    result+=1\n",
        "print(result, ai.dtype)"
      ],
      "metadata": {
        "colab": {
          "base_uri": "https://localhost:8080/"
        },
        "id": "3vZgcIjAxnCU",
        "outputId": "a31cf314-25d1-4cf4-ef2d-c1b159b591b9"
      },
      "execution_count": null,
      "outputs": [
        {
          "output_type": "stream",
          "name": "stdout",
          "text": [
            "True False  True  True  True  True  True  True False False  True  True True False False False  True  True  True  True  True False  True  True True  True False  True False  True False  True False False  True\n",
            "True False  True  True  True  True  True  True False False  True  True True False False False  True  True  True  True  True False  True  True True  True False  True False  True False  True False False  True\n",
            "23 bool\n"
          ]
        }
      ]
    },
    {
      "cell_type": "code",
      "source": [
        "import numpy as np\n",
        "arr1=np.array(input().split(), dtype=str)\n",
        "arr=np.array(arr1, dtype=bool)\n",
        "res=[]\n",
        "result=0\n",
        "for i in arr:\n",
        "  if i=='True':\n",
        "    res.append(1)\n",
        "  else:\n",
        "    res.append(0)\n",
        "for i in res:\n",
        "  if i==1:\n",
        "    result+=1\n",
        "print(arr,result, arr.dtype)"
      ],
      "metadata": {
        "colab": {
          "base_uri": "https://localhost:8080/",
          "height": 276
        },
        "id": "TbaooOm01w9J",
        "outputId": "1d4dabe8-1992-4c67-b1d2-3066fef2aa42"
      },
      "execution_count": null,
      "outputs": [
        {
          "name": "stdout",
          "output_type": "stream",
          "text": [
            "True False  True  True  True  True  True  True False False  True  True True False False False  True  True  True  True  True False  True  True True  True False  True False  True False  True False False  True\n"
          ]
        },
        {
          "output_type": "error",
          "ename": "ValueError",
          "evalue": "ignored",
          "traceback": [
            "\u001b[0;31m---------------------------------------------------------------------------\u001b[0m",
            "\u001b[0;31mValueError\u001b[0m                                Traceback (most recent call last)",
            "\u001b[0;32m<ipython-input-161-c9cd51ed15bb>\u001b[0m in \u001b[0;36m<cell line: 3>\u001b[0;34m()\u001b[0m\n\u001b[1;32m      1\u001b[0m \u001b[0;32mimport\u001b[0m \u001b[0mnumpy\u001b[0m \u001b[0;32mas\u001b[0m \u001b[0mnp\u001b[0m\u001b[0;34m\u001b[0m\u001b[0;34m\u001b[0m\u001b[0m\n\u001b[1;32m      2\u001b[0m \u001b[0marr1\u001b[0m\u001b[0;34m=\u001b[0m\u001b[0mnp\u001b[0m\u001b[0;34m.\u001b[0m\u001b[0marray\u001b[0m\u001b[0;34m(\u001b[0m\u001b[0minput\u001b[0m\u001b[0;34m(\u001b[0m\u001b[0;34m)\u001b[0m\u001b[0;34m.\u001b[0m\u001b[0msplit\u001b[0m\u001b[0;34m(\u001b[0m\u001b[0;34m)\u001b[0m\u001b[0;34m,\u001b[0m \u001b[0mdtype\u001b[0m\u001b[0;34m=\u001b[0m\u001b[0mstr\u001b[0m\u001b[0;34m)\u001b[0m\u001b[0;34m\u001b[0m\u001b[0;34m\u001b[0m\u001b[0m\n\u001b[0;32m----> 3\u001b[0;31m \u001b[0marr\u001b[0m\u001b[0;34m=\u001b[0m\u001b[0mnp\u001b[0m\u001b[0;34m.\u001b[0m\u001b[0marray\u001b[0m\u001b[0;34m(\u001b[0m\u001b[0marr1\u001b[0m\u001b[0;34m,\u001b[0m \u001b[0mdtype\u001b[0m\u001b[0;34m=\u001b[0m\u001b[0mbool\u001b[0m\u001b[0;34m)\u001b[0m\u001b[0;34m\u001b[0m\u001b[0;34m\u001b[0m\u001b[0m\n\u001b[0m\u001b[1;32m      4\u001b[0m \u001b[0mres\u001b[0m\u001b[0;34m=\u001b[0m\u001b[0;34m[\u001b[0m\u001b[0;34m]\u001b[0m\u001b[0;34m\u001b[0m\u001b[0;34m\u001b[0m\u001b[0m\n\u001b[1;32m      5\u001b[0m \u001b[0mresult\u001b[0m\u001b[0;34m=\u001b[0m\u001b[0;36m0\u001b[0m\u001b[0;34m\u001b[0m\u001b[0;34m\u001b[0m\u001b[0m\n",
            "\u001b[0;31mValueError\u001b[0m: invalid literal for int() with base 10: 'True'"
          ]
        }
      ]
    },
    {
      "cell_type": "markdown",
      "source": [
        "Шерлок Холмс попросил вас создать массив numpy, в котором содержится информация о телефонных звонках, совершенных потенциальными жертвами серийного убийцы. На вход поступает строка в которой значение 1 в массиве означает, что звонок был совершен в момент времени, когда было совершена убийство. Значение 0 - звонок был совершен в другое время или не был совершен вообще. Создайте массив numpy на основе этой строки, содержащий данные за последний месяц в виде булевых значений. Выведите на экран количество звонков, которые совершались в моменты времени, когда были совершены убийства и тип данных массива, через пробел."
      ],
      "metadata": {
        "id": "zWiX73d32utB"
      }
    },
    {
      "cell_type": "code",
      "source": [
        "import numpy as np\n",
        "arr=np.array(input().split(), dtype=np.int32)\n",
        "sum=0\n",
        "for i in arr:\n",
        "  if i==1:\n",
        "    sum+=1\n",
        "print(sum)"
      ],
      "metadata": {
        "colab": {
          "base_uri": "https://localhost:8080/"
        },
        "id": "yuaq38bS2uap",
        "outputId": "6e8e2aaa-eecb-44a2-90c8-74d049a95063"
      },
      "execution_count": null,
      "outputs": [
        {
          "output_type": "stream",
          "name": "stdout",
          "text": [
            "1 0 1 0 1 0 1 1 1 0 1 0 0 0 0 1 0 0 1 1 1 0 0 1 0 0 1 1 0 0\n",
            "0\n"
          ]
        }
      ]
    },
    {
      "cell_type": "code",
      "source": [
        "import numpy as np\n",
        "a=list(input().split())\n",
        "print (a)\n",
        "arr=np.array(a,dtype=bool)\n",
        "print(arr)"
      ],
      "metadata": {
        "colab": {
          "base_uri": "https://localhost:8080/"
        },
        "id": "n0VMKDbi3kiJ",
        "outputId": "15505a49-237b-487c-e93d-73d2c1c7fde2"
      },
      "execution_count": null,
      "outputs": [
        {
          "output_type": "stream",
          "name": "stdout",
          "text": [
            "1 0 1 0 1 0 1 1 1 0 1 0 0 0 0 1 0 0 1 1 1 0 0 1 0 0 1 1 0 0\n",
            "['1', '0', '1', '0', '1', '0', '1', '1', '1', '0', '1', '0', '0', '0', '0', '1', '0', '0', '1', '1', '1', '0', '0', '1', '0', '0', '1', '1', '0', '0']\n",
            "[ True  True  True  True  True  True  True  True  True  True  True  True\n",
            "  True  True  True  True  True  True  True  True  True  True  True  True\n",
            "  True  True  True  True  True  True]\n"
          ]
        }
      ]
    },
    {
      "cell_type": "markdown",
      "source": [],
      "metadata": {
        "id": "nxP3tX-_mrM2"
      }
    },
    {
      "cell_type": "markdown",
      "source": [],
      "metadata": {
        "id": "l_xOOlItmrPp"
      }
    },
    {
      "cell_type": "markdown",
      "source": [],
      "metadata": {
        "id": "pOKvkKD6mrR2"
      }
    },
    {
      "cell_type": "markdown",
      "source": [],
      "metadata": {
        "id": "cegAdImlmrUV"
      }
    },
    {
      "cell_type": "markdown",
      "source": [],
      "metadata": {
        "id": "Bcbefl9JmrWf"
      }
    },
    {
      "cell_type": "markdown",
      "source": [],
      "metadata": {
        "id": "_tuKOyuamrZF"
      }
    },
    {
      "cell_type": "markdown",
      "source": [],
      "metadata": {
        "id": "g-9tCs8hmrbl"
      }
    },
    {
      "cell_type": "markdown",
      "source": [],
      "metadata": {
        "id": "XD0WwNCJmrdx"
      }
    },
    {
      "cell_type": "markdown",
      "source": [
        "На вход поступают две строки, содержащие целые числа. Необходимо создать на их основе два массива numpy, объединить их, а затем повторить полученный массив три раза. Выведите на экран итоговый массив."
      ],
      "metadata": {
        "id": "A0_mVFwAmrwF"
      }
    },
    {
      "cell_type": "code",
      "source": [
        "import numpy as np\n",
        "arr1=np.array(input().split(), dtype=np.int32)\n",
        "arr2=np.array(input().split(), dtype=np.int32)\n",
        "arr3=np.concatenate((arr1,arr2))\n",
        "arr3=np.repeat(arr3, 3)\n",
        "print(arr3)"
      ],
      "metadata": {
        "colab": {
          "base_uri": "https://localhost:8080/"
        },
        "id": "nCA70S3ZmtS1",
        "outputId": "c0087a00-5e1e-41d3-83c1-fa7b146e6062"
      },
      "execution_count": null,
      "outputs": [
        {
          "output_type": "stream",
          "name": "stdout",
          "text": [
            "4 4 16 27 42 49 32 1 5 26 34 37 45 12 2 4 20 14 38 50\n",
            "21 36 23 30 51 24 10 26 51 26 45 26 11 30 29 49 36 9 13 27\n",
            "[ 4  4  4  4  4  4 16 16 16 27 27 27 42 42 42 49 49 49 32 32 32  1  1  1\n",
            "  5  5  5 26 26 26 34 34 34 37 37 37 45 45 45 12 12 12  2  2  2  4  4  4\n",
            " 20 20 20 14 14 14 38 38 38 50 50 50 21 21 21 36 36 36 23 23 23 30 30 30\n",
            " 51 51 51 24 24 24 10 10 10 26 26 26 51 51 51 26 26 26 45 45 45 26 26 26\n",
            " 11 11 11 30 30 30 29 29 29 49 49 49 36 36 36  9  9  9 13 13 13 27 27 27]\n"
          ]
        }
      ]
    },
    {
      "cell_type": "markdown",
      "source": [
        "На вход поступают две строки. В первой строке содержится последовательность целых чисел, разделенных пробелом, во второй строке целое число i. Из первой строки нужно создать массив numpy и затем удалить из него с помощью функции delete() элемент с индексом i. Выведите на экран исходный и итоговый массивы, каждый с новой строки."
      ],
      "metadata": {
        "id": "X66qZUzcooUE"
      }
    },
    {
      "cell_type": "code",
      "source": [
        "import numpy as np\n",
        "arr1=np.array(input().split(), dtype=np.int32)\n",
        "arr2=np.array(input(), dtype=np.int32)\n",
        "print (arr1)\n",
        "arr1=np.delete(arr1, arr2)\n",
        "print(arr1)"
      ],
      "metadata": {
        "colab": {
          "base_uri": "https://localhost:8080/"
        },
        "id": "q_8O-L4PnJ1s",
        "outputId": "98c8aea2-177b-4d7d-c3e1-3a80ceace825"
      },
      "execution_count": null,
      "outputs": [
        {
          "output_type": "stream",
          "name": "stdout",
          "text": [
            "28 22 24 9 32 33 53 27 50 30 48 49\n",
            "4\n",
            "[28 22 24  9 32 33 53 27 50 30 48 49]\n",
            "[28 22 24  9 33 53 27 50 30 48 49]\n"
          ]
        }
      ]
    },
    {
      "cell_type": "markdown",
      "source": [
        "На вход поступают два числа a и b в одной строке, разделенные пробелом. Вам нужно создать массив numpy A чисел от a до b (b включительно, если оно нечетное), содержащий только нечетные числа. Затем создайте новый массив B путем повторения каждого элемента массива А дважды. Выведите на экран исходный A и итоговый массив B, каждый с новой строки."
      ],
      "metadata": {
        "id": "KuWI9e3fpeBL"
      }
    },
    {
      "cell_type": "code",
      "source": [
        "import numpy as np\n",
        "a, b = map(int, input().split())\n",
        "if b%2!=0:\n",
        "  arr1=np.arange(a,b+1)\n",
        "else:\n",
        "  arr1=np.arange(a,b)\n",
        "#print(arr1)\n",
        "arr2=np.empty(0, dtype=int)\n",
        "for i in arr1:\n",
        "  if i%2!=0:\n",
        "    arr2=np.append(arr2, i)\n",
        "  else:\n",
        "    arr2\n",
        "print(arr2)\n",
        "arr2=np.repeat(arr2,2)\n",
        "print(arr2)"
      ],
      "metadata": {
        "colab": {
          "base_uri": "https://localhost:8080/"
        },
        "id": "JvV7m-uLuLUg",
        "outputId": "99845e25-06f4-4e21-f95a-0f57faf1c8a8"
      },
      "execution_count": null,
      "outputs": [
        {
          "output_type": "stream",
          "name": "stdout",
          "text": [
            "3 19\n",
            "[ 3  5  7  9 11 13 15 17 19]\n",
            "[ 3  3  5  5  7  7  9  9 11 11 13 13 15 15 17 17 19 19]\n"
          ]
        }
      ]
    },
    {
      "cell_type": "markdown",
      "source": [
        "На вход поступают две строки, содержащие целые  числа, разделенные пробелом. На их основе создайте два одномерных масcива numpy a и b. Далее создайте третий массив c, который состоит из элементов массива a, затем из элементов массива b. Причем каждый элемент в массиве с повторяется 2 раза. Выведите на экран массивы a, b, c каждый с новой строки."
      ],
      "metadata": {
        "id": "fwYiAruZy6ed"
      }
    },
    {
      "cell_type": "code",
      "source": [
        "import numpy as np\n",
        "arr1=np.array(input().split(), dtype=np.int32)\n",
        "arr2=np.array(input().split(), dtype=np.int32)\n",
        "arr3=np.concatenate((arr1,arr2)).repeat(2)\n",
        "print(arr1)\n",
        "print(arr2)\n",
        "print(arr3)"
      ],
      "metadata": {
        "colab": {
          "base_uri": "https://localhost:8080/"
        },
        "id": "EBetJyh9nLD0",
        "outputId": "2811eb35-e2f5-4bea-ca41-16760f416e0d"
      },
      "execution_count": null,
      "outputs": [
        {
          "output_type": "stream",
          "name": "stdout",
          "text": [
            "19 34 39 -5 41 27 34 8\n",
            "45 -5 12 6 48\n",
            "[19 34 39 -5 41 27 34  8]\n",
            "[45 -5 12  6 48]\n",
            "[19 19 34 34 39 39 -5 -5 41 41 27 27 34 34  8  8 45 45 -5 -5 12 12  6  6\n",
            " 48 48]\n"
          ]
        }
      ]
    },
    {
      "cell_type": "markdown",
      "source": [],
      "metadata": {
        "id": "6_xZA2RJ2EZV"
      }
    },
    {
      "cell_type": "markdown",
      "source": [],
      "metadata": {
        "id": "1usRMiQ22EcN"
      }
    },
    {
      "cell_type": "markdown",
      "source": [],
      "metadata": {
        "id": "i9pC13H02Ee-"
      }
    },
    {
      "cell_type": "markdown",
      "source": [],
      "metadata": {
        "id": "1LzgM37R2Ehn"
      }
    },
    {
      "cell_type": "markdown",
      "source": [],
      "metadata": {
        "id": "RMpG1ys82Ejk"
      }
    },
    {
      "cell_type": "markdown",
      "source": [],
      "metadata": {
        "id": "fLD_cbUH2EmX"
      }
    },
    {
      "cell_type": "markdown",
      "source": [],
      "metadata": {
        "id": "G8SE0auB2Eo5"
      }
    },
    {
      "cell_type": "markdown",
      "source": [],
      "metadata": {
        "id": "RrkbCMZH2Erl"
      }
    },
    {
      "cell_type": "markdown",
      "source": [],
      "metadata": {
        "id": "A682G3EJ2Etx"
      }
    },
    {
      "cell_type": "markdown",
      "source": [],
      "metadata": {
        "id": "uyaBLTY02Ewe"
      }
    },
    {
      "cell_type": "markdown",
      "source": [
        "На вход поступает целое число n. Вам нужно создать массив a из n случайных действительных чисел равномерно распределенных в диапазоне от 0 до 1. Затем создайте массив b, увеличив размер массива a до 2n элементов с помощью функции resize(). Выведите на экран исходный массив a, итоговый массив b, каждый вывод с новой строки."
      ],
      "metadata": {
        "id": "zdd17RMR0tsk"
      }
    },
    {
      "cell_type": "code",
      "source": [
        "import numpy as np\n",
        "n = int(input())\n",
        "np.random.seed(n)\n",
        "arr1=np.random.rand(n)\n",
        "arr2=np.resize(arr1, (2*n))\n",
        "print(arr1, arr2, sep='\\n')"
      ],
      "metadata": {
        "colab": {
          "base_uri": "https://localhost:8080/"
        },
        "id": "tFTAfXPn0uB3",
        "outputId": "7ac99cfb-b6d6-4d24-f890-c79a20888578"
      },
      "execution_count": null,
      "outputs": [
        {
          "output_type": "stream",
          "name": "stdout",
          "text": [
            "10\n",
            "[0.77132064 0.02075195 0.63364823 0.74880388 0.49850701 0.22479665\n",
            " 0.19806286 0.76053071 0.16911084 0.08833981]\n",
            "[0.77132064 0.02075195 0.63364823 0.74880388 0.49850701 0.22479665\n",
            " 0.19806286 0.76053071 0.16911084 0.08833981 0.77132064 0.02075195\n",
            " 0.63364823 0.74880388 0.49850701 0.22479665 0.19806286 0.76053071\n",
            " 0.16911084 0.08833981]\n"
          ]
        }
      ]
    },
    {
      "cell_type": "markdown",
      "source": [
        "На вход поступает строка с целыми числами разделенными пробелами. На основе этой строки необходимо создать numpy массив а. Затем из массива а создайте массив b, в котором удалены все повторяющиеся элементы кроме первого. Порядок оставшихся элементов в массиве b должен совпадать с порядком этих элементов в массиве а. Выведите исходный массив а, итоговый b и тип элементов массива b, каждый вывод с новой строки."
      ],
      "metadata": {
        "id": "TgmmiNcU2Frk"
      }
    },
    {
      "cell_type": "code",
      "source": [
        "import numpy as np\n",
        "arr1=np.array(input().split(), dtype=np.int32)\n",
        "arr2=np.empty(0, dtype=int)\n",
        "for i in arr1:\n",
        "  if i not in arr2:\n",
        "    arr2=np.append(arr2, i)\n",
        "  else:\n",
        "    arr2\n",
        "print(arr1)\n",
        "print(arr2)\n",
        "print(arr2.dtype)"
      ],
      "metadata": {
        "colab": {
          "base_uri": "https://localhost:8080/"
        },
        "id": "ik5nasjx2F9u",
        "outputId": "4190de86-5c25-4691-b10e-2e4081f501b4"
      },
      "execution_count": null,
      "outputs": [
        {
          "output_type": "stream",
          "name": "stdout",
          "text": [
            "4 5 2 3 5 3 5 2 3 2 3 5 4 5 2 4 3 3\n",
            "[4 5 2 3 5 3 5 2 3 2 3 5 4 5 2 4 3 3]\n",
            "[4 5 2 3]\n",
            "int64\n"
          ]
        }
      ]
    },
    {
      "cell_type": "markdown",
      "source": [
        "На вход поступают две строки. В первой содержатся целые числа, разделенные пробелом, во второй одно целое число n. На основе первой строки создать numpy массив a. Далее создать numpy массив b, в котором первым элементом является число n, далее следуют числа массива a. Массивы a и b вывести на экран, каждый с новой строки."
      ],
      "metadata": {
        "id": "Z04a2ISw3zwF"
      }
    },
    {
      "cell_type": "code",
      "source": [
        "import numpy as np\n",
        "arr1=np.array(input().split(), dtype=np.int32)\n",
        "arr2=np.array(input(), dtype=np.int32)\n",
        "arr3=np.empty(0, dtype=int)\n",
        "arr3=np.insert(arr1, 0, arr2)\n",
        "print(arr1)\n",
        "print(arr3)"
      ],
      "metadata": {
        "colab": {
          "base_uri": "https://localhost:8080/"
        },
        "id": "xmRhpcGz3z6U",
        "outputId": "908ed4bd-03c0-44ea-98e7-3a9e8dd7e832"
      },
      "execution_count": null,
      "outputs": [
        {
          "output_type": "stream",
          "name": "stdout",
          "text": [
            "2 24 17 23 29 23 18 26\n",
            "-1\n",
            "[ 2 24 17 23 29 23 18 26]\n",
            "[-1  2 24 17 23 29 23 18 26]\n"
          ]
        }
      ]
    },
    {
      "cell_type": "markdown",
      "source": [
        "На вход поступают две строки. В первой идут целые числа разделенные пробелом, во второй единственное целое число n. На основе чисел первой строки создайте массив a. Затем на основе массива a создайте массив b, в котором будут числа массива а > n. Порядок чисел в массиве b должен совпадать с порядком в массиве a. При этом типы элементов в массиве a и b должны быть одинаковыми. Выведите на экран массивы a и b, каждый с новой строки."
      ],
      "metadata": {
        "id": "GlHBcUxE5PSb"
      }
    },
    {
      "cell_type": "code",
      "source": [
        "import numpy as np\n",
        "a=np.array(input().split(), dtype=np.int32)\n",
        "#arr2=np.array(input(), dtype=np.int32)\n",
        "c=int(input())\n",
        "b=np.empty(0, dtype=np.int32)\n",
        "for i in a:\n",
        "  if i>c:\n",
        "    b=np.append(b, i)\n",
        "  else:\n",
        "    b\n",
        "print(a, b, a.dtype==b.dtype, sep='\\n')"
      ],
      "metadata": {
        "colab": {
          "base_uri": "https://localhost:8080/"
        },
        "id": "9DlGXOSW5Pkb",
        "outputId": "16f63eee-7b2b-492e-ea0e-93f42b503555"
      },
      "execution_count": null,
      "outputs": [
        {
          "output_type": "stream",
          "name": "stdout",
          "text": [
            "5 0 9 20 14 18 28 26 18 3\n",
            "9\n",
            "[ 5  0  9 20 14 18 28 26 18  3]\n",
            "[20 14 18 28 26 18]\n",
            "True\n"
          ]
        }
      ]
    },
    {
      "cell_type": "markdown",
      "source": [
        "На вход поступают две строки. В первой строке расположены целые числа, разделенные пробелом. Во второй строке два целых числа start и end. Создайте массив a на основе чисел первой строки. Затем на основе массива a создайте массив b, который состоит из всех элементов массива a, кроме тех которые находятся на позициях от  start до end+1 не включительно. Выведите на экран массивы a и b каждый с новой строки."
      ],
      "metadata": {
        "id": "F-wW-xYj8atp"
      }
    },
    {
      "cell_type": "code",
      "source": [
        "import numpy as np\n",
        "arr1=np.array(input().split(), dtype=np.int32)\n",
        "a, b = map(int, input().split())\n",
        "print(arr1)\n",
        "arr2=np.delete(arr1, np.arange(a,b+1))\n",
        "print(arr2)"
      ],
      "metadata": {
        "colab": {
          "base_uri": "https://localhost:8080/"
        },
        "id": "fnT0pzEO8bf5",
        "outputId": "c0b05d30-f07a-4816-c227-e47859fedf8c"
      },
      "execution_count": null,
      "outputs": [
        {
          "output_type": "stream",
          "name": "stdout",
          "text": [
            "15 21 12 3 27 20 20 27 0 4\n",
            "3 6\n",
            "[15 21 12  3 27 20 20 27  0  4]\n",
            "[15 21 12 27  0  4]\n"
          ]
        }
      ]
    },
    {
      "cell_type": "markdown",
      "source": [
        "В первой строке поступает целое число n - количество массивов целых чисел, разделенных пробелом, которые поступают на вход в следующих n строках. В последней строке поступает целое число m - максимальное количество элементов в итоговом массиве. Необходимо объединить все массивы и создать массив numpy, назвав его a. Если количество элементов в них больше m, обрезать его. При этом тип итогового массива должен быть int64. Затем вывести итоговый массив на экран."
      ],
      "metadata": {
        "id": "2jSm6-1g-kXQ"
      }
    },
    {
      "cell_type": "code",
      "source": [
        "import numpy as np\n",
        "n=int(input())\n",
        "a=np.array(input().split(), dtype=np.int64)\n",
        "m=int(input())\n",
        "a = a[:m]\n",
        "print(a)\n",
        "print(a.dtype)"
      ],
      "metadata": {
        "colab": {
          "base_uri": "https://localhost:8080/"
        },
        "id": "YRBBV4BA-mNA",
        "outputId": "bdd5c67b-128b-4b39-ffb0-00a224cee932"
      },
      "execution_count": null,
      "outputs": [
        {
          "output_type": "stream",
          "name": "stdout",
          "text": [
            "4\n",
            "22 -8 50 7 27 13 5 3 11 1 10 4 27 20 27 1 10 4 27 20 2 5\n",
            "10\n",
            "[22 -8 50  7 27 13  5  3 11  1]\n",
            "int64\n"
          ]
        }
      ]
    },
    {
      "cell_type": "markdown",
      "source": [
        "На вход поступает массив элементов, разделенных пробелом в первой строке, необходимо на его основе создать numpy массив a. Во второй строке дается название типа, к которому необходимо привести элементы массива а. Наконец в третьей строке последовательность целых чисел - индексы элементов которые нужно удалить из массива а. Выведите итоговый массив на экран."
      ],
      "metadata": {
        "id": "YrNHwqTjEx1c"
      }
    },
    {
      "cell_type": "code",
      "source": [
        "import numpy as np\n",
        "arr1=np.array(input().split())\n",
        "t=input()\n",
        "arr3=np.array(input().split(), dtype=np.int64)\n",
        "#print(arr1)\n",
        "qqq=arr1.astype(t)\n",
        "#print(qqq)\n",
        "zzz=np.delete(qqq, arr3)\n",
        "print(zzz)"
      ],
      "metadata": {
        "colab": {
          "base_uri": "https://localhost:8080/"
        },
        "id": "lIK5V3rtFNKE",
        "outputId": "1fb44b8a-fbe8-496b-d01e-b6ea5f9a0710"
      },
      "execution_count": null,
      "outputs": [
        {
          "output_type": "stream",
          "name": "stdout",
          "text": [
            "1 2 3 4 5 6 7\n",
            "int32\n",
            "1 3 4\n",
            "[1 3 6 7]\n"
          ]
        }
      ]
    },
    {
      "cell_type": "markdown",
      "source": [
        "На вход поступают три строки. В первой и второй строках - числа (действительные или целые), разделенные пробелом. Необходимо на их основе создать два numpy массива a и b. В третьей строке целое число n - размер итогового массива. Необходимо объединить массивы a и b, привести тип элементов получившегося массива к типу элементов первого массива а и привести размер получившегося массива к n. Вывести итоговый массив на экран."
      ],
      "metadata": {
        "id": "g1tfzi9LJrnS"
      }
    },
    {
      "cell_type": "code",
      "source": [
        "import numpy as np\n",
        "s1=input().split()\n",
        "s2=input().split()\n",
        "n=int(input())\n",
        "if '.' in s1[1]:\n",
        "    arr1=np.array(s1,dtype=np.float64)\n",
        "else:\n",
        "    arr1=np.array(s1,dtype=np.int32)\n",
        "if '.' in s2[1]:\n",
        "    arr2=np.array(s2,dtype=np.float64)\n",
        "else:\n",
        "    arr2=np.array(s2,dtype=np.int32)\n",
        "tp=arr1.dtype\n",
        "qq=arr2.astype(tp)\n",
        "arr3=np.concatenate((arr1,qq))\n",
        "resized_arr=np.resize(arr3, (n,))\n",
        "print(resized_arr)\n",
        "\n",
        "\n"
      ],
      "metadata": {
        "colab": {
          "base_uri": "https://localhost:8080/"
        },
        "id": "fY8Rmva4NThI",
        "outputId": "0a2c62d8-54a0-4c39-be11-298fc0c12a21"
      },
      "execution_count": null,
      "outputs": [
        {
          "output_type": "stream",
          "name": "stdout",
          "text": [
            "12 3 1 8 9 3 5 3 11 0 11 11 7 8\n",
            "5.814 18.797 21.87 6.032 3.065 3.861 9.439 11.137 3.36 16.504\n",
            "18\n",
            "[12  3  1  8  9  3  5  3 11  0 11 11  7  8  5 18 21  6]\n"
          ]
        }
      ]
    },
    {
      "cell_type": "markdown",
      "source": [
        "Три мушкетера - Атос, Портос и Арамис - решили объединить свои одномерные массивы numpy целых чисел в один массив. Однако у каждого мушкетера есть свой массив разного размера. Помогите им объединить свои массивы в один массив, используя функцию concatenate."
      ],
      "metadata": {
        "id": "3wbAeEcYReSW"
      }
    },
    {
      "cell_type": "code",
      "source": [
        "import numpy as np\n",
        "s1=np.array(input().split(), dtype=np.float16)\n",
        "s2=np.array(input().split(), dtype=np.float16)\n",
        "s3=np.array(input().split(), dtype=np.float16)\n",
        "arr1=np.concatenate((s1,s2, s3))\n",
        "print(arr1)\n"
      ],
      "metadata": {
        "colab": {
          "base_uri": "https://localhost:8080/"
        },
        "id": "kLVYD0qgRepH",
        "outputId": "b89a307f-735f-4ac8-85f7-238cd3a12fd4"
      },
      "execution_count": null,
      "outputs": [
        {
          "output_type": "stream",
          "name": "stdout",
          "text": [
            "12 3 1 8 9 3 5 3 11\n",
            "22 -8 50 7 27\n",
            "8 9 3 5 4 5 6\n",
            "[12.  3.  1.  8.  9.  3.  5.  3. 11. 22. -8. 50.  7. 27.  8.  9.  3.  5.\n",
            "  4.  5.  6.]\n"
          ]
        }
      ]
    },
    {
      "cell_type": "markdown",
      "source": [
        "В первой строке поступает целое число n - количество массивов с числами, разделенными пробелами. Во второй строке - название типа к которому нужно привести элементы всех массивов, далее в следующих n строках идут сами массивы.  В последней строке идет целое число m - количество элементов, которое должно быть в каждом из массивов. Привести тип элементов всех массивов к необходимому типу, также привести размерность каждого массива к типу n, если при этом размерность нового массива больше, чем исходного, лишние значения заполнить нулями. Вывести все получившиеся массивы на экран через пробел."
      ],
      "metadata": {
        "id": "9-1hkckhmW6s"
      }
    },
    {
      "cell_type": "code",
      "source": [
        "import numpy as np\n",
        "cnt=int(input().split())\n",
        "form=input().split()\n",
        "arr=np.array(input().split())\n",
        "count_el=input().split()\n"
      ],
      "metadata": {
        "id": "J_U_MxA7R7sd"
      },
      "execution_count": null,
      "outputs": []
    },
    {
      "cell_type": "markdown",
      "source": [
        "В древнем доме на окраине города, где жил исследователь мистических артефактов, был обнаружен таинственный массив. Символы на массиве были написаны на древнем языке, и никто не мог прочитать их. Однако массив был наделен темной магией, и когда исследователь начал изучать его, массив начал расширяться и превращаться в портал в иной мир. Помогите исследователю уменьшить размеры массива, используя функцию resize, чтобы остановить его расширение и предотвратить открытие портала в темный мир. Однако, будьте осторожны, вам придется преодолеть множество трудностей и противостоять неизвестным силам, чтобы остановить этот зловещий массив."
      ],
      "metadata": {
        "id": "StWSKuSUozgC"
      }
    },
    {
      "cell_type": "code",
      "source": [
        "import numpy as np\n",
        "arr=np.array(input().split())\n",
        "#arr1=np.resize(arr, 5)\n",
        "#print(arr1)\n",
        "arr.resize(5)\n",
        "print(arr)"
      ],
      "metadata": {
        "colab": {
          "base_uri": "https://localhost:8080/"
        },
        "id": "YF_scnLwozwK",
        "outputId": "3f0ce8db-490d-4465-b706-6f6dfb6a5239"
      },
      "execution_count": null,
      "outputs": [
        {
          "output_type": "stream",
          "name": "stdout",
          "text": [
            "4 3 2 12 11 1 4 3 7 11 1 10 2 10 3 8 6 7 7 7 7 6 5 4 7 0 7 5 0 6 9 4 5 5 0 3 12 1 9 1 2 3 8 5 5\n",
            "['4' '3' '2' '12' '11']\n"
          ]
        }
      ]
    },
    {
      "cell_type": "markdown",
      "source": [],
      "metadata": {
        "id": "ArqscFpm_t1X"
      }
    },
    {
      "cell_type": "markdown",
      "source": [],
      "metadata": {
        "id": "aTUClA39_t4H"
      }
    },
    {
      "cell_type": "markdown",
      "source": [],
      "metadata": {
        "id": "qlBDwCmJ_t6U"
      }
    },
    {
      "cell_type": "markdown",
      "source": [],
      "metadata": {
        "id": "XcbjMXSB_t9L"
      }
    },
    {
      "cell_type": "markdown",
      "source": [],
      "metadata": {
        "id": "A1lqxIyt_t_2"
      }
    },
    {
      "cell_type": "markdown",
      "source": [],
      "metadata": {
        "id": "LlMByzxu_uCO"
      }
    },
    {
      "cell_type": "markdown",
      "source": [],
      "metadata": {
        "id": "XUGgo7Mz_uEz"
      }
    },
    {
      "cell_type": "markdown",
      "source": [],
      "metadata": {
        "id": "tnWSblIO_uHE"
      }
    },
    {
      "cell_type": "markdown",
      "source": [
        "На вход поступает строка целых чисел, разделенных пробелом. Создайте на ее основе numpy массив а. Затем  создайте новый массив b, содержащий только первые 5 элементов исходного массива. Оба массива выведите на экран, каждый с новой строки."
      ],
      "metadata": {
        "id": "xI01-VRZ_uPG"
      }
    },
    {
      "cell_type": "code",
      "source": [
        "import numpy as np\n",
        "arr1=np.array(input().split(), dtype=np.int32)\n",
        "arr2=np.array(arr1[:5])\n",
        "print(arr1)\n",
        "print(arr2)"
      ],
      "metadata": {
        "colab": {
          "base_uri": "https://localhost:8080/"
        },
        "id": "WY3ATd8q_usm",
        "outputId": "3c26df9a-6767-4301-cf49-81b6a5b067be"
      },
      "execution_count": null,
      "outputs": [
        {
          "output_type": "stream",
          "name": "stdout",
          "text": [
            "30 3 12 8 9 10 3 3 14 16\n",
            "[30  3 12  8  9 10  3  3 14 16]\n",
            "[30  3 12  8  9]\n"
          ]
        }
      ]
    },
    {
      "cell_type": "markdown",
      "source": [
        "На вход поступает последовательность действительных чисел, разделенных пробелом. На ее основе создать одномерный numpy массив чисел a. Затем создать новый массив b, содержащий только последние 3 элемента исходного массива. Оба массива вывести на экран, каждый с новой строки."
      ],
      "metadata": {
        "id": "AD4x48BqAZk-"
      }
    },
    {
      "cell_type": "code",
      "source": [
        "import numpy as np\n",
        "arr1=np.array(input().split(), dtype=np.float32)\n",
        "arr2=np.array(arr1[::-1])\n",
        "q=arr2[:3]\n",
        "r=q[::-1]\n",
        "print(arr1)\n",
        "print(r)"
      ],
      "metadata": {
        "colab": {
          "base_uri": "https://localhost:8080/"
        },
        "id": "5CaFxzRyAZvf",
        "outputId": "4869c7d8-ee7d-468c-9f3b-080a07252b25"
      },
      "execution_count": null,
      "outputs": [
        {
          "output_type": "stream",
          "name": "stdout",
          "text": [
            "24 24 15 2 19 4 30 16 32 30\n",
            "[24. 24. 15.  2. 19.  4. 30. 16. 32. 30.]\n",
            "[16. 32. 30.]\n"
          ]
        }
      ]
    },
    {
      "cell_type": "code",
      "source": [
        "import numpy as np\n",
        "arr1=np.array(input().split(), dtype=np.float32)\n",
        "arr2=np.array(arr1[-3:])\n",
        "print(arr1)\n",
        "print(arr2)"
      ],
      "metadata": {
        "colab": {
          "base_uri": "https://localhost:8080/"
        },
        "id": "nkAYx8rXC3zV",
        "outputId": "aef9eac0-f957-4e4a-f5ca-254060136ae9"
      },
      "execution_count": null,
      "outputs": [
        {
          "output_type": "stream",
          "name": "stdout",
          "text": [
            "24 24 15 2 19 4 30 16 32 30\n",
            "[24. 24. 15.  2. 19.  4. 30. 16. 32. 30.]\n",
            "[16. 32. 30.]\n"
          ]
        }
      ]
    },
    {
      "cell_type": "markdown",
      "source": [
        "На вход поступает строка целых чисел, разделенных пробелом. На ее основе создать одномерный numpy массив чисел a. Затем создать новый массив b, содержащий все элементы исходного массива в обратном порядке. Оба массива вывести на экран, каждый с новой строки"
      ],
      "metadata": {
        "id": "Eq-9rQhdDuxf"
      }
    },
    {
      "cell_type": "code",
      "source": [
        "import numpy as np\n",
        "arr1=np.array(input().split(), dtype=np.int32)\n",
        "arr2=np.array(arr1[::-1])\n",
        "print(arr1)\n",
        "print(arr2)"
      ],
      "metadata": {
        "colab": {
          "base_uri": "https://localhost:8080/"
        },
        "id": "4QpEJoIKDv2v",
        "outputId": "7126e21e-d069-469c-886a-25be9310cd4d"
      },
      "execution_count": null,
      "outputs": [
        {
          "output_type": "stream",
          "name": "stdout",
          "text": [
            "24 24 15 2 19 4 30 16 32 30\n",
            "[24 24 15  2 19  4 30 16 32 30]\n",
            "[30 32 16 30  4 19  2 15 24 24]\n"
          ]
        }
      ]
    },
    {
      "cell_type": "markdown",
      "source": [
        "На вход поступает строка целых чисел, разделенных пробелом. На ее основе создать одномерный numpy массив чисел a. Затем создать новый массив b, содержащий только элементы исходного массива с нечетными индексами. Оба массива вывести на экран, каждый с новой строки."
      ],
      "metadata": {
        "id": "uHz0GfydEAXU"
      }
    },
    {
      "cell_type": "code",
      "source": [
        "import numpy as np\n",
        "arr1=np.array(input().split(), dtype=np.int32)\n",
        "arr2=np.array(arr1[1::2])\n",
        "print(arr1)\n",
        "print(arr2)"
      ],
      "metadata": {
        "colab": {
          "base_uri": "https://localhost:8080/"
        },
        "id": "uLA6w_ljEAnU",
        "outputId": "1a337d18-d006-46ee-8ed2-9a1570d65760"
      },
      "execution_count": null,
      "outputs": [
        {
          "output_type": "stream",
          "name": "stdout",
          "text": [
            "20 8 3 25 16 9 16 20 2 10\n",
            "[20  8  3 25 16  9 16 20  2 10]\n",
            "[ 8 25  9 20 10]\n"
          ]
        }
      ]
    },
    {
      "cell_type": "markdown",
      "source": [
        "На вход поступает строка целых чисел, разделенных пробелом. На ее основе создать одномерный numpy массив чисел a. Затем создать новый массив b, содержащий элементы исходного массива, кроме первых 3 и последних 2. Оба массива вывести на экран, каждый с новой строки."
      ],
      "metadata": {
        "id": "ElcKgJ40ET30"
      }
    },
    {
      "cell_type": "code",
      "source": [
        "import numpy as np\n",
        "arr1=np.array(input().split(), dtype=np.int32)\n",
        "arr2=np.array(arr1[3:-2])\n",
        "print(arr1)\n",
        "print(arr2)"
      ],
      "metadata": {
        "colab": {
          "base_uri": "https://localhost:8080/"
        },
        "id": "36hKiltIEUJs",
        "outputId": "9a0d49e8-c481-4e15-c2b1-546fd1951a47"
      },
      "execution_count": null,
      "outputs": [
        {
          "output_type": "stream",
          "name": "stdout",
          "text": [
            "3 27 1 11 0 26 23 16 21 11 5\n",
            "[ 3 27  1 11  0 26 23 16 21 11  5]\n",
            "[11  0 26 23 16 21]\n"
          ]
        }
      ]
    },
    {
      "cell_type": "markdown",
      "source": [
        "На вход поступает строка целых чисел, разделенных пробелом. На ее основе создать одномерный numpy массив чисел a. Затем создать новый массив b, содержащий все элементы исходного массива, с индексами кратными 3. Оба массива вывести на экран, каждый с новой строки."
      ],
      "metadata": {
        "id": "IjGQHTHYEjJc"
      }
    },
    {
      "cell_type": "code",
      "source": [
        "import numpy as np\n",
        "arr1=np.array(input().split(), dtype=np.int32)\n",
        "arr2=np.array(arr1[::3])\n",
        "print(arr1)\n",
        "print(arr2)\n",
        "#b = np.array([a[i] for i in range(len(a)) if i % 3 == 0])"
      ],
      "metadata": {
        "colab": {
          "base_uri": "https://localhost:8080/"
        },
        "id": "KCGB8_HkEjW0",
        "outputId": "fd291301-c710-4cd2-86fc-63f748cc571f"
      },
      "execution_count": null,
      "outputs": [
        {
          "output_type": "stream",
          "name": "stdout",
          "text": [
            "17 0 10 17 23 8 28 16 14 7 31 7 17 21 22 5 31 31 8 6 16 20 26 23 31\n",
            "[17  0 10 17 23  8 28 16 14  7 31  7 17 21 22  5 31 31  8  6 16 20 26 23\n",
            " 31]\n",
            "[17 17 28  7 17  5  8 20 31]\n"
          ]
        }
      ]
    },
    {
      "cell_type": "markdown",
      "source": [
        "На вход поступает две строки, содержащие одинаковое количество целых чисел, разделенных пробелом. На их основе создать список numpy, состоящий из элементов, которые находятся на четных позициях первого списка, затем следуют элементы, стоящие на нечетных позициях второго списка. Если длина списков нечетная, то последний элемент не учитывается. Полученный список вывести на экран."
      ],
      "metadata": {
        "id": "qMms1ZovHelk"
      }
    },
    {
      "cell_type": "code",
      "source": [
        "import numpy as np\n",
        "arr1=np.array(input().split(), dtype=np.int32)\n",
        "arr2=np.array(input().split(), dtype=np.int32)\n",
        "if len(arr1)%2!=0 and len(arr2)%2!=0:\n",
        "  g=arr1[:-1]\n",
        "  b=arr2[:-1]\n",
        "else:\n",
        "  g=arr1\n",
        "  b=arr2\n",
        "arr1_1=np.array(g[::2])\n",
        "arr2_2=np.array(b[1::2])\n",
        "arr_rez=np.concatenate((arr1_1,arr2_2))\n",
        "print(arr_rez)\n"
      ],
      "metadata": {
        "colab": {
          "base_uri": "https://localhost:8080/"
        },
        "id": "b48_0caiHgFz",
        "outputId": "af9af219-41f1-4e06-e2e4-7838b4de2036"
      },
      "execution_count": null,
      "outputs": [
        {
          "output_type": "stream",
          "name": "stdout",
          "text": [
            "27 22 24 1 26 20 6 14 31 7 31\n",
            "83 92 1 49 43 45 78 6 27 33 27\n",
            "[27 24 26  6 31 92 49 45  6 33]\n"
          ]
        }
      ]
    },
    {
      "cell_type": "markdown",
      "source": [
        "Золушка готовится к балу, но у нее нет подходящих туфель. Ей нужно найти туфли, которые подойдут по размеру, а размер у нее это целое число, которое поступает на вход в первой строке. Во второй строке поступает массив, в котором каждый элемент - это размер туфель. Найдите все туфли, которые подходят Золушке. В качестве ответа выведите numpy массив из индексов туфель, которые подходят Золушке."
      ],
      "metadata": {
        "id": "ZVBOKeO_NFJA"
      }
    },
    {
      "cell_type": "code",
      "source": [
        "import numpy as np\n",
        "arr1=np.array(input().split(), dtype=np.int32)\n",
        "arr2=np.array(input().split(), dtype=np.int32)\n",
        "result = np.where(arr2 == arr1)\n",
        "print(result[0])"
      ],
      "metadata": {
        "colab": {
          "base_uri": "https://localhost:8080/"
        },
        "id": "XnqLpTZxNFYo",
        "outputId": "d28db4cf-96d3-4db5-e4dd-bc44812ca6fe"
      },
      "execution_count": null,
      "outputs": [
        {
          "output_type": "stream",
          "name": "stdout",
          "text": [
            "33\n",
            "37 37 40 36 36 41 36 42 40 36 39 36 41 36 41 34 33 35 41 37 35\n",
            "[16]\n"
          ]
        }
      ]
    },
    {
      "cell_type": "markdown",
      "source": [
        "Вы исследуете древний храм, где вам нужно разгадать загадку, чтобы достать древний артефакт. Загадка представляет собой одномерный массив, который нужно перевернуть задом наперед, чтобы получить правильный ответ. Вы можете использовать срезы одномерных массивов numpy, чтобы перевернуть массив и раскрыть тайну."
      ],
      "metadata": {
        "id": "WQ0LG_NBRf51"
      }
    },
    {
      "cell_type": "code",
      "source": [
        "import numpy as np\n",
        "sl=list(input())\n",
        "sl.reverse()\n",
        "arr=np.array(sl)\n",
        "print(arr)"
      ],
      "metadata": {
        "colab": {
          "base_uri": "https://localhost:8080/"
        },
        "id": "reBXY266R5Qs",
        "outputId": "80105711-411a-4cee-8e30-9464f37912cb"
      },
      "execution_count": null,
      "outputs": [
        {
          "output_type": "stream",
          "name": "stdout",
          "text": [
            "имактеверксордеввлапуток\n",
            "['к' 'о' 'т' 'у' 'п' 'а' 'л' 'в' 'в' 'е' 'д' 'р' 'о' 'с' 'к' 'р' 'е' 'в'\n",
            " 'е' 'т' 'к' 'а' 'м' 'и']\n"
          ]
        }
      ]
    },
    {
      "cell_type": "markdown",
      "source": [
        "Волшебная рыбка просит вас помочь ей отсортировать массив чисел. Она хочет, чтобы вы взяли первые 5 элементов массива и отсортировали их по убыванию. Затем вы должны взять последние 3 элемента массива и отсортировать их по возрастанию. Затем выведите получившийся массив в виде чисел, разделенных пробелом, на экран. Если вы выполните ее просьбу, она исполнит любое ваше желание."
      ],
      "metadata": {
        "id": "Xi0_wRvLU1Or"
      }
    },
    {
      "cell_type": "code",
      "source": [
        "import numpy as np\n",
        "a = np.array(input().split(), dtype=np.int32)\n",
        "b = sorted(a[:5], reverse=True)\n",
        "c = sorted(a[-3:])\n",
        "d = np.concatenate((b, c))\n",
        "print(*d)"
      ],
      "metadata": {
        "colab": {
          "base_uri": "https://localhost:8080/"
        },
        "id": "SkXM4mWCdlV-",
        "outputId": "bda37878-9f84-49a4-b211-6f3d5590b4fa"
      },
      "execution_count": null,
      "outputs": [
        {
          "output_type": "stream",
          "name": "stdout",
          "text": [
            "37 41 37 37 41 38 33 37 38 41 3\n",
            "41 41 37 37 37 3 38 41\n"
          ]
        }
      ]
    },
    {
      "cell_type": "code",
      "source": [
        "import numpy as np\n",
        "sl=np.array(input().split(), dtype=np.int32)\n",
        "sl_left=sl[:5]\n",
        "sl_right=sl[-3:]\n",
        "q=-np.sort(-sl_left)\n",
        "a=np.sort(sl_right)\n",
        "rez=np.concatenate((q,a))\n",
        "rezz=' '.join(map(str, rez))\n",
        "print(rezz)"
      ],
      "metadata": {
        "colab": {
          "base_uri": "https://localhost:8080/"
        },
        "id": "e1EwZ48vU3bY",
        "outputId": "64530c04-2664-40b0-954f-6ec32858b8bd"
      },
      "execution_count": null,
      "outputs": [
        {
          "output_type": "stream",
          "name": "stdout",
          "text": [
            "37 41 37 37 41 38 33 37 38 41 3\n",
            "41 41 37 37 37 3 38 41\n"
          ]
        }
      ]
    },
    {
      "cell_type": "markdown",
      "source": [
        "Колдунья дала вам массив чисел и просит вас изменить его содержимое. Она хочет, чтобы вы взяли каждый второй элемент массива, начиная со второго, и заменили их на 0. Затем она хочет, чтобы вы взяли последние 3 элемента массива и заменили их на 1. Отдайте ей итоговый массив."
      ],
      "metadata": {
        "id": "K3wgIM-id2i3"
      }
    },
    {
      "cell_type": "code",
      "source": [
        "import numpy as np\n",
        "arr=np.array(input().split(), dtype=np.int64)\n",
        "b=np.empty(0, dtype=np.int64)\n",
        "for i in arr:\n",
        "  if arr[i]%2!=0:\n",
        "    np.append(b,0)\n",
        "  else:\n",
        "    np.append(b,i)\n",
        "print (b)"
      ],
      "metadata": {
        "colab": {
          "base_uri": "https://localhost:8080/",
          "height": 263
        },
        "id": "YChuuyS-d2vf",
        "outputId": "71eb959c-f291-4e9f-e986-942bd1f4e940"
      },
      "execution_count": null,
      "outputs": [
        {
          "name": "stdout",
          "output_type": "stream",
          "text": [
            "37 39 37 41 37 37 41 38 33 37 38 41 34 41 40 39 36 34 37 34 39 33 39 35 42 42 36\n"
          ]
        },
        {
          "output_type": "error",
          "ename": "IndexError",
          "evalue": "ignored",
          "traceback": [
            "\u001b[0;31m---------------------------------------------------------------------------\u001b[0m",
            "\u001b[0;31mIndexError\u001b[0m                                Traceback (most recent call last)",
            "\u001b[0;32m<ipython-input-32-8718605e37f2>\u001b[0m in \u001b[0;36m<cell line: 4>\u001b[0;34m()\u001b[0m\n\u001b[1;32m      3\u001b[0m \u001b[0mb\u001b[0m\u001b[0;34m=\u001b[0m\u001b[0mnp\u001b[0m\u001b[0;34m.\u001b[0m\u001b[0mempty\u001b[0m\u001b[0;34m(\u001b[0m\u001b[0;36m0\u001b[0m\u001b[0;34m,\u001b[0m \u001b[0mdtype\u001b[0m\u001b[0;34m=\u001b[0m\u001b[0mnp\u001b[0m\u001b[0;34m.\u001b[0m\u001b[0mint64\u001b[0m\u001b[0;34m)\u001b[0m\u001b[0;34m\u001b[0m\u001b[0;34m\u001b[0m\u001b[0m\n\u001b[1;32m      4\u001b[0m \u001b[0;32mfor\u001b[0m \u001b[0mi\u001b[0m \u001b[0;32min\u001b[0m \u001b[0marr\u001b[0m\u001b[0;34m:\u001b[0m\u001b[0;34m\u001b[0m\u001b[0;34m\u001b[0m\u001b[0m\n\u001b[0;32m----> 5\u001b[0;31m   \u001b[0;32mif\u001b[0m \u001b[0marr\u001b[0m\u001b[0;34m[\u001b[0m\u001b[0mi\u001b[0m\u001b[0;34m]\u001b[0m\u001b[0;34m%\u001b[0m\u001b[0;36m2\u001b[0m\u001b[0;34m!=\u001b[0m\u001b[0;36m0\u001b[0m\u001b[0;34m:\u001b[0m\u001b[0;34m\u001b[0m\u001b[0;34m\u001b[0m\u001b[0m\n\u001b[0m\u001b[1;32m      6\u001b[0m     \u001b[0mnp\u001b[0m\u001b[0;34m.\u001b[0m\u001b[0mappend\u001b[0m\u001b[0;34m(\u001b[0m\u001b[0mb\u001b[0m\u001b[0;34m,\u001b[0m\u001b[0;36m0\u001b[0m\u001b[0;34m)\u001b[0m\u001b[0;34m\u001b[0m\u001b[0;34m\u001b[0m\u001b[0m\n\u001b[1;32m      7\u001b[0m   \u001b[0;32melse\u001b[0m\u001b[0;34m:\u001b[0m\u001b[0;34m\u001b[0m\u001b[0;34m\u001b[0m\u001b[0m\n",
            "\u001b[0;31mIndexError\u001b[0m: index 37 is out of bounds for axis 0 with size 27"
          ]
        }
      ]
    },
    {
      "cell_type": "markdown",
      "source": [
        "Сказочная змея просит вас помочь ей с ее массивом. Она хочет, чтобы вы взяли первые 3 элемента массива и поместили их в новый массив. Затем вы должны взять каждый 4-ый элемент массива, начиная с четвертого и поместить его в тот же новый массив. Наконец, она хочет, чтобы вы взяли последние 4 элемента массива и поместили их в конец нового массива. После этого отдайте ей получившийся массив и она сможет заснуть на следующие 1000 лет."
      ],
      "metadata": {
        "id": "bFrHfZwX3WPo"
      }
    },
    {
      "cell_type": "code",
      "source": [
        "import numpy as np\n",
        "arr=np.array(input().split(), dtype=np.int32)\n",
        "b=np.empty(0, dtype=np.int64)\n",
        "left_3=arr[:3]\n",
        "mid_arr=arr[3::4]\n",
        "last_arr=arr[-4:]\n",
        "arr_rez=np.concatenate((left_3,mid_arr,last_arr))\n",
        "print(arr_rez)"
      ],
      "metadata": {
        "colab": {
          "base_uri": "https://localhost:8080/"
        },
        "id": "J-Bto93e3Wko",
        "outputId": "21c8bf3f-e139-442a-ffd8-972020ede557"
      },
      "execution_count": null,
      "outputs": [
        {
          "output_type": "stream",
          "name": "stdout",
          "text": [
            "11 27 32 23 21 22 21 15 13 28 2 30 17 16 1 20 25 40 13 41 14 23 25 36 12 4 15\n",
            "[11 27 32]\n",
            "[23 15 30 20 41 36]\n",
            "[36 12  4 15]\n",
            "[11 27 32 23 15 30 20 41 36 36 12  4 15]\n"
          ]
        }
      ]
    },
    {
      "cell_type": "markdown",
      "source": [
        "Ваша команда исследователей работает над проектом, который требует анализа большого количества данных. Один из массивов данных, называемый data, содержит результаты эксперимента для каждого участника. Вам нужно вывести срез массива, который содержит все результаты, кроме первых 5 и тех которые стоят на местах индексы которых кратны 3."
      ],
      "metadata": {
        "id": "Us-cZqvt4_x4"
      }
    },
    {
      "cell_type": "code",
      "source": [
        "import numpy as np\n",
        "arr=np.array(input().split(), dtype=np.int32)\n",
        "b=np.empty(0, dtype=np.int64)\n",
        "del_5=arr[5:]\n",
        "print(del_5)"
      ],
      "metadata": {
        "colab": {
          "base_uri": "https://localhost:8080/"
        },
        "id": "b6bZ_l6X87E-",
        "outputId": "0f9b90d2-1983-4fda-9241-a8e46cbb665f"
      },
      "execution_count": null,
      "outputs": [
        {
          "output_type": "stream",
          "name": "stdout",
          "text": [
            "18 16 19 20 26 29 20 9 6 16 25 15 6 25 23 23 29 22 17 21 19 28 18 17 18 21 28 28 24 5 10 11 8 8 9 14 28 13 31 18 29 20 32 25 13 5 7 11 31 31 11 29 7 6 18 30 25 22 15 24 24 16 18 6 5 15 25 32 13 19 11 13 30 23 6 9 15 7 8 9 29 23 29 22 5 31 11 15 22 17 12 16 14 28 7 29 24 15 10 25 21 5 22 24 15 6 17 12 11 24 30 14 23 12 21 8 20 17 32 26\n",
            "[29 20  9  6 16 25 15  6 25 23 23 29 22 17 21 19 28 18 17 18 21 28 28 24\n",
            "  5 10 11  8  8  9 14 28 13 31 18 29 20 32 25 13  5  7 11 31 31 11 29  7\n",
            "  6 18 30 25 22 15 24 24 16 18  6  5 15 25 32 13 19 11 13 30 23  6  9 15\n",
            "  7  8  9 29 23 29 22  5 31 11 15 22 17 12 16 14 28  7 29 24 15 10 25 21\n",
            "  5 22 24 15  6 17 12 11 24 30 14 23 12 21  8 20 17 32 26]\n"
          ]
        }
      ]
    },
    {
      "cell_type": "code",
      "source": [
        "[29  9  6 25 15 25 23 29 22 21 19 18 17 21 28 24  5 11  8  9 14 13 31 29\n",
        " 20 25 13  7 11 31 11  7  6 30 25 15 24 16 18  5 15 32 13 11 13 23  6 15\n",
        "  7  9 29 29 22 31 11 22 17 16 14  7 29 15 10 21  5 24 15 17 12 24 30 23\n",
        " 12  8 20 32 26]"
      ],
      "metadata": {
        "id": "LbH2zBoO9MS9"
      },
      "execution_count": null,
      "outputs": []
    },
    {
      "cell_type": "code",
      "source": [
        "import numpy as np\n",
        "arr=np.array(input().split(), dtype=np.int32)\n",
        "b=np.empty(0, dtype=np.int32)\n",
        "for i in arr:\n",
        "  if arr[i]%3==0:\n",
        "    b=np.append(b, i)\n",
        "    print(b)\n"
      ],
      "metadata": {
        "colab": {
          "base_uri": "https://localhost:8080/"
        },
        "id": "0nOBjZC84_93",
        "outputId": "324ebe8b-ea12-4283-897e-1e15ea697b23"
      },
      "execution_count": null,
      "outputs": [
        {
          "output_type": "stream",
          "name": "stdout",
          "text": [
            "18 16 19 20 26 29 20 9 6 16 25 15 6 25 23 23 29 22 17 21 19 28 18 17 18 21 28 28 24 5 10 11 8 8 9 14 28 13 31 18 29 20 32 25 13 5 7 11 31 31 11 29 7 6 18 30 25 22 15 24 24 16 18 6 5 15 25 32 13 19 11 13 30 23 6 9 15 7 8 9 29 23 29 22 5 31 11 15 22 17 12 16 14 28 7 29 24 15 10 25 21 5 22 24 15 6 17 12 11 24 30 14 23 12 21 8 20 17 32 26\n",
            "[19]\n",
            "[19 25]\n",
            "[19 25 25]\n",
            "[19 25 25 22]\n",
            "[19 25 25 22 19]\n",
            "[19 25 25 22 19 28]\n",
            "[19 25 25 22 19 28 28]\n",
            "[19 25 25 22 19 28 28 28]\n",
            "[19 25 25 22 19 28 28 28 24]\n",
            "[19 25 25 22 19 28 28 28 24 11]\n",
            "[19 25 25 22 19 28 28 28 24 11  8]\n",
            "[19 25 25 22 19 28 28 28 24 11  8  8]\n",
            "[19 25 25 22 19 28 28 28 24 11  8  8 28]\n",
            "[19 25 25 22 19 28 28 28 24 11  8  8 28 25]\n",
            "[19 25 25 22 19 28 28 28 24 11  8  8 28 25  7]\n",
            "[19 25 25 22 19 28 28 28 24 11  8  8 28 25  7 11]\n",
            "[19 25 25 22 19 28 28 28 24 11  8  8 28 25  7 11 11]\n",
            "[19 25 25 22 19 28 28 28 24 11  8  8 28 25  7 11 11  7]\n",
            "[19 25 25 22 19 28 28 28 24 11  8  8 28 25  7 11 11  7 25]\n",
            "[19 25 25 22 19 28 28 28 24 11  8  8 28 25  7 11 11  7 25 22]\n",
            "[19 25 25 22 19 28 28 28 24 11  8  8 28 25  7 11 11  7 25 22 24]\n",
            "[19 25 25 22 19 28 28 28 24 11  8  8 28 25  7 11 11  7 25 22 24 24]\n",
            "[19 25 25 22 19 28 28 28 24 11  8  8 28 25  7 11 11  7 25 22 24 24 25]\n",
            "[19 25 25 22 19 28 28 28 24 11  8  8 28 25  7 11 11  7 25 22 24 24 25 19]\n",
            "[19 25 25 22 19 28 28 28 24 11  8  8 28 25  7 11 11  7 25 22 24 24 25 19\n",
            " 11]\n",
            "[19 25 25 22 19 28 28 28 24 11  8  8 28 25  7 11 11  7 25 22 24 24 25 19\n",
            " 11  7]\n",
            "[19 25 25 22 19 28 28 28 24 11  8  8 28 25  7 11 11  7 25 22 24 24 25 19\n",
            " 11  7  8]\n",
            "[19 25 25 22 19 28 28 28 24 11  8  8 28 25  7 11 11  7 25 22 24 24 25 19\n",
            " 11  7  8 22]\n",
            "[19 25 25 22 19 28 28 28 24 11  8  8 28 25  7 11 11  7 25 22 24 24 25 19\n",
            " 11  7  8 22 11]\n",
            "[19 25 25 22 19 28 28 28 24 11  8  8 28 25  7 11 11  7 25 22 24 24 25 19\n",
            " 11  7  8 22 11 22]\n",
            "[19 25 25 22 19 28 28 28 24 11  8  8 28 25  7 11 11  7 25 22 24 24 25 19\n",
            " 11  7  8 22 11 22 12]\n",
            "[19 25 25 22 19 28 28 28 24 11  8  8 28 25  7 11 11  7 25 22 24 24 25 19\n",
            " 11  7  8 22 11 22 12 28]\n",
            "[19 25 25 22 19 28 28 28 24 11  8  8 28 25  7 11 11  7 25 22 24 24 25 19\n",
            " 11  7  8 22 11 22 12 28  7]\n",
            "[19 25 25 22 19 28 28 28 24 11  8  8 28 25  7 11 11  7 25 22 24 24 25 19\n",
            " 11  7  8 22 11 22 12 28  7 24]\n",
            "[19 25 25 22 19 28 28 28 24 11  8  8 28 25  7 11 11  7 25 22 24 24 25 19\n",
            " 11  7  8 22 11 22 12 28  7 24 25]\n",
            "[19 25 25 22 19 28 28 28 24 11  8  8 28 25  7 11 11  7 25 22 24 24 25 19\n",
            " 11  7  8 22 11 22 12 28  7 24 25 22]\n",
            "[19 25 25 22 19 28 28 28 24 11  8  8 28 25  7 11 11  7 25 22 24 24 25 19\n",
            " 11  7  8 22 11 22 12 28  7 24 25 22 24]\n",
            "[19 25 25 22 19 28 28 28 24 11  8  8 28 25  7 11 11  7 25 22 24 24 25 19\n",
            " 11  7  8 22 11 22 12 28  7 24 25 22 24 12]\n",
            "[19 25 25 22 19 28 28 28 24 11  8  8 28 25  7 11 11  7 25 22 24 24 25 19\n",
            " 11  7  8 22 11 22 12 28  7 24 25 22 24 12 11]\n",
            "[19 25 25 22 19 28 28 28 24 11  8  8 28 25  7 11 11  7 25 22 24 24 25 19\n",
            " 11  7  8 22 11 22 12 28  7 24 25 22 24 12 11 24]\n",
            "[19 25 25 22 19 28 28 28 24 11  8  8 28 25  7 11 11  7 25 22 24 24 25 19\n",
            " 11  7  8 22 11 22 12 28  7 24 25 22 24 12 11 24 12]\n",
            "[19 25 25 22 19 28 28 28 24 11  8  8 28 25  7 11 11  7 25 22 24 24 25 19\n",
            " 11  7  8 22 11 22 12 28  7 24 25 22 24 12 11 24 12  8]\n"
          ]
        }
      ]
    },
    {
      "cell_type": "code",
      "source": [
        "import numpy as np\n",
        "arr=np.array(input().split(), dtype=np.int32)\n",
        "b=np.empty(0, dtype=np.int32)\n",
        "for i in arr:\n",
        "  if arr[i]%3==0:\n",
        "    b=np.append(b, i)\n",
        "    print(b)"
      ],
      "metadata": {
        "colab": {
          "base_uri": "https://localhost:8080/"
        },
        "id": "Q10UqFhrCOsy",
        "outputId": "aaaa2b8d-9454-4a92-d29a-792670d9d13f"
      },
      "execution_count": null,
      "outputs": [
        {
          "output_type": "stream",
          "name": "stdout",
          "text": [
            "18 16 19 20 26 29 20 9 6 16 25 15 6 25 23 23 29 22 17 21 19 28 18 17 18 21 28 28 24 5 10 11 8 8 9 14 28 13 31 18 29 20 32 25 13 5 7 11 31 31 11 29 7 6 18 30 25 22 15 24 24 16 18 6 5 15 25 32 13 19 11 13 30 23 6 9 15 7 8 9 29 23 29 22 5 31 11 15 22 17 12 16 14 28 7 29 24 15 10 25 21 5 22 24 15 6 17 12 11 24 30 14 23 12 21 8 20 17 32 26\n",
            "[19]\n",
            "[19 25]\n",
            "[19 25 25]\n",
            "[19 25 25 22]\n",
            "[19 25 25 22 19]\n",
            "[19 25 25 22 19 28]\n",
            "[19 25 25 22 19 28 28]\n",
            "[19 25 25 22 19 28 28 28]\n",
            "[19 25 25 22 19 28 28 28 24]\n",
            "[19 25 25 22 19 28 28 28 24 11]\n",
            "[19 25 25 22 19 28 28 28 24 11  8]\n",
            "[19 25 25 22 19 28 28 28 24 11  8  8]\n",
            "[19 25 25 22 19 28 28 28 24 11  8  8 28]\n",
            "[19 25 25 22 19 28 28 28 24 11  8  8 28 25]\n",
            "[19 25 25 22 19 28 28 28 24 11  8  8 28 25  7]\n",
            "[19 25 25 22 19 28 28 28 24 11  8  8 28 25  7 11]\n",
            "[19 25 25 22 19 28 28 28 24 11  8  8 28 25  7 11 11]\n",
            "[19 25 25 22 19 28 28 28 24 11  8  8 28 25  7 11 11  7]\n",
            "[19 25 25 22 19 28 28 28 24 11  8  8 28 25  7 11 11  7 25]\n",
            "[19 25 25 22 19 28 28 28 24 11  8  8 28 25  7 11 11  7 25 22]\n",
            "[19 25 25 22 19 28 28 28 24 11  8  8 28 25  7 11 11  7 25 22 24]\n",
            "[19 25 25 22 19 28 28 28 24 11  8  8 28 25  7 11 11  7 25 22 24 24]\n",
            "[19 25 25 22 19 28 28 28 24 11  8  8 28 25  7 11 11  7 25 22 24 24 25]\n",
            "[19 25 25 22 19 28 28 28 24 11  8  8 28 25  7 11 11  7 25 22 24 24 25 19]\n",
            "[19 25 25 22 19 28 28 28 24 11  8  8 28 25  7 11 11  7 25 22 24 24 25 19\n",
            " 11]\n",
            "[19 25 25 22 19 28 28 28 24 11  8  8 28 25  7 11 11  7 25 22 24 24 25 19\n",
            " 11  7]\n",
            "[19 25 25 22 19 28 28 28 24 11  8  8 28 25  7 11 11  7 25 22 24 24 25 19\n",
            " 11  7  8]\n",
            "[19 25 25 22 19 28 28 28 24 11  8  8 28 25  7 11 11  7 25 22 24 24 25 19\n",
            " 11  7  8 22]\n",
            "[19 25 25 22 19 28 28 28 24 11  8  8 28 25  7 11 11  7 25 22 24 24 25 19\n",
            " 11  7  8 22 11]\n",
            "[19 25 25 22 19 28 28 28 24 11  8  8 28 25  7 11 11  7 25 22 24 24 25 19\n",
            " 11  7  8 22 11 22]\n",
            "[19 25 25 22 19 28 28 28 24 11  8  8 28 25  7 11 11  7 25 22 24 24 25 19\n",
            " 11  7  8 22 11 22 12]\n",
            "[19 25 25 22 19 28 28 28 24 11  8  8 28 25  7 11 11  7 25 22 24 24 25 19\n",
            " 11  7  8 22 11 22 12 28]\n",
            "[19 25 25 22 19 28 28 28 24 11  8  8 28 25  7 11 11  7 25 22 24 24 25 19\n",
            " 11  7  8 22 11 22 12 28  7]\n",
            "[19 25 25 22 19 28 28 28 24 11  8  8 28 25  7 11 11  7 25 22 24 24 25 19\n",
            " 11  7  8 22 11 22 12 28  7 24]\n",
            "[19 25 25 22 19 28 28 28 24 11  8  8 28 25  7 11 11  7 25 22 24 24 25 19\n",
            " 11  7  8 22 11 22 12 28  7 24 25]\n",
            "[19 25 25 22 19 28 28 28 24 11  8  8 28 25  7 11 11  7 25 22 24 24 25 19\n",
            " 11  7  8 22 11 22 12 28  7 24 25 22]\n",
            "[19 25 25 22 19 28 28 28 24 11  8  8 28 25  7 11 11  7 25 22 24 24 25 19\n",
            " 11  7  8 22 11 22 12 28  7 24 25 22 24]\n",
            "[19 25 25 22 19 28 28 28 24 11  8  8 28 25  7 11 11  7 25 22 24 24 25 19\n",
            " 11  7  8 22 11 22 12 28  7 24 25 22 24 12]\n",
            "[19 25 25 22 19 28 28 28 24 11  8  8 28 25  7 11 11  7 25 22 24 24 25 19\n",
            " 11  7  8 22 11 22 12 28  7 24 25 22 24 12 11]\n",
            "[19 25 25 22 19 28 28 28 24 11  8  8 28 25  7 11 11  7 25 22 24 24 25 19\n",
            " 11  7  8 22 11 22 12 28  7 24 25 22 24 12 11 24]\n",
            "[19 25 25 22 19 28 28 28 24 11  8  8 28 25  7 11 11  7 25 22 24 24 25 19\n",
            " 11  7  8 22 11 22 12 28  7 24 25 22 24 12 11 24 12]\n",
            "[19 25 25 22 19 28 28 28 24 11  8  8 28 25  7 11 11  7 25 22 24 24 25 19\n",
            " 11  7  8 22 11 22 12 28  7 24 25 22 24 12 11 24 12  8]\n"
          ]
        }
      ]
    },
    {
      "cell_type": "code",
      "source": [
        "[29  9  6 25 15 25 23 29 22 21 19 18 17 21 28 24  5 11  8  9 14 13 31 29\n",
        " 20 25 13  7 11 31 11  7  6 30 25 15 24 16 18  5 15 32 13 11 13 23  6 15\n",
        "  7  9 29 29 22 31 11 22 17 16 14  7 29 15 10 21  5 24 15 17 12 24 30 23\n",
        " 12  8 20 32 26]"
      ],
      "metadata": {
        "id": "bvNFZudY7swW"
      },
      "execution_count": null,
      "outputs": []
    },
    {
      "cell_type": "markdown",
      "source": [
        "Вы работаете в научной лаборатории, изучающей погоду на различных континентах. У вас есть массив temperatures, содержащий средние температуры для каждого месяца на протяжении года. Вам нужно вывести срез массива, который содержит температуры только для зимних месяцев (декабрь, январь, февраль). Данные в массиве начинаются с января."
      ],
      "metadata": {
        "id": "j1fX6Qz67FVD"
      }
    },
    {
      "cell_type": "code",
      "source": [
        "import numpy as np\n",
        "arr=np.array(input().split(), dtype=np.int32)\n",
        "qq=arr[0:2]\n",
        "zz=arr[-1:]\n",
        "arr_rez=np.concatenate((zz,qq))\n",
        "print(arr_rez)"
      ],
      "metadata": {
        "colab": {
          "base_uri": "https://localhost:8080/"
        },
        "id": "MLdD7LZg7Bh3",
        "outputId": "4837e623-5b3f-4275-9499-731e62553168"
      },
      "execution_count": null,
      "outputs": [
        {
          "output_type": "stream",
          "name": "stdout",
          "text": [
            "-12 -19 -5 5 12 23 27 25 19 12 3 -19\n",
            "[-19 -12 -19]\n"
          ]
        }
      ]
    },
    {
      "cell_type": "markdown",
      "source": [
        "Вы отправляетесь в путешествие по пустыне, но у вас есть только один компас, который показывает направление на север. Вы решили использовать массив directions, который представляет собой последовательность чисел, где 0 означает движение на север, 1 - на восток, 2 - на юг и 3 - на запад. Вам нужно создать новый массив north_directions, который будет содержать только те значения массива directions, которые означают движение на север. Вам нужно вывести каждое второе из значений нового массива."
      ],
      "metadata": {
        "id": "CKpW-aeZQH-A"
      }
    },
    {
      "cell_type": "code",
      "source": [
        "import numpy as np\n",
        "arr=np.array(input().split(), dtype=np.int32)\n",
        "b=np.empty(0, dtype=np.int32)\n",
        "for i in arr:\n",
        "  if i==0:\n",
        "    b=np.append(b,i)\n",
        "print(b[1::2])"
      ],
      "metadata": {
        "colab": {
          "base_uri": "https://localhost:8080/"
        },
        "id": "rAWK6tHHQIR2",
        "outputId": "baae5050-549a-4b63-f51b-3ea5d452010c"
      },
      "execution_count": null,
      "outputs": [
        {
          "output_type": "stream",
          "name": "stdout",
          "text": [
            "1 3 2 2 1 3 2 3 2 2 0 3 2 1 2 2 0 0 0 1 3 3 0 3\n",
            "[0 0]\n"
          ]
        }
      ]
    },
    {
      "cell_type": "markdown",
      "source": [
        "Входные данные: На вход поступают две строки. В первой строки находится целое число n, означающее день недели с которого начинаются записи в массиве, который поступает во второй строке. 0 - воскресенье, 1 - понедельник, 2 -вторник и т.д. Тренировки проходят каждый день."
      ],
      "metadata": {
        "id": "8pwWAGYfR67x"
      }
    },
    {
      "cell_type": "code",
      "source": [
        "import numpy as np\n",
        "d=int(input())\n",
        "arr=np.array(input().split(), dtype=np.int32)\n",
        "b=np.empty(0, dtype=np.int32)\n",
        "if d==0:\n",
        "  b=np.append(b,arr[::7])\n",
        "elif d==1:\n",
        "  b=np.append(b,arr[1::7])\n",
        "elif d==2:\n",
        "  b=np.append(b,arr[2::7])\n",
        "elif d==3:\n",
        "  b=np.append(b,arr[3::7])\n",
        "elif d==4:\n",
        "  b=np.append(b,arr[4::7])\n",
        "elif d==5:\n",
        "  b=np.append(b,arr[5::7])\n",
        "else:\n",
        "  b=np.append(b,arr[6::7])\n",
        "print(b)"
      ],
      "metadata": {
        "colab": {
          "base_uri": "https://localhost:8080/"
        },
        "id": "YEkaNpFRR7Tu",
        "outputId": "745f293e-4ec3-4d8e-aa27-4ae5c932319a"
      },
      "execution_count": null,
      "outputs": [
        {
          "output_type": "stream",
          "name": "stdout",
          "text": [
            "2\n",
            "76 55 60 81 87 84 71 52 79 86 84 83 76 72 69 71 99 84 90 82 62 71 56 78 59 97 77 78 85 73 60 72 52 64 95 57 79 88 51 58 50 81 61 68 51 76 82 67 58 82 80 70 95 82 87 66 68 91 59 53 79 58 91 81 67 58 56 76 54 85 88 73 79 68 50 80 70\n",
            "[60 86 99 78 60 88 51 70 59 58 79]\n"
          ]
        }
      ]
    },
    {
      "cell_type": "code",
      "source": [
        "import numpy as np\n",
        "d=int(input())\n",
        "arr=np.array(input().split(), dtype=np.int32)\n",
        "b=np.empty(0, dtype=np.int32)\n",
        "if d==0:\n",
        "  b=np.append(b,arr[::7])\n",
        "elif d==1:\n",
        "  b=np.append(b,arr[::7])\n",
        "elif d==2:\n",
        "  b=np.append(b,arr[5::7])\n",
        "elif d==3:\n",
        "  b=np.append(b,arr[::7])\n",
        "elif d==4:\n",
        "  b=np.append(b,arr[::7])\n",
        "elif d==5:\n",
        "  b=np.append(b,arr[::7])\n",
        "else:\n",
        "  b=np.append(b,arr[::7])\n",
        "print(b)"
      ],
      "metadata": {
        "colab": {
          "base_uri": "https://localhost:8080/"
        },
        "id": "IRwC07koVW_V",
        "outputId": "2288ba22-1b8c-4472-fb1c-495745120714"
      },
      "execution_count": null,
      "outputs": [
        {
          "output_type": "stream",
          "name": "stdout",
          "text": [
            "2\n",
            "76 55 60 81 87 84 71 52 79 86 84 83 76 72 69 71 99 84 90 82 62 71 56 78 59 97 77 78 85 73 60 72 52 64 95 57 79 88 51 58 50 81 61 68 51 76 82 67 58 82 80 70 95 82 87 66 68 91 59 53 79 58 91 81 67 58 56 76 54 85 88 73 79 68 50 80 70\n",
            "[84 76 82 77 64 50 67 87 58 54 80]\n"
          ]
        }
      ]
    },
    {
      "cell_type": "markdown",
      "source": [],
      "metadata": {
        "id": "_wq_gI1bbblA"
      }
    },
    {
      "cell_type": "markdown",
      "source": [],
      "metadata": {
        "id": "-LCx_PVUbbnj"
      }
    },
    {
      "cell_type": "markdown",
      "source": [],
      "metadata": {
        "id": "ykvHmzphbbqS"
      }
    },
    {
      "cell_type": "markdown",
      "source": [],
      "metadata": {
        "id": "0cc1Ey4_bbta"
      }
    },
    {
      "cell_type": "markdown",
      "source": [],
      "metadata": {
        "id": "xk0eRB8_bbwk"
      }
    },
    {
      "cell_type": "markdown",
      "source": [],
      "metadata": {
        "id": "hv9rtvgCbbzF"
      }
    },
    {
      "cell_type": "markdown",
      "source": [],
      "metadata": {
        "id": "KFAsRGxSbb1x"
      }
    },
    {
      "cell_type": "markdown",
      "source": [],
      "metadata": {
        "id": "wnBsli7vbb4f"
      }
    },
    {
      "cell_type": "markdown",
      "source": [],
      "metadata": {
        "id": "ecZ3uLb6bb7V"
      }
    },
    {
      "cell_type": "markdown",
      "source": [],
      "metadata": {
        "id": "aAGadcJ8bb96"
      }
    },
    {
      "cell_type": "markdown",
      "source": [
        "Напишите функцию reverse_array(arr), которая принимает на вход одномерный массив arr и возвращает новый массив с элементами arr, расположенными в обратном порядке.\n",
        "\n",
        "Функцию вызывать не нужно, просто создайте ее."
      ],
      "metadata": {
        "id": "XgLhZu55bcAn"
      }
    },
    {
      "cell_type": "code",
      "source": [
        "import numpy as np\n",
        "def reverse_array(arr):\n",
        "  return arr[::-1]\n",
        "reverse_array(np.array(input().split(), dtype=np.int32))"
      ],
      "metadata": {
        "colab": {
          "base_uri": "https://localhost:8080/"
        },
        "id": "OMWMcARRbedl",
        "outputId": "2a4333a7-1bb1-42fe-e898-1e6767407341"
      },
      "execution_count": null,
      "outputs": [
        {
          "name": "stdout",
          "output_type": "stream",
          "text": [
            "76 55 60 81 87 84 71 52 79 86 84 83 76 72 69 71 99 84 90 82 62\n"
          ]
        },
        {
          "output_type": "execute_result",
          "data": {
            "text/plain": [
              "array([62, 82, 90, 84, 99, 71, 69, 72, 76, 83, 84, 86, 79, 52, 71, 84, 87,\n",
              "       81, 60, 55, 76], dtype=int32)"
            ]
          },
          "metadata": {},
          "execution_count": 13
        }
      ]
    },
    {
      "cell_type": "markdown",
      "source": [
        "Напишите функцию swap_first_last(arr), которая принимает на вход одномерный массив arr и возвращает новый массив, в котором первый и последний элементы поменялись местами."
      ],
      "metadata": {
        "id": "jvtRO_P1d3t8"
      }
    },
    {
      "cell_type": "code",
      "source": [
        "import numpy as np\n",
        "def swap_first_last(arr):\n",
        "  e=arr[1:-1]\n",
        "  z=arr[:1]\n",
        "  b=arr[-1:]\n",
        "  arr_rez=np.concatenate((b,e,z))\n",
        "  return arr_rez\n",
        "reverse_array(np.array(input().split(), dtype=np.int32))"
      ],
      "metadata": {
        "colab": {
          "base_uri": "https://localhost:8080/"
        },
        "id": "_mdK-rX0d3XM",
        "outputId": "8a4d6ca8-68dd-46ef-cc44-1fe78b8e1f79"
      },
      "execution_count": null,
      "outputs": [
        {
          "name": "stdout",
          "output_type": "stream",
          "text": [
            "0 82 62 71 56 78 59 97 77 78 85 73 60 72 52 64 95 5\n"
          ]
        },
        {
          "output_type": "execute_result",
          "data": {
            "text/plain": [
              "array([ 5, 95, 64, 52, 72, 60, 73, 85, 78, 77, 97, 59, 78, 56, 71, 62, 82,\n",
              "        0], dtype=int32)"
            ]
          },
          "metadata": {},
          "execution_count": 22
        }
      ]
    },
    {
      "cell_type": "markdown",
      "source": [
        "Напишите функцию slice_replace(arr, start, end, replacement), которая принимает на вход список arr, начальный и конечный индексы среза start и end, а также новый список replacement, который будет использоваться для замены элементов из среза arr[start:end]. Функция должна возвращать новый NumPy массив, в котором элементы среза arr[start:end] заменены на элементы среза списка replacement[start:end].\n",
        "\n",
        "При этом\n",
        "\n",
        "Если start > last_index, где last_index - последний индекс массива arr, и start<last_index_replacement,  то элементы среза replacement[start:end] добавляются в конец массива arr.\n",
        "\n",
        "Если start > last_index_replacement, то массив arr возвращается без изменений."
      ],
      "metadata": {
        "id": "go4IzNU4hbZy"
      }
    },
    {
      "cell_type": "code",
      "source": [
        "import numpy as np\n",
        "def slice_replace(arr, start, end, replacement):\n",
        "  last_index_arr=len(arr)\n",
        "  last_index_replace=len(replacement)\n",
        "  if start>=last_index_arr and start<last_index_replace:\n",
        "    arr_1_rez=np.concatenate((arr, replacement[start:end]))\n",
        "  elif start>last_index_replace and start>last_index_arr:\n",
        "    arr_1_rez=arr\n",
        "  elif start==0:\n",
        "    arr_1_rez=np.concatenate((replacement[start:end],arr[end:]))\n",
        "  else:\n",
        "    arr_1_rez=np.concatenate((arr[:start],replacement[start:end]))\n",
        "  return arr_1_rez\n",
        "\n",
        "slice_replace(np.array(input().split(), dtype=np.int32), int(input()), int(input()), np.array(input().split(), dtype=np.int32))"
      ],
      "metadata": {
        "colab": {
          "base_uri": "https://localhost:8080/"
        },
        "id": "8fl29jIQ6LKU",
        "outputId": "2ddcca13-eb69-4f86-9b98-cacd432d95d5"
      },
      "execution_count": null,
      "outputs": [
        {
          "name": "stdout",
          "output_type": "stream",
          "text": [
            "1 2\n",
            "5 \n",
            "10\n",
            "3 4\n"
          ]
        },
        {
          "output_type": "execute_result",
          "data": {
            "text/plain": [
              "array([1, 2], dtype=int32)"
            ]
          },
          "metadata": {},
          "execution_count": 81
        }
      ]
    },
    {
      "cell_type": "markdown",
      "source": [
        "Имеется массив зарплат сотрудников компании, в котором каждому индексу отвечает определенный работник, а значением является зарплата, и необходимо изменить зарплату определенных сотрудников. На вход, в первой строке, поступает массив со старой зарплатой сотрудников, во второй строке - массив индексов сотрудников, зарплату которых нужно изменить. В третьей строке поступает массив с новыми значениями зарплат. На выход подайте обновленный массив numpy с обновленными данными по зарплате."
      ],
      "metadata": {
        "id": "e76KNKO265Ms"
      }
    },
    {
      "cell_type": "code",
      "source": [
        "import numpy as np\n",
        "arr1=np.array(input().split(), dtype=np.int32)\n",
        "ind=np.array(input().split(), dtype=np.int32)\n",
        "arr2=np.array(input().split(), dtype=np.int32)\n",
        "updated_salaries = np.copy(arr1)\n",
        "for i, salary in enumerate(arr2):\n",
        "  updated_salaries[ind[i]] = salary\n",
        "  print(i, salary)\n",
        "  print(updated_salaries)"
      ],
      "metadata": {
        "colab": {
          "base_uri": "https://localhost:8080/"
        },
        "id": "VFx1qMrw-Jkz",
        "outputId": "79c337a6-4112-4072-e207-59a8670177f1"
      },
      "execution_count": null,
      "outputs": [
        {
          "output_type": "stream",
          "name": "stdout",
          "text": [
            "76 55 60 81 87 84 71 52 79 86 84 83 76\n",
            "0 2 7\n",
            "88 65 78\n",
            "0 88\n",
            "[88 55 60 81 87 84 71 52 79 86 84 83 76]\n",
            "1 65\n",
            "[88 55 65 81 87 84 71 52 79 86 84 83 76]\n",
            "2 78\n",
            "[88 55 65 81 87 84 71 78 79 86 84 83 76]\n"
          ]
        }
      ]
    },
    {
      "cell_type": "code",
      "source": [
        "import numpy as np\n",
        "def update_salaries(old_salaries, indexes_to_update, new_salaries):\n",
        "    updated_salaries = np.copy(old_salaries)\n",
        "    for i, salary in enumerate(new_salaries):\n",
        "        updated_salaries[indexes_to_update[i]] = salary\n",
        "    return updated_salaries\n",
        "\n",
        "\n",
        "update_salaries(np.array(input().split(), dtype=np.int32),np.array(input().split(), dtype=np.int32),np.array(input().split(), dtype=np.int32))"
      ],
      "metadata": {
        "colab": {
          "base_uri": "https://localhost:8080/"
        },
        "id": "0ajkEn9b9Yyi",
        "outputId": "1a7fa148-1b4b-4890-a5e7-b66894bbbd2a"
      },
      "execution_count": null,
      "outputs": [
        {
          "name": "stdout",
          "output_type": "stream",
          "text": [
            "76 55 60 81 87 84 71 52 79 86 84 83 76\n",
            "0 2 7\n",
            "88 65 78\n"
          ]
        },
        {
          "output_type": "execute_result",
          "data": {
            "text/plain": [
              "array([88, 55, 65, 81, 87, 84, 71, 78, 79, 86, 84, 83, 76], dtype=int32)"
            ]
          },
          "metadata": {},
          "execution_count": 86
        }
      ]
    },
    {
      "cell_type": "markdown",
      "source": [
        "На Земле произошел вирусный апокалипсис, и многие люди стали зомби. Но ученые нашли лекарство от вируса зомби, которое можно найти в определенной позиции в одномерном numpy массиве, содержащем последовательность чисел. Но лекарство сильно портится от света, поэтому нужно заменить все числа в массиве, кроме позиции с лекарством, на число -1, чтобы его не испортить.\n",
        "\n",
        "На вход поступает целое число n - идентификатор лекарства в массиве, который поступает во второй строке. Необходимо вернуть массив в соответствии с условиями задачи."
      ],
      "metadata": {
        "id": "RUEmVH1jC7Xg"
      }
    },
    {
      "cell_type": "code",
      "source": [
        "import numpy as np\n",
        "id_l=np.array(input().split(), dtype=np.int32)\n",
        "arr=np.array(input().split(), dtype=np.int32)\n",
        "for i, ind in enumerate(arr):\n",
        "  #print(i, ind)\n",
        "  if i!=id_l:\n",
        "    arr[i]=-1\n",
        "print(arr)\n"
      ],
      "metadata": {
        "colab": {
          "base_uri": "https://localhost:8080/"
        },
        "id": "rA8qHQ5CC72g",
        "outputId": "dbd0613c-6b92-4327-b879-8740b0a961e2"
      },
      "execution_count": null,
      "outputs": [
        {
          "output_type": "stream",
          "name": "stdout",
          "text": [
            "6\n",
            "53 79 58 91 81 67 58 56 76 54\n",
            "0 53\n",
            "1 79\n",
            "2 58\n",
            "3 91\n",
            "4 81\n",
            "5 67\n",
            "6 58\n",
            "7 56\n",
            "8 76\n",
            "9 54\n",
            "[-1 -1 -1 -1 -1 -1 58 -1 -1 -1]\n"
          ]
        }
      ]
    },
    {
      "cell_type": "markdown",
      "source": [
        "Компания хочет сделать резервную копию важных данных на дополнительном жестком диске, но не хочет рисковать потерей данных, если что-то пойдет не так. Чтобы обезопасить себя, компания создаст копию одномерного numpy массива, содержащего информацию о данных, и заменит в копии все значения, которые являются конфиденциальной информацией, на случайные значения. Таким образом, можно создать безопасную архивную копию, не рискуя утечкой данных.\n",
        "\n",
        "На вход подается массив целых чисел, разделенных пробелом - а. Во второй строке подается массив индексов значений в массиве а которые нужно изменить. В третьей строке подаются новые значения, соответствующие этим индексам. На выход необходимо подать старый numpy массив а с первоначальными значениями и новую его копию с измененными данными."
      ],
      "metadata": {
        "id": "j3aIzjHzGHt9"
      }
    },
    {
      "cell_type": "code",
      "source": [
        "import numpy as np\n",
        "arr=np.array(input().split(), dtype=np.int32)\n",
        "ind=np.array(input().split(), dtype=np.int32)\n",
        "arr_new=np.array(input().split(), dtype=np.int32)\n",
        "updated_arr = np.copy(arr)\n",
        "for i, q in enumerate(arr_new):\n",
        "  updated_arr[ind[i]] = q\n",
        "print(arr)\n",
        "print(updated_arr)"
      ],
      "metadata": {
        "colab": {
          "base_uri": "https://localhost:8080/"
        },
        "id": "kp0tLAKwGH8O",
        "outputId": "12eb1060-bd79-44ed-f8f0-ef2dc74cae69"
      },
      "execution_count": null,
      "outputs": [
        {
          "output_type": "stream",
          "name": "stdout",
          "text": [
            "82 80 70 95 82 87 66 68 91 59 53 79 58 91\n",
            "0 1 4 5\n",
            "8 8 8 8 \n",
            "[82 80 70 95 82 87 66 68 91 59 53 79 58 91]\n",
            "[ 8  8 70 95  8  8 66 68 91 59 53 79 58 91]\n"
          ]
        }
      ]
    },
    {
      "cell_type": "markdown",
      "source": [],
      "metadata": {
        "id": "NQ9VRYmy4cJk"
      }
    },
    {
      "cell_type": "markdown",
      "source": [],
      "metadata": {
        "id": "cigqG1MP4cMN"
      }
    },
    {
      "cell_type": "markdown",
      "source": [],
      "metadata": {
        "id": "hkRQo1Jo4cPY"
      }
    },
    {
      "cell_type": "markdown",
      "source": [],
      "metadata": {
        "id": "yOl2ivzk4cR7"
      }
    },
    {
      "cell_type": "markdown",
      "source": [],
      "metadata": {
        "id": "LziLV9o14cUV"
      }
    },
    {
      "cell_type": "markdown",
      "source": [],
      "metadata": {
        "id": "lrJDjNzL4cXF"
      }
    },
    {
      "cell_type": "markdown",
      "source": [],
      "metadata": {
        "id": "r56_VpgV4cZt"
      }
    },
    {
      "cell_type": "markdown",
      "source": [],
      "metadata": {
        "id": "-oU6XACl4cfB"
      }
    },
    {
      "cell_type": "markdown",
      "source": [],
      "metadata": {
        "id": "pCDbCeYR4cor"
      }
    },
    {
      "cell_type": "markdown",
      "source": [
        "Написать функцию multpl(arr1, arr2), которая на вход принимает два одномерных numpy массива arr1 и arr2 и возвращает новый массив, содержащий результат их поэлементного сложения. Функцию вызывать не нужно, просто создайте ее."
      ],
      "metadata": {
        "id": "fD_8K8cx4cr-"
      }
    },
    {
      "cell_type": "code",
      "source": [
        "import numpy as np\n",
        "def multpl(arr1, arr2):\n",
        "  c=arr1+arr2\n",
        "  return c\n",
        "multpl(np.array(input().split(), dtype=np.int32),np.array(input().split(), dtype=np.int32))"
      ],
      "metadata": {
        "colab": {
          "base_uri": "https://localhost:8080/"
        },
        "id": "2qyiNBOx4dHb",
        "outputId": "b739277d-37af-406a-b5f0-003a54d39afd"
      },
      "execution_count": null,
      "outputs": [
        {
          "name": "stdout",
          "output_type": "stream",
          "text": [
            "86 84 83 76 72 69 71 99\n",
            "86 84 83 76 72 69 71 99\n"
          ]
        },
        {
          "output_type": "execute_result",
          "data": {
            "text/plain": [
              "array([172, 168, 166, 152, 144, 138, 142, 198], dtype=int32)"
            ]
          },
          "metadata": {},
          "execution_count": 4
        }
      ]
    },
    {
      "cell_type": "markdown",
      "source": [
        "В глубинах океана живет золотая рыбка, которая обладает волшебной способностью умножать и делить числа. Однажды, капитан корабля потерял свои карты, на которых были указаны координаты пути к сокровищам. Он обратился за помощью к золотой рыбке, и она согласилась помочь, но только если капитан даст ей массив чисел. Золотая рыбка умножит каждый элемент массива на 3 и разделит на 2, затем к результату каждой операции добавит 10. После этого она вернет массив обратно капитану, а он должен будет найти индексы элементов, которые меньше среднего значения всех элементов и вывести их на экран, вместе с итоговым массивом каждый с новой строки.\n",
        "\n",
        "На вход поступает строка чисел, разделенных пробелом, на основе которой нужно создать массив numpy  и произвести с ним манипулации в соответсвии с условием задачи."
      ],
      "metadata": {
        "id": "semtVQ0f5XBq"
      }
    },
    {
      "cell_type": "code",
      "source": [
        "import numpy as np\n",
        "arr=np.array(input().split(), dtype=np.int32)\n",
        "b=np.empty(0, dtype=np.int32)\n",
        "arr1=np.copy(arr)\n",
        "sm=sum(arr1)/len(arr1)\n",
        "for i,ind in enumerate(arr1):\n",
        "  if ind<sm:\n",
        "    b=np.append(b,i)\n",
        "print(list(b))\n",
        "op=arr1*3/2+10\n",
        "print(op)"
      ],
      "metadata": {
        "colab": {
          "base_uri": "https://localhost:8080/"
        },
        "id": "dsaOgrtA5XSi",
        "outputId": "4db28d79-cabc-4c09-b362-bca7e064c6a8"
      },
      "execution_count": null,
      "outputs": [
        {
          "output_type": "stream",
          "name": "stdout",
          "text": [
            "0 38 93 15 65 4 87 99 17 51 84 13 78 45 85 14 10 22 23 68 88 28 65\n",
            "[0, 1, 3, 5, 8, 11, 13, 15, 16, 17, 18, 21]\n",
            "[ 10.   67.  149.5  32.5 107.5  16.  140.5 158.5  35.5  86.5 136.   29.5\n",
            " 127.   77.5 137.5  31.   25.   43.   44.5 112.  142.   52.  107.5]\n"
          ]
        }
      ]
    },
    {
      "cell_type": "markdown",
      "source": [
        "В далеком царстве есть сад, в котором растут фрукты разных видов. Каждый фрукт имеет свой цвет, который соответствует определенному числу. Сад зачарован, и фрукты каждый день увеличивают свою массу на 20%, а цвет становится ярче на 15%. Царь хочет знать, через сколько дней цвет каждого фрукта превысит определенную отметку, равную 100. Помогите царю узнать это и выведите на экран целое число - количество дней, спустя которое цвет каждого фрукта станет не менее 100, в следующей строке выведите итоговый массив со значениями цветов каждого фрукта спустя данный промежуток времени.\n",
        "\n",
        "На вход поступает строка действительных чисел, разделенных пробелом, значение каждого числа - цвет соответствующего фрукта в условных единицах."
      ],
      "metadata": {
        "id": "uKbYgyiN8kMB"
      }
    },
    {
      "cell_type": "code",
      "source": [
        "import numpy as np\n",
        "arr=np.array(input().split(), dtype=np.int32)\n",
        "minim=min(arr)\n",
        "i=0\n",
        "arr_sb=0\n",
        "while minim<100:\n",
        "  arr_sb+=arr*1.15\n",
        "  minim=minim*1.15\n",
        "  i+=1\n",
        "print(i, minim, arr_sb)\n"
      ],
      "metadata": {
        "colab": {
          "base_uri": "https://localhost:8080/"
        },
        "id": "pyc8pZX1CK4t",
        "outputId": "da16f88a-f29b-4d5c-8656-2a6b36a965f3"
      },
      "execution_count": null,
      "outputs": [
        {
          "output_type": "stream",
          "name": "stdout",
          "text": [
            "2 10 16 14 20 24 28 8 29 9 13 23 29 6 28 10\n",
            "28 100.13122413124505 [ 64.4 322.  515.2 450.8 644.  772.8 901.6 257.6 933.8 289.8 418.6 740.6\n",
            " 933.8 193.2 901.6 322. ]\n"
          ]
        }
      ]
    },
    {
      "cell_type": "markdown",
      "source": [
        "В темном лесу живет мудрый маг, у которого есть магическая палочка. Она умеет возводить числа в любую положительную степень. Однажды маг решил проверить свои способности и дал своей палочке массив чисел. Он возвел каждый элемент в квадрат, затем в третью степень, затем в четвертую, и так далее, пока не достиг 6-й степени. После этого маг собрал все числа, полученные в результате операций, в новый массив и хочет узнать, какое из чисел является наименьшим.\n",
        "\n",
        "На вход подается строка действительных чисел, разделенных пробелом. На выход нужно подать число, соответствующее условию задачи и исходный массив после преобразований."
      ],
      "metadata": {
        "id": "AVW0-AHeFlFk"
      }
    },
    {
      "cell_type": "code",
      "source": [
        "import numpy as np\n",
        "arr=np.array(input().split(), dtype=np.float64)\n",
        "step=0\n",
        "while step<6:\n",
        "  a=arr**2\n",
        "  b=a**3\n",
        "  c=b**4\n",
        "  d=c**5\n",
        "  e=d**6\n",
        "  step+=1\n",
        "print(min(e))\n",
        "print(e)"
      ],
      "metadata": {
        "colab": {
          "base_uri": "https://localhost:8080/"
        },
        "id": "Lg2FMK0JFknL",
        "outputId": "f12cb104-c2e4-45bb-85fa-9ca3b2c21f35"
      },
      "execution_count": null,
      "outputs": [
        {
          "output_type": "stream",
          "name": "stdout",
          "text": [
            "2 1.5 1.2 2.1 2 1.5\n",
            "1.0244650674915638e+57\n",
            "[5.51565226e+216 6.10529313e+126 1.02446507e+057 9.95158389e+231\n",
            " 5.51565226e+216 6.10529313e+126]\n"
          ]
        }
      ]
    },
    {
      "cell_type": "code",
      "source": [
        "import numpy as np\n",
        "arr = np.array(input().split(), float)\n",
        "for i in range(2, 7):\n",
        "    arr = arr ** i\n",
        "print(arr.min())\n",
        "print(arr)"
      ],
      "metadata": {
        "colab": {
          "base_uri": "https://localhost:8080/"
        },
        "id": "U-i0noU9Hw8S",
        "outputId": "89ffcb6c-f383-47bd-e247-e8f8dddb93c6"
      },
      "execution_count": null,
      "outputs": [
        {
          "output_type": "stream",
          "name": "stdout",
          "text": [
            "2 1.5 1.2 2.1 2 1.5\n",
            "1.0244650674915638e+57\n",
            "[5.51565226e+216 6.10529313e+126 1.02446507e+057 9.95158389e+231\n",
            " 5.51565226e+216 6.10529313e+126]\n"
          ]
        }
      ]
    },
    {
      "cell_type": "markdown",
      "source": [
        "В музее были украдены драгоценные украшения, и детективу нужно вычислить, сколько украшений было украдено и сколько они стоили. Для этого детективу нужно создать массивы, содержащие количество и цену каждого украшения в музее. Затем детектив может использовать операцию умножения, чтобы вычислить общую стоимость каждого типа украшений, и операцию сложения, чтобы найти общую стоимость всех украденных украшений.\n",
        "\n",
        "На вход подаются две строки целых чисел разделенных пробелом count_arr и price_arr - количество и цена каждого украшения в музее. На выход необходимо подать общую сумму украденного."
      ],
      "metadata": {
        "id": "T8UZ0g01IBua"
      }
    },
    {
      "cell_type": "code",
      "source": [
        "import numpy as np\n",
        "arr1=np.array(input().split(), dtype=np.float32)\n",
        "arr2=np.array(input().split(), dtype=np.float32)\n",
        "z=int(sum(arr1*arr2))\n",
        "print(z)"
      ],
      "metadata": {
        "colab": {
          "base_uri": "https://localhost:8080/"
        },
        "id": "rNu1hMbMIB9N",
        "outputId": "7a9a6b74-bff1-44f1-c3e9-a2c621d8b486"
      },
      "execution_count": null,
      "outputs": [
        {
          "output_type": "stream",
          "name": "stdout",
          "text": [
            "1 1 1 1\n",
            "2 2 2 2\n",
            "8\n"
          ]
        }
      ]
    },
    {
      "cell_type": "markdown",
      "source": [],
      "metadata": {
        "id": "SKnDyJqGKF2Y"
      }
    },
    {
      "cell_type": "markdown",
      "source": [],
      "metadata": {
        "id": "gH5IpQLfKGxI"
      }
    },
    {
      "cell_type": "markdown",
      "source": [],
      "metadata": {
        "id": "uTqo1nsZKGz0"
      }
    },
    {
      "cell_type": "markdown",
      "source": [],
      "metadata": {
        "id": "Plne7BAWKG22"
      }
    },
    {
      "cell_type": "markdown",
      "source": [],
      "metadata": {
        "id": "pXKEaHu0KG57"
      }
    },
    {
      "cell_type": "markdown",
      "source": [],
      "metadata": {
        "id": "ncL8oKtdKG8S"
      }
    },
    {
      "cell_type": "markdown",
      "source": [
        "Напишите функцию func1(a, b), которая принимает два одномерных массива a и b и возвращает новый массив, в котором на каждой позиции i находится результат операции a[i] > b[i] & a[i] != 0. Вызывать функцию не надо, только определите ее."
      ],
      "metadata": {
        "id": "5mkS43PfKHIg"
      }
    },
    {
      "cell_type": "code",
      "source": [
        "import numpy as np\n",
        "def func1(a, b):\n",
        "  return np.all(a>b&a!=0)\n",
        "\n",
        "\n",
        "func1(np.array(input().split(), dtype=np.int32),np.array(input().split(), dtype=np.int32))"
      ],
      "metadata": {
        "colab": {
          "base_uri": "https://localhost:8080/",
          "height": 384
        },
        "id": "SrdPH96zKI0Z",
        "outputId": "791dfbdd-8a02-4eb8-a137-788940ecf3f3"
      },
      "execution_count": null,
      "outputs": [
        {
          "name": "stdout",
          "output_type": "stream",
          "text": [
            "1 6 2 2 4 4\n",
            "6 5 3 3 2 4\n"
          ]
        },
        {
          "output_type": "error",
          "ename": "ValueError",
          "evalue": "ignored",
          "traceback": [
            "\u001b[0;31m---------------------------------------------------------------------------\u001b[0m",
            "\u001b[0;31mValueError\u001b[0m                                Traceback (most recent call last)",
            "\u001b[0;32m<ipython-input-107-2f41ffe25f34>\u001b[0m in \u001b[0;36m<cell line: 6>\u001b[0;34m()\u001b[0m\n\u001b[1;32m      4\u001b[0m \u001b[0;34m\u001b[0m\u001b[0m\n\u001b[1;32m      5\u001b[0m \u001b[0;34m\u001b[0m\u001b[0m\n\u001b[0;32m----> 6\u001b[0;31m \u001b[0mfunc1\u001b[0m\u001b[0;34m(\u001b[0m\u001b[0mnp\u001b[0m\u001b[0;34m.\u001b[0m\u001b[0marray\u001b[0m\u001b[0;34m(\u001b[0m\u001b[0minput\u001b[0m\u001b[0;34m(\u001b[0m\u001b[0;34m)\u001b[0m\u001b[0;34m.\u001b[0m\u001b[0msplit\u001b[0m\u001b[0;34m(\u001b[0m\u001b[0;34m)\u001b[0m\u001b[0;34m,\u001b[0m \u001b[0mdtype\u001b[0m\u001b[0;34m=\u001b[0m\u001b[0mnp\u001b[0m\u001b[0;34m.\u001b[0m\u001b[0mint32\u001b[0m\u001b[0;34m)\u001b[0m\u001b[0;34m,\u001b[0m\u001b[0mnp\u001b[0m\u001b[0;34m.\u001b[0m\u001b[0marray\u001b[0m\u001b[0;34m(\u001b[0m\u001b[0minput\u001b[0m\u001b[0;34m(\u001b[0m\u001b[0;34m)\u001b[0m\u001b[0;34m.\u001b[0m\u001b[0msplit\u001b[0m\u001b[0;34m(\u001b[0m\u001b[0;34m)\u001b[0m\u001b[0;34m,\u001b[0m \u001b[0mdtype\u001b[0m\u001b[0;34m=\u001b[0m\u001b[0mnp\u001b[0m\u001b[0;34m.\u001b[0m\u001b[0mint32\u001b[0m\u001b[0;34m)\u001b[0m\u001b[0;34m)\u001b[0m\u001b[0;34m\u001b[0m\u001b[0;34m\u001b[0m\u001b[0m\n\u001b[0m",
            "\u001b[0;32m<ipython-input-107-2f41ffe25f34>\u001b[0m in \u001b[0;36mfunc1\u001b[0;34m(a, b)\u001b[0m\n\u001b[1;32m      1\u001b[0m \u001b[0;32mimport\u001b[0m \u001b[0mnumpy\u001b[0m \u001b[0;32mas\u001b[0m \u001b[0mnp\u001b[0m\u001b[0;34m\u001b[0m\u001b[0;34m\u001b[0m\u001b[0m\n\u001b[1;32m      2\u001b[0m \u001b[0;32mdef\u001b[0m \u001b[0mfunc1\u001b[0m\u001b[0;34m(\u001b[0m\u001b[0ma\u001b[0m\u001b[0;34m,\u001b[0m \u001b[0mb\u001b[0m\u001b[0;34m)\u001b[0m\u001b[0;34m:\u001b[0m\u001b[0;34m\u001b[0m\u001b[0;34m\u001b[0m\u001b[0m\n\u001b[0;32m----> 3\u001b[0;31m   \u001b[0;32mreturn\u001b[0m \u001b[0mnp\u001b[0m\u001b[0;34m.\u001b[0m\u001b[0mall\u001b[0m\u001b[0;34m(\u001b[0m\u001b[0ma\u001b[0m\u001b[0;34m>\u001b[0m\u001b[0mb\u001b[0m\u001b[0;34m&\u001b[0m\u001b[0ma\u001b[0m\u001b[0;34m!=\u001b[0m\u001b[0;36m0\u001b[0m\u001b[0;34m)\u001b[0m\u001b[0;34m\u001b[0m\u001b[0;34m\u001b[0m\u001b[0m\n\u001b[0m\u001b[1;32m      4\u001b[0m \u001b[0;34m\u001b[0m\u001b[0m\n\u001b[1;32m      5\u001b[0m \u001b[0;34m\u001b[0m\u001b[0m\n",
            "\u001b[0;31mValueError\u001b[0m: The truth value of an array with more than one element is ambiguous. Use a.any() or a.all()"
          ]
        }
      ]
    },
    {
      "cell_type": "markdown",
      "source": [
        "Вы проводите медицинские исследования и хотите определить, какой из двух лекарственных препаратов более эффективен для лечения конкретного заболевания. Для этого вам поступают два одномерных массива а, b с показателями здоровья пациентов, которые получали каждый из препаратов. Вам необходимо сделать вывод о том какой препарат более эффективен а или b.\n",
        "\n",
        "Более эффективным препаратом считать тот для которого больше количество показателей здоровья превышающих аналогичные показатели для другого лекарства. Например если в первом массиве значения [ 1 2 1] а во втором [10 1 0], то более эффективным считается первый препарат, так как для него два показателя здоровья выше, чем у второго препарата. В качестве ответа вывести а если эффективнее первый препарат, в противном случае b. Гарантируется, что какой-то один из препаратов эффективнее."
      ],
      "metadata": {
        "id": "qcMuER6xMdG7"
      }
    },
    {
      "cell_type": "code",
      "source": [
        "import numpy as np\n",
        "arr1=np.array(input().split(), dtype=np.int32)\n",
        "arr2=np.array(input().split(), dtype=np.int32)\n",
        "#print(sum(arr1>arr2))\n",
        "#print(sum(arr1<arr2))\n",
        "if sum(arr1>arr2)>sum(arr1<arr2):\n",
        "  print('a')\n",
        "else:\n",
        "  print('b')"
      ],
      "metadata": {
        "colab": {
          "base_uri": "https://localhost:8080/"
        },
        "id": "0-_JK2zxOalv",
        "outputId": "cd926c3d-00a8-46e6-e321-d39b893f2e1f"
      },
      "execution_count": null,
      "outputs": [
        {
          "output_type": "stream",
          "name": "stdout",
          "text": [
            "1 2 3 4\n",
            "2 3 4 1\n",
            "b\n"
          ]
        }
      ]
    },
    {
      "cell_type": "markdown",
      "source": [
        "Два дракона, красный и зеленый, соревнуются между собой, совершая различные трюки. Красный дракон совершает n трюка в день и получает за каждый трюк m очков. Зеленый дракон совершает i трюков в день и получает за каждый трюк j очков. Кто из драконов наберет больше очков за N дней?\n",
        "\n",
        "На вход поступает 5 чисел в одной строке через пробел: n, m, i, j, N.\n",
        "\n",
        "В качестве ответа необходимо вывести слово \"зеленый\", \"красный\" или \"ничья\" без кавычек. Необходимо воспользоваться возможностями библиотеки numpy для решения данной задачи."
      ],
      "metadata": {
        "id": "y7j4Kp5BPWrH"
      }
    },
    {
      "cell_type": "code",
      "source": [
        "import numpy as np\n",
        "n,m,i,j,N=map(int,(input().split()))\n",
        "sum_1=n*m*N\n",
        "sum_2=i*j*N\n",
        "if sum_1>sum_2:\n",
        "  print ('красный')\n",
        "elif sum_1<sum_2:\n",
        "  print ('зеленый')\n",
        "else:\n",
        "  print ('ничья')"
      ],
      "metadata": {
        "colab": {
          "base_uri": "https://localhost:8080/"
        },
        "id": "ZEKADfs8PW4n",
        "outputId": "68bd362c-de56-4610-932e-2f80c0fd38bb"
      },
      "execution_count": null,
      "outputs": [
        {
          "output_type": "stream",
          "name": "stdout",
          "text": [
            "5 5 3 3 12\n",
            "красный\n"
          ]
        }
      ]
    },
    {
      "cell_type": "markdown",
      "source": [
        "Том Сойер и его друг соревнуются в беге. Напишите функцию find_faster_runner(tom_speed, friend_speed), которая принимает на вход два одномерных массива NumPy tom_speed и friend_speed, содержащие скорости Тома и его друга соответственно в различных забегах. Функция возвращает строку \"Tom\" , если Том победил хотя бы в одном забеге и строку \"Friend\" если Том ни разу не превзошел своего друга. Если скорости обоих бегунов всегда равны, функция должна вернуть строку \"Draw\"."
      ],
      "metadata": {
        "id": "F0Ra1vyeR_dt"
      }
    },
    {
      "cell_type": "code",
      "source": [
        "import numpy as np\n",
        "def find_faster_runner(tom_speed, friend_speed):\n",
        "  sm=sum(np.greater(tom_speed,friend_speed))\n",
        "  eq=np.equal(tom_speed,friend_speed)\n",
        "  if sm>0:\n",
        "    return 'Tom'\n",
        "  elif np.all(eq)==True:\n",
        "    return 'Draw'\n",
        "  else:\n",
        "    return 'Friend'\n",
        "\n",
        "find_faster_runner(np.array(input().split(), dtype=np.int32),np.array(input().split(), dtype=np.int32))"
      ],
      "metadata": {
        "colab": {
          "base_uri": "https://localhost:8080/",
          "height": 72
        },
        "id": "Wb2DOF3xR-ln",
        "outputId": "aa0e926d-86e8-417e-fe86-2a9decc07006"
      },
      "execution_count": null,
      "outputs": [
        {
          "name": "stdout",
          "output_type": "stream",
          "text": [
            "1 2 3 2 4 5 2 3\n",
            "2 2 4 5 5 6 3 1\n"
          ]
        },
        {
          "output_type": "execute_result",
          "data": {
            "text/plain": [
              "'Tom'"
            ],
            "application/vnd.google.colaboratory.intrinsic+json": {
              "type": "string"
            }
          },
          "metadata": {},
          "execution_count": 160
        }
      ]
    },
    {
      "cell_type": "markdown",
      "source": [
        "Однако, чтобы найти этот массив \"С\", тебе нужно выполнить трудную задачу - найти сокровища, спрятанные в глубинах твоего собственного разума. Ведь Колдун сказал, что \"С\" равняется \"А\" плюс \"Б\", деленное на \"А\".\n",
        "\n",
        "Так что, если ты жаждешь открыть эту тайну, то тебе нужно взять свою мудрость и умение решить эту задачу с помощью массивов numpy."
      ],
      "metadata": {
        "id": "zXtaS09nYW_i"
      }
    },
    {
      "cell_type": "code",
      "source": [
        "import numpy as np\n",
        "arr1=np.array(input().split(), dtype=np.float64)\n",
        "arr2=np.array(input().split(), dtype=np.float64)\n",
        "rez=arr1+(arr2/arr1)\n",
        "print(rez)"
      ],
      "metadata": {
        "colab": {
          "base_uri": "https://localhost:8080/"
        },
        "id": "R1cmWomnYXIc",
        "outputId": "a9e59075-aad1-4e78-ee9b-d32447dc4e71"
      },
      "execution_count": null,
      "outputs": [
        {
          "output_type": "stream",
          "name": "stdout",
          "text": [
            "12.55 0.87 6.33 10.16 17.14 3.48 24.53 15.62 4.87 23.22 5.13 16.63 12.09 6.73\n",
            "6.23 24.73 11.11 4.63 12.02 6.46 24.81 24.31 0.06 4.66 10.15 7.3 19.01 8.12\n",
            "[13.04641434 29.29528736  8.08513428 10.61570866 17.84128355  5.33632184\n",
            " 25.54141459 17.17633803  4.88232033 23.42068906  7.1085575  17.06896572\n",
            " 13.66237386  7.93653789]\n"
          ]
        }
      ]
    },
    {
      "cell_type": "markdown",
      "source": [
        "Из глубин математических абсолютностей возвышалось зловещее знамение - система двух уравнений, связывающих переменные \"х\" и \"у\". Странные символы \"а\", \"b\", \"c\", \"d\", \"e\" и \"f\", написанные на языке чисел, вопили о помощи, вызывая из тьмы таинственных глубин Арифметика - великого магистра математики.\n",
        "\n",
        "Первое уравнение требовало, чтобы \"а\" было умножено на \"х\", \"b\" на \"у\", а затем сложено вместе, чтобы равняться \"с\". Второе уравнение требовало, чтобы \"d\" было умножено на \"х\", \"e\" на \"у\", а затем вычтено и равнялось бы \"f\". Однако решить эту головоломку было нелегко, ибо уравнения были сложными и запутанными, а переменные \"х\" и \"у\" скрыты в туманной дымке математической тайны.\n",
        "\n",
        "Только те, кто обладают силой ума и умением логически мыслить, смогут встретить вызов и отправиться в путешествие в мир математических загадок, чтобы найти решение этой тайны. Но будь осторожен, ибо неизвестные силы могут помешать твоему успеху и утащить тебя в бездну неразрешимых проблем.\n",
        "\n",
        "И так, если ты готов сойти в темные глубины математической тайны и встретить вызов головоломки, то отправляйся в мир переменных \"х\" и \"у\", чтобы раскрыть эту тайну и открыть путь к свету знания. Но помни, что тайна системы уравнений лежит в тумане математической неопределенности, и только те, кто обладают силой воли и умением, смогут найти ответ.\n",
        "\n",
        "Вход - строки содержащие коэффициенты a, b, c, d, e, f системы.\n",
        "\n",
        "Выход - массивы numpy x и y - решения системы, каждый с новой строки"
      ],
      "metadata": {
        "id": "7-XMqvZ8Z4op"
      }
    },
    {
      "cell_type": "code",
      "source": [
        "import numpy as np\n",
        "a=np.array(input().split(), dtype=np.int32)\n",
        "b=np.array(input().split(), dtype=np.int32)\n",
        "c=np.array(input().split(), dtype=np.int32)\n",
        "d=np.array(input().split(), dtype=np.int32)\n",
        "e=np.array(input().split(), dtype=np.int32)\n",
        "f=np.array(input().split(), dtype=np.int32)\n",
        "x=c/a-b-y\n",
        "#y=-f/d-e+x\n",
        "print(x, y)"
      ],
      "metadata": {
        "colab": {
          "base_uri": "https://localhost:8080/",
          "height": 366
        },
        "id": "5UcTrIwSaDb8",
        "outputId": "2e0c8ba8-f4c7-47e3-ae1f-5cf959252ee7"
      },
      "execution_count": null,
      "outputs": [
        {
          "name": "stdout",
          "output_type": "stream",
          "text": [
            "-7 -7 3 1 4 7 -8 -1 3 -4\n",
            "-6 -7 -6 -4 2 10 9 -9 -3 11\n",
            "0 9 6 10 -4 7 11 11 5 -7\n",
            "-4 5 7 -2 -10 -11 1 -2 -1 -9\n",
            "3 3 -5 11 3 -10 1 8 1 -10\n",
            "-6 -5 8 -12 1 -1 -1 -10 9 11\n"
          ]
        },
        {
          "output_type": "error",
          "ename": "NameError",
          "evalue": "ignored",
          "traceback": [
            "\u001b[0;31m---------------------------------------------------------------------------\u001b[0m",
            "\u001b[0;31mNameError\u001b[0m                                 Traceback (most recent call last)",
            "\u001b[0;32m<ipython-input-167-3d6e9182038c>\u001b[0m in \u001b[0;36m<cell line: 8>\u001b[0;34m()\u001b[0m\n\u001b[1;32m      6\u001b[0m \u001b[0me\u001b[0m\u001b[0;34m=\u001b[0m\u001b[0mnp\u001b[0m\u001b[0;34m.\u001b[0m\u001b[0marray\u001b[0m\u001b[0;34m(\u001b[0m\u001b[0minput\u001b[0m\u001b[0;34m(\u001b[0m\u001b[0;34m)\u001b[0m\u001b[0;34m.\u001b[0m\u001b[0msplit\u001b[0m\u001b[0;34m(\u001b[0m\u001b[0;34m)\u001b[0m\u001b[0;34m,\u001b[0m \u001b[0mdtype\u001b[0m\u001b[0;34m=\u001b[0m\u001b[0mnp\u001b[0m\u001b[0;34m.\u001b[0m\u001b[0mint32\u001b[0m\u001b[0;34m)\u001b[0m\u001b[0;34m\u001b[0m\u001b[0;34m\u001b[0m\u001b[0m\n\u001b[1;32m      7\u001b[0m \u001b[0mf\u001b[0m\u001b[0;34m=\u001b[0m\u001b[0mnp\u001b[0m\u001b[0;34m.\u001b[0m\u001b[0marray\u001b[0m\u001b[0;34m(\u001b[0m\u001b[0minput\u001b[0m\u001b[0;34m(\u001b[0m\u001b[0;34m)\u001b[0m\u001b[0;34m.\u001b[0m\u001b[0msplit\u001b[0m\u001b[0;34m(\u001b[0m\u001b[0;34m)\u001b[0m\u001b[0;34m,\u001b[0m \u001b[0mdtype\u001b[0m\u001b[0;34m=\u001b[0m\u001b[0mnp\u001b[0m\u001b[0;34m.\u001b[0m\u001b[0mint32\u001b[0m\u001b[0;34m)\u001b[0m\u001b[0;34m\u001b[0m\u001b[0;34m\u001b[0m\u001b[0m\n\u001b[0;32m----> 8\u001b[0;31m \u001b[0mx\u001b[0m\u001b[0;34m=\u001b[0m\u001b[0mc\u001b[0m\u001b[0;34m/\u001b[0m\u001b[0ma\u001b[0m\u001b[0;34m-\u001b[0m\u001b[0mb\u001b[0m\u001b[0;34m-\u001b[0m\u001b[0my\u001b[0m\u001b[0;34m\u001b[0m\u001b[0;34m\u001b[0m\u001b[0m\n\u001b[0m\u001b[1;32m      9\u001b[0m \u001b[0my\u001b[0m\u001b[0;34m=\u001b[0m\u001b[0;34m-\u001b[0m\u001b[0mf\u001b[0m\u001b[0;34m/\u001b[0m\u001b[0md\u001b[0m\u001b[0;34m-\u001b[0m\u001b[0me\u001b[0m\u001b[0;34m+\u001b[0m\u001b[0mx\u001b[0m\u001b[0;34m\u001b[0m\u001b[0;34m\u001b[0m\u001b[0m\n\u001b[1;32m     10\u001b[0m \u001b[0mprint\u001b[0m\u001b[0;34m(\u001b[0m\u001b[0mx\u001b[0m\u001b[0;34m,\u001b[0m \u001b[0my\u001b[0m\u001b[0;34m)\u001b[0m\u001b[0;34m\u001b[0m\u001b[0;34m\u001b[0m\u001b[0m\n",
            "\u001b[0;31mNameError\u001b[0m: name 'y' is not defined"
          ]
        }
      ]
    },
    {
      "cell_type": "markdown",
      "source": [
        "Таким образом, задача заключается в том, чтобы написать функцию, которая принимает на вход два массива NumPy - один с напряжением и другой с сопротивлением, и возвращает массив с силой тока, рассчитанной по закону Ома."
      ],
      "metadata": {
        "id": "pB8T37bXdfrx"
      }
    },
    {
      "cell_type": "code",
      "source": [
        "import numpy as np\n",
        "napr=np.array(input().split(), dtype=float)\n",
        "sopr=np.array(input().split(), dtype=float)\n",
        "i=napr/sopr\n",
        "print(i)"
      ],
      "metadata": {
        "colab": {
          "base_uri": "https://localhost:8080/"
        },
        "id": "c-CV4o7Ydf0C",
        "outputId": "8a42644a-e688-4e65-de85-664b41213862"
      },
      "execution_count": null,
      "outputs": [
        {
          "output_type": "stream",
          "name": "stdout",
          "text": [
            "15.39 13.98 5.63 24.61 8.45 9.8 19.04 20.34 1.31 22.83 22.61 15.49 10.33 19.05\n",
            "22.55 8.73 1.05 12.42 3.89 12.69 17.6 12.98 7.74 19.52 23.97 9.65 8.35 18.98\n",
            "[0.68248337 1.60137457 5.36190476 1.98148148 2.1722365  0.77226162\n",
            " 1.08181818 1.56702619 0.16925065 1.16956967 0.94326241 1.60518135\n",
            " 1.23712575 1.00368809]\n"
          ]
        }
      ]
    },
    {
      "cell_type": "markdown",
      "source": [
        "На борту корабля были шесть контейнеров с ресурсами, помеченных метками a, b, c, d, e и f. Каждый контейнер содержал массивы numpy, представляющие различные ресурсы, которые были украдены. Вам нужно использовать эти массивы, чтобы рассчитать общую стоимость украденных ресурсов, используя следующее выражение:\n",
        "\n",
        "(2a + 3b - 4c) * d ** 2 / (e - f)\n",
        "\n",
        "Найдите общую стоимость украденных ресурсов, чтобы помочь нам восстановить нашу экономику и победить этих коварных космических пиратов!\n",
        "\n",
        "Результат округляйте до одного знака после запятой."
      ],
      "metadata": {
        "id": "dBOzcTZaeycC"
      }
    },
    {
      "cell_type": "code",
      "source": [
        "from numpy import array\n",
        "import numpy as np\n",
        "a,b,c,d,e,f = [array(input().split(), float) for _ in range(6)]\n",
        "rez=(2*a + 3*b - 4*c) * d ** 2 / (e - f)\n",
        "rez_1=np.round(rez,1)\n",
        "print(rez_1)"
      ],
      "metadata": {
        "colab": {
          "base_uri": "https://localhost:8080/"
        },
        "id": "V_Jq7Hrfi0Zv",
        "outputId": "4778cb03-1f00-4e22-8676-f5b5c90881af"
      },
      "execution_count": null,
      "outputs": [
        {
          "output_type": "stream",
          "name": "stdout",
          "text": [
            "9 5 2 0 -9 -8 -1 -10 11 -11 7 -12\n",
            "-9 8 -7 6 -9 -12 -4 -7 -7 0 4 6\n",
            "-3 8 -8 -7 1 2 9 1 -8 -11 -2 6\n",
            "-2 -9 -7 -10 -11 -7 1 2 9 2 -4 -9\n",
            "2 -10 -9 -10 -9 -12 -1 -8 9 5 8 6\n",
            "-7 6 6 9 2 4 4 -1 -6 -1 -11 -8\n",
            "[   1.3  -10.1  -49.  -242.1  539.   183.8   10.    25.7  178.2   14.7\n",
            "   28.6 -173.6]\n"
          ]
        }
      ]
    },
    {
      "cell_type": "markdown",
      "source": [
        "Помогите этим отважным искателям найти потерянный город и вернуться домой живыми. Если все значения в массиве координат первого искателя больше, чем второго, то отправляемся в путь смело, возвращая True, иначе возвращаем False и оставляем их на волю судьбы.\"\n",
        "\n",
        "Вход  в первой строке поступают через пробел значения x0, v, v0, a. Во второй строке значения времени - последовательность целых чисел, разделенных пробелом.\n",
        "\n",
        "Вывод True или False  в соответствии с условием задачи."
      ],
      "metadata": {
        "id": "2Q6l6roukKJ2"
      }
    },
    {
      "cell_type": "code",
      "source": [
        "import numpy as np\n",
        "x0,v,v0,a=map(int,(input().split()))\n",
        "t=np.array(input().split(), dtype=float)\n",
        "x1 = x0 + v*t\n",
        "x2=v0*t+(a*(t**2)/2)\n",
        "#print(x1)\n",
        "#print(x2)\n",
        "if np.all(np.greater(x1,x2))==True:\n",
        "  print('True')\n",
        "else:\n",
        "  print ('False')"
      ],
      "metadata": {
        "colab": {
          "base_uri": "https://localhost:8080/"
        },
        "id": "2P9Jh8Q5kKa1",
        "outputId": "3026497a-98e9-4b8d-a58b-5c1ee7cde2a8"
      },
      "execution_count": null,
      "outputs": [
        {
          "output_type": "stream",
          "name": "stdout",
          "text": [
            "100 5 -1 1\n",
            "0.0 0.5 1.0 1.5 2.0 2.5 3.0 3.5 4.0 4.5 5.1 5.6 6.1 6.6 7.1 7.6 8.1 8.6 9.1 9.6 10.1 10.6 11.1 11.6 12.1 12.6 13.1 13.6 14.1 14.6 15.2 15.7 16.2 16.7 17.2 17.7 18.2 18.7 19.2 19.7 20.2 20.7 21.2 21.7 22.2 22.7 23.2 23.7 24.2 24.7 25.3 25.8 26.3 26.8 27.3 27.8 28.3 28.8 29.3 29.8 30.3 30.8 31.3 31.8 32.3 32.8 33.3 33.8 34.3 34.8 35.4 35.9 36.4 36.9 37.4 37.9 38.4 38.9 39.4 39.9 40.4 40.9 41.4 41.9 42.4 42.9 43.4 43.9 44.4 44.9 45.5 46.0 46.5 47.0 47.5 48.0 48.5 49.0 49.5 50.0\n",
            "False\n"
          ]
        }
      ]
    },
    {
      "cell_type": "markdown",
      "source": [
        "ИМТ = масса тела (в килограммах) / (рост (в метрах))^2.\n",
        "\n",
        "Вход - четыре строки m1, h1, m2, h2 - действительных чисел разделенных пробелом, содержащих массы и высоты двух групп воинов.\n",
        "\n",
        "Выход - True или False в соответсвии с условием задачи."
      ],
      "metadata": {
        "id": "LAYVWp0NmSJr"
      }
    },
    {
      "cell_type": "code",
      "source": [
        "import numpy as np\n",
        "m1,h1,m2,h2=(np.array(input().split(), float) for _ in range(4))\n",
        "imt_1=m1/h1**2\n",
        "imt_2=m2/h2**2\n",
        "if np.any(np.greater(imt_1,imt_2))==True:\n",
        "  print('True')\n",
        "else:\n",
        "  print ('False')"
      ],
      "metadata": {
        "colab": {
          "base_uri": "https://localhost:8080/"
        },
        "id": "5q_6_D9HmSeE",
        "outputId": "e925f4a4-74b7-43e2-9783-52fa89b257cf"
      },
      "execution_count": null,
      "outputs": [
        {
          "output_type": "stream",
          "name": "stdout",
          "text": [
            "54.9 57.9 72.5 52.5 71.3 54.1 60.3 62.4 66.1 62.1 71.0 56.5 67.3 55.2\n",
            "164.7 130.1 197.3 168.9 147.5 190.8 126.7 191.2 214.6 167.5 120.8 192.7 141.4 169.6\n",
            "57.4 86.4 56.8 74.1 61.1 75.0 78.0 70.0 83.8 72.8 92.4 65.8 87.5 78.9\n",
            "169.1 174.0 162.6 128.2 160.4 175.5 122.3 190.6 132.7 132.9 196.2 211.4 160.4 217.1\n",
            "True\n"
          ]
        }
      ]
    },
    {
      "cell_type": "markdown",
      "source": [
        "Ахои, матросы! У нас на корабле имеются два массива показателей - \"Альфа\" и \"Браво\". Необходимо вычислить логическое выражение, которое определяет, когда значение показателя \"Альфа\" больше, чем значение показателя \"Браво\", при условии, что значение \"Альфа\" не равно нулю. Пристегните ремни безопасности, мы отправляемся в плавание по массивам!"
      ],
      "metadata": {
        "id": "yRSqqfLYnR-7"
      }
    },
    {
      "cell_type": "code",
      "source": [
        "import numpy as np\n",
        "arr1, arr2=(np.array(input().split(), int) for _ in range(2))\n",
        "b=np.empty(0, dtype=np.int32)\n",
        "for i in arr1:\n",
        "  if i==0:\n",
        "    b=np.append(b,np.nan)\n",
        "  else:\n",
        "    b=np.append(b,i)\n",
        "a=np.greater(b,arr2)\n",
        "print(a)"
      ],
      "metadata": {
        "colab": {
          "base_uri": "https://localhost:8080/"
        },
        "id": "OBN-FDlxqWpB",
        "outputId": "f448ff96-9ab6-4508-c0e3-d6e85b6254b7"
      },
      "execution_count": null,
      "outputs": [
        {
          "output_type": "stream",
          "name": "stdout",
          "text": [
            "0 1 4 2 6 4\n",
            "-3 2 5 2 1 5\n",
            "[False False False False  True False]\n"
          ]
        }
      ]
    },
    {
      "cell_type": "markdown",
      "source": [
        "После расчета, если хотя бы при одном значении объем газа больше порогового значения 0.1, таинственная граница раскроется перед нашей группой исследователей, позволяя им продолжить свое путешествие по неизведанным местам галактики. Однако, если объем газа окажется меньше порогового значения для всех значений, то наша группа исследователей останется в заточении, не имея возможности вернуться домой.\n",
        "\n",
        "Для решения задачи необходимо использовать уравнение Менделеева-Клапейрона: PV = nRT\n",
        "\n",
        "где P - давление газа, V - его объем, n - количество молей газа, R = 8.31 - универсальная газовая постоянная, T - абсолютная температура.\n",
        "\n",
        "Даны массивы: pressure - давление газа, count - массив количества  вещества (в молях), temperature - температура газа, .\n",
        "\n",
        "Вывод: True, False в соответствии с условиями задачи."
      ],
      "metadata": {
        "id": "AKPM8UScrebQ"
      }
    },
    {
      "cell_type": "code",
      "source": [
        "import numpy as np\n",
        "P, n, T=(np.array(input().split(), float) for _ in range(3))\n",
        "R=8.31\n",
        "V=(n*R*T)/P\n",
        "z=np.any(np.greater(V,0.1))\n",
        "print(z)"
      ],
      "metadata": {
        "colab": {
          "base_uri": "https://localhost:8080/"
        },
        "id": "7GppEvCRre5A",
        "outputId": "4dd1c5df-889e-4910-dafa-91a1c42e77c1"
      },
      "execution_count": null,
      "outputs": [
        {
          "output_type": "stream",
          "name": "stdout",
          "text": [
            "92188 91305 103791 96000 100349 100408 104269 100041 92055 94519 101417 101299 96622 91425 99481 103185 100062 97698 103011 101050 90604 100031\n",
            "1 3 1 2 1 1 1 1 4 2 2 1 1 4 1 1 1 4 4 2 2 3\n",
            "332 265 310 279 377 306 287 315 291 283 357 274 320 350 271 265 252 313 285 357 253 330\n",
            "True\n"
          ]
        }
      ]
    },
    {
      "cell_type": "markdown",
      "source": [],
      "metadata": {
        "id": "CPd7bAOGajDq"
      }
    },
    {
      "cell_type": "markdown",
      "source": [],
      "metadata": {
        "id": "DhgPQpYOajGo"
      }
    },
    {
      "cell_type": "markdown",
      "source": [],
      "metadata": {
        "id": "athtjndiajJp"
      }
    },
    {
      "cell_type": "markdown",
      "source": [],
      "metadata": {
        "id": "I6kimI6FajMY"
      }
    },
    {
      "cell_type": "markdown",
      "source": [],
      "metadata": {
        "id": "3orwOsrqajT-"
      }
    },
    {
      "cell_type": "markdown",
      "source": [],
      "metadata": {
        "id": "hkbq4fTfajXH"
      }
    },
    {
      "cell_type": "markdown",
      "source": [],
      "metadata": {
        "id": "pam61iV5ajaK"
      }
    },
    {
      "cell_type": "markdown",
      "source": [],
      "metadata": {
        "id": "ssddGxFfajdB"
      }
    },
    {
      "cell_type": "markdown",
      "source": [],
      "metadata": {
        "id": "DLK1YPHxajfZ"
      }
    },
    {
      "cell_type": "markdown",
      "source": [],
      "metadata": {
        "id": "pyq3fkNLajhw"
      }
    },
    {
      "cell_type": "markdown",
      "source": [
        "Напишите функцию greater_10(arr), которая принимает на вход одномерный массив и возвращает массив из элементов, которые больше 10."
      ],
      "metadata": {
        "id": "otkAdxyTbqDO"
      }
    },
    {
      "cell_type": "code",
      "source": [
        "import numpy as np\n",
        "def greater_10(arr):\n",
        "  mask=arr>10\n",
        "  rez=arr[mask]\n",
        "  return rez\n",
        "greater_10(np.array(input().split(), dtype=np.int32))"
      ],
      "metadata": {
        "colab": {
          "base_uri": "https://localhost:8080/"
        },
        "id": "RD0Ic5pBbrG3",
        "outputId": "a013d121-7ff1-4518-92ef-e4c02d3bca89"
      },
      "execution_count": null,
      "outputs": [
        {
          "name": "stdout",
          "output_type": "stream",
          "text": [
            " -8 -9 1 14 4 -9 14 14 -4 1 13 5 -2 -4 -9 1 -10 -3 -3 -5 8 13\n"
          ]
        },
        {
          "output_type": "execute_result",
          "data": {
            "text/plain": [
              "array([14, 14, 14, 13, 13], dtype=int32)"
            ]
          },
          "metadata": {},
          "execution_count": 4
        }
      ]
    },
    {
      "cell_type": "markdown",
      "source": [
        "Пират, прослышавший о твоих навыках программирования, обратился к тебе с просьбой: \"Сколько сундуков с золотом я найду на этом острове, если золото лежит только в сундуках, весом менее 5 или более 10 фунтов? Создай мне функцию filter_golden_chests(arr), которая сможет ответить на мой вопрос, если я дам ей список весов всех сундуков на острове, она должна вернуть список сундуков, отвечающих условиям задачи."
      ],
      "metadata": {
        "id": "8itgnadacO7W"
      }
    },
    {
      "cell_type": "code",
      "source": [
        "import numpy as np\n",
        "def filter_golden_chests(arr):\n",
        "  mask_1=(arr<5) | (arr>10)\n",
        "  rez=arr[mask_1]\n",
        "  return rez\n",
        "filter_golden_chests(np.array(input().split(), dtype=np.int32))"
      ],
      "metadata": {
        "colab": {
          "base_uri": "https://localhost:8080/"
        },
        "id": "ipzUj6XYc8Z-",
        "outputId": "e2fc52e9-70c7-436a-f076-925ded19ee8b"
      },
      "execution_count": null,
      "outputs": [
        {
          "name": "stdout",
          "output_type": "stream",
          "text": [
            "4 7 10 7 5 12 9 8 9 6 6 3 14 7 11 9 14 7 12 6 6 11\n"
          ]
        },
        {
          "output_type": "execute_result",
          "data": {
            "text/plain": [
              "array([ 4, 12,  3, 14, 11, 14, 12, 11], dtype=int32)"
            ]
          },
          "metadata": {},
          "execution_count": 12
        }
      ]
    },
    {
      "cell_type": "markdown",
      "source": [
        "К счастью, Капитан Билл был хорошо знаком с программированием и знал, как написать функцию, которая принимает на вход одномерный массив чисел и возвращает массив, содержащий только числа 0 и 1. Он быстро написал функцию и применил ее к таинственной последовательности чисел на карте."
      ],
      "metadata": {
        "id": "h3CBAz5yd6s-"
      }
    },
    {
      "cell_type": "code",
      "source": [
        "import numpy as np\n",
        "def find_binary_numbers(arr):\n",
        "  mask_1=(arr==0) | (arr==1)\n",
        "  rez=arr[mask_1]\n",
        "  return rez\n",
        "find_binary_numbers(np.array(input().split(), dtype=np.int32))"
      ],
      "metadata": {
        "colab": {
          "base_uri": "https://localhost:8080/"
        },
        "id": "72EqYtzXd64N",
        "outputId": "af114e82-b80e-4e41-9f53-8da5d523ba15"
      },
      "execution_count": null,
      "outputs": [
        {
          "name": "stdout",
          "output_type": "stream",
          "text": [
            "2 1 2 1 -1 0 0 -2 0 -3 -1 2 1 -3 2 1 0 -1 -3 -1 1 -3 -1 1 2 -2 2 -3 -2 -1 2 1\n"
          ]
        },
        {
          "output_type": "execute_result",
          "data": {
            "text/plain": [
              "array([1, 1, 0, 0, 0, 1, 1, 0, 1, 1, 1], dtype=int32)"
            ]
          },
          "metadata": {},
          "execution_count": 13
        }
      ]
    },
    {
      "cell_type": "markdown",
      "source": [
        "getArrayElementsDivisibleByThree(arr), которая принимает на вход одномерный массив чисел и возвращает массив, содержащий только те числа, которые делятся на 3 без остатка."
      ],
      "metadata": {
        "id": "fWe7EeydekS9"
      }
    },
    {
      "cell_type": "code",
      "source": [
        "import numpy as np\n",
        "def getArrayElementsDivisibleByThree(arr):\n",
        "  mask_1=(arr%3==0)\n",
        "  rez=arr[mask_1]\n",
        "  return rez\n",
        "getArrayElementsDivisibleByThree(np.array(input().split(), dtype=np.int32))"
      ],
      "metadata": {
        "colab": {
          "base_uri": "https://localhost:8080/"
        },
        "id": "e903pTj2ekpP",
        "outputId": "5ef5315f-bed7-4c3a-b6f7-8cc01ef67577"
      },
      "execution_count": null,
      "outputs": [
        {
          "name": "stdout",
          "output_type": "stream",
          "text": [
            "-5 -11 8 5 3 -3 -11 -1 6 -6 10 -9 -5 7 -6 -8 11 5 -7 -5 9 11\n"
          ]
        },
        {
          "output_type": "execute_result",
          "data": {
            "text/plain": [
              "array([ 3, -3,  6, -6, -9, -6,  9], dtype=int32)"
            ]
          },
          "metadata": {},
          "execution_count": 14
        }
      ]
    },
    {
      "cell_type": "markdown",
      "source": [
        "Так что, если вам нужно найти определенные элементы из первого массивов, то вы можете воспользоваться функцией getMatchingElements(arr1, arr2), чтобы получить нужную информацию. Но будьте осторожны - в мире Стивена Кинга многие вещи не такие, как кажутся на первый взгляд."
      ],
      "metadata": {
        "id": "0VoHsoeae1KV"
      }
    },
    {
      "cell_type": "code",
      "source": [
        "import numpy as np\n",
        "def getMatchingElements(arr1, arr2):\n",
        "  mask_1=(arr2==1)\n",
        "  rez=arr1[mask_1]\n",
        "  return rez\n",
        "getMatchingElements(np.array(input().split(), dtype=str),np.array(input().split(), dtype=np.int32))"
      ],
      "metadata": {
        "colab": {
          "base_uri": "https://localhost:8080/"
        },
        "id": "7WtcjNTee1Yc",
        "outputId": "dd9b66ba-0956-4c55-8a59-1bbe8cae5ae9"
      },
      "execution_count": null,
      "outputs": [
        {
          "name": "stdout",
          "output_type": "stream",
          "text": [
            "а в у ь б ч е и ц й в ц ы в а с м к л м в о в у и м н\n",
            "0 0 1 0 1 0 0 1 0 1 0 1 0 0 1 0 0 1 1 0 0 1 0 1 0 0 1\n"
          ]
        },
        {
          "output_type": "execute_result",
          "data": {
            "text/plain": [
              "array(['у', 'б', 'и', 'й', 'ц', 'а', 'к', 'л', 'о', 'у', 'н'], dtype='<U1')"
            ]
          },
          "metadata": {},
          "execution_count": 15
        }
      ]
    },
    {
      "cell_type": "markdown",
      "source": [
        "Он решил написать функцию, которая поможет ему отобрать только те элементы, которые удовлетворяют определенным условиям - они должны быть четными числами и больше 5.\n",
        "\n",
        "Так что, если вы хотите быть таким же отважным путешественником, как Фродо, вы можете использовать функцию selectInterestingItems(arr), чтобы отобрать только самые нужные и интересные элементы из вашего массива. Ведь когда вы отправляетесь в путешествие, каждая мелочь имеет значение!"
      ],
      "metadata": {
        "id": "p4W4Rm3XfZwV"
      }
    },
    {
      "cell_type": "code",
      "source": [
        "import numpy as np\n",
        "def selectInterestingItems(arr):\n",
        "  mask_1=(arr%2==0)  & (arr>5)\n",
        "  rez=arr[mask_1]\n",
        "  return rez\n",
        "selectInterestingItems(np.array(input().split(), dtype=np.int32))"
      ],
      "metadata": {
        "colab": {
          "base_uri": "https://localhost:8080/"
        },
        "id": "N_15wsQdfZ_m",
        "outputId": "78a547b2-23b3-49be-aefb-dc0d435f25e5"
      },
      "execution_count": null,
      "outputs": [
        {
          "name": "stdout",
          "output_type": "stream",
          "text": [
            "6 7 2 -1 -4 2 -10 11 7 6 -10 -7 5 11 -3 6 -1 -12 1 -2 -10 5\n"
          ]
        },
        {
          "output_type": "execute_result",
          "data": {
            "text/plain": [
              "array([6, 6, 6], dtype=int32)"
            ]
          },
          "metadata": {},
          "execution_count": 16
        }
      ]
    },
    {
      "cell_type": "markdown",
      "source": [
        "На моем столе лежит массив чисел, и я хотел бы найти те элементы, которые превосходят среднее значение в этом массиве. Нам понадобится функция find_elements_above_average(arr), которая сможет проанализировать каждый элемент и, основываясь на его соотношении с средним значением, составить новый массив с необходимыми элементами"
      ],
      "metadata": {
        "id": "llXJxyGjfuW9"
      }
    },
    {
      "cell_type": "code",
      "source": [
        "import numpy as np\n",
        "def find_elements_above_average(arr):\n",
        "  mean_1=arr.mean()\n",
        "  mask_1=(arr>mean_1)\n",
        "  rez=arr[mask_1]\n",
        "  return rez\n",
        "find_elements_above_average(np.array(input().split(), dtype=np.int32))"
      ],
      "metadata": {
        "colab": {
          "base_uri": "https://localhost:8080/"
        },
        "id": "GdgddkicfunV",
        "outputId": "be08cf60-0f74-4db1-cc66-a8590fbea54a"
      },
      "execution_count": null,
      "outputs": [
        {
          "output_type": "stream",
          "name": "stdout",
          "text": [
            "1 2 3\n",
            "2.0\n"
          ]
        },
        {
          "output_type": "execute_result",
          "data": {
            "text/plain": [
              "array([3], dtype=int32)"
            ]
          },
          "metadata": {},
          "execution_count": 19
        }
      ]
    },
    {
      "cell_type": "markdown",
      "source": [
        "функция get_common_elements(arr1, arr2), которая прошла по каждому элементу первого массива и сравнила его со вторым массивом. Когда функция нашла нужный элемент, она положила его в свою магическую корзину."
      ],
      "metadata": {
        "id": "6-RaFS1rg1Ed"
      }
    },
    {
      "cell_type": "code",
      "source": [
        "import numpy as np\n",
        "def get_common_elements(arr1, arr2):\n",
        "  q = np.isin(arr1, arr2)\n",
        "  rez=arr1[q]\n",
        "  return rez\n",
        "get_common_elements(np.array(input().split(), dtype=np.int32),np.array(input().split(), dtype=np.int32))"
      ],
      "metadata": {
        "colab": {
          "base_uri": "https://localhost:8080/"
        },
        "id": "_dPYxtSeg1hU",
        "outputId": "49e50fd5-bada-452c-fd81-d9b4820da9dd"
      },
      "execution_count": null,
      "outputs": [
        {
          "name": "stdout",
          "output_type": "stream",
          "text": [
            "1 2 3 4 5\n",
            "2 2 6 0\n"
          ]
        },
        {
          "output_type": "execute_result",
          "data": {
            "text/plain": [
              "array([2], dtype=int32)"
            ]
          },
          "metadata": {},
          "execution_count": 22
        }
      ]
    },
    {
      "cell_type": "markdown",
      "source": [
        "В далекой-далекой галактике, в эпоху, когда галактическая империя подавляла своих противников, существовала функция return_to_center(arr), которая помогала джедаям находить ближайшие к среднему значению числа в массиве. С ее помощью джедаи могли находить точки, наиболее близкие к центру галактики, где находилось их секретное убежище.\n",
        "\n",
        "Напишите функцию, которая принимает на вход одномерный массив, содержащий только числа, и возвращает массив, содержащий значения, которые наиболее близки к среднему значению массива. Найдите силу в себе, джедай, чтобы использовать эту функцию и найти свой путь к миру и гармонии в галактике"
      ],
      "metadata": {
        "id": "Rqzman0Mi6-T"
      }
    },
    {
      "cell_type": "code",
      "source": [
        "import numpy as np\n",
        "def return_to_center(arr):\n",
        "  mean_1=int(arr.mean())\n",
        "  q=int(np.average(arr))\n",
        "  print(mean_1)\n",
        "  print(q)\n",
        "  left=arr[:q]\n",
        "  right=arr[q:]\n",
        "  print(left)\n",
        "  print(right)\n",
        "  rez=np.concatenate((left,right))\n",
        "  return rez\n",
        "return_to_center(np.array(input().split(), dtype=np.int32))"
      ],
      "metadata": {
        "colab": {
          "base_uri": "https://localhost:8080/"
        },
        "id": "-Bzg23lri7ay",
        "outputId": "b72b62f0-a277-4562-97b4-573ce07325a5"
      },
      "execution_count": null,
      "outputs": [
        {
          "output_type": "stream",
          "name": "stdout",
          "text": [
            "4 1 9 1 1 5 8 3 2 6 1 4 9 9 7 7 3 1 7 4 3 7 3 4 5 1 4 2 4 1 8 7 3 5 2 6 8 2 1 9 3 8 3 7\n",
            "4\n",
            "4\n",
            "[4 1 9 1]\n",
            "[1 5 8 3 2 6 1 4 9 9 7 7 3 1 7 4 3 7 3 4 5 1 4 2 4 1 8 7 3 5 2 6 8 2 1 9 3\n",
            " 8 3 7]\n"
          ]
        },
        {
          "output_type": "execute_result",
          "data": {
            "text/plain": [
              "array([4, 1, 9, 1, 1, 5, 8, 3, 2, 6, 1, 4, 9, 9, 7, 7, 3, 1, 7, 4, 3, 7,\n",
              "       3, 4, 5, 1, 4, 2, 4, 1, 8, 7, 3, 5, 2, 6, 8, 2, 1, 9, 3, 8, 3, 7],\n",
              "      dtype=int32)"
            ]
          },
          "metadata": {},
          "execution_count": 46
        }
      ]
    },
    {
      "cell_type": "markdown",
      "source": [
        "На острове сокровищ произошло странное событие. Капитан Флинт прибыл на остров и встретился с Джимом Хокинсом. Они вытащили из своих сумок по кучке золотых монет. Флинт заинтересовался их количеством, а Хокинс - их стоимостью. Чтобы узнать, кто из них богаче, Хокинс предложил посчитать, сколько монет Флинта имеют большую стоимость, чем каждая монета у Хокинса. Теперь им нужна ваша помощь в написании функции count_greater(arr1, arr2), которая принимает на вход два одномерных массива, содержащих только числа (количество золотых монет), и возвращает массив, содержащий элементы первого массива, которые больше каждого элемента второго массива."
      ],
      "metadata": {
        "id": "a0GRRK2-nnQA"
      }
    },
    {
      "cell_type": "code",
      "source": [
        "import numpy as np\n",
        "def count_greater(arr1, arr2):\n",
        "  len_arr1=len(arr1)\n",
        "  len_arr2=len(arr2)\n",
        "  if len_arr1>len_arr2:\n",
        "    arr2.resize(len_arr1, refcheck=False)\n",
        "  else:\n",
        "    arr1.resize(len_arr2, refcheck=False)\n",
        "  z=arr1>max(arr2)\n",
        "  rez=arr1[z]\n",
        "  return rez\n",
        "count_greater(np.array(input().split(), dtype=np.int32),np.array(input().split(), dtype=np.int32))"
      ],
      "metadata": {
        "colab": {
          "base_uri": "https://localhost:8080/"
        },
        "id": "uw0bXKbeueJh",
        "outputId": "f2b3ef47-0fd8-4373-de1c-0ee9af57bdb5"
      },
      "execution_count": null,
      "outputs": [
        {
          "name": "stdout",
          "output_type": "stream",
          "text": [
            "13 16 12 4 13 12 13 20 18 21 3 4 9 9 16 16 4 7 20 17 5 10 8 3 9 17 16 7 3 15 19 21 17 7 14 8 17 5 11 8 16 21 22 11 8 11 21 17 18 11 19 1 7 18 16 10 20 10 17 16 14 7 21 17\n",
            "18 17 14 12 19 1 15 1 15 13 18 10 12 2 11 16 1 5 13 12 13 14 4 5 17 18 12 17 1 19 19 6 5 6 11 16 4 4 17 7 13 1 11 2 12 16 19 19 18 5 17 3 9 16 9 8 18 9 3 18 3 15 19 3\n"
          ]
        },
        {
          "output_type": "execute_result",
          "data": {
            "text/plain": [
              "array([20, 21, 20, 21, 21, 22, 21, 20, 21], dtype=int32)"
            ]
          },
          "metadata": {},
          "execution_count": 74
        }
      ]
    },
    {
      "cell_type": "markdown",
      "source": [
        "Разберем тестовый пример 1.  В массиве 13 16 12 4 13 12 13 20 18 21 3 4 9 9 16 16 4 7 20 17 5 10 8 3 9 17 16 7 3 15 19 21 17 7 14 8 17 5 11 8 16 21 22 11 8 11 21 17 18 11 19 1 7 18 16, для k = 3 последними тремя самыми наибольшим элементами являются 20, 21, 22. Поэтому нужно вернуть numpy массив, содержащий все вхождения этих элементов в исходном массиве в том порядке, в котором они следуют в исходном массиве. Это массив - [20 21 20 21 21 22 21]. Гарантируется, что во входном массиве найдется требуемое количество элементов."
      ],
      "metadata": {
        "id": "bQm43OEJv8H8"
      }
    },
    {
      "cell_type": "code",
      "source": [
        "import numpy as np\n",
        "def top_k_elements(arr, k):\n",
        "  set_arr=sorted(set(arr))\n",
        "  j=int(k)\n",
        "  srez=set_arr[-j:]\n",
        "  q = np.isin(arr, srez)\n",
        "  rez=arr[q]\n",
        "  return(rez)\n",
        "top_k_elements(np.array(input().split(), dtype=np.int32),np.array(input().split(), dtype=np.int32))"
      ],
      "metadata": {
        "colab": {
          "base_uri": "https://localhost:8080/"
        },
        "id": "bAmqQ1LFBGbT",
        "outputId": "4a4ffdc7-e072-4046-981a-d521d46f1bf8"
      },
      "execution_count": null,
      "outputs": [
        {
          "name": "stdout",
          "output_type": "stream",
          "text": [
            "13 16 12 4 13 12 13 20 18 21 3 4 9 9 16 16 4 7 20 17 5 10 8 3 9 17 16 7 3 15 19 21 17 7 14 8 17 5 11 8 16 21 22 11 8 11 21 17 18 11 19 1 7 18 16\n",
            "3\n"
          ]
        },
        {
          "output_type": "execute_result",
          "data": {
            "text/plain": [
              "array([20, 21, 20, 21, 21, 22, 21], dtype=int32)"
            ]
          },
          "metadata": {},
          "execution_count": 142
        }
      ]
    },
    {
      "cell_type": "markdown",
      "source": [
        "В базе данных интернет-магазина есть таблица со списком всех заказов и информацией о том, был ли заказ оплачен. Напишите программу на Python с использованием библиотеки numpy, которая находит все заказы, которые еще не были оплачены.\n",
        "\n",
        "На вход поступает строка целых чисел, содержащая id заказа, и строка состоящая из слов True False, разделенных пробелом. True означает, что соответствующий заказ был оплачен, False - не был оплачен."
      ],
      "metadata": {
        "id": "tWgTIbB_EvnY"
      }
    },
    {
      "cell_type": "code",
      "source": [
        "import numpy as np\n",
        "\n",
        "def find_unpaid_orders(order_ids, paid_status):\n",
        "  otm=paid_status=='False'\n",
        "  #print(otm)\n",
        "  rez=order_ids[otm]\n",
        "  return rez\n",
        "find_unpaid_orders(np.array(input().split(), dtype=np.int32),np.array(input().split(), dtype=str))"
      ],
      "metadata": {
        "colab": {
          "base_uri": "https://localhost:8080/"
        },
        "id": "0fzGR2p6J3u-",
        "outputId": "6d1c3ec8-88da-4c4e-9826-7d49bcd23efa"
      },
      "execution_count": null,
      "outputs": [
        {
          "name": "stdout",
          "output_type": "stream",
          "text": [
            "100 200 300\n",
            "True False True\n"
          ]
        }
      ]
    },
    {
      "cell_type": "code",
      "source": [
        "import numpy as np\n",
        "order_ids=np.array(input().split(), dtype=np.int32)\n",
        "paid_status=np.array(input().split(), dtype=str)\n",
        "otm=paid_status=='False'\n",
        "result_array = order_ids[otm]\n",
        "print(result_array)"
      ],
      "metadata": {
        "colab": {
          "base_uri": "https://localhost:8080/"
        },
        "id": "gBIYqDAyK95t",
        "outputId": "26271265-db05-4ca2-d95a-4a81d291b287"
      },
      "execution_count": null,
      "outputs": [
        {
          "output_type": "stream",
          "name": "stdout",
          "text": [
            "1000 1001 1002 1003 1004 1005 1006 1007 1008 1009 1010 1011 1012 1013 1014 1015 1016 1017 1018 1019\n",
            "False False True False False False False False False True True False True True False True False True False True\n",
            "[1000 1001 1003 1004 1005 1006 1007 1008 1011 1014 1016 1018]\n"
          ]
        }
      ]
    },
    {
      "cell_type": "markdown",
      "source": [
        "В сети фастфудов есть база данных всех заказов, сделанных за последний месяц, с указанием времени заказа и его стоимости. Напишите программу на Python с использованием библиотеки numpy, которая находит все заказы, сделанные после 18:00 и стоимость которых превышает 500 рублей.\n",
        "\n",
        "На вход подаются три строки. В первой строке содержится последовательность целых чисел, разделенных пробелом - это id заказов. Во второй последовательность моментов времени совершения соответствующих заказов. В третьей - стоимости каждого заказа в рублях.\n",
        "\n",
        "Выход - массив id заказов, отвечающих условиям задачи."
      ],
      "metadata": {
        "id": "OcIFDFQxaxw6"
      }
    },
    {
      "cell_type": "code",
      "source": [
        "import numpy as np\n",
        "id_order=np.array(input().split(), dtype=np.int32)\n",
        "time_order=np.array(input().split(), dtype=datetime)\n",
        "price_order=np.array(input().split(), dtype=np.int32)\n",
        "time=time_order>18\n",
        "price=price_order>500\n",
        "print(time)\n",
        "print(price)"
      ],
      "metadata": {
        "colab": {
          "base_uri": "https://localhost:8080/",
          "height": 294
        },
        "id": "awHgtisVa8Y6",
        "outputId": "e0b2987c-5f2f-4008-d000-54fbb398d9f4"
      },
      "execution_count": null,
      "outputs": [
        {
          "name": "stdout",
          "output_type": "stream",
          "text": [
            "20 21 22 23 24 25 26 27 28 29 30 31 32 33 34 35 36 37 38 39\n",
            "10:48:00 18:45:00 20:42:00 11:05:00 18:08:00 13:26:00 13:19:00 18:56:00 22:56:00 09:26:00 09:12:00 19:42:00 10:54:00 10:55:00 18:49:00 12:47:00 08:37:00 14:14:00 19:59:00 13:34:00\n"
          ]
        },
        {
          "output_type": "error",
          "ename": "NameError",
          "evalue": "ignored",
          "traceback": [
            "\u001b[0;31m---------------------------------------------------------------------------\u001b[0m",
            "\u001b[0;31mNameError\u001b[0m                                 Traceback (most recent call last)",
            "\u001b[0;32m<ipython-input-4-e65187626ce6>\u001b[0m in \u001b[0;36m<cell line: 3>\u001b[0;34m()\u001b[0m\n\u001b[1;32m      1\u001b[0m \u001b[0;32mimport\u001b[0m \u001b[0mnumpy\u001b[0m \u001b[0;32mas\u001b[0m \u001b[0mnp\u001b[0m\u001b[0;34m\u001b[0m\u001b[0;34m\u001b[0m\u001b[0m\n\u001b[1;32m      2\u001b[0m \u001b[0mid_order\u001b[0m\u001b[0;34m=\u001b[0m\u001b[0mnp\u001b[0m\u001b[0;34m.\u001b[0m\u001b[0marray\u001b[0m\u001b[0;34m(\u001b[0m\u001b[0minput\u001b[0m\u001b[0;34m(\u001b[0m\u001b[0;34m)\u001b[0m\u001b[0;34m.\u001b[0m\u001b[0msplit\u001b[0m\u001b[0;34m(\u001b[0m\u001b[0;34m)\u001b[0m\u001b[0;34m,\u001b[0m \u001b[0mdtype\u001b[0m\u001b[0;34m=\u001b[0m\u001b[0mnp\u001b[0m\u001b[0;34m.\u001b[0m\u001b[0mint32\u001b[0m\u001b[0;34m)\u001b[0m\u001b[0;34m\u001b[0m\u001b[0;34m\u001b[0m\u001b[0m\n\u001b[0;32m----> 3\u001b[0;31m \u001b[0mtime_order\u001b[0m\u001b[0;34m=\u001b[0m\u001b[0mnp\u001b[0m\u001b[0;34m.\u001b[0m\u001b[0marray\u001b[0m\u001b[0;34m(\u001b[0m\u001b[0minput\u001b[0m\u001b[0;34m(\u001b[0m\u001b[0;34m)\u001b[0m\u001b[0;34m.\u001b[0m\u001b[0msplit\u001b[0m\u001b[0;34m(\u001b[0m\u001b[0;34m)\u001b[0m\u001b[0;34m,\u001b[0m \u001b[0mdtype\u001b[0m\u001b[0;34m=\u001b[0m\u001b[0mdatetime\u001b[0m\u001b[0;34m)\u001b[0m\u001b[0;34m\u001b[0m\u001b[0;34m\u001b[0m\u001b[0m\n\u001b[0m\u001b[1;32m      4\u001b[0m \u001b[0mprice_order\u001b[0m\u001b[0;34m=\u001b[0m\u001b[0mnp\u001b[0m\u001b[0;34m.\u001b[0m\u001b[0marray\u001b[0m\u001b[0;34m(\u001b[0m\u001b[0minput\u001b[0m\u001b[0;34m(\u001b[0m\u001b[0;34m)\u001b[0m\u001b[0;34m.\u001b[0m\u001b[0msplit\u001b[0m\u001b[0;34m(\u001b[0m\u001b[0;34m)\u001b[0m\u001b[0;34m,\u001b[0m \u001b[0mdtype\u001b[0m\u001b[0;34m=\u001b[0m\u001b[0mnp\u001b[0m\u001b[0;34m.\u001b[0m\u001b[0mint32\u001b[0m\u001b[0;34m)\u001b[0m\u001b[0;34m\u001b[0m\u001b[0;34m\u001b[0m\u001b[0m\n\u001b[1;32m      5\u001b[0m \u001b[0mtime\u001b[0m\u001b[0;34m=\u001b[0m\u001b[0mtime_order\u001b[0m\u001b[0;34m>\u001b[0m\u001b[0;36m18\u001b[0m\u001b[0;34m\u001b[0m\u001b[0;34m\u001b[0m\u001b[0m\n",
            "\u001b[0;31mNameError\u001b[0m: name 'datetime' is not defined"
          ]
        }
      ]
    },
    {
      "cell_type": "code",
      "source": [
        "20 21 22 23 24 25 26 27 28 29 30 31 32 33 34 35 36 37 38 39\n",
        "10:48:00 18:45:00 20:42:00 11:05:00 18:08:00 13:26:00 13:19:00 18:56:00 22:56:00 09:26:00 09:12:00 19:42:00 10:54:00 10:55:00 18:49:00 12:47:00 08:37:00 14:14:00 19:59:00 13:34:00\n",
        "107 480 859 224 250 106 993 1166 1196 1003 242 955 853 133 344 850 1171 120 853 856"
      ],
      "metadata": {
        "id": "rNfxUjhXbcub"
      },
      "execution_count": null,
      "outputs": []
    },
    {
      "cell_type": "markdown",
      "source": [
        "В базе данных автомобильной компании есть таблица с информацией о моделях автомобилей и их стоимости. Напишите программу на Python, которая находит все модели автомобилей, стоимость которых больше 45 000 долларов.\n",
        "\n",
        "На вход поступают две строки. В первой идут модели автомобилей через пробел. Во второй их стоимости - действительные числа.\n",
        "\n",
        "Вывод - массив numpy моделей автомобилей, удовлетворяющих условиям задачи."
      ],
      "metadata": {
        "id": "fcj7mbhIDDcx"
      }
    },
    {
      "cell_type": "code",
      "source": [
        "import numpy as np\n",
        "auto_name=np.array(input().split(), dtype=str)\n",
        "auto_prices=np.array(input().split(), dtype=np.float32)\n",
        "q=auto_prices>45000\n",
        "result_array = auto_name[q]\n",
        "print(result_array)"
      ],
      "metadata": {
        "colab": {
          "base_uri": "https://localhost:8080/"
        },
        "id": "4SEbNP16DDmJ",
        "outputId": "16ecaa1e-e52c-4c75-9ed9-ae184b3b0d9a"
      },
      "execution_count": null,
      "outputs": [
        {
          "output_type": "stream",
          "name": "stdout",
          "text": [
            "BMW3-Series AudiA4 MercedesC-Class LexusIS VolvoS60 InfinitiQ50 JaguarXE CadillacATS AcuraTLX BuickRegal LincolnMKZ Chrysler300C ChevroletMalibu FordFusion ToyotaCamry HondaAccord NissanAltima Mazda6 SubaruLegacy VolkswagenPassat\n",
            "33752.0 49604.0 59000.0 44695.0 50034.0 31102.0 52129.0 48795.0 39465.0 39388.0 54024.0 53606.0 40292.0 50819.0 53982.0 52782.0 50466.0 34118.0 53130.0 57512.0\n",
            "['AudiA4' 'MercedesC-Class' 'VolvoS60' 'JaguarXE' 'CadillacATS'\n",
            " 'LincolnMKZ' 'Chrysler300C' 'FordFusion' 'ToyotaCamry' 'HondaAccord'\n",
            " 'NissanAltima' 'SubaruLegacy' 'VolkswagenPassat']\n"
          ]
        }
      ]
    },
    {
      "cell_type": "markdown",
      "source": [
        "В базе данных компании-перевозчика есть таблица со списком всех маршрутов и датами отправления. Напишите функцию return_route(routes_array, dates_array), которая принимает два массива numpy routes_array,  содержащий названия маршрутов и dates_array, содержащий даты маршрутов в формате 'YYYY-MM-DD' в строковом представлении, которая находит и возвращает все маршруты, отправление на которые запланировано на дни с 10 по 20 включительно."
      ],
      "metadata": {
        "id": "_MnlSQz8D7sp"
      }
    },
    {
      "cell_type": "code",
      "source": [
        "import numpy as np\n",
        "\n",
        "def return_route(routes_array, dates_array):\n",
        "  if np.all(dates_array>='2023-04-01')==True:\n",
        "    bl=(dates_array>'2023-04-09') & (dates_array<'2023-04-21')\n",
        "    rez=routes_array[bl]\n",
        "  elif np.all(dates_array>='2023-03-01')==True:\n",
        "    bl1=(dates_array>'2023-03-09') & (dates_array<'2023-03-21')\n",
        "    rez=routes_array[bl1]\n",
        "  else:\n",
        "    rez=[]\n",
        "  return rez\n",
        "return_route(np.array(input().split(','), dtype=str),np.array(input().split(), dtype=str))"
      ],
      "metadata": {
        "colab": {
          "base_uri": "https://localhost:8080/"
        },
        "id": "2rHPEQZAD79o",
        "outputId": "7ab91204-487b-49b1-ae86-ce7645dc05e0"
      },
      "execution_count": null,
      "outputs": [
        {
          "output_type": "stream",
          "name": "stdout",
          "text": [
            "New York - Chicago, San Francisco - Houston, Atlanta - Denver, Miami - Portland, Seattle - Las Vegas, Boston - Nashville, Austin - San Diego, Philadelphia - Memphis, Dallas - Washington, Chicago - New York, Houston - San Francisco, Denver - Atlanta, Portland - Miami, Las Vegas - Seattle, Nashville - Boston, San Diego - Austin, Memphis - Philadelphia, Washington - Dallas, New Orleans - Phoenix, Toronto - Calgary\n",
            "2023-03-20, 2023-03-26, 2023-03-07, 2023-03-08, 2023-03-14, 2023-03-24, 2023-03-13, 2023-03-23, 2023-03-01, 2023-03-03, 2023-03-02, 2023-03-04, 2023-03-16, 2023-03-05, 2023-03-17, 2023-03-19, 2023-03-11, 2023-03-15, 2023-03-25, 2023-03-21\n",
            "[ True False False False  True False  True False False False False False\n",
            "  True False  True  True  True  True False False]\n"
          ]
        },
        {
          "output_type": "execute_result",
          "data": {
            "text/plain": [
              "array(['New York - Chicago', ' Seattle - Las Vegas',\n",
              "       ' Austin - San Diego', ' Portland - Miami', ' Nashville - Boston',\n",
              "       ' San Diego - Austin', ' Memphis - Philadelphia',\n",
              "       ' Washington - Dallas'], dtype='<U24')"
            ]
          },
          "metadata": {},
          "execution_count": 32
        }
      ]
    },
    {
      "cell_type": "code",
      "source": [
        "import numpy as np\n",
        "from datetime import datetime\n",
        "\n",
        "def return_route(routes_array, dates_array):\n",
        "    mask = np.array([True if ((datetime.strptime(day, \"%Y-%m-%d\").day >= 10) and\n",
        "     (datetime.strptime(day, \"%Y-%m-%d\").day <= 20)) else False for day in dates_array])\n",
        "    return routes_array[mask]"
      ],
      "metadata": {
        "id": "xUlaCzoiNDPk"
      },
      "execution_count": null,
      "outputs": []
    },
    {
      "cell_type": "markdown",
      "source": [
        "В базе данных интернет-магазина есть таблица со списком всех товаров и их ценами. Напишите функцию return_item(item, old_price, new_price), которая принимает три numpy массива item, old_price, new_price, содержащие название товара, старую цену  и новую цену соответственно и возвращает строку с товарами, цена на которые снизилась более чем на 20%. Товары разделены пробелами и следуют в том же порядке, в котором они находятся в исходном массиве."
      ],
      "metadata": {
        "id": "reshAF6rNDjk"
      }
    },
    {
      "cell_type": "code",
      "source": [
        "import numpy as np\n",
        "\n",
        "def return_item(item, old_price, new_price):\n",
        "  q=100-(new_price*100/old_price)>20\n",
        "  rez=item[q]\n",
        "  return ' '.join(rez)\n",
        "return_item(np.array(input().split(','), dtype=str),np.array(input().split(','), dtype=np.int32),np.array(input().split(','), dtype=np.int32))"
      ],
      "metadata": {
        "colab": {
          "base_uri": "https://localhost:8080/",
          "height": 90
        },
        "id": "bfIxYVTXNMBT",
        "outputId": "c893c9d5-ea19-4a5d-8f40-f5fe4db0cee6"
      },
      "execution_count": null,
      "outputs": [
        {
          "name": "stdout",
          "output_type": "stream",
          "text": [
            "Яблоко, Апельсин, Манго, Банан, Груша, Ананас, Киви, Арбуз, Дыня, Персик, Слива, Абрикос, Мандарин, Грейпфрут, Лимон, Лайм, Виноград, Черешня, Клубника, Малина\n",
            "50, 60, 100, 40, 70, 150, 80, 200, 120, 90, 80, 70, 65, 80, 55, 60, 90, 100, 120, 130\n",
            "45, 45, 90, 32, 60, 130, 70, 160, 100, 72, 64, 60, 50, 60, 45, 50, 72, 80, 100, 110\n"
          ]
        },
        {
          "output_type": "execute_result",
          "data": {
            "text/plain": [
              "' Апельсин Мандарин Грейпфрут'"
            ],
            "application/vnd.google.colaboratory.intrinsic+json": {
              "type": "string"
            }
          },
          "metadata": {},
          "execution_count": 74
        }
      ]
    },
    {
      "cell_type": "markdown",
      "source": [
        "В базе данных фитнес-центра есть таблица со списком всех клиентов и датами их последнего посещения. Напишите функцию return_names(names, dates), принимающую два numpy массива names - имена клиентов, dates - даты в формате 'YYYY-MM-DD' их последнего посещения, и возвращающую строку с именами всех клиентов, разделенных пробелом, которые не посещали фитнес-центр более 60 дней, если текущая дата '2022-03-22'."
      ],
      "metadata": {
        "id": "qqoCJIlmkQcP"
      }
    },
    {
      "cell_type": "code",
      "source": [
        "from datetime import datetime  # даты в dates входят в формате datetime\n",
        "\n",
        "cur_date = datetime(2022, 3, 22)  # текущая дата\n",
        "(cur_date - datetime.strptime(day, \"%Y-%m-%d\").days)  # разница в днях"
      ],
      "metadata": {
        "id": "VgDR5vlvup5U"
      },
      "execution_count": null,
      "outputs": []
    },
    {
      "cell_type": "code",
      "source": [
        "def return_names(names, dates):\n",
        "  current_date = '2022-03-22'\n",
        "  delta = current_date - dates\n",
        "  result = [name for name, date in zip(names, delta) if delta > 60]\n",
        "  return ''.join(result)\n",
        "return_names(np.array(input().split(), dtype=str),np.array(input().split(), dtype=str))"
      ],
      "metadata": {
        "colab": {
          "base_uri": "https://localhost:8080/",
          "height": 386
        },
        "id": "zhkUcrVivWZ7",
        "outputId": "907ca8a7-98c1-44a6-e754-e72827aaf712"
      },
      "execution_count": null,
      "outputs": [
        {
          "name": "stdout",
          "output_type": "stream",
          "text": [
            "Alice Bob Charlie Dave Eve Frank Grace Harry Iris Jack Kate Liam Mia Nate Olivia Peter Quinn Rose Steve Tina\n",
            "2022-01-10 2022-01-09 2022-01-01 2022-02-28 2022-02-20 2022-02-15 2022-03-01 2022-03-05 2022-02-10 2022-02-20 2022-03-10 2022-02-05 2022-02-08 2022-01-20 2022-03-05 2022-02-02 2022-01-01 2022-02-28 2022-03-01 2022-03-05\n"
          ]
        },
        {
          "output_type": "error",
          "ename": "UFuncTypeError",
          "evalue": "ignored",
          "traceback": [
            "\u001b[0;31m---------------------------------------------------------------------------\u001b[0m",
            "\u001b[0;31mUFuncTypeError\u001b[0m                            Traceback (most recent call last)",
            "\u001b[0;32m<ipython-input-12-2654e67a69ee>\u001b[0m in \u001b[0;36m<cell line: 6>\u001b[0;34m()\u001b[0m\n\u001b[1;32m      4\u001b[0m   \u001b[0mresult\u001b[0m \u001b[0;34m=\u001b[0m \u001b[0;34m[\u001b[0m\u001b[0mname\u001b[0m \u001b[0;32mfor\u001b[0m \u001b[0mname\u001b[0m\u001b[0;34m,\u001b[0m \u001b[0mdate\u001b[0m \u001b[0;32min\u001b[0m \u001b[0mzip\u001b[0m\u001b[0;34m(\u001b[0m\u001b[0mnames\u001b[0m\u001b[0;34m,\u001b[0m \u001b[0mdelta\u001b[0m\u001b[0;34m)\u001b[0m \u001b[0;32mif\u001b[0m \u001b[0mdelta\u001b[0m \u001b[0;34m>\u001b[0m \u001b[0;36m60\u001b[0m\u001b[0;34m]\u001b[0m\u001b[0;34m\u001b[0m\u001b[0;34m\u001b[0m\u001b[0m\n\u001b[1;32m      5\u001b[0m   \u001b[0;32mreturn\u001b[0m \u001b[0;34m''\u001b[0m\u001b[0;34m.\u001b[0m\u001b[0mjoin\u001b[0m\u001b[0;34m(\u001b[0m\u001b[0mresult\u001b[0m\u001b[0;34m)\u001b[0m\u001b[0;34m\u001b[0m\u001b[0;34m\u001b[0m\u001b[0m\n\u001b[0;32m----> 6\u001b[0;31m \u001b[0mreturn_names\u001b[0m\u001b[0;34m(\u001b[0m\u001b[0mnp\u001b[0m\u001b[0;34m.\u001b[0m\u001b[0marray\u001b[0m\u001b[0;34m(\u001b[0m\u001b[0minput\u001b[0m\u001b[0;34m(\u001b[0m\u001b[0;34m)\u001b[0m\u001b[0;34m.\u001b[0m\u001b[0msplit\u001b[0m\u001b[0;34m(\u001b[0m\u001b[0;34m)\u001b[0m\u001b[0;34m,\u001b[0m \u001b[0mdtype\u001b[0m\u001b[0;34m=\u001b[0m\u001b[0mstr\u001b[0m\u001b[0;34m)\u001b[0m\u001b[0;34m,\u001b[0m\u001b[0mnp\u001b[0m\u001b[0;34m.\u001b[0m\u001b[0marray\u001b[0m\u001b[0;34m(\u001b[0m\u001b[0minput\u001b[0m\u001b[0;34m(\u001b[0m\u001b[0;34m)\u001b[0m\u001b[0;34m.\u001b[0m\u001b[0msplit\u001b[0m\u001b[0;34m(\u001b[0m\u001b[0;34m)\u001b[0m\u001b[0;34m,\u001b[0m \u001b[0mdtype\u001b[0m\u001b[0;34m=\u001b[0m\u001b[0mstr\u001b[0m\u001b[0;34m)\u001b[0m\u001b[0;34m)\u001b[0m\u001b[0;34m\u001b[0m\u001b[0;34m\u001b[0m\u001b[0m\n\u001b[0m",
            "\u001b[0;32m<ipython-input-12-2654e67a69ee>\u001b[0m in \u001b[0;36mreturn_names\u001b[0;34m(names, dates)\u001b[0m\n\u001b[1;32m      1\u001b[0m \u001b[0;32mdef\u001b[0m \u001b[0mreturn_names\u001b[0m\u001b[0;34m(\u001b[0m\u001b[0mnames\u001b[0m\u001b[0;34m,\u001b[0m \u001b[0mdates\u001b[0m\u001b[0;34m)\u001b[0m\u001b[0;34m:\u001b[0m\u001b[0;34m\u001b[0m\u001b[0;34m\u001b[0m\u001b[0m\n\u001b[1;32m      2\u001b[0m   \u001b[0mcurrent_date\u001b[0m \u001b[0;34m=\u001b[0m \u001b[0;34m'2022-03-22'\u001b[0m\u001b[0;34m\u001b[0m\u001b[0;34m\u001b[0m\u001b[0m\n\u001b[0;32m----> 3\u001b[0;31m   \u001b[0mdelta\u001b[0m \u001b[0;34m=\u001b[0m \u001b[0mcurrent_date\u001b[0m \u001b[0;34m-\u001b[0m \u001b[0mdates\u001b[0m\u001b[0;34m\u001b[0m\u001b[0;34m\u001b[0m\u001b[0m\n\u001b[0m\u001b[1;32m      4\u001b[0m   \u001b[0mresult\u001b[0m \u001b[0;34m=\u001b[0m \u001b[0;34m[\u001b[0m\u001b[0mname\u001b[0m \u001b[0;32mfor\u001b[0m \u001b[0mname\u001b[0m\u001b[0;34m,\u001b[0m \u001b[0mdate\u001b[0m \u001b[0;32min\u001b[0m \u001b[0mzip\u001b[0m\u001b[0;34m(\u001b[0m\u001b[0mnames\u001b[0m\u001b[0;34m,\u001b[0m \u001b[0mdelta\u001b[0m\u001b[0;34m)\u001b[0m \u001b[0;32mif\u001b[0m \u001b[0mdelta\u001b[0m \u001b[0;34m>\u001b[0m \u001b[0;36m60\u001b[0m\u001b[0;34m]\u001b[0m\u001b[0;34m\u001b[0m\u001b[0;34m\u001b[0m\u001b[0m\n\u001b[1;32m      5\u001b[0m   \u001b[0;32mreturn\u001b[0m \u001b[0;34m''\u001b[0m\u001b[0;34m.\u001b[0m\u001b[0mjoin\u001b[0m\u001b[0;34m(\u001b[0m\u001b[0mresult\u001b[0m\u001b[0;34m)\u001b[0m\u001b[0;34m\u001b[0m\u001b[0;34m\u001b[0m\u001b[0m\n",
            "\u001b[0;31mUFuncTypeError\u001b[0m: ufunc 'subtract' did not contain a loop with signature matching types (dtype('<U10'), dtype('<U10')) -> None"
          ]
        }
      ]
    },
    {
      "cell_type": "markdown",
      "source": [
        "В базе данных ресторана есть таблица со списком всех блюд и их калорийностью. Напишите функцию get_calories(dishes, calories), принимающую numpy массивы dishes (названия блюд), calories (калории), которая возвращает строку с блюдами, калорийность которых меньше 300 калорий."
      ],
      "metadata": {
        "id": "IIZXdQxXwlDr"
      }
    },
    {
      "cell_type": "code",
      "source": [
        "import numpy as np\n",
        "\n",
        "def get_calories(dishes, calories):\n",
        "  q=calories<300\n",
        "  rez=dishes[q]\n",
        "  return ' '.join(rez)\n",
        "get_calories(np.array(input().split(','), dtype=str),np.array(input().split(), dtype=np.int32))"
      ],
      "metadata": {
        "colab": {
          "base_uri": "https://localhost:8080/",
          "height": 92
        },
        "id": "EPa2irtAwlcS",
        "outputId": "0d46d387-e147-4980-b205-7febea15c033"
      },
      "execution_count": null,
      "outputs": [
        {
          "name": "stdout",
          "output_type": "stream",
          "text": [
            "Омлет, Овсяная каша, Яблочный пирог, Салат Цезарь, Борщ, Рыба на гриле, Куриный суп, Сырники, Мясной рулет, Печенье, Гречневая каша, Пицца, Шашлык, Картофель фри, Паста с морепродуктами, Котлеты из куриного филе, Жареный рис, Блины, Суп из шампиньонов, Гренки с сыром\n",
            "290 140 240 350 250 390 120 280 450 200 180 460 420 330 410 390 380 150 210 290\n"
          ]
        },
        {
          "output_type": "execute_result",
          "data": {
            "text/plain": [
              "'Омлет Овсяная каша Яблочный пирог Борщ Куриный суп Сырники Печенье Гречневая каша Блины Суп из шампиньонов Гренки с сыром'"
            ],
            "application/vnd.google.colaboratory.intrinsic+json": {
              "type": "string"
            }
          },
          "metadata": {},
          "execution_count": 16
        }
      ]
    },
    {
      "cell_type": "markdown",
      "source": [
        "Задача заключается в том, чтобы использовать булево индексирование для фильтрации отзывов на онлайн-маркетплейсе. Например, нужно выбрать только те отзывы, которые содержат ключевые слова, такие как \"отличный\", \"качество\", \"быстрая доставка\" и т.д. Для этого необходимо создать функцию filter_feedback(feeds, keywords), принимающую два numpy массива feeds (массив с отзывами) и keywords - список Python, содержащий ключевые слова, по которым фильтруются элементы первого списка.\n",
        "\n",
        "Вывод: массив с отзывами, в которых упоминается хотя бы одно ключевое слово из второго списка."
      ],
      "metadata": {
        "id": "TBs60uLWxmST"
      }
    },
    {
      "cell_type": "code",
      "source": [
        "import numpy as np\n",
        "\n",
        "def filter_feedback(feeds, keywords):\n",
        "  lower_feeds=np.char.lower(feeds)\n",
        "  q = np.isin(lower_feeds,keywords)\n",
        "  print(q)\n",
        "filter_feedback(np.array(input().split(','), dtype=str),np.array(input().split(), dtype=str))"
      ],
      "metadata": {
        "colab": {
          "base_uri": "https://localhost:8080/"
        },
        "id": "aiSQ5pjozBP7",
        "outputId": "0a213a60-0825-4f25-ed1e-cfb0b5fc97c2"
      },
      "execution_count": null,
      "outputs": [
        {
          "output_type": "stream",
          "name": "stdout",
          "text": [
            "Отличный телефон!, Очень плохое качество экрана, Быстрая доставка и качественный товар, Телефон просто супер, Ужасный сервис и низкое качество товара, Купил телефон неделю назад и пока всё нравится, Это лучший телефон, который я когда-либо покупал, Очень неудобный дизайн, Отличный звук и мощная батарея, Не стоит своих денег\n",
            "отличный качественный супер лучший\n",
            "[False False False False False False False False False False False]\n"
          ]
        }
      ]
    },
    {
      "cell_type": "markdown",
      "source": [
        "Имеется массив данных, содержащий информацию о ценах на продукты в нескольких магазинах. Необходимо найти все продукты, цена которых меньше 10 рублей и при этом в наличии есть не менее 6 единиц товара. Для этого создать функцию find_less_10(items, prices, quantities), принимающую на вход три numpy массива: items - названия продуктов, prices - цены на продукты, quantities - количество оставшихся единиц. Функция должна возвращать numpy массив, содержащий названия продуктов, соответствующих условиям задачи."
      ],
      "metadata": {
        "id": "3ckYCa7v3P2t"
      }
    },
    {
      "cell_type": "code",
      "source": [
        "import numpy as np\n",
        "\n",
        "def find_less_10(items, prices, quantities):\n",
        "  q=(prices<10) & (quantities>=6)\n",
        "  rez=items[q]\n",
        "  return rez.tolist()\n",
        "find_less_10(np.array(input().split(','), dtype=str),np.array(input().split(','), dtype=np.int32),np.array(input().split(','), dtype=np.int32))"
      ],
      "metadata": {
        "colab": {
          "base_uri": "https://localhost:8080/"
        },
        "id": "AQiOBx0K3O46",
        "outputId": "f2bf604f-838a-47d0-f1f4-0a7b97b6dd5c"
      },
      "execution_count": null,
      "outputs": [
        {
          "name": "stdout",
          "output_type": "stream",
          "text": [
            "хлеб, молоко, сыр, яблоки, бананы, колбаса, яйца, сок, кефир, курица\n",
            "8, 12, 6, 5, 11, 9, 10, 7, 4, 15\n",
            "10, 2, 8, 6, 4, 7, 3, 9, 5, 12\n"
          ]
        },
        {
          "output_type": "execute_result",
          "data": {
            "text/plain": [
              "['хлеб', ' сыр', ' яблоки', ' колбаса', ' сок']"
            ]
          },
          "metadata": {},
          "execution_count": 34
        }
      ]
    },
    {
      "cell_type": "markdown",
      "source": [
        "Имеется массив данных за месяц, содержащий информацию о температуре воздуха (в градусах Цельсия) и количестве осадков (в мм) за каждый день месяца. Необходимо найти дни, в которые было пасмурно, т.е. количество осадков было больше среднего значения за месяц, а температура воздуха была ниже средней температуры за месяц. Создайте функцию special_days(temperatures, precipitations), которая принимает numpy массивы с данными о температуре и количестве осадков за каждый день месяца. Функция должна возвращать numpy массив номеров дней, которые удовлетворяют условиям задачи."
      ],
      "metadata": {
        "id": "SwG_96cN4dFa"
      }
    },
    {
      "cell_type": "code",
      "source": [
        "import numpy as np\n",
        "\n",
        "def special_days(temperatures, precipitations):\n",
        "  lens=len(temperatures)\n",
        "  arr=np.arange(1,lens+1)\n",
        "  mean_t=temperatures.mean()\n",
        "  mean_p=precipitations.mean()\n",
        "  q=(temperatures<mean_t) & (precipitations>mean_p)\n",
        "  rez=arr[q]\n",
        "  return rez\n",
        "special_days(np.array(input().split(','), dtype=np.int32),np.array(input().split(','), dtype=np.int32))"
      ],
      "metadata": {
        "colab": {
          "base_uri": "https://localhost:8080/"
        },
        "id": "fkzMZ9Nf4dSq",
        "outputId": "9fa38a91-b9b8-4422-988b-b28a4a46556d"
      },
      "execution_count": null,
      "outputs": [
        {
          "name": "stdout",
          "output_type": "stream",
          "text": [
            "-4, 2, 6, 10, 11, 12, 14, 16, 13, 7, 2, -2, -7, -9, -6, 1, 3, 5, 8, 10, 11, 12, 8, 5, -1\n",
            "12, 9, 10, 6, 5, 7, 8, 14, 16, 17, 18, 12, 9, 7, 8, 6, 5, 4, 3, 2, 4, 7, 9, 10, 12\n"
          ]
        },
        {
          "output_type": "execute_result",
          "data": {
            "text/plain": [
              "array([ 1,  2, 11, 12, 13, 24, 25])"
            ]
          },
          "metadata": {},
          "execution_count": 36
        }
      ]
    },
    {
      "cell_type": "markdown",
      "source": [],
      "metadata": {
        "id": "OtKgpckqigB8"
      }
    },
    {
      "cell_type": "markdown",
      "source": [],
      "metadata": {
        "id": "AAThzOdKigEr"
      }
    },
    {
      "cell_type": "markdown",
      "source": [],
      "metadata": {
        "id": "MBab-FoAigH6"
      }
    },
    {
      "cell_type": "markdown",
      "source": [],
      "metadata": {
        "id": "7jZMpjxligKg"
      }
    },
    {
      "cell_type": "markdown",
      "source": [],
      "metadata": {
        "id": "s2ayYaKCigNH"
      }
    },
    {
      "cell_type": "markdown",
      "source": [],
      "metadata": {
        "id": "QEupROvsigZ6"
      }
    },
    {
      "cell_type": "markdown",
      "source": [
        "Формула для расчета процентного роста доходов компании на основе натуральных логарифмов выглядит следующим образом:\n",
        "\n",
        "growth_rate(t)=(ln(income)(t)−ln(income)(t−1))∗100\n",
        "\n",
        "где ln(income)(t)- натуральный логарифм доходов компании в текущем году, ln(income)(t−1) - натуральный логарифм доходов компании в предыдущем году, growth_rate(t) - процентный рост доходов компании в текущем году.\n",
        "\n",
        "Для вычисления процентного роста доходов используется разность натуральных логарифмов доходов в текущем и предыдущем годах, которая затем умножается на 100, чтобы выразить результат в процентах.\n",
        "\n",
        "Вход: последовательность целых чисел, разделенных пробелом - прибыль по годам.\n",
        "\n",
        "Выход: строка чисел, разделенных пробелом - процентный рост доходов, начиная со второго года."
      ],
      "metadata": {
        "id": "Yh2eXDB-igcv"
      }
    },
    {
      "cell_type": "code",
      "source": [
        "import numpy as np\n",
        "arr1=np.array(input().split(), dtype=np.int32)\n",
        "r=np.log(arr1)\n",
        "diff=np.round(np.diff(r)*100,2)\n",
        "print(*diff)"
      ],
      "metadata": {
        "colab": {
          "base_uri": "https://localhost:8080/"
        },
        "id": "On1uKBOhihAs",
        "outputId": "e8ca1e46-8819-448e-8493-6224d48594f9"
      },
      "execution_count": null,
      "outputs": [
        {
          "output_type": "stream",
          "name": "stdout",
          "text": [
            "279305 181578 457865 157401 305274 206540 276112 145516 411860 74741 489692 578971 401350 434052 283243 216255 297217 262751 307565\n",
            "-43.06 92.49 -106.78 66.24 -39.07 29.03 -64.05 104.04 -170.67 187.97 16.75 -36.64 7.83 -42.69 -26.98 31.8 -12.33 15.75\n"
          ]
        }
      ]
    },
    {
      "cell_type": "markdown",
      "source": [
        "Ваша задача рассчитать значение коэффициента сопротивления воздуха для автомобиля при различных значениях угла наклона кузова.\n",
        "\n",
        "На вход поступает последовательность действительных чисел - углы наклона кузова автомобиля в радианах.\n",
        "\n",
        "Выход: последовательность действительных чисел, разделенных пробелом - значения коэффициентов сопротивления для данных углов. Значения должны быть округлены до трех знаков после запятой."
      ],
      "metadata": {
        "id": "4VC9dKXQkswC"
      }
    },
    {
      "cell_type": "code",
      "source": [
        "import numpy as np\n",
        "arr1=np.array(input().split(), dtype=np.float32)\n",
        "x=1/2*1.225*2.28*(0.23+0.15*np.sin(arr1)+0.01*np.cos(arr1))\n",
        "z=np.round(x,3)\n",
        "print(*z,sep=' ')\n",
        "\n"
      ],
      "metadata": {
        "colab": {
          "base_uri": "https://localhost:8080/"
        },
        "id": "Ypj2ZvG_lMCC",
        "outputId": "465240e0-82a8-4887-eedd-47516d670110"
      },
      "execution_count": null,
      "outputs": [
        {
          "output_type": "stream",
          "name": "stdout",
          "text": [
            "0.0 0.1 0.2 0.3 0.4 0.5 0.6 0.7 0.34 0.36 0.38 0.4 0.42 0.43 0.45 0.47\n",
            "0.335 0.356 0.376 0.396 0.416 0.434 0.451 0.467 0.404 0.408 0.412 0.416 0.419 0.421 0.425 0.429\n"
          ]
        }
      ]
    },
    {
      "cell_type": "markdown",
      "source": [
        "Вход: Первая строка, массив углов в градусах - действительные числа разделенные пробелом. Вторая строка - действительное число h  - высота здания.\n",
        "\n",
        "Выход: последовательность действительных чисел, разделенных пробелом - длина тени, для соответствующих углов наклона крыши. Числа должны быть округлены до трех знаков после запятой.\n",
        "\n",
        "Внимание, для перевода градусов в радианы используйте функцию np.deg2rad библиотеки."
      ],
      "metadata": {
        "id": "sPx6gRVGqMeJ"
      }
    },
    {
      "cell_type": "code",
      "source": [
        "import numpy as np\n",
        "arr1=np.denp.array(input().split(), dtype=np.float32)\n",
        "arr2=np.array(input().split(), dtype=np.int32)"
      ],
      "metadata": {
        "id": "xtfUx0LHx_MB"
      },
      "execution_count": null,
      "outputs": []
    },
    {
      "cell_type": "code",
      "source": [
        "import numpy as np\n",
        "arr1=np.deg2rad(np.array(input().split(), dtype=np.float32))\n",
        "arr2=np.array(input().split(), dtype=np.int32)\n",
        "rez=np.round(arr2*np.tan(arr1),3)\n",
        "print(*rez,sep=' ')\n"
      ],
      "metadata": {
        "colab": {
          "base_uri": "https://localhost:8080/"
        },
        "id": "Swklt_bDqM4q",
        "outputId": "74cfadfc-5e2c-416c-9bde-91e2ebb77eca"
      },
      "execution_count": null,
      "outputs": [
        {
          "output_type": "stream",
          "name": "stdout",
          "text": [
            "53.5 43.7 9.8 46.6 61.5 5.7 38.2 29.5 15.8 8.1 58.1 14.8 20.8 16.9 43.8 29.5 20.3 18.8 7.2 62.1 31.0 8.7 30.4 11.2 22.8 35.6 15.6\n",
            "14\n",
            "18.92 13.379 2.418 14.805 25.785 1.397 11.017 7.921 3.962 1.992 22.492 3.699 5.318 4.254 13.426 7.921 5.179 4.766 1.769 26.441 8.412 2.142 8.214 2.772 5.885 10.023 3.909\n"
          ]
        }
      ]
    },
    {
      "cell_type": "markdown",
      "source": [
        "Вход: Первая строка -  массив сторон а, различных треугольников, вторая - массив сторон b, третья - массив сторон с.\n",
        "\n",
        "Выход: Три массива. Первый массив - последовательность действительных чисел разделенных пробелом - углы α, второй и третий соответственно массивы углов\n",
        "β,γ., выраженные в градусах Все значения должны быть округлены до одного знака после запятой.\n",
        "\n",
        "Внимание, для перевода градусов в радианы используйте функцию np.rad2deg библиотеки."
      ],
      "metadata": {
        "id": "REvpIQQDyz0I"
      }
    },
    {
      "cell_type": "code",
      "source": [
        "import numpy as np\n",
        "a=np.array(input().split(), dtype=np.float32)\n",
        "b=np.array(input().split(), dtype=np.float32)\n",
        "c=np.array(input().split(), dtype=np.float32)\n",
        "a_1= np.rad2deg(np.arccos(np.deg2rad((np.power(b,2)+np.power(c,2)-np.power(a,2))/(2*a*c))))\n",
        "b_1= np.deg2rad(np.arccos(np.rad2deg((np.power(b,2)+np.power(c,2)-np.power(a,2))/(2*a*c))))\n",
        "c_1= np.deg2rad(np.rad2deg(np.arccos(((np.power(b,2)+np.power(c,2)-np.power(a,2))/(2*a*c)))))\n",
        "e_1= np.rad2deg(np.deg2rad(np.arccos(((np.power(b,2)+np.power(c,2)-np.power(a,2))/(2*a*c)))))\n",
        "print(a_1)\n",
        "print(b_1)\n",
        "print(c_1)\n",
        "print(e_1)"
      ],
      "metadata": {
        "colab": {
          "base_uri": "https://localhost:8080/"
        },
        "id": "__2BS7_DArDD",
        "outputId": "f9127504-0c9e-4dc4-de55-bf4ecc631fe2"
      },
      "execution_count": null,
      "outputs": [
        {
          "output_type": "stream",
          "name": "stdout",
          "text": [
            "1\n",
            "4\n",
            "4\n",
            "[86.12203]\n",
            "[nan]\n",
            "[nan]\n",
            "[nan]\n"
          ]
        },
        {
          "output_type": "stream",
          "name": "stderr",
          "text": [
            "<ipython-input-143-0ee252dc3620>:6: RuntimeWarning: invalid value encountered in arccos\n",
            "  b_1= np.deg2rad(np.arccos(np.rad2deg((np.power(b,2)+np.power(c,2)-np.power(a,2))/(2*a*c))))\n",
            "<ipython-input-143-0ee252dc3620>:7: RuntimeWarning: invalid value encountered in arccos\n",
            "  c_1= np.deg2rad(np.rad2deg(np.arccos(((np.power(b,2)+np.power(c,2)-np.power(a,2))/(2*a*c)))))\n",
            "<ipython-input-143-0ee252dc3620>:8: RuntimeWarning: invalid value encountered in arccos\n",
            "  e_1= np.rad2deg(np.deg2rad(np.arccos(((np.power(b,2)+np.power(c,2)-np.power(a,2))/(2*a*c)))))\n"
          ]
        }
      ]
    },
    {
      "cell_type": "code",
      "source": [
        "import numpy as np\n",
        "a=np.deg2rad(np.array(input().split(), dtype=np.float32))\n",
        "b=np.deg2rad(np.array(input().split(), dtype=np.float32))\n",
        "c=np.deg2rad(np.array(input().split(), dtype=np.float32))\n",
        "a_1= np.arccos((np.power(b,2)+np.power(c,2)-np.power(a,2))/(2*a*c))\n",
        "print(a, b, c)\n",
        "print(a_1)"
      ],
      "metadata": {
        "colab": {
          "base_uri": "https://localhost:8080/"
        },
        "id": "rfwasuBa4h2f",
        "outputId": "7f5ef0e2-17c8-4922-e54b-d6f2cdbf0360"
      },
      "execution_count": null,
      "outputs": [
        {
          "output_type": "stream",
          "name": "stdout",
          "text": [
            "1\n",
            "4\n",
            "4\n",
            "[0.01745329] [0.06981317] [0.06981317]\n",
            "[nan]\n"
          ]
        },
        {
          "output_type": "stream",
          "name": "stderr",
          "text": [
            "<ipython-input-133-8a4fd5ed2fb5>:5: RuntimeWarning: invalid value encountered in arccos\n",
            "  a_1= np.arccos((np.power(b,2)+np.power(c,2)-np.power(a,2))/(2*a*c))\n"
          ]
        }
      ]
    },
    {
      "cell_type": "code",
      "source": [
        "import numpy as np\n",
        "a=np.deg2rad(np.array(input().split(), dtype=np.int32))\n",
        "b=np.deg2rad(np.array(input().split(), dtype=np.int32))\n",
        "c=np.deg2rad(np.array(input().split(), dtype=np.int32))\n",
        "a_1= np.rad2deg(np.arccos((np.power(b,2)+np.power(c,2)-np.power(a,2))/(2*a*c)))\n",
        "b_1= np.rad2deg(np.arccos((np.power(b,2)+np.power(c,2)-np.power(a,2))/(2*a*c)))\n",
        "c_1= np.rad2deg(np.arccos((np.power(b,2)+np.power(c,2)-np.power(a,2))/(2*a*c)))\n",
        "print(np.round(a_1,1))\n",
        "print(b_1)\n",
        "print(c_1)"
      ],
      "metadata": {
        "colab": {
          "base_uri": "https://localhost:8080/"
        },
        "id": "sM19vZy6y93I",
        "outputId": "94901630-e6e6-4a04-d72a-86fdeb6390f0"
      },
      "execution_count": null,
      "outputs": [
        {
          "output_type": "stream",
          "name": "stdout",
          "text": [
            "1\n",
            "4\n",
            "4\n",
            "[nan]\n",
            "[nan]\n",
            "[nan]\n"
          ]
        },
        {
          "output_type": "stream",
          "name": "stderr",
          "text": [
            "<ipython-input-130-695b954dea8f>:5: RuntimeWarning: invalid value encountered in arccos\n",
            "  a_1= np.rad2deg(np.arccos((np.power(b,2)+np.power(c,2)-np.power(a,2))/(2*a*c)))\n",
            "<ipython-input-130-695b954dea8f>:6: RuntimeWarning: invalid value encountered in arccos\n",
            "  b_1= np.rad2deg(np.arccos((np.power(b,2)+np.power(c,2)-np.power(a,2))/(2*a*c)))\n",
            "<ipython-input-130-695b954dea8f>:7: RuntimeWarning: invalid value encountered in arccos\n",
            "  c_1= np.rad2deg(np.arccos((np.power(b,2)+np.power(c,2)-np.power(a,2))/(2*a*c)))\n"
          ]
        }
      ]
    },
    {
      "cell_type": "markdown",
      "source": [
        "Вход - массив со значениями времени - действительные числа, разделенные пробелом.\n",
        "\n",
        "Выход строка чисел разделенных пробелом - количество бактерий в указанные моменты времени. Значения должны быть округлены до одного знака после запятой."
      ],
      "metadata": {
        "id": "YWJ-sQgYB2aL"
      }
    },
    {
      "cell_type": "code",
      "source": [
        "import numpy as np\n",
        "arr=np.array(input().split(), dtype=float)\n",
        "z=1000*np.exp(0.3155*arr)\n",
        "red=np.round(z,1)\n",
        "print(*red,sep=' ')\n",
        "\n"
      ],
      "metadata": {
        "colab": {
          "base_uri": "https://localhost:8080/"
        },
        "id": "uuFSX5hwGgci",
        "outputId": "f43d182a-467e-49ef-c8a0-9ba9544beca3"
      },
      "execution_count": null,
      "outputs": [
        {
          "output_type": "stream",
          "name": "stdout",
          "text": [
            "0.0 1.0 2.0 3.0 4.0 5.0 6.0 7.0 8.0 9.0 10.0 11.0 12.0 13.0 14.0 15.0 16.0 17.0 18.0 19.0 20.0 21.0 22.0 23.0 24.0 25.0 26.0 27.0 28.0 29.0 30.0 31.0  32.0 33.0 34.0 35.0 36.0 37.0 38.0 39.0 40.0 41.0 42.0 43.0 44.0 45.0 46.0 47.0 48.0\n",
            "1000.0 1370.9 1879.5 2576.7 3532.5 4842.8 6639.3 9102.1 12478.4 17107.2 23453.0 32152.8 44079.7 60430.9 82847.4 113579.2 155710.7 213470.8 292656.6 401216.0 550044.9 754081.2 1033803.5 1417287.3 1943022.4 2663776.1 3651889.6 5006538.3 6863686.7 9409734.3 12900224.6 17685493.4 24245831.9 33239692.6 45569777.4 62473640.8 85647901.3 117418528.8 160974299.4 220686848.4 302549445.7 414778532.4 568638394.2 779571742.7 1068749680.2 1465196615.6 2008703405.5 2753821110.7 3775336214.0\n"
          ]
        }
      ]
    },
    {
      "cell_type": "markdown",
      "source": [
        "Вход: любимый массив математических гениев.\n",
        "\n",
        "Выход: округленные до трех знаков значения в  массиве математических гениев."
      ],
      "metadata": {
        "id": "-AVPWJRKLTi6"
      }
    },
    {
      "cell_type": "code",
      "source": [
        "import numpy as np\n",
        "arr=np.array(input().split(), dtype=int)\n",
        "rez=np.round(np.sqrt(arr),3)\n",
        "print(*rez,sep=' ')"
      ],
      "metadata": {
        "colab": {
          "base_uri": "https://localhost:8080/"
        },
        "id": "FWY2Gm-nLT2J",
        "outputId": "9f696d7e-5676-4861-aae7-1030f4b425e5"
      },
      "execution_count": null,
      "outputs": [
        {
          "output_type": "stream",
          "name": "stdout",
          "text": [
            "11 7 3 5 10 15 2 16 18 22 19 8 4 3 20 2 3 14 19 22 4 4 12 14 13 10 4 13 14 4 14 22 3 8 11 20 2 9 16 19 10 1 1 21 7 21 17 19 9 19 17 14 1 9 8 22 7 22 4 20 7 16 19 6 6\n",
            "3.317 2.646 1.732 2.236 3.162 3.873 1.414 4.0 4.243 4.69 4.359 2.828 2.0 1.732 4.472 1.414 1.732 3.742 4.359 4.69 2.0 2.0 3.464 3.742 3.606 3.162 2.0 3.606 3.742 2.0 3.742 4.69 1.732 2.828 3.317 4.472 1.414 3.0 4.0 4.359 3.162 1.0 1.0 4.583 2.646 4.583 4.123 4.359 3.0 4.359 4.123 3.742 1.0 3.0 2.828 4.69 2.646 4.69 2.0 4.472 2.646 4.0 4.359 2.449 2.449\n"
          ]
        }
      ]
    },
    {
      "cell_type": "markdown",
      "source": [
        "Вход: строка действительных чисел, разделенных пробелом - значения переменного электрического сигнала.\n",
        "\n",
        "Выход: максимальное значение амплитуды данной последовательности."
      ],
      "metadata": {
        "id": "32HB3oprL_vz"
      }
    },
    {
      "cell_type": "code",
      "source": [
        "import numpy as np\n",
        "arr=np.array(input().split(), dtype=float)\n",
        "arr_abs=np.max(np.abs(arr))\n",
        "print(arr_abs)"
      ],
      "metadata": {
        "colab": {
          "base_uri": "https://localhost:8080/"
        },
        "id": "bijX4L4LMACy",
        "outputId": "3b5f5281-664a-413e-b8de-808cc1f86a61"
      },
      "execution_count": null,
      "outputs": [
        {
          "output_type": "stream",
          "name": "stdout",
          "text": [
            "24.0 -23.5 -23.0 -22.5 -22.0 -21.5 -21.0 -20.5 -19.9 -19.4 -18.9 -18.4 -17.9 -17.4 -16.9 -16.4 -15.9 -15.4 -14.9 -14.4 -13.9 -13.4 -12.9 -12.4 -11.9 -11.4 -10.9 -10.4 -9.8 -9.3 -8.8 -8.3 -7.8 -7.3 -6.8 -6.3 -5.8 -5.3 -4.8 -4.3 -3.8 -3.3 -2.8 -2.3 -1.8 -1.3 -0.8 -0.3 0.3 0.8 1.3 1.8 2.3 2.8 3.3 3.8 4.3 4.8 5.3 5.8 6.3 6.8 7.3 7.8 8.3 8.8 9.3 9.8 10.4 10.9 11.4 11.9 12.4 12.9 13.4 13.9 14.4 14.9\n",
            "24.0\n"
          ]
        }
      ]
    },
    {
      "cell_type": "markdown",
      "source": [
        "На вход поступает последовательность действительных чисел, содержащая цены акций за определенный промежуток времени. На ее основе необходимо создать массив numpy разностей между текущей и предыдущей ценой, и затем применить функцию sign() к полученным данным. Результатом будет массив, содержащий 1, если цена возросла, -1, если цена упала, и 0, если цена не изменилась."
      ],
      "metadata": {
        "id": "lzSuBVUvMglx"
      }
    },
    {
      "cell_type": "code",
      "source": [
        "import numpy as np\n",
        "arr=np.array(input().split(), dtype=np.float64)\n",
        "diff=np.sign(np.diff(arr))\n",
        "print(*diff,sep=' ')"
      ],
      "metadata": {
        "colab": {
          "base_uri": "https://localhost:8080/"
        },
        "id": "sKMmsKTfMg55",
        "outputId": "7a1a605e-c2a2-4a74-cf84-dacaa226d30c"
      },
      "execution_count": null,
      "outputs": [
        {
          "output_type": "stream",
          "name": "stdout",
          "text": [
            "1205.5 1196.8 1202.3 1186.5 1193.8 1206.0 1198.8 1214.0 1204.6 1194.8\n",
            "[-1.  1. -1.  1.  1. -1.  1. -1. -1.]\n",
            "-1.0 1.0 -1.0 1.0 1.0 -1.0 1.0 -1.0 -1.0\n"
          ]
        }
      ]
    },
    {
      "cell_type": "markdown",
      "source": [
        "Теперь, используя магию numpy и функцию np.power, Гермиона может решить эту задачу и раскрыть тайну загадки.\n",
        "\n",
        "Вход: в первой строке массив целых чисел, разделенных пробелом, во второй строке - целое число n.\n",
        "\n",
        "Выход: строка чисел, разделенных пробелом, каждое из которых возведено в степень n."
      ],
      "metadata": {
        "id": "NxBF9TdAQuVQ"
      }
    },
    {
      "cell_type": "code",
      "source": [
        "import numpy as np\n",
        "arr1=np.array(input().split(), dtype=np.int32)\n",
        "arr2=np.array(input().split(), dtype=np.int32)\n",
        "r=np.power(arr1,arr2)\n",
        "print(*r,sep=' ')"
      ],
      "metadata": {
        "colab": {
          "base_uri": "https://localhost:8080/"
        },
        "id": "W-lr2wxjQu7f",
        "outputId": "c2c22778-7e52-42a8-ad14-d8e3aed1cdd8"
      },
      "execution_count": null,
      "outputs": [
        {
          "output_type": "stream",
          "name": "stdout",
          "text": [
            "12 14 21 5 1 6 1 11 15 6 7 13 16 20 1 4 11 19 2 14 7 21 19 12 3 15 18 14 7 21 8 14 1 1 12 9 16 12 9 4 18 6 13 8 13 14 7 21 1 6 22 6 13 21 11 22 19 20 2 6 22 14 4 16 19 12 18 10 4 21 21 8 17 17 12 13 5 2 15 19 21 12 14 9 22 19 21 9 22 9 22 3 20 4 19 22 13 13 5 11 7 3 5 10 15 2 16 18 22 19 8 4 3 20 2 3 14 19 22 4 4 12 14 13 10 4 13 14 4 14 22 3 8 11 20 2 9 16 19 10 1 1 21 7 21 17 19 9 19 17 14 1 9 8 22 7 22 4 20 7 16 19 6 6\n",
            "3\n",
            "1728 2744 9261 125 1 216 1 1331 3375 216 343 2197 4096 8000 1 64 1331 6859 8 2744 343 9261 6859 1728 27 3375 5832 2744 343 9261 512 2744 1 1 1728 729 4096 1728 729 64 5832 216 2197 512 2197 2744 343 9261 1 216 10648 216 2197 9261 1331 10648 6859 8000 8 216 10648 2744 64 4096 6859 1728 5832 1000 64 9261 9261 512 4913 4913 1728 2197 125 8 3375 6859 9261 1728 2744 729 10648 6859 9261 729 10648 729 10648 27 8000 64 6859 10648 2197 2197 125 1331 343 27 125 1000 3375 8 4096 5832 10648 6859 512 64 27 8000 8 27 2744 6859 10648 64 64 1728 2744 2197 1000 64 2197 2744 64 2744 10648 27 512 1331 8000 8 729 4096 6859 1000 1 1 9261 343 9261 4913 6859 729 6859 4913 2744 1 729 512 10648 343 10648 64 8000 343 4096 6859 216 216\n"
          ]
        }
      ]
    },
    {
      "cell_type": "markdown",
      "source": [
        "Вход: две строки, содержащие веса ягод. В первой строке ягоды из леса, во второй строке - ягоды из сада.\n",
        "\n",
        "Выход: Для каждой пары ягод нужно выбрать самую крупную и вывести ее вес в строке чисел, разделенных пробелом."
      ],
      "metadata": {
        "id": "SB5Gtfej1XUU"
      }
    },
    {
      "cell_type": "code",
      "source": [
        "import numpy as np\n",
        "arr1=np.array(input().split(), dtype=np.int32)\n",
        "arr2=np.array(input().split(), dtype=np.int32)\n",
        "z=np.maximum(arr1,arr2)\n",
        "print(*z)"
      ],
      "metadata": {
        "colab": {
          "base_uri": "https://localhost:8080/"
        },
        "id": "Dqgf409t1Wms",
        "outputId": "deba4103-0e8e-4f5f-f6b4-3e874d65f38c"
      },
      "execution_count": null,
      "outputs": [
        {
          "output_type": "stream",
          "name": "stdout",
          "text": [
            "26 29 13 16 27 12 25 30 32 13 14 20\n",
            "15 20 19 24 25 26 11 21 12 24 13 19\n",
            "[26 29 19 24 27 26 25 30 32 24 14 20]\n"
          ]
        }
      ]
    },
    {
      "cell_type": "markdown",
      "source": [
        "На вход в первой строке поступает массив действительных чисел, разделенных пробелом. Во второй строке действительное число - максимально допустимое значение сигнала. Ваша задача вывести данный массив, при этом все значения, превышающие допустимый максимум должны быть замененны на этот допустимый максимум."
      ],
      "metadata": {
        "id": "JlWt7n8L2DHl"
      }
    },
    {
      "cell_type": "code",
      "source": [
        "import numpy as np\n",
        "arr1=np.array(input().split(), dtype=float)\n",
        "max=np.array(input().split(), dtype=float)\n",
        "b=np.empty(0, dtype=float)\n",
        "for i in arr1:\n",
        "  if i>max:\n",
        "    b=np.append(b,max)\n",
        "  else:\n",
        "    b=np.append(b,i)\n",
        "print(*b)"
      ],
      "metadata": {
        "colab": {
          "base_uri": "https://localhost:8080/"
        },
        "id": "olvBoIW12DaU",
        "outputId": "7729cba1-24f6-48ba-9fc5-1930c63afc76"
      },
      "execution_count": null,
      "outputs": [
        {
          "output_type": "stream",
          "name": "stdout",
          "text": [
            "3.4 1.3 4.0 1.7 4.4 3.9 2.9 2.3 2.7 1.3 4.9 5.8 1.3 4.5 5.2 3.0 4.1 0.0 5.6 3.6 5.4 4.9 2.8 0.5 4.8 4.1 0.7\n",
            "4.5\n",
            "3.4 1.3 4.0 1.7 4.4 3.9 2.9 2.3 2.7 1.3 4.5 4.5 1.3 4.5 4.5 3.0 4.1 0.0 4.5 3.6 4.5 4.5 2.8 0.5 4.5 4.1 0.7\n"
          ]
        }
      ]
    },
    {
      "cell_type": "markdown",
      "source": [
        "Представьте, что вы являетесь собакой и вы хотите вычислить, сколько раз в день вы виляете хвостом. Для этого вы записываете свои данные в массив tail_wags_per_hour содержащий количество раз, которое вы виляете хвостом за каждый час в течение дня. Затем вы применяете функцию\n",
        "\n",
        "\\(e^x - 1\\)\n",
        "\n",
        "к этому массиву и получаете результат, который называется \"экспоненциальный свинг хвоста\". Выведите полученный результат, округленный до двух знаков, на экран."
      ],
      "metadata": {
        "id": "fto1KrNT4akd"
      }
    },
    {
      "cell_type": "code",
      "source": [
        "import numpy as np\n",
        "arr1=np.array(input().split(), dtype=int)\n",
        "result = np.round(np.expm1(arr1),2)\n",
        "print(*result)"
      ],
      "metadata": {
        "colab": {
          "base_uri": "https://localhost:8080/"
        },
        "id": "Oym9Fi774bJN",
        "outputId": "817c7c70-9a2f-4a24-95ea-58e49b95dfa0"
      },
      "execution_count": null,
      "outputs": [
        {
          "output_type": "stream",
          "name": "stdout",
          "text": [
            "5 9 7 6 0 8 0 1 1 3 5 13 6 5 10 13 5 2 6 1 11 7 8 9\n",
            "147.41 8102.08 1095.63 402.43 0.0 2979.96 0.0 1.72 1.72 19.09 147.41 442412.39 402.43 147.41 22025.47 442412.39 147.41 6.39 402.43 1.72 59873.14 1095.63 2979.96 8102.08\n"
          ]
        }
      ]
    },
    {
      "cell_type": "markdown",
      "source": [
        "Вход: две сроки действительных чисел, в первой строке подаются данные с эталонного датчика, во второй с проверяемого датчика. Третья строка содержит действительное число a_tolerance - точность с которой каждое число одного массива сравнивается с соответствующим числом второго массива, если |a - b| <= a_tolerance, то функция isclose вернет True для сравниваемых элементов.\n",
        "\n",
        "Выход: True если все элементы в пределах заданной точности равны друг другу, иначе False."
      ],
      "metadata": {
        "id": "1AJi5Dd55yQl"
      }
    },
    {
      "cell_type": "code",
      "source": [
        "import numpy as np\n",
        "arr1 = np.array([1, 2, 3])\n",
        "arr2 = np.array([1.01, 1.99, 3.01])\n",
        "result = np.isclose(arr1, arr2, rtol=0.01, atol=0.01)\n",
        "print(result)# [ True  True True]"
      ],
      "metadata": {
        "id": "my0lmQVr56Kj"
      },
      "execution_count": null,
      "outputs": []
    },
    {
      "cell_type": "code",
      "source": [
        "import numpy as np\n",
        "arr1=np.array(input().split(), dtype=float)\n",
        "arr2=np.array(input().split(), dtype=float)\n",
        "toch=np.array(input().split(), dtype=float)\n",
        "#if np.abs(a-b)<=toch:\n",
        "result = np.allclose(arr1, arr2,toch, toch)\n",
        "print(result)"
      ],
      "metadata": {
        "colab": {
          "base_uri": "https://localhost:8080/"
        },
        "id": "oP3fn3Hq56a7",
        "outputId": "7d88d042-248d-4d4c-f38a-e45c6bb87a9d"
      },
      "execution_count": null,
      "outputs": [
        {
          "output_type": "stream",
          "name": "stdout",
          "text": [
            "20.2 21.3 21.6 22.3 22.4 22.3 22.5 \n",
            "20.1 21.2 21.5 22.3 22.3 22.4 22.4\n",
            ".1\n",
            "True\n"
          ]
        }
      ]
    },
    {
      "cell_type": "code",
      "source": [
        "20.2 21.3 21.6 22.3 22.4 22.3 22.5\n",
        "20 21.3 21.6 22.3 22.4 22.3 22.5\n",
        ".1"
      ],
      "metadata": {
        "id": "hE8I__uo71uM"
      },
      "execution_count": null,
      "outputs": []
    },
    {
      "cell_type": "code",
      "source": [
        "20.2 21.3 21.6 22.3 22.4 22.3 22.5\n",
        "20.1 21.2 21.5 22.3 22.3 22.4 22.4\n",
        ".1"
      ],
      "metadata": {
        "id": "H9F0sqz77XL1"
      },
      "execution_count": null,
      "outputs": []
    },
    {
      "cell_type": "markdown",
      "source": [
        "А теперь и вам нужно решить эту задачу. На вход поступают две последовательности целых чисел, разделенных пробелом и нужно определить НОД для каждой пары чисел и если они все одинаковы, то вывести True иначе False."
      ],
      "metadata": {
        "id": "5N6SVyJx9Vq8"
      }
    },
    {
      "cell_type": "code",
      "source": [
        "import numpy as np\n",
        "arr1=np.array(input().split(), dtype=int)\n",
        "arr2=np.array(input().split(), dtype=int)\n",
        "result = np.gcd(arr1,arr2)\n",
        "set1=set(result)\n",
        "if len(set1)==1:\n",
        "  print (True)\n",
        "else:\n",
        "  print(False)"
      ],
      "metadata": {
        "colab": {
          "base_uri": "https://localhost:8080/"
        },
        "id": "3C0PaeJH9V50",
        "outputId": "a0bdfc5c-dbd9-41a2-a5ba-2b861b2f51dd"
      },
      "execution_count": null,
      "outputs": [
        {
          "output_type": "stream",
          "name": "stdout",
          "text": [
            "2 12 6 4 22 66 120 \n",
            "222 2 8 10 14 100 88\n",
            "False\n"
          ]
        }
      ]
    },
    {
      "cell_type": "markdown",
      "source": [
        "На вход поступают две последовательности мощных заклинаний в виде строки магических чисел разделенных пробелом. Ваша задача вывести НОК для каждой пары соответсвующих чисел из этих двух строк."
      ],
      "metadata": {
        "id": "9Wkkhh3XAzFO"
      }
    },
    {
      "cell_type": "code",
      "source": [
        "import numpy as np\n",
        "arr1=np.array(input().split(), dtype=int)\n",
        "arr2=np.array(input().split(), dtype=int)\n",
        "result = np.lcm(arr1,arr2)\n",
        "print(*result)"
      ],
      "metadata": {
        "colab": {
          "base_uri": "https://localhost:8080/"
        },
        "id": "Jg5hkQXnAzV7",
        "outputId": "78e79495-2084-47e7-d10a-170e2280b01f"
      },
      "execution_count": null,
      "outputs": [
        {
          "output_type": "stream",
          "name": "stdout",
          "text": [
            "1316 440 1661 184 1813 1243 1253 1831 1682 1477 1603 441 1235 1634 989 371 699 12 1287 1235 503 689 798 664\n",
            "1651 1526 1142 33 620 624 167 388 1103 343 1393 481 18 715 757 458 1064 253 1860 115 1110 1707 1354 701\n",
            "2172716 335720 1896862 6072 1124060 775632 209251 710428 1855246 72373 318997 212121 22230 1168310 748673 169918 743736 3036 797940 28405 558330 1176123 540246 465464\n"
          ]
        }
      ]
    },
    {
      "cell_type": "markdown",
      "source": [
        "Однажды мудрец получил от своих друзей одномерный массив, который содержал в себе множество чисел. Мудрец решил применить свою магическую силу, чтобы найти в этом массиве числа, которые были больше нуля и меньше единицы, а также удовлетворяли определенным условиям.\n",
        "\n",
        "Мудрец заметил, что синус некоторых чисел оказывался больше косинуса, а арктангенс других чисел оказывался меньше квадратного корня из них.\n",
        "\n",
        "Чтобы найти эти числа, мудрец использовал свои знания в области математики и применил множество функций библиотеки NumPy. И вам теперь тоже нужно решить эту задачу и вывести в одной строке все такие числа, удовлетворяющие данным условиям"
      ],
      "metadata": {
        "id": "aGs1o9hSBgQT"
      }
    },
    {
      "cell_type": "code",
      "source": [
        "import numpy as np\n",
        "arr1=np.array(input().split(), dtype=float)\n",
        "b=np.empty(0, dtype=float)\n",
        "a=np.empty(0, dtype=float)\n",
        "for x in arr1:\n",
        "  if np.sin(x)>np.cos(x) and np.arctan(x)<np.sqrt(x):\n",
        "    a=np.append(a,x)\n",
        "for i in a:\n",
        "  if i>0 and i<1:\n",
        "    b=np.append(b,i)\n",
        "print(*b)"
      ],
      "metadata": {
        "colab": {
          "base_uri": "https://localhost:8080/"
        },
        "id": "e9OCK6HzDzAE",
        "outputId": "f0696b49-b2a2-4e89-89c7-91dc80c1ba66"
      },
      "execution_count": null,
      "outputs": [
        {
          "output_type": "stream",
          "name": "stdout",
          "text": [
            "1.006 1.931 0.672 3.452 0.994 2.013 0.207 1.832 0.301 3.504 0.169 3.783 3.286 2.746 2.392 0.702 0.222 3.045 1.951 1.837 0.222 0.647 3.537 1.842 0.524 2.741 3.102 1.971 2.089 2.747 0.076 1.851 2.497 1.745 1.548 1.521 3.958 2.551 0.731 1.964 2.726 2.428 0.265 0.63 3.703 1.72 1.667 0.132 0.794 2.411 3.968 2.302 3.257 3.197 1.377 1.294 0.115 2.314 1.7 3.416 0.545 3.19 0.216 3.516 1.894 2.205 3.912 2.764 3.854 1.128 3.633 2.695 0.248 3.601 2.075 0.537 2.041 2.92 2.993 3.52 0.62 3.615 1.521 0.125 1.414 2.397 1.045 0.094 1.503 1.564 1.428 2.044 3.717 1.795 3.253 2.892 0.38 0.793 0.009 2.719 0.73 0.735 3.291 1.666 2.932 1.802 0.779 1.809 3.851 0.531 0.244 3.391 1.929 1.033 3.177 0.915 0.142 2.057 3.817 2.238 3.692 3.818 2.824 1.494 3.054 1.619 0.477 0.51 2.122 2.015 0.128 1.84 2.327 0.704 0.883 3.987 1.804 1.257 3.768 3.489 2.668 0.479 1.025 1.473 0.524 3.001 1.796 0.708 3.384 1.826 2.343 3.558 1.038 2.402 1.582 3.597 0.095 3.642 1.168 0.242 0.625 2.159 2.602 3.295 1.333 2.649 0.515 1.87 0.844 0.008 3.1 3.574 1.256 0.697 0.893 0.21 2.029 3.035 2.902 1.675 0.597 1.075 2.948 1.734 1.911 0.766 2.2 1.084 1.545 1.027 1.267 3.592 1.543 0.003 2.805 1.999 2.479 3.45 2.877 3.883 2.807 2.39 3.265 2.187 2.265 1.757 3.899 3.933 1.63 3.251 3.082 3.519 3.519 3.089 3.355 2.587 3.977 2.901 1.625 0.702 0.947 0.489 0.92 3.858 2.73 1.754 0.841 0.668 1.023 1.155 3.848 0.582 1.473 0.558 0.588 0.91 1.611 1.768 1.238 3.582 0.06 0.798 1.283 2.917 0.983 1.574 0.089 3.078 3.697 1.422 3.752 1.086 2.028 3.732 2.214 2.736 0.344 0.619 0.919 0.163 2.413 0.075 1.898 2.663 3.148 0.634 3.462 0.285 2.894 3.502 0.793 0.137 1.619 1.642 2.935 1.265 0.04 0.553 0.144 0.413 2.233 3.401 2.017 3.535 2.588 2.861 0.795 2.721 0.804 2.669 0.254 3.639 1.775 3.307 1.588 2.789 0.899 0.474 3.913 0.656 3.462 3.034 1.404 1.598 1.118 2.594 1.535 1.989 2.6 2.029 1.635 0.83 0.912 0.937 1.796 0.15 3.448 3.862 3.688 3.646 3.531 0.648 1.153 2.281 1.349 2.513 2.345 0.909 1.55 3.154 2.212 3.046 0.151 1.331 3.386 3.64 1.018 1.422 3.748 3.722 0.105 1.817 2.404 0.894 2.136 1.048 3.491 2.958 0.416 3.805\n",
            "0.994 0.794 0.793 0.915 0.883 0.844 0.893 0.947 0.92 0.841 0.91 0.798 0.983 0.919 0.793 0.795 0.804 0.899 0.83 0.912 0.937 0.909 0.894\n"
          ]
        }
      ]
    },
    {
      "cell_type": "markdown",
      "source": [],
      "metadata": {
        "id": "c9uWxwLIeUIl"
      }
    },
    {
      "cell_type": "markdown",
      "source": [],
      "metadata": {
        "id": "CRYVRcTHeULa"
      }
    },
    {
      "cell_type": "markdown",
      "source": [],
      "metadata": {
        "id": "FX4NbJDJeUON"
      }
    },
    {
      "cell_type": "markdown",
      "source": [],
      "metadata": {
        "id": "x2GftDfYeURV"
      }
    },
    {
      "cell_type": "markdown",
      "source": [],
      "metadata": {
        "id": "KPstJh5SeUUR"
      }
    },
    {
      "cell_type": "markdown",
      "source": [],
      "metadata": {
        "id": "deBOHx5VeUXS"
      }
    },
    {
      "cell_type": "markdown",
      "source": [],
      "metadata": {
        "id": "UEREVhHAeUaI"
      }
    },
    {
      "cell_type": "markdown",
      "source": [
        "Найдите все элементы в массиве, которые больше 5, и замените их на 0, используя функцию numpy.where.\n",
        "\n",
        "Вход: последовательность целых чисел, разделенных пробелом.\n",
        "\n",
        "Выход: последовательность целых чисел, разделенных пробелом, соответствующая условию."
      ],
      "metadata": {
        "id": "Ifm_577seTE_"
      }
    },
    {
      "cell_type": "code",
      "source": [
        "import numpy as np\n",
        "arr1=np.array(input().split(), dtype=int)\n",
        "arr1[np.where(arr1>5)]=0\n",
        "print(*arr1)"
      ],
      "metadata": {
        "colab": {
          "base_uri": "https://localhost:8080/"
        },
        "id": "ofpzxniNeTg2",
        "outputId": "9f7ce6e3-3157-415c-f556-c1ca446c0464"
      },
      "execution_count": null,
      "outputs": [
        {
          "output_type": "stream",
          "name": "stdout",
          "text": [
            "7 8 18 18 6 5 12 10 14 10 13 15 0 7 11 13 14 1 3 2 7 21 32 27\n",
            "[0 0 0 0 0 5 0 0 0 0 0 0 0 0 0 0 0 1 3 2 0 0 0 0]\n"
          ]
        }
      ]
    },
    {
      "cell_type": "markdown",
      "source": [
        "Создайте массив, содержащий только нечетные числа от 1 до 50, используйте функцию numpy.where. Массив выведите в виде строки чисел, разделенных пробелом."
      ],
      "metadata": {
        "id": "W7mIlldXftB1"
      }
    },
    {
      "cell_type": "code",
      "source": [
        "import numpy as np\n",
        "arr=np.array(np.arange(1,51))\n",
        "r=str(np.where(arr%2==0))\n",
        "print(*r, sep='')\n"
      ],
      "metadata": {
        "colab": {
          "base_uri": "https://localhost:8080/"
        },
        "id": "oRQYaI9YfuHE",
        "outputId": "d28a15f7-045e-498e-a8f1-d6f44df8daeb"
      },
      "execution_count": null,
      "outputs": [
        {
          "output_type": "stream",
          "name": "stdout",
          "text": [
            "(array([ 1,  3,  5,  7,  9, 11, 13, 15, 17, 19, 21, 23, 25, 27, 29, 31, 33,\n",
            "       35, 37, 39, 41, 43, 45, 47, 49]),)\n"
          ]
        }
      ]
    },
    {
      "cell_type": "markdown",
      "source": [
        "На вход подается строка чисел, разделенных пробелом, на ее основе создайте массив numpy. Найдите индексы всех отрицательных элементов в массиве и выведите их в виде массива numpy."
      ],
      "metadata": {
        "id": "KZYPTUX6i50M"
      }
    },
    {
      "cell_type": "code",
      "source": [
        "import numpy as np\n",
        "arr1=np.array(input().split(), dtype=int)\n",
        "indices=np.where(arr1<0)\n",
        "print(*indices)"
      ],
      "metadata": {
        "colab": {
          "base_uri": "https://localhost:8080/"
        },
        "id": "QfrQM2rzi6HU",
        "outputId": "83c23855-425a-42eb-cd4a-ec1371bc3967"
      },
      "execution_count": null,
      "outputs": [
        {
          "output_type": "stream",
          "name": "stdout",
          "text": [
            "2 -6 -10 -7 0 -6 3 7 8 10 -11 -11\n",
            "[ 1  2  3  5 10 11]\n"
          ]
        }
      ]
    },
    {
      "cell_type": "markdown",
      "source": [
        "На вход подается строка действительных чисел, разделённых пробелом. Замените все отрицательные значения в массиве на среднее значение положительных элементов. Итоговый массив выведите в строчку через пробел. Результат округляйте до трех знаков после запятой."
      ],
      "metadata": {
        "id": "a93soouokXEz"
      }
    },
    {
      "cell_type": "code",
      "source": [
        "import numpy as np\n",
        "arr1=np.array(input().split(), dtype=float)\n",
        "r=np.mean(arr1[np.where(arr1>0)])\n",
        "arr1[np.where(arr1<0)]=r\n",
        "print(*np.round(arr1,3))"
      ],
      "metadata": {
        "colab": {
          "base_uri": "https://localhost:8080/"
        },
        "id": "7Xt_6r2Yn6Z8",
        "outputId": "eeb8c9a2-86f6-47af-8dd6-d990444658ac"
      },
      "execution_count": null,
      "outputs": [
        {
          "output_type": "stream",
          "name": "stdout",
          "text": [
            "2 4 -1 -4 \n",
            "2.0 4.0 3.0 3.0\n"
          ]
        }
      ]
    },
    {
      "cell_type": "markdown",
      "source": [
        "На вход поступает массив в виде строки целых чисел, разделенных пробелом. Создайте новый массив, содержащий элементы из исходного массива, которые больше 10 и меньше 20. Используйте функцию numpy.where."
      ],
      "metadata": {
        "id": "XevedZFzqx70"
      }
    },
    {
      "cell_type": "code",
      "source": [
        "import numpy as np\n",
        "arr1=np.array(input().split(), dtype=int)\n",
        "new_arr=arr1[np.where((arr1>10) & (arr1<20))]\n",
        "print(*new_arr)"
      ],
      "metadata": {
        "colab": {
          "base_uri": "https://localhost:8080/"
        },
        "id": "SSjT_KUyqyHO",
        "outputId": "e604f8ac-9439-48d4-e97e-e95f838f6c29"
      },
      "execution_count": null,
      "outputs": [
        {
          "output_type": "stream",
          "name": "stdout",
          "text": [
            "12 21 18 0 9 10 5 2 7 18 3 13 16 4 0 5 11 16 2 17 16 18 21 0\n",
            "12 18 18 13 16 11 16 17 16 18\n"
          ]
        }
      ]
    },
    {
      "cell_type": "markdown",
      "source": [
        "На вход поступает массив целых чисел в виде строки. Найдите первый элемент в массиве, который больше 50 и выведите его на экран, используйте функцию numpy.where. Если такого элемента нет, ничего выводить не нужно."
      ],
      "metadata": {
        "id": "4Lbw28Crrgx8"
      }
    },
    {
      "cell_type": "code",
      "source": [
        "import numpy as np\n",
        "arr1=np.array(input().split(), dtype=int)\n",
        "max=np.max(arr1)\n",
        "if max>50:\n",
        "  new_arr=arr1[np.where(arr1>50)][0]\n",
        "else:\n",
        "  new_arr=''\n",
        "print(new_arr)"
      ],
      "metadata": {
        "colab": {
          "base_uri": "https://localhost:8080/"
        },
        "id": "xkU9WWSPrg-_",
        "outputId": "7f9dad5c-8249-4799-d43c-f8855c700d69"
      },
      "execution_count": null,
      "outputs": [
        {
          "output_type": "stream",
          "name": "stdout",
          "text": [
            "10 20 30 40 50 250 1 2 3 4\n",
            "250\n"
          ]
        }
      ]
    },
    {
      "cell_type": "markdown",
      "source": [
        "На вход поступает массив чисел в виде строки целых чисел, разделенных пробелом. Создайте новый массив, содержащий все элементы из исходного массива, кроме тех, которые делятся на 3 без остатка. Выведите этот массив на экран в виде строки чисел, разделенных пробелом. Если таких чисел нет, ничего выводить не нужно."
      ],
      "metadata": {
        "id": "uTCcbJlbuFXE"
      }
    },
    {
      "cell_type": "code",
      "source": [
        "import numpy as np\n",
        "a = np.array(input().split()).astype(int)\n",
        "inds = np.where(a%3!=0)\n",
        "#print(inds)\n",
        "a = a[inds]\n",
        "print(*a)"
      ],
      "metadata": {
        "colab": {
          "base_uri": "https://localhost:8080/"
        },
        "id": "lu0Z5OwYxRjL",
        "outputId": "bc921daa-4b09-4631-c641-250a8f8de429"
      },
      "execution_count": null,
      "outputs": [
        {
          "output_type": "stream",
          "name": "stdout",
          "text": [
            "1 2 4 5 6 7\n",
            "1 2 4 5 7\n"
          ]
        }
      ]
    },
    {
      "cell_type": "markdown",
      "source": [
        "На вход поступает массив целых чисел с информацией о клиентах, в котором каждый элемент представляет собой среднемесячный доход клиента в рублях. Найдите всех клиентов с доходом выше 100000 рублей в месяц и пометьте их соответствующим образом в массиве метками 'High', 'Low'. Данный массив меток выведите на экран в виде строки через пробел."
      ],
      "metadata": {
        "id": "GwM9iL8ryBRS"
      }
    },
    {
      "cell_type": "code",
      "source": [
        "import numpy as np\n",
        "arr1=np.array(input().split(), dtype=int)\n",
        "new_arr=np.where(arr1>100000,'High','Low')\n",
        "print(*new_arr)"
      ],
      "metadata": {
        "colab": {
          "base_uri": "https://localhost:8080/"
        },
        "id": "bIyh3S_GyBd7",
        "outputId": "174f1c8d-452b-44c5-b500-42e7c31bb266"
      },
      "execution_count": null,
      "outputs": [
        {
          "output_type": "stream",
          "name": "stdout",
          "text": [
            "165903 97237 128368 187888 146599 156138 149556 141726 101633 187440 67525 50291 55938 69684 162119 141230 97434 168158 84146 90461 119371 62846 198485 120646 157500 105496 101447 82622 191250 172662 97755 138215 154904 171561 89881 188396 197934 79905 131856 163578 94850 102638 187358 109292 71822 89413 70547 93069 160630 154801 173656 97414 194345 127287 164460 61708 160631 192194 161240 160024 68027 146681 57594 75078\n",
            "High Low High High High High High High High High Low Low Low Low High High Low High Low Low High Low High High High High High Low High High Low High High High Low High High Low High High Low High High High Low Low Low Low High High High Low High High High Low High High High High Low High Low Low\n"
          ]
        }
      ]
    },
    {
      "cell_type": "markdown",
      "source": [
        "На вход в первой строке поступает массив с результатами эксперимента, в котором каждый элемент представляет собой количество бактерий в петри. Во второй строке поступает целое число threshold. Найдите все значения, которые превышают значение threshold, и замените их на максимальное значение в массиве. Выведите итоговый массив в виде строки чисел через пробел."
      ],
      "metadata": {
        "id": "Rswlv25syhxz"
      }
    },
    {
      "cell_type": "code",
      "source": [
        "import numpy as np\n",
        "arr1=np.array(input().split(), dtype=int)\n",
        "arr2=np.array(input().split(), dtype=int)\n",
        "maxx=np.max(arr1)\n",
        "r=np.where(arr1>arr2,maxx,arr1)\n",
        "print(*r)"
      ],
      "metadata": {
        "colab": {
          "base_uri": "https://localhost:8080/"
        },
        "id": "pp2RWw38yiAr",
        "outputId": "685e10b4-a3b2-4062-9ac3-88e7b6c574fa"
      },
      "execution_count": null,
      "outputs": [
        {
          "output_type": "stream",
          "name": "stdout",
          "text": [
            "12 21 18 0 9 10 5 2 7 18 3 13 16 4 0 5 11 16 2 17 16 18 21 0\n",
            "10\n",
            "21 21 21 0 9 10 5 2 7 21 3 21 21 4 0 5 21 21 2 21 21 21 21 0\n"
          ]
        }
      ]
    },
    {
      "cell_type": "markdown",
      "source": [
        "На вход поступает массив с данными о продажах товаров в интернет-магазине, в котором каждый элемент представляет собой сумму продаж за определенный день. Найдите все дни, когда было продано товаров на сумму более 1000 рублей и выведите соответствующую информацию о продажах за эти дни. Если в какой-нибудь день продаж было меньше, замените соответствующее значение на NaN. Выведите итоговый массив на экран."
      ],
      "metadata": {
        "id": "aVRj5ZxbzpYz"
      }
    },
    {
      "cell_type": "code",
      "source": [
        "import numpy as np\n",
        "arr1=np.array(input().split(), dtype=int)\n",
        "r=np.where(arr1>1000,arr1,np.nan)\n",
        "print(*r)"
      ],
      "metadata": {
        "colab": {
          "base_uri": "https://localhost:8080/"
        },
        "id": "uW5pMhNqzpuT",
        "outputId": "9af73aea-1688-4fdd-a906-19c5ba5d34f9"
      },
      "execution_count": null,
      "outputs": [
        {
          "output_type": "stream",
          "name": "stdout",
          "text": [
            "2395 701 6319 2959 7591 725 5036 6413 1709 5042 8436 733 5009 6986 8094 3384 6040 4388 2180 4696 7802 660 5396 7195 5534 2875 196 2136 1010 6471\n",
            "2395.0 nan 6319.0 2959.0 7591.0 nan 5036.0 6413.0 1709.0 5042.0 8436.0 nan 5009.0 6986.0 8094.0 3384.0 6040.0 4388.0 2180.0 4696.0 7802.0 nan 5396.0 7195.0 5534.0 2875.0 nan 2136.0 1010.0 6471.0\n"
          ]
        }
      ]
    },
    {
      "cell_type": "markdown",
      "source": [
        "На вход в первой строке поступает массив с данными о клиентах, в котором каждый элемент представляет собой возраст клиента. Во второй строке поступают два целых числа, разделенных пробелом: min и max. Найдите все значения, которые выходят за диапазон (min, max), и замените их на среднее значение возраста. Выведите итоговый массив в строчку через пробел. Результат округляйте до одного знака после запятой."
      ],
      "metadata": {
        "id": "E7Qelowjz_nk"
      }
    },
    {
      "cell_type": "code",
      "source": [
        "import numpy as np\n",
        "arr1=np.array(input().split(), dtype=float)\n",
        "min,max=map(float,np.array(input().split()))\n",
        "z=np.mean(arr1)\n",
        "arr1[np.where((arr1<=min) | (arr1>=max))]=z\n",
        "print(*np.round(arr1,1))"
      ],
      "metadata": {
        "colab": {
          "base_uri": "https://localhost:8080/"
        },
        "id": "8vbhi9dkz_9z",
        "outputId": "30476d85-a8c8-4556-ee81-95f34132420b"
      },
      "execution_count": null,
      "outputs": [
        {
          "output_type": "stream",
          "name": "stdout",
          "text": [
            "29 26 14 67 49 5 79 67 6 70 48 10 97 72 46 19 21 56 26 14 96 13 45 77 10 41 47 69 54 74 20 59 4 54 25 82 35 92 27 71 51 31 57 69 76 94 94 17 34 53 32 47 81 89 51 42 10 63 29 24 18 55 8 26 90 11 68 27 18 89 57 54 52 26 60 2 69 66 79 6 82 26 90 35 40 96 72 28\n",
            "10 77\n",
            "29.0 26.0 14.0 67.0 49.0 47.8 47.8 67.0 47.8 70.0 48.0 47.8 47.8 72.0 46.0 19.0 21.0 56.0 26.0 14.0 47.8 13.0 45.0 47.8 47.8 41.0 47.0 69.0 54.0 74.0 20.0 59.0 47.8 54.0 25.0 47.8 35.0 47.8 27.0 71.0 51.0 31.0 57.0 69.0 76.0 47.8 47.8 17.0 34.0 53.0 32.0 47.0 47.8 47.8 51.0 42.0 47.8 63.0 29.0 24.0 18.0 55.0 47.8 26.0 47.8 11.0 68.0 27.0 18.0 47.8 57.0 54.0 52.0 26.0 60.0 47.8 69.0 66.0 47.8 47.8 47.8 26.0 47.8 35.0 40.0 47.8 72.0 28.0\n"
          ]
        }
      ]
    },
    {
      "cell_type": "code",
      "source": [],
      "metadata": {
        "id": "8fztAQ732q7E"
      },
      "execution_count": null,
      "outputs": []
    },
    {
      "cell_type": "markdown",
      "source": [],
      "metadata": {
        "id": "JSefld_I2rRj"
      }
    },
    {
      "cell_type": "markdown",
      "source": [],
      "metadata": {
        "id": "sLKKWErI2rUl"
      }
    },
    {
      "cell_type": "markdown",
      "source": [],
      "metadata": {
        "id": "9yoT_FGr2rXV"
      }
    },
    {
      "cell_type": "markdown",
      "source": [],
      "metadata": {
        "id": "aCCIpvx_2raR"
      }
    },
    {
      "cell_type": "markdown",
      "source": [],
      "metadata": {
        "id": "MTfoEOrb2rdO"
      }
    },
    {
      "cell_type": "markdown",
      "source": [],
      "metadata": {
        "id": "ixJTr24Z2rrE"
      }
    },
    {
      "cell_type": "markdown",
      "source": [],
      "metadata": {
        "id": "4BpmHGDZ2ruX"
      }
    },
    {
      "cell_type": "markdown",
      "source": [],
      "metadata": {
        "id": "MNu46OoE2rxm"
      }
    },
    {
      "cell_type": "markdown",
      "source": [],
      "metadata": {
        "id": "cOka127N2r0y"
      }
    },
    {
      "cell_type": "markdown",
      "source": [
        "Рассчитать среднее значение роста студентов в группе на основе их ростов, представленных в виде одномерного массива, который поступает во входной строке. Вывести ответ в формате: \"Средний рост студентов в группе: х.х см\", где х.х искомые значения. Результат округляйте до одного знака после запятой, кавычки не используйте."
      ],
      "metadata": {
        "id": "w4TO0XUt2r3f"
      }
    },
    {
      "cell_type": "code",
      "source": [
        "import numpy as np\n",
        "arr1=np.array(input().split(), dtype=float)\n",
        "x=np.round(np.mean(arr1),1)\n",
        "result = f'Средний рост студентов в группе: {x} см'\n",
        "print(result)\n",
        "#print ('Средний рост студентов в группе:' f{x} 'см')"
      ],
      "metadata": {
        "colab": {
          "base_uri": "https://localhost:8080/"
        },
        "id": "Fuz1B46C2yjb",
        "outputId": "b4f0b243-32cc-46d9-893c-b6cd95731ab8"
      },
      "execution_count": null,
      "outputs": [
        {
          "output_type": "stream",
          "name": "stdout",
          "text": [
            "187.0 186.7 220.9 176.0 166.0 171.7 201.7 180.5 133.4 146.3 237.5 141.0 215.3 181.5 166.2 126.2 137.6 189.1 219.5 160.5 217.7 129.1 166.6 159.9 134.2 201.7 153.0\n",
            "Средний рост студентов в группе: 174.3 см\n"
          ]
        }
      ]
    },
    {
      "cell_type": "markdown",
      "source": [
        "Рассчитать стандартное отклонение веса женщин в возрастной категории 18-30 лет на основе данных, представленных в виде одномерного массива, поступающего во входной строке.\n",
        "\n",
        "Вывести результат в формате: \"Стандартное отклонение весов женщин в возрастной категории 18-30 лет: x.x кг\".\n",
        "\n",
        "Результат округляйте до одного знака после запятой, кавычки не используйте."
      ],
      "metadata": {
        "id": "ijl-PM1h4DMr"
      }
    },
    {
      "cell_type": "code",
      "source": [
        "import numpy as np\n",
        "arr1=np.array(input().split(), dtype=float)\n",
        "x=np.round(np.std(arr1),1)\n",
        "result = f'Стандартное отклонение весов женщин в возрастной категории 18-30 лет: {x} кг'\n",
        "print(result)"
      ],
      "metadata": {
        "colab": {
          "base_uri": "https://localhost:8080/"
        },
        "id": "Yum2ZAOA4Daz",
        "outputId": "0e18c8c4-c757-499f-b550-80711b0ae21e"
      },
      "execution_count": null,
      "outputs": [
        {
          "output_type": "stream",
          "name": "stdout",
          "text": [
            "64.2 63.4 61.3 76.9 78.2 53.6 74.8 56.3 49.4 51.1 81.9 64.5 66.2 51.6 62.2 58.5 48.9 68.8 83.6 45.8 66.1 81.1 50.9 81.6 69.0\n",
            "Стандартное отклонение весов женщин в возрастной категории 18-30 лет: 11.5 кг\n"
          ]
        }
      ]
    },
    {
      "cell_type": "markdown",
      "source": [
        "Рассчитать дисперсию оценок учеников в классе на основе данных, представленных в виде одномерного массива, поступающего во входной строке. Ответ вывести в формате: \"Дисперсия оценок учеников в классе равна: x.x\"\n",
        "\n",
        "Результат округляйте до одного знака после запятой, кавычки не используйте."
      ],
      "metadata": {
        "id": "f8RFWq7v4qkU"
      }
    },
    {
      "cell_type": "code",
      "source": [
        "import numpy as np\n",
        "arr1=np.array(input().split(), dtype=int)\n",
        "x=np.round(np.var(arr1),1)\n",
        "result = f'Дисперсия оценок учеников в классе равна: {x}'\n",
        "print(result)"
      ],
      "metadata": {
        "colab": {
          "base_uri": "https://localhost:8080/"
        },
        "id": "b2aJH09b4qxF",
        "outputId": "38697981-0169-4490-941b-198dabf66cac"
      },
      "execution_count": null,
      "outputs": [
        {
          "output_type": "stream",
          "name": "stdout",
          "text": [
            "5 4 3 3 4 5 3 4 4 3 4 3\n",
            "Дисперсия оценок учеников в классе равна: 0.5\n"
          ]
        }
      ]
    },
    {
      "cell_type": "markdown",
      "source": [
        "Рассчитать гистограмму распределения количества пассажиров на рейсах авиакомпании на основе данных, представленных в виде одномерного массива, поступающего в первой входной строке, во второй строке поступает целое число n - количество интервалов разбиения гистограммы. Вывести в первой строке частоты через пробел, во второй строке границы, получившихся интервалов, округленные до одного знака после запятой."
      ],
      "metadata": {
        "id": "qE_QU0L_48zr"
      }
    },
    {
      "cell_type": "code",
      "source": [
        "import numpy as np\n",
        "arr1=np.array(input().split(), dtype=int)\n",
        "x=int(input())\n",
        "hist, bin_edges = np.histogram(arr1, bins=x)\n",
        "print(*hist)\n",
        "print(*np.round(bin_edges,1))"
      ],
      "metadata": {
        "colab": {
          "base_uri": "https://localhost:8080/"
        },
        "id": "TLgsnMjO48Qp",
        "outputId": "48482014-02f0-4e5e-bb7e-52816cbce48e"
      },
      "execution_count": null,
      "outputs": [
        {
          "output_type": "stream",
          "name": "stdout",
          "text": [
            "125 195 189 147 133 124 190 97 159 120 174 125 112 93 170 120 191 120 165 166 154 181 167 158 159 128 182 151 190 131 96 175 117 103 181 156 131 93 171 101 120 118 142 156 172 88 125 100 183 159 176\n",
            "4\n",
            "9 14 13 15\n",
            "88.0 114.8 141.5 168.2 195.0\n"
          ]
        }
      ]
    },
    {
      "cell_type": "markdown",
      "source": [
        "На вход поступает одномерный массив данных в виде строки целых чисел, разделенных пробелом. Определить значение, которое соответствует границе массива, которую не превосходят 80% элементов в массиве. Вывести это значение, округленное до одного знака после запятой на экран."
      ],
      "metadata": {
        "id": "oQc1mu2S6TdC"
      }
    },
    {
      "cell_type": "code",
      "source": [
        "import numpy as np\n",
        "arr1=np.array(input().split(), dtype=int)\n",
        "percentiles = np.percentile(arr1, [80])\n",
        "print(*percentiles)"
      ],
      "metadata": {
        "colab": {
          "base_uri": "https://localhost:8080/"
        },
        "id": "7tQmDI1N6TyK",
        "outputId": "21ff208c-4b69-4468-882d-2ac2e855a4eb"
      },
      "execution_count": null,
      "outputs": [
        {
          "output_type": "stream",
          "name": "stdout",
          "text": [
            "68 89 51 77 64 76 2 20 95 57 51 97 49 63 71 90 66 50 75 78 70\n",
            "78.0\n"
          ]
        }
      ]
    },
    {
      "cell_type": "markdown",
      "source": [
        "Массив, содержащий оценки студентов за экзамен поступает в первой строке в виде целых чисел, разделенных пробелом. Ваша задача - вычислить среднюю оценку и определить, сколько студентов получили оценки ниже средней. Вывести на экран среднюю оценку, округлив ее до одного знака после запятой и количество студентов через пробел."
      ],
      "metadata": {
        "id": "KTSqL8n866TC"
      }
    },
    {
      "cell_type": "code",
      "source": [
        "import numpy as np\n",
        "arr1=np.array(input().split(), dtype=int)\n",
        "mn=np.round(np.mean(arr1),1)\n",
        "r=arr1<mn\n",
        "rez=np.count_nonzero(arr1[r])\n",
        "print(mn, rez, sep=' ')"
      ],
      "metadata": {
        "colab": {
          "base_uri": "https://localhost:8080/"
        },
        "id": "6m_lJcP066pi",
        "outputId": "23a3490d-efe7-4007-e27b-37c18daf8988"
      },
      "execution_count": null,
      "outputs": [
        {
          "output_type": "stream",
          "name": "stdout",
          "text": [
            "5 4 2 2 2 2 2 2 1 4 2 3 4 4 2 2 1 4 5 3 3 1 3 4 1 3 3 2 3 4 2 5 2 2 5 5 1 1 4 3 3 1 5 2 5 1 2 4 3 3 5 1 2 2 3 1 4 3 3 5 3 2 4 4 2 2 3 4 1 4 4 3 1 2 4 5 5 1 2 4 4 4 1 3 1 5 4 4 2 2 3 1 1 2 4 4 1 5 5 4 5 4 2 5 3 5 2 3 2 1 1 4 3 1 1 3 4 5 3 5\n",
            "2.9 50\n"
          ]
        }
      ]
    },
    {
      "cell_type": "markdown",
      "source": [
        "Массив, содержащий оценки студентов за экзамен поступает в первой строке в виде целых чисел, разделенных пробелом. Определите максимальное значение отклонения оценок студентов от среднего значения в единицах стандартного отклоенения. Ответ выведите на экран, округлив его до одного знака после запятой."
      ],
      "metadata": {
        "id": "cesx_jZ9P-6P"
      }
    },
    {
      "cell_type": "code",
      "source": [
        "import numpy as np\n",
        "arr1=np.array(input().split(), dtype=int)\n",
        "mn=np.mean(arr1)\n",
        "srr=np.std(arr1)\n",
        "b=np.empty(0,int)\n",
        "for i in arr1:\n",
        "  z=np.abs((i-mn)/srr)\n",
        "  if z>0:\n",
        "    b=np.round(np.max(np.append(b,z)),1)\n",
        "print(b)"
      ],
      "metadata": {
        "colab": {
          "base_uri": "https://localhost:8080/"
        },
        "id": "N5YUyq1kRXxH",
        "outputId": "b1699e99-8e63-4224-f6ae-597120b62566"
      },
      "execution_count": null,
      "outputs": [
        {
          "output_type": "stream",
          "name": "stdout",
          "text": [
            "2 2 3 2 5 5 3 3 3 3 5 2 4 3 5 4 2 2 3 4 5 3 4 2 5 2 2 5 5 3 2 2 4 3 3 4 4 2 2 3 3 4 2 3 5 2 3 5 4 2 4 3 5 4 3 3 5 2 2 2 2 4 4 2 2 5 4 5 4 4 4 4 5 3 2 2 5 5 4 4 5 4 5 5 5 5 5 3 2 2 3 4 2 5 3 3 5 5 5 3 2 5 5 4 5 2 4 2 5 5 5 2 2 2 5 2 3 3 2 2\n",
            "1.3\n"
          ]
        }
      ]
    },
    {
      "cell_type": "markdown",
      "source": [
        "Представим, что у нас есть данные о выручке от продажи различных товаров за год в интернет-магазине. Данные хранятся в одномерном массиве, который поступает в виде строки чисел, разделенных пробелом, в первой строке. Во второй строке поступает название категорий товаров, которые соответствуют выручке из первой строки.\n",
        "\n",
        "Задача состоит в том, чтобы проанализировать эти массивы с помощью NumPy функций и получить следующие результаты:\n",
        "\n",
        "Вычислить среднее значение выручки от продаж за год. Округленное до одного знака значение вывести на экран.\n",
        "Определить категории товаров выручка в которых выше среднего. Вывести в следующей строке через пробел.\n",
        "Вычислить стандартное отклонение выручки от продаж за год. Округленное до одного знака значение вывести на экран в следующей строке.\n",
        "Рассчитать гистограмму распределения выручки от продаж за год для определения самых популярных и наименее популярных товаров. Параметр bins положить равным 5. Вывести частоты и границы интервалов через пробел.\n",
        "Определить значение выручки, которая приносит 80% выручки от продаж за год. Округленное до одного знака значение вывести на экран в следующей строке."
      ],
      "metadata": {
        "id": "P4r_1HEG4XNh"
      }
    },
    {
      "cell_type": "code",
      "source": [
        "import numpy as np\n",
        "arr1=np.array(input().split(), dtype=int)\n",
        "arr2=np.array(input().split(), dtype=str)\n",
        "first=np.round(np.mean(arr1),1) #\n",
        "upp=arr1>first\n",
        "second=arr2[upp] #\n",
        "third=np.round(np.std(arr1),1) #\n",
        "hist, bin_edges = np.histogram(arr1, bins=5)\n",
        "five=np.round(np.percentile(arr1, [80]),1) #\n",
        "print(first)\n",
        "print(*second)\n",
        "print(third)\n",
        "print(hist, bin_edges, sep=' ')\n",
        "print(*five)"
      ],
      "metadata": {
        "colab": {
          "base_uri": "https://localhost:8080/"
        },
        "id": "o7KPEmfO4XqS",
        "outputId": "cf536138-5d1f-4ec3-b5ee-48024a751e22"
      },
      "execution_count": null,
      "outputs": [
        {
          "output_type": "stream",
          "name": "stdout",
          "text": [
            "444729 155277 572725 249901 579980 505241 218060 308380 263730 133061 323404 360815  \n",
            "футболки платья рубашки джинсы брюки худи пальто кроссовки шапки чулки носки куртки\n",
            "342941.9\n",
            "футболки рубашки брюки худи куртки\n",
            "146452.3\n",
            "[3 3 2 1 3] [133061.  222444.8 311828.6 401212.4 490596.2 579980. ]\n",
            "493138.6\n"
          ]
        }
      ]
    },
    {
      "cell_type": "markdown",
      "source": [],
      "metadata": {
        "id": "EiQ-7FylZOai"
      }
    },
    {
      "cell_type": "markdown",
      "source": [],
      "metadata": {
        "id": "nllqKvAdZOgW"
      }
    },
    {
      "cell_type": "markdown",
      "source": [],
      "metadata": {
        "id": "Pkm26oemZOkZ"
      }
    },
    {
      "cell_type": "markdown",
      "source": [],
      "metadata": {
        "id": "PrVMVPnfZOoQ"
      }
    },
    {
      "cell_type": "markdown",
      "source": [],
      "metadata": {
        "id": "jCHcLFqHZOtA"
      }
    },
    {
      "cell_type": "markdown",
      "source": [
        "И маг достал свою волшебную палочку и произнес некоторые слова, а затем прочитал содержимое массива. Он сказал: \"Минимальное число в этом массиве - это такое число, которое меньше всех остальных. А максимальное число - это такое число, которое больше всех остальных. И я найду их!\""
      ],
      "metadata": {
        "id": "phvhxOBIZOya"
      }
    },
    {
      "cell_type": "code",
      "source": [
        "import numpy as np\n",
        "arr1=np.array(input().split(), dtype=float)\n",
        "mins=np.min(arr1)\n",
        "maxx=np.max(arr1)\n",
        "print(mins,maxx, sep=' ')"
      ],
      "metadata": {
        "colab": {
          "base_uri": "https://localhost:8080/"
        },
        "id": "ZnM-E_9AZSBL",
        "outputId": "aa9a16e0-79f7-4854-c2a6-76a71aa33e10"
      },
      "execution_count": 1,
      "outputs": [
        {
          "output_type": "stream",
          "name": "stdout",
          "text": [
            "2.406 -4.231 1.971 1.613 -4.5 5.388 -4.453 3.397 -5.264 4.478 -0.159 0.046 2.192 5.592 -3.171 0.497 4.641 -2.839 4.979 -4.229 2.884 -2.317 1.922 -2.962 -1.407 -0.781 -5.156 1.049 -1.411 4.626 -5.307 -2.898 -0.655 3.823 -3.066 -2.514 4.931 -3.628 5.251 1.525 3.073 -1.2 1.095 3.553 4.965 2.493 -4.643 1.122 -5.645 0.257 0.237 -0.05 -1.822 -5.293 5.572 -2.397 0.375 4.378 -0.89 4.806\n",
            "-5.645 5.592\n"
          ]
        }
      ]
    },
    {
      "cell_type": "markdown",
      "source": [
        "Таким образом, ученый нашел индексы братьев - минимального и максимального значения в массиве, которые всегда боролись за первенство. Он объяснил жителям мира одномерных массивов, что братья всегда были рядом, но их нужно было найти."
      ],
      "metadata": {
        "id": "wf6x12yNZnWD"
      }
    },
    {
      "cell_type": "code",
      "source": [
        "import numpy as np\n",
        "arr1=np.array(input().split(), dtype=float)\n",
        "mins=np.argmin(arr1)\n",
        "maxx=np.argmax(arr1)\n",
        "print(mins,maxx, sep=' ')"
      ],
      "metadata": {
        "colab": {
          "base_uri": "https://localhost:8080/"
        },
        "id": "_LssO1IxZnsr",
        "outputId": "058fdfe6-b870-4f6e-96c1-0e05496a429c"
      },
      "execution_count": 2,
      "outputs": [
        {
          "output_type": "stream",
          "name": "stdout",
          "text": [
            "0.006 -2.502 -3.401 4.917 -0.516 2.424 -4.678 -4.436 -5.959 -0.272 5.011 3.659 0.39 1.402 0.55 -1.42 5.82 5.787 -3.995 -1.087 3.862\n",
            "8 16\n"
          ]
        }
      ]
    },
    {
      "cell_type": "markdown",
      "source": [
        "В мгновение ока функция np.sum посчитала сумму всех элементов массива, и Суммик был очень доволен своей работой. Он поблагодарил функцию np.sum и пообещал, что всегда будет использовать ее для решения своих задач."
      ],
      "metadata": {
        "id": "uw3-vM6kZ3ln"
      }
    },
    {
      "cell_type": "code",
      "source": [
        "import numpy as np\n",
        "arr1=np.array(input().split(), dtype=float)\n",
        "sums=np.round(np.sum(arr1),3)\n",
        "print(sums)"
      ],
      "metadata": {
        "colab": {
          "base_uri": "https://localhost:8080/"
        },
        "id": "YtIuqrB0Z38s",
        "outputId": "0bf918b2-1f0b-4895-d0c1-c5360d7ecaea"
      },
      "execution_count": 7,
      "outputs": [
        {
          "output_type": "stream",
          "name": "stdout",
          "text": [
            "1 1 1 1\n",
            "4.0\n"
          ]
        }
      ]
    },
    {
      "cell_type": "markdown",
      "source": [
        "Но однажды пришел к массиву мудрый волшебник и сказал: \"Смело, мои друзья! Я дам вам силу раскрыть тайну этого массива. Возьмите каждое число и прибавьте к нему сумму всех предыдущих чисел. И тогда перед вами откроется кумулятивная сумма всех элементов массива, словно сверкающий сундук с сокровищами!\""
      ],
      "metadata": {
        "id": "h3y6J7FCaWzG"
      }
    },
    {
      "cell_type": "code",
      "source": [
        "import numpy as np\n",
        "arr1=np.array(input().split(), dtype=float)\n",
        "sums=np.round(np.cumsum(arr1),3)\n",
        "print(*sums)"
      ],
      "metadata": {
        "colab": {
          "base_uri": "https://localhost:8080/"
        },
        "id": "Tf2dRWTaaW-v",
        "outputId": "17136575-9598-4bf9-c038-33d650ff4952"
      },
      "execution_count": 12,
      "outputs": [
        {
          "output_type": "stream",
          "name": "stdout",
          "text": [
            "-9 -11 7 -2 3 11 -8 7 11 3 -8 -3 -2 -6 -1 5 4 -7 2 -1 -10\n",
            "-9.0 -20.0 -13.0 -15.0 -12.0 -1.0 -9.0 -2.0 9.0 12.0 4.0 1.0 -1.0 -7.0 -8.0 -3.0 1.0 -6.0 -4.0 -5.0 -15.0\n"
          ]
        }
      ]
    },
    {
      "cell_type": "markdown",
      "source": [
        "На вход поступает массив годовых доходностей различных компаний за первый год в долях. Ваша задача рассчитать кумулятивное произведение годовых доходностей и вывести полученный массив на экран в строчку через пробел."
      ],
      "metadata": {
        "id": "jvgYo5ozbSHC"
      }
    },
    {
      "cell_type": "code",
      "source": [
        "import numpy as np\n",
        "arr1=np.array(input().split(), dtype=float)\n",
        "sums=np.round(np.cumprod(arr1+1),3)\n",
        "print(*sums)"
      ],
      "metadata": {
        "colab": {
          "base_uri": "https://localhost:8080/"
        },
        "id": "Q-C8_2wLbSdi",
        "outputId": "1030ab29-1387-48c2-b793-2786f5011fe3"
      },
      "execution_count": 19,
      "outputs": [
        {
          "output_type": "stream",
          "name": "stdout",
          "text": [
            "0.46 0.17 0.28 0.09 0.13 0.9 0.83 0.05 0.71 0.62 0.97 0.76\n",
            "1.46 1.708 2.186 2.383 2.693 5.117 9.364 9.832 16.813 27.237 53.657 94.436\n"
          ]
        }
      ]
    },
    {
      "cell_type": "markdown",
      "source": [
        "В организации производится отслеживание запасов оборудования на складе. Необходимо найти индекс первого оборудования, которое поломалось и больше не пригодно для использования.\n",
        "\n",
        "Предположим, что в поступающем в первой строке массиве хранится информация о состоянии оборудования, где каждый элемент массива соответствует одному устройству и принимает значения 1- (исправно) или 0 (неисправно). Ваша задача определить индекс первого от начала массива неисправного устройства. Если неисправных устройств нет, то возвратить строку: 'Оборудование исправно'."
      ],
      "metadata": {
        "id": "09bNnpJPc74R"
      }
    },
    {
      "cell_type": "code",
      "source": [
        "import numpy as np\n",
        "arr1=np.array(input().split(), dtype=int)\n",
        "a=int(input())\n",
        "mask=np.where(arr1!=a)\n",
        "print(mask)\n",
        "g=arr1[mask]\n",
        "print(mask)"
      ],
      "metadata": {
        "colab": {
          "base_uri": "https://localhost:8080/"
        },
        "id": "wWxz4yJ6c8QC",
        "outputId": "444ee0df-c50c-4819-ad5f-6fda1966756f"
      },
      "execution_count": 35,
      "outputs": [
        {
          "output_type": "stream",
          "name": "stdout",
          "text": [
            "1 0 0 0 0 1 0 1 1 0 0 0 0 0 0 0 1 1 0 1 0 1 1 1\n",
            "1\n",
            "(array([ 1,  2,  3,  4,  6,  9, 10, 11, 12, 13, 14, 15, 18, 20]),)\n",
            "(array([ 1,  2,  3,  4,  6,  9, 10, 11, 12, 13, 14, 15, 18, 20]),)\n"
          ]
        }
      ]
    }
  ]
}