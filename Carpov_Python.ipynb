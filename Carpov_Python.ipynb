{
  "nbformat": 4,
  "nbformat_minor": 0,
  "metadata": {
    "colab": {
      "provenance": [],
      "toc_visible": true,
      "authorship_tag": "ABX9TyO0XLdaaEdU8zk0EjYamnyg",
      "include_colab_link": true
    },
    "kernelspec": {
      "name": "python3",
      "display_name": "Python 3"
    },
    "language_info": {
      "name": "python"
    }
  },
  "cells": [
    {
      "cell_type": "markdown",
      "metadata": {
        "id": "view-in-github",
        "colab_type": "text"
      },
      "source": [
        "<a href=\"https://colab.research.google.com/github/Stanislaff-666/python_practice/blob/main/Carpov_Python.ipynb\" target=\"_parent\"><img src=\"https://colab.research.google.com/assets/colab-badge.svg\" alt=\"Open In Colab\"/></a>"
      ]
    },
    {
      "cell_type": "markdown",
      "source": [
        "Давайте запрограммируем кота! Создайте три переменные:\n",
        "\n",
        "cat_name  со строкой как минимум из двух символов\n",
        "\n",
        "cat_age с неотрицательным числом\n",
        "\n",
        "is_fluffy с True или False"
      ],
      "metadata": {
        "id": "N4Wfy9oASaod"
      }
    },
    {
      "cell_type": "code",
      "source": [
        "cat_name = 'Vasya'\n",
        "cat_age = 15\n",
        "is_fluffy = True\n"
      ],
      "metadata": {
        "id": "NoMc5nPHSawG"
      },
      "execution_count": null,
      "outputs": []
    },
    {
      "cell_type": "code",
      "source": [
        "print (cat_name, cat_age, is_fluffy)"
      ],
      "metadata": {
        "colab": {
          "base_uri": "https://localhost:8080/"
        },
        "id": "_fWxVSvJXYvO",
        "outputId": "3a03edab-0acf-48ba-c2a6-c76f98a2876f"
      },
      "execution_count": null,
      "outputs": [
        {
          "output_type": "stream",
          "name": "stdout",
          "text": [
            "Vasya 15 True\n"
          ]
        }
      ]
    },
    {
      "cell_type": "markdown",
      "source": [
        "Давайте напишем программу для поиска длины гипотенузы. В переменных a и b уже записаны длины катетов прямоугольного треугольника. Создайте новую переменную c и сохраните в нее длину гипотенузы этого треугольника. a"
      ],
      "metadata": {
        "id": "6_E-JM34X2vw"
      }
    },
    {
      "cell_type": "code",
      "source": [
        "a=3\n",
        "b=4\n",
        "c = (a**2 + b**2)**0.5\n"
      ],
      "metadata": {
        "id": "zHJyl75LX5oW"
      },
      "execution_count": null,
      "outputs": []
    },
    {
      "cell_type": "code",
      "source": [
        "print(c)"
      ],
      "metadata": {
        "colab": {
          "base_uri": "https://localhost:8080/"
        },
        "id": "crLpjYI3YPge",
        "outputId": "749feb59-3c68-488f-b355-707b59814d6a"
      },
      "execution_count": null,
      "outputs": [
        {
          "output_type": "stream",
          "name": "stdout",
          "text": [
            "5.0\n"
          ]
        }
      ]
    },
    {
      "cell_type": "markdown",
      "source": [
        "В переменной father_age хранится возраст отца, а в переменной son_age — возраст сына. Посчитайте, через сколько лет отец будет вдвое старше сына. Результат сохраните в переменную result."
      ],
      "metadata": {
        "id": "cBB8OeoXaFnW"
      }
    },
    {
      "cell_type": "code",
      "source": [
        "father_age = 20\n",
        "son_age = 3\n",
        "result = (father_age-son_age)*2-father_age"
      ],
      "metadata": {
        "id": "biz1vHzqaGrW"
      },
      "execution_count": null,
      "outputs": []
    },
    {
      "cell_type": "code",
      "source": [
        "print (result)"
      ],
      "metadata": {
        "colab": {
          "base_uri": "https://localhost:8080/"
        },
        "id": "yzVwHW4Xaipf",
        "outputId": "eb41725a-c5ff-492c-8819-e3562d4c6ca3"
      },
      "execution_count": null,
      "outputs": [
        {
          "output_type": "stream",
          "name": "stdout",
          "text": [
            "14\n"
          ]
        }
      ]
    },
    {
      "cell_type": "markdown",
      "source": [
        "Заданы вещественные числа a, b и с – стороны треугольника. Вычислите периметр и площадь треугольника. Результат сохраните в переменные perimeter и area соответственно."
      ],
      "metadata": {
        "id": "SsvBNcqKbHRP"
      }
    },
    {
      "cell_type": "code",
      "source": [
        "a=3\n",
        "b=4\n",
        "c=5\n",
        "perimeter = (a+b+c)\n",
        "perimeter_1 = (a+b+c)/2\n",
        "area = (perimeter_1*(perimeter_1-a)*(perimeter_1-b)*(perimeter_1-c))**0.5"
      ],
      "metadata": {
        "id": "Hyw9KQ6DbKFf"
      },
      "execution_count": null,
      "outputs": []
    },
    {
      "cell_type": "code",
      "source": [
        "print ('Периметр = ', perimeter)\n",
        "print ('Площадь = ', area)"
      ],
      "metadata": {
        "colab": {
          "base_uri": "https://localhost:8080/"
        },
        "id": "eOhkq0GRbq1_",
        "outputId": "bf45a01a-0159-43b0-a91e-91a993183f4e"
      },
      "execution_count": null,
      "outputs": [
        {
          "output_type": "stream",
          "name": "stdout",
          "text": [
            "Периметр =  12\n",
            "Площадь =  6.0\n"
          ]
        }
      ]
    },
    {
      "cell_type": "markdown",
      "source": [
        "В переменную n сохранено целое число — количество секунд. Напишите программу, которая конвертирует заданное количество секунд n в часы, минуты и секунды. Результат сохраните в переменные hours, minutes, seconds."
      ],
      "metadata": {
        "id": "bRm_WPJOdKpX"
      }
    },
    {
      "cell_type": "code",
      "source": [
        "n = 123456 #seconds\n",
        "\n",
        "hours = n // 3600\n",
        "minutes = (n % 3600) // 60\n",
        "seconds = (n % 3600) % 60\n",
        "\n",
        "print(\"Часы:\", hours)\n",
        "print(\"Минуты:\", minutes)\n",
        "print(\"Секунды:\", seconds)"
      ],
      "metadata": {
        "colab": {
          "base_uri": "https://localhost:8080/"
        },
        "id": "8qsxvoXrdYpf",
        "outputId": "9bd28c99-6ddf-4558-c55a-f72997b4fb03"
      },
      "execution_count": null,
      "outputs": [
        {
          "output_type": "stream",
          "name": "stdout",
          "text": [
            "Часы: 34\n",
            "Минуты: 17\n",
            "Секунды: 36\n"
          ]
        }
      ]
    },
    {
      "cell_type": "markdown",
      "source": [
        "В переменной price_new хранится цена килограмма бананов в числовом формате, а в переменной price_old — цена килограмма бананов год назад. Вычислите, на сколько процентов по модулю изменилась цена за год. Результат сохраните в переменную result. Результат округлите до двух знаков после запятой."
      ],
      "metadata": {
        "id": "L0SZ3ewTiJVe"
      }
    },
    {
      "cell_type": "code",
      "source": [
        "price_new = 24\n",
        "price_old = 72\n",
        "result = round(abs(100-price_new*100/price_old),2)\n",
        "print (result)"
      ],
      "metadata": {
        "colab": {
          "base_uri": "https://localhost:8080/"
        },
        "id": "-xpX713xiMVW",
        "outputId": "28487c34-cfcb-4a72-860a-2c21a15a2595"
      },
      "execution_count": null,
      "outputs": [
        {
          "output_type": "stream",
          "name": "stdout",
          "text": [
            "66.67\n"
          ]
        }
      ]
    },
    {
      "cell_type": "markdown",
      "source": [
        "Создайте переменные:\n",
        "\n",
        "a со значением 5 типа int,\n",
        "\n",
        "b со значением \"10\" типа str,\n",
        "\n",
        "c со значением True типа bool.\n",
        "\n",
        "В переменную my_sum сохраните сумму трех переменных, которые вы создали, преобразовав b и с к типу int."
      ],
      "metadata": {
        "id": "xfj8X7rii6cw"
      }
    },
    {
      "cell_type": "code",
      "source": [
        "a_1 = 5\n",
        "a=int(a_1)\n",
        "\n",
        "b_1 = '10'\n",
        "b=int(b_1)\n",
        "\n",
        "c_1 = True\n",
        "c=int(c_1)\n",
        "\n",
        "my_sum = a + b + c\n",
        "\n",
        "print(a)\n",
        "print(b)\n",
        "print(c)\n",
        "print(my_sum)"
      ],
      "metadata": {
        "colab": {
          "base_uri": "https://localhost:8080/"
        },
        "id": "VZ3ZV9KwjNu4",
        "outputId": "7a04116e-146d-4759-fc50-15296be19c8a"
      },
      "execution_count": null,
      "outputs": [
        {
          "output_type": "stream",
          "name": "stdout",
          "text": [
            "5\n",
            "10\n",
            "1\n",
            "16\n"
          ]
        }
      ]
    },
    {
      "cell_type": "markdown",
      "source": [
        "В переменной a сохранено число с десятичной частью но в формате строки, например '3.14'. В переменную с сохраните целую часть из числа в переменной a."
      ],
      "metadata": {
        "id": "4YlUj6cklNgI"
      }
    },
    {
      "cell_type": "code",
      "source": [
        "a = '3.14'\n",
        "a_1= float(a)\n",
        "c=int(a_1)\n",
        "print (c)"
      ],
      "metadata": {
        "colab": {
          "base_uri": "https://localhost:8080/"
        },
        "id": "pOPlNenvlfmX",
        "outputId": "18ef3e10-1bf9-4bc2-dab7-bdba77fdc79c"
      },
      "execution_count": null,
      "outputs": [
        {
          "output_type": "stream",
          "name": "stdout",
          "text": [
            "3\n"
          ]
        }
      ]
    },
    {
      "cell_type": "markdown",
      "source": [
        "\n",
        "В переменной х уже сохранено целое положительное число. Вычислите x + x0x0x. Результат сохраните в переменную result.\n",
        "\n",
        "То есть, если x = 2, то нужно вычислить 2 + 20202."
      ],
      "metadata": {
        "id": "7w3RXCrwnkan"
      }
    },
    {
      "cell_type": "code",
      "source": [
        "x=str(2)\n",
        "x_1=2\n",
        "y=int(x+str(0)+x+str(0)+x)\n",
        "result=x_1+y\n",
        "print(y)\n",
        "print(result)"
      ],
      "metadata": {
        "colab": {
          "base_uri": "https://localhost:8080/",
          "height": 258
        },
        "id": "YPQnCX_snlCg",
        "outputId": "a7633d7f-902d-499e-c963-8e535a54bdea"
      },
      "execution_count": null,
      "outputs": [
        {
          "output_type": "error",
          "ename": "TypeError",
          "evalue": "ignored",
          "traceback": [
            "\u001b[0;31m---------------------------------------------------------------------------\u001b[0m",
            "\u001b[0;31mTypeError\u001b[0m                                 Traceback (most recent call last)",
            "\u001b[0;32m<ipython-input-135-9ee645329310>\u001b[0m in \u001b[0;36m<cell line: 3>\u001b[0;34m()\u001b[0m\n\u001b[1;32m      1\u001b[0m \u001b[0mx_1\u001b[0m\u001b[0;34m=\u001b[0m\u001b[0mstr\u001b[0m\u001b[0;34m(\u001b[0m\u001b[0;36m2\u001b[0m\u001b[0;34m)\u001b[0m\u001b[0;34m\u001b[0m\u001b[0;34m\u001b[0m\u001b[0m\n\u001b[1;32m      2\u001b[0m \u001b[0mx\u001b[0m\u001b[0;34m=\u001b[0m\u001b[0;36m2\u001b[0m\u001b[0;34m\u001b[0m\u001b[0;34m\u001b[0m\u001b[0m\n\u001b[0;32m----> 3\u001b[0;31m \u001b[0my\u001b[0m\u001b[0;34m=\u001b[0m\u001b[0mint\u001b[0m\u001b[0;34m(\u001b[0m\u001b[0mx\u001b[0m\u001b[0;34m+\u001b[0m\u001b[0mstr\u001b[0m\u001b[0;34m(\u001b[0m\u001b[0;36m0\u001b[0m\u001b[0;34m)\u001b[0m\u001b[0;34m+\u001b[0m\u001b[0mx\u001b[0m\u001b[0;34m+\u001b[0m\u001b[0mstr\u001b[0m\u001b[0;34m(\u001b[0m\u001b[0;36m0\u001b[0m\u001b[0;34m)\u001b[0m\u001b[0;34m+\u001b[0m\u001b[0mx\u001b[0m\u001b[0;34m)\u001b[0m\u001b[0;34m\u001b[0m\u001b[0;34m\u001b[0m\u001b[0m\n\u001b[0m\u001b[1;32m      4\u001b[0m \u001b[0mresult\u001b[0m\u001b[0;34m=\u001b[0m\u001b[0mx_1\u001b[0m\u001b[0;34m+\u001b[0m\u001b[0my\u001b[0m\u001b[0;34m\u001b[0m\u001b[0;34m\u001b[0m\u001b[0m\n\u001b[1;32m      5\u001b[0m \u001b[0mprint\u001b[0m\u001b[0;34m(\u001b[0m\u001b[0my\u001b[0m\u001b[0;34m)\u001b[0m\u001b[0;34m\u001b[0m\u001b[0;34m\u001b[0m\u001b[0m\n",
            "\u001b[0;31mTypeError\u001b[0m: unsupported operand type(s) for +: 'int' and 'str'"
          ]
        }
      ]
    },
    {
      "cell_type": "code",
      "source": [
        "x=str(10)\n",
        "#x_1=2\n",
        "y=int(x+str(0)+x+str(0)+x) + int(x)\n",
        "#result=x_1+y\n",
        "print(y)\n",
        "#print(result)"
      ],
      "metadata": {
        "colab": {
          "base_uri": "https://localhost:8080/"
        },
        "id": "5XOMYL1FuAUJ",
        "outputId": "2fe46e37-1724-4d71-8b73-b100a05476eb"
      },
      "execution_count": null,
      "outputs": [
        {
          "output_type": "stream",
          "name": "stdout",
          "text": [
            "10010020\n"
          ]
        }
      ]
    },
    {
      "cell_type": "markdown",
      "source": [
        "В переменной m хранится целое положительное число — продолжительность сна в минутах. Если продолжительность сна составит от 7 до 9 часов включительно, то в переменную optimal_sleep_duration сохраните значение True. В противном случае присвойте это переменной значение False."
      ],
      "metadata": {
        "id": "7Uf4AB29xMf4"
      }
    },
    {
      "cell_type": "code",
      "source": [
        "m=480\n",
        "optimal_sleep_duration=m//60\n",
        "print (optimal_sleep_duration>=7 and optimal_sleep_duration<=9)\n",
        "\n",
        "\n",
        "\n"
      ],
      "metadata": {
        "colab": {
          "base_uri": "https://localhost:8080/"
        },
        "id": "JXA0IpH9xNCH",
        "outputId": "f9944175-bf25-48db-8b28-f4bf0ce2d3a4"
      },
      "execution_count": null,
      "outputs": [
        {
          "output_type": "stream",
          "name": "stdout",
          "text": [
            "True\n"
          ]
        }
      ]
    },
    {
      "cell_type": "code",
      "source": [
        "m=480\n",
        "m_1=m//60\n",
        "optimal_sleep_duration=bool(m_1)\n",
        "print (m_1>=7 and m_1<=9)\n"
      ],
      "metadata": {
        "colab": {
          "base_uri": "https://localhost:8080/"
        },
        "id": "xaWVjfju0O_B",
        "outputId": "9937348b-ea9e-424c-cde0-7f45601fba48"
      },
      "execution_count": null,
      "outputs": [
        {
          "output_type": "stream",
          "name": "stdout",
          "text": [
            "True\n"
          ]
        }
      ]
    },
    {
      "cell_type": "code",
      "source": [
        "m=690\n",
        "optimal_sleep_duration=bool(m//60)\n",
        "print (optimal_sleep_duration>=7 and optimal_sleep_duration<=9)"
      ],
      "metadata": {
        "colab": {
          "base_uri": "https://localhost:8080/"
        },
        "id": "tFAbBPon0mkx",
        "outputId": "69b39a6e-017b-49d9-fbe2-9d6af77bfc1a"
      },
      "execution_count": null,
      "outputs": [
        {
          "output_type": "stream",
          "name": "stdout",
          "text": [
            "False\n"
          ]
        }
      ]
    },
    {
      "cell_type": "markdown",
      "source": [
        "В переменной x хранится целое число. Проверьте, делится ли это число без остатка на 3 и на 7. Результат сохраните в переменную result. Переменная result должна иметь логический тип данных.\n",
        "\n",
        "Если x = 7, то  result = False. Если x = 21, то result = True."
      ],
      "metadata": {
        "id": "Bysg1Rf2WhT2"
      }
    },
    {
      "cell_type": "code",
      "source": [
        "x = 21\n",
        "result = (x % 3 == 0) and (x % 7 == 0)\n",
        "print(result)\n"
      ],
      "metadata": {
        "colab": {
          "base_uri": "https://localhost:8080/"
        },
        "id": "g8R1_48pWh2t",
        "outputId": "e557d52d-e6ff-4991-d64a-14a76daf1643"
      },
      "execution_count": null,
      "outputs": [
        {
          "output_type": "stream",
          "name": "stdout",
          "text": [
            "True\n"
          ]
        }
      ]
    },
    {
      "cell_type": "code",
      "source": [
        "string1 = '\\'Манчестер Юнайтед\\' - чемпион Англии!\\n2013'\n",
        "print(string1)"
      ],
      "metadata": {
        "colab": {
          "base_uri": "https://localhost:8080/"
        },
        "id": "2o8nIHnaZABJ",
        "outputId": "82d244f0-e5d6-4d9f-a166-88ab4e551fdc"
      },
      "execution_count": null,
      "outputs": [
        {
          "output_type": "stream",
          "name": "stdout",
          "text": [
            "'Манчестер Юнайтед' - чемпион Англии!\n",
            "2013\n"
          ]
        }
      ]
    },
    {
      "cell_type": "code",
      "source": [
        "print(\"Hello\\nworld!\")\n",
        "print(\"C:\\\\Users\\\\user\\\\Desktop\\\\file.txt\")\n",
        "print(\"Name:\\tJohn\")\n",
        "print('It\\'s a beautiful day!')\n",
        "print(\"It's a beautiful day!\") # так тоже можно"
      ],
      "metadata": {
        "colab": {
          "base_uri": "https://localhost:8080/"
        },
        "id": "GDgDAzXvZ57L",
        "outputId": "6c2a4f46-2374-4c02-9ed1-dc5a518c8822"
      },
      "execution_count": null,
      "outputs": [
        {
          "output_type": "stream",
          "name": "stdout",
          "text": [
            "Hello\n",
            "world!\n",
            "C:\\Users\\user\\Desktop\\file.txt\n",
            "Name:\tJohn\n",
            "It's a beautiful day!\n",
            "It's a beautiful day!\n"
          ]
        }
      ]
    },
    {
      "cell_type": "markdown",
      "source": [
        "Сохраните в переменную square строку, которая выводит на экран прямоугольник 4 х 4, сформированный из звездочек, разделенных пробелом."
      ],
      "metadata": {
        "id": "r4gc7b1DaeIg"
      }
    },
    {
      "cell_type": "code",
      "source": [
        "square = '* * * *\\n* * * *\\n* * * *\\n* * * *'\n",
        "print (square)"
      ],
      "metadata": {
        "colab": {
          "base_uri": "https://localhost:8080/"
        },
        "id": "bshF-vkTacnY",
        "outputId": "0452aaa9-bdd3-4ba3-bcdb-522f9d39f37b"
      },
      "execution_count": null,
      "outputs": [
        {
          "output_type": "stream",
          "name": "stdout",
          "text": [
            "* * * *\n",
            "* * * *\n",
            "* * * *\n",
            "* * * *\n"
          ]
        }
      ]
    },
    {
      "cell_type": "markdown",
      "source": [
        "# **LESSON 2**"
      ],
      "metadata": {
        "id": "VbeFx2h9mYKD"
      }
    },
    {
      "cell_type": "markdown",
      "source": [
        "В my_list сохранен список как минимум с двумя элементами.\n",
        "\n",
        "В переменную first_item сохраните первый элемент списка.\n",
        "\n",
        "В переменную last_item сохраните последний элемент списка.\n",
        "\n",
        "В переменную reversed_list сохраните все элементы списка my_list в обратном порядке.\n",
        "\n",
        "В переменную even_items сохраните все элементы my_list с четными индексами."
      ],
      "metadata": {
        "id": "SAnGNlnmmhMy"
      }
    },
    {
      "cell_type": "code",
      "source": [
        "my_list = ['Anatoly', 'Fedor', 1, 2, 3]\n",
        "\n",
        "first_item = 'Anatoly'\n",
        "last_item = 3\n",
        "reversed_my_list = [3, 2, 1, 'Fedor', 'Anatoly']\n",
        "even_items = ['Anatoly', 1, 3]"
      ],
      "metadata": {
        "id": "YFl6NnNhmdtx"
      },
      "execution_count": null,
      "outputs": []
    },
    {
      "cell_type": "code",
      "source": [
        "my_list = ['Anatoly', 'Fedor', 1, 2, 3]\n",
        "first_item = my_list[0]\n",
        "last_item = my_list[-1]\n",
        "reversed_list = my_list[::-1]\n",
        "even_items = my_list[::2]\n",
        "\n",
        "print (first_item)\n",
        "print (last_item)\n",
        "print (reversed_list)\n",
        "print (even_items)"
      ],
      "metadata": {
        "colab": {
          "base_uri": "https://localhost:8080/"
        },
        "id": "oeD6IhjsrZ3c",
        "outputId": "0fde437e-a92f-4a4f-b37a-eed4da766a46"
      },
      "execution_count": null,
      "outputs": [
        {
          "output_type": "stream",
          "name": "stdout",
          "text": [
            "Anatoly\n",
            "3\n",
            "[3, 2, 1, 'Fedor', 'Anatoly']\n",
            "['Anatoly', 1, 3]\n"
          ]
        }
      ]
    },
    {
      "cell_type": "markdown",
      "source": [
        "В переменную var_1 сохраните список с числами от -100 до 100 включительно с шагом в 1.\n",
        "\n",
        "В переменную var_2 сохраните список с числами от 250 до 0 включительно с шагом в 2.\n",
        "\n",
        "В переменную var_3 сохраните список со всеми нечетными числами от 100 до 200.\n",
        "\n"
      ],
      "metadata": {
        "id": "T6qbJ11hunME"
      }
    },
    {
      "cell_type": "code",
      "source": [
        "var_1=list(range(-100,101, 1))\n",
        "var_2=list(range(250,-1, -2))\n",
        "var_3 = []\n",
        "for num in range(100, 201):\n",
        "    if num % 2 != 0:\n",
        "        var_3.append(num)\n",
        "\n",
        "var_4 = list(range(101, 200, 2))\n",
        "\n",
        "print (var_1)\n",
        "print (var_2)\n",
        "print (var_3)\n",
        "print (var_4)"
      ],
      "metadata": {
        "colab": {
          "base_uri": "https://localhost:8080/"
        },
        "id": "SCNdq5Loun4q",
        "outputId": "e236889c-5f04-4253-a6d0-8f2dee806981"
      },
      "execution_count": null,
      "outputs": [
        {
          "output_type": "stream",
          "name": "stdout",
          "text": [
            "[-100, -99, -98, -97, -96, -95, -94, -93, -92, -91, -90, -89, -88, -87, -86, -85, -84, -83, -82, -81, -80, -79, -78, -77, -76, -75, -74, -73, -72, -71, -70, -69, -68, -67, -66, -65, -64, -63, -62, -61, -60, -59, -58, -57, -56, -55, -54, -53, -52, -51, -50, -49, -48, -47, -46, -45, -44, -43, -42, -41, -40, -39, -38, -37, -36, -35, -34, -33, -32, -31, -30, -29, -28, -27, -26, -25, -24, -23, -22, -21, -20, -19, -18, -17, -16, -15, -14, -13, -12, -11, -10, -9, -8, -7, -6, -5, -4, -3, -2, -1, 0, 1, 2, 3, 4, 5, 6, 7, 8, 9, 10, 11, 12, 13, 14, 15, 16, 17, 18, 19, 20, 21, 22, 23, 24, 25, 26, 27, 28, 29, 30, 31, 32, 33, 34, 35, 36, 37, 38, 39, 40, 41, 42, 43, 44, 45, 46, 47, 48, 49, 50, 51, 52, 53, 54, 55, 56, 57, 58, 59, 60, 61, 62, 63, 64, 65, 66, 67, 68, 69, 70, 71, 72, 73, 74, 75, 76, 77, 78, 79, 80, 81, 82, 83, 84, 85, 86, 87, 88, 89, 90, 91, 92, 93, 94, 95, 96, 97, 98, 99, 100]\n",
            "[250, 248, 246, 244, 242, 240, 238, 236, 234, 232, 230, 228, 226, 224, 222, 220, 218, 216, 214, 212, 210, 208, 206, 204, 202, 200, 198, 196, 194, 192, 190, 188, 186, 184, 182, 180, 178, 176, 174, 172, 170, 168, 166, 164, 162, 160, 158, 156, 154, 152, 150, 148, 146, 144, 142, 140, 138, 136, 134, 132, 130, 128, 126, 124, 122, 120, 118, 116, 114, 112, 110, 108, 106, 104, 102, 100, 98, 96, 94, 92, 90, 88, 86, 84, 82, 80, 78, 76, 74, 72, 70, 68, 66, 64, 62, 60, 58, 56, 54, 52, 50, 48, 46, 44, 42, 40, 38, 36, 34, 32, 30, 28, 26, 24, 22, 20, 18, 16, 14, 12, 10, 8, 6, 4, 2, 0]\n",
            "[101, 103, 105, 107, 109, 111, 113, 115, 117, 119, 121, 123, 125, 127, 129, 131, 133, 135, 137, 139, 141, 143, 145, 147, 149, 151, 153, 155, 157, 159, 161, 163, 165, 167, 169, 171, 173, 175, 177, 179, 181, 183, 185, 187, 189, 191, 193, 195, 197, 199]\n",
            "[101, 103, 105, 107, 109, 111, 113, 115, 117, 119, 121, 123, 125, 127, 129, 131, 133, 135, 137, 139, 141, 143, 145, 147, 149, 151, 153, 155, 157, 159, 161, 163, 165, 167, 169, 171, 173, 175, 177, 179, 181, 183, 185, 187, 189, 191, 193, 195, 197, 199]\n"
          ]
        }
      ]
    },
    {
      "cell_type": "markdown",
      "source": [
        "В переменных  a и b хранятся числа — начало и конец диапазона. Напишите программу, которая вернет сумму всех чисел из этого диапазона. Сохраните значение в переменную result."
      ],
      "metadata": {
        "id": "yXsVHoOxy0Ys"
      }
    },
    {
      "cell_type": "code",
      "source": [
        "a=1\n",
        "b=3\n",
        "my_list=sum(list(range(a,b+1)))\n",
        "result=my_list\n",
        "print (result)\n",
        "#print (sum(my_list))"
      ],
      "metadata": {
        "colab": {
          "base_uri": "https://localhost:8080/"
        },
        "id": "dAcaxYcmy0uW",
        "outputId": "cde78634-bc2d-44cb-bbb0-d863830890c5"
      },
      "execution_count": null,
      "outputs": [
        {
          "output_type": "stream",
          "name": "stdout",
          "text": [
            "6\n"
          ]
        }
      ]
    },
    {
      "cell_type": "markdown",
      "source": [
        "Давайте потренируемся использовать различные методы списков. В переменной my_list сохранен не пустой список, в котором есть число 11.\n",
        "\n",
        "Найдите первый индекс числа 11 в my_list, сохраните индекс в переменную eleven_index.  \n",
        "\n",
        "В переменную ten_count сохраните, сколько раз в списке my_list встречается число 10."
      ],
      "metadata": {
        "id": "6TptYCHcN16Q"
      }
    },
    {
      "cell_type": "code",
      "source": [
        "my_list = [1, 10, 0, 10, 11]\n",
        "\n",
        "eleven_index = my_list.index(11, 0, 100000000000000000000)\n",
        "#eleven_index = my_list.index(11)\n",
        "ten_count = my_list.count(10)\n",
        "print(eleven_index)\n",
        "print(ten_count)\n"
      ],
      "metadata": {
        "colab": {
          "base_uri": "https://localhost:8080/"
        },
        "id": "2mdssvPIN242",
        "outputId": "c5a2a052-50c5-4664-8a7d-408f36c8170e"
      },
      "execution_count": null,
      "outputs": [
        {
          "output_type": "stream",
          "name": "stdout",
          "text": [
            "4\n",
            "2\n"
          ]
        }
      ]
    },
    {
      "cell_type": "markdown",
      "source": [
        "В student_names сохранен список с именами студентов, добавьте в список два имени 'Anatoly' и 'Oksana'.\n",
        "\n",
        "В scores сохранен список из десяти целых чисел, удалите из него второй, пятый и последний элемент.\n",
        "\n",
        "В lessons сохранен список с названием уроков, отсортируйте названия уроков в списке по алфавиту."
      ],
      "metadata": {
        "id": "I73SBOZyVk2I"
      }
    },
    {
      "cell_type": "code",
      "source": [
        "#student_names = ['Ian', 'Ivan']\n",
        "student_names.extend(['Anatoly', 'Oksana'])\n",
        "print (student_names)\n",
        "\n",
        "# scores = [0, 1, 2, 3, 4, 5, 6, 7, 8, 9, 10]\n",
        "scores.pop(1)\n",
        "print (scores) #[0, 2, 3, 4, 5, 6, 7, 8, 9, 10]\n",
        "scores.pop(3)\n",
        "print (scores) #[0, 2, 3, 5, 6, 7, 8, 9, 10]\n",
        "scores.pop()\n",
        "print (scores) # [0, 2, 3, 5, 6, 7, 8, 9]\n",
        "\n",
        "#lessons = ['Python', 'Analytics']\n",
        "lessons.sort()\n",
        "print (lessons)"
      ],
      "metadata": {
        "colab": {
          "base_uri": "https://localhost:8080/"
        },
        "id": "68VdPKljVnpu",
        "outputId": "df80b935-f143-45e4-c33a-bfc263e25bf0"
      },
      "execution_count": null,
      "outputs": [
        {
          "output_type": "stream",
          "name": "stdout",
          "text": [
            "['Ian', 'Ivan', 'Anatoly', 'Oksana']\n",
            "[0, 2, 3, 4, 5, 6, 7, 8, 9, 10]\n",
            "[0, 2, 3, 5, 6, 7, 8, 9, 10]\n",
            "[0, 2, 3, 5, 6, 7, 8, 9]\n",
            "['Analytics', 'Python']\n"
          ]
        }
      ]
    },
    {
      "cell_type": "markdown",
      "source": [],
      "metadata": {
        "id": "R29dwq7fcW8P"
      }
    },
    {
      "cell_type": "code",
      "source": [
        "month_index = 0\n",
        "month_name = months[month_index]\n",
        "print(month_name) # => 'January'"
      ],
      "metadata": {
        "colab": {
          "base_uri": "https://localhost:8080/"
        },
        "id": "6t2D40eucXKb",
        "outputId": "0effd7fc-f7a5-4550-9ebf-4f7b56ca65ae"
      },
      "execution_count": null,
      "outputs": [
        {
          "output_type": "stream",
          "name": "stdout",
          "text": [
            "January\n"
          ]
        }
      ]
    },
    {
      "cell_type": "markdown",
      "source": [
        "Создайте кортеж с названиями дней недели и сохраните его в переменную days_of_the_week.\n",
        "\n"
      ],
      "metadata": {
        "id": "RCZ1WxKaexzZ"
      }
    },
    {
      "cell_type": "code",
      "source": [
        "days_of_the_week = ('Monday', 'Tuesday', 'Wednesday', 'Thursday', 'Friday', 'Saturday', 'Sunday')\n",
        "print (days_of_the_week)"
      ],
      "metadata": {
        "colab": {
          "base_uri": "https://localhost:8080/"
        },
        "id": "LDg3JRy8eyMj",
        "outputId": "9e2a145c-4000-4176-8556-4f02a36b31a4"
      },
      "execution_count": null,
      "outputs": [
        {
          "output_type": "stream",
          "name": "stdout",
          "text": [
            "('Monday', 'Tuesday', 'Wednesday', 'Thursday', 'Friday', 'Saturday', 'Sunday')\n"
          ]
        }
      ]
    },
    {
      "cell_type": "markdown",
      "source": [
        "В переменной numbers_list сохранен список с целыми числами. В списке минимум два разных целых числа.\n",
        "\n",
        "В переменную numbers_list_ordered сохраните все числа из списка numbers_list, отсортированные по убыванию. При этом сам список numbers_list не должен изменяться.\n",
        "\n",
        "В переменную numbers_set сохраните множество из уникальных чисел из списка numbers_list. Дополните это множество следующим целым числом после максимального числа из numbers_list.\n",
        "\n",
        "В переменную numbers_frozenset сохраните неизменяемое множество из всех уникальных чисел из списка numbers_list, кроме минимального числа."
      ],
      "metadata": {
        "id": "UWMlSaxsg7XO"
      }
    },
    {
      "cell_type": "code",
      "source": [
        "# Пример 1\n",
        "numbers_list = [1, 5, 3, 3, 5]\n",
        "\n",
        "numbers_list_ordered = [5, 5, 3, 3, 1]\n",
        "numbers_set = set([1, 3, 5, 6])\n",
        "numbers_frozenset = frozenset([3, 5])\n",
        "\n",
        "\n",
        "# Пример 2\n",
        "numbers_list = [-1, 0, 1]\n",
        "\n",
        "numbers_list_ordered = [1, 0, -1]\n",
        "numbers_set = set([-1, 0, 1, 2])\n",
        "numbers_frozenset = frozenset([0, 1])\n",
        "\n",
        "\n",
        "# Пример 3\n",
        "numbers_list [-1, -5, -1]\n",
        "\n",
        "numbers_list_ordered = [-1, -1, -5]\n",
        "numbers_set = set([-5, -1, 0])\n",
        "numbers_frozenset = frozenset([-1])"
      ],
      "metadata": {
        "id": "0LdkGbeYhBI1"
      },
      "execution_count": null,
      "outputs": []
    },
    {
      "cell_type": "code",
      "source": [
        "numbers_list = [-1, -5, -1]\n",
        "print ('input_list = ', numbers_list)\n",
        "\n",
        "numbers_list_ordered = numbers_list.copy()\n",
        "numbers_list_ordered.sort(reverse=True)\n",
        "print ('orderder_list = ', numbers_list_ordered)\n",
        "\n",
        "numbers_set_1 = set(numbers_list)\n",
        "numbers_set = numbers_set_1.copy()\n",
        "max_number_set = max(numbers_set_1)                                                  #print (numbers_set)\n",
        "numbers_set = numbers_set_1.add(max_number_set+1)                                    #print (max_number_set)\n",
        "numbers_set = list(numbers_set_1)\n",
        "numbers_set.sort()\n",
        "print ('unique_set = ',numbers_set)\n",
        "\n",
        "numbers_frozenset = frozenset(numbers_list)                                         #print (numbers_frozenset)\n",
        "min_number_set = min(numbers_frozenset)                                             #print (min_number_set)\n",
        "numbers_frozenset = list(numbers_frozenset)\n",
        "numbers_frozenset.remove(min_number_set)\n",
        "print ('numbers_frozenset = ', numbers_frozenset)\n",
        "\n"
      ],
      "metadata": {
        "colab": {
          "base_uri": "https://localhost:8080/"
        },
        "id": "L02T8ZbchBuG",
        "outputId": "cce4b61d-4bdd-4fdf-ca9e-06e85b3246a5"
      },
      "execution_count": 70,
      "outputs": [
        {
          "output_type": "stream",
          "name": "stdout",
          "text": [
            "input_list =  [-1, -5, -1]\n",
            "orderder_list =  [-1, -1, -5]\n",
            "unique_set =  [-5, -1, 0]\n",
            "numbers_frozenset =  [-1]\n"
          ]
        }
      ]
    },
    {
      "cell_type": "markdown",
      "source": [
        "Даны два списка list_1 и list_2. Отсортируйте list_1 по возрастанию, а list_2 по убыванию.\n",
        "Объедините list_1 и list_2 в один отсортированный по возрастанию список list_3.  \n",
        "В переменную list_3_len сохраните длину  list_3."
      ],
      "metadata": {
        "id": "Ej57Y9ni04g-"
      }
    },
    {
      "cell_type": "code",
      "source": [
        "# Пример\n",
        "list_1 = [1, 5, 3]\n",
        "list_2 = [2, 8]\n",
        "# ->\n",
        "list_1 = [1, 3, 5]\n",
        "list_2 = [8, 2]\n",
        "list_3 = [1, 2, 3, 5, 8]\n",
        "list_3_len = 5"
      ],
      "metadata": {
        "id": "W0ctlwhD049Q"
      },
      "execution_count": null,
      "outputs": []
    },
    {
      "cell_type": "code",
      "source": [
        "list_1 = [1, 5, 3]\n",
        "list_2 = [2, 8]\n",
        "\n",
        "list_1.sort()\n",
        "print (list_1)\n",
        "\n",
        "list_2.sort(reverse=True)\n",
        "print (list_2)\n",
        "\n",
        "list_3 = list_1 + list_2\n",
        "list_3.sort()\n",
        "print (list_3)\n",
        "\n",
        "list_3_len = len(list_3)\n",
        "print (list_3_len)\n"
      ],
      "metadata": {
        "colab": {
          "base_uri": "https://localhost:8080/"
        },
        "id": "A2QXRrJ409kf",
        "outputId": "8d4ed9c1-ef09-4695-d80b-1dfba9da8e4b"
      },
      "execution_count": 80,
      "outputs": [
        {
          "output_type": "stream",
          "name": "stdout",
          "text": [
            "[1, 3, 5]\n",
            "[8, 2]\n",
            "[1, 2, 3, 5, 8]\n",
            "5\n"
          ]
        }
      ]
    },
    {
      "cell_type": "markdown",
      "source": [
        "\n",
        "В переменной menu хранится множество всех позиций меню кофейни, а в переменной stop — множество позиций меню кофейни, недоступных для заказа сегодня. Сохраните в переменную menu_today позиции меню, которые доступны для заказа сегодня.  "
      ],
      "metadata": {
        "id": "VJXsfqs_316u"
      }
    },
    {
      "cell_type": "code",
      "source": [
        "menu = {'White Chocolate Mocha', 'Americano', 'Flat White', 'Latte',\n",
        "        'Blueberry Muffin', 'Chocolate Chip Cookie'}\n",
        "stop = {'White Chocolate Mocha', 'Blueberry Muffin'}\n",
        "\n",
        "menu_today = {'Americano', 'Flat White', 'Latte', 'Chocolate Chip Cookie'}\n",
        "\n"
      ],
      "metadata": {
        "id": "oQQEu9qK31Ng"
      },
      "execution_count": null,
      "outputs": []
    },
    {
      "cell_type": "code",
      "source": [
        "menu = {'White Chocolate Mocha', 'Americano', 'Flat White', 'Latte',\n",
        "        'Blueberry Muffin', 'Chocolate Chip Cookie'}\n",
        "stop = {'White Chocolate Mocha', 'Blueberry Muffin'}\n",
        "\n",
        "menu_today = menu.difference(stop)\n",
        "print (menu_today)"
      ],
      "metadata": {
        "colab": {
          "base_uri": "https://localhost:8080/"
        },
        "id": "gtSe8-BI35XH",
        "outputId": "e2746eb9-3b8e-4179-bd4f-b2ca4b10f472"
      },
      "execution_count": 81,
      "outputs": [
        {
          "output_type": "stream",
          "name": "stdout",
          "text": [
            "{'Americano', 'Flat White', 'Latte', 'Chocolate Chip Cookie'}\n"
          ]
        }
      ]
    },
    {
      "cell_type": "markdown",
      "source": [
        "В переменной my_set множество (set) из чисел. В переменной to_delete число, которое нужно удалить из my_set, если оно там есть. Если такого числа нет в my_set ничего делать не надо."
      ],
      "metadata": {
        "id": "SQDyzQS84g8w"
      }
    },
    {
      "cell_type": "code",
      "source": [
        "my_set = {0, 10, 100}\n",
        "to_delete = 0\n",
        "====>\n",
        "my_set = {10, 100} # удалили 0\n",
        "\n",
        "my_set = {0, 10, 100}\n",
        "to_delete = -2\n",
        "====>\n",
        "my_set = {0, 10, 100} # ничего не сделали\n"
      ],
      "metadata": {
        "id": "NYaMa0g-4hSr"
      },
      "execution_count": null,
      "outputs": []
    },
    {
      "cell_type": "code",
      "source": [
        "my_set = {0, 10, 100}\n",
        "to_delete = 0\n",
        "my_set.discard(to_delete)\n",
        "print (my_set)"
      ],
      "metadata": {
        "colab": {
          "base_uri": "https://localhost:8080/"
        },
        "id": "S23OymF54i9O",
        "outputId": "37a4158c-bd10-4ef0-a3d5-56d188a820b1"
      },
      "execution_count": 84,
      "outputs": [
        {
          "output_type": "stream",
          "name": "stdout",
          "text": [
            "{10, 100}\n"
          ]
        }
      ]
    },
    {
      "cell_type": "markdown",
      "source": [
        "В students хранится множество студентов it-центра МАИ. Студент, имя которого записано в new_student, перевелся в МАИ из другого института, его имя нужно добавить в students. В переменной churn_student — студент, который хочет перевестись из МАИ в другой институт, его имя нужно убрать из students."
      ],
      "metadata": {
        "id": "7_fb7Om25PsY"
      }
    },
    {
      "cell_type": "code",
      "source": [
        "students = {'Кравченко Виталий', 'Полякова Ольга', 'Некрасов Игорь', 'Дудочкин Илья', 'Захарова Мария'}\n",
        "new_student = 'Василенко Анна'\n",
        "churn_student = 'Полякова Ольга'\n",
        "\n",
        "students.add(new_student)\n",
        "students.discard(churn_student)\n",
        "print (students)"
      ],
      "metadata": {
        "colab": {
          "base_uri": "https://localhost:8080/"
        },
        "id": "P4gPz-J25Rzm",
        "outputId": "0b281255-2642-42a1-e6af-4e529352d7ba"
      },
      "execution_count": 86,
      "outputs": [
        {
          "output_type": "stream",
          "name": "stdout",
          "text": [
            "{'Захарова Мария', 'Кравченко Виталий', 'Полякова Ольга', 'Некрасов Игорь', 'Дудочкин Илья', 'Василенко Анна'}\n"
          ]
        }
      ]
    },
    {
      "cell_type": "markdown",
      "source": [
        "В переменной da_students хранятся имена студентов курса \"Аналитик данных\", а в переменной dv_students — имена студентов курса \"Визуализация данных\". Сохраните в переменную students студентов, которые обучаются на обоих курсах.\n",
        "\n",
        "Порядок элементов в students не имеет значения."
      ],
      "metadata": {
        "id": "_A9eKPUc8Y8f"
      }
    },
    {
      "cell_type": "code",
      "source": [
        "# студенты курса \"Аналитик данных\"\n",
        "da_students = {'Ivanov Alexander', 'Loginov Vladislav', 'Ershova Anna', 'Korneva Daria'}\n",
        "# студенты курса \"Визуализация данных\"\n",
        "dv_students = {'Ershova Anna', 'Egunov Andrey', 'Ignatov Alexey', 'Loginov Vladislav'}\n",
        "\n",
        "students = da_students.intersection (dv_students)\n",
        "print (students)"
      ],
      "metadata": {
        "colab": {
          "base_uri": "https://localhost:8080/"
        },
        "id": "PbFgpKMH8ZXv",
        "outputId": "ec275cda-42b2-41cc-a805-ccfdfb6fddea"
      },
      "execution_count": 87,
      "outputs": [
        {
          "output_type": "stream",
          "name": "stdout",
          "text": [
            "{'Loginov Vladislav', 'Ershova Anna'}\n"
          ]
        }
      ]
    },
    {
      "cell_type": "markdown",
      "source": [
        "В переменной a хранится список целых неотрицательных чисел. Количество чисел четное.\n",
        "Напишите программу, которая будет делить этот список пополам, определять суммы чисел в половинах списка (sum_left и sum_right). Если sum_left равно sum_right, то сохраните в переменную result значение True,  в противном случае — False.  "
      ],
      "metadata": {
        "id": "T5-38ymG9AG5"
      }
    },
    {
      "cell_type": "code",
      "source": [
        "a = [1, 2, 4, 3]\n",
        "\n",
        "sum_left = 3\n",
        "sum_right = 7\n",
        "result = False"
      ],
      "metadata": {
        "id": "6Ujkm9aC9Ag5"
      },
      "execution_count": null,
      "outputs": []
    },
    {
      "cell_type": "code",
      "source": [
        "from pickle import TRUE\n",
        "a = [1, 2, 4, 3]\n",
        "length = len(a)\n",
        "middle=length//2\n",
        "left = a[:middle]\n",
        "right = a[middle:]\n",
        "\n",
        "sum_left = sum(left)\n",
        "sum_right = sum(right)\n",
        "print (middle)\n",
        "print (left)\n",
        "print (right)\n",
        "print (sum_left)\n",
        "print (sum_right)\n",
        "\n",
        "if sum_left==sum_right:\n",
        "    result = True\n",
        "else: result = False\n",
        "print (result)"
      ],
      "metadata": {
        "colab": {
          "base_uri": "https://localhost:8080/"
        },
        "id": "El-dtH3ZFCJz",
        "outputId": "fb4f80ee-4a93-4e53-b3c5-00ada46c9448"
      },
      "execution_count": 116,
      "outputs": [
        {
          "output_type": "stream",
          "name": "stdout",
          "text": [
            "2\n",
            "[1, 2]\n",
            "[4, 3]\n",
            "3\n",
            "7\n",
            "False\n"
          ]
        }
      ]
    },
    {
      "cell_type": "markdown",
      "source": [
        "Даны список целых чисел a и число b. Удалите из a первое и последнее вхождение числа b."
      ],
      "metadata": {
        "id": "YY2mZBOeGP-I"
      }
    },
    {
      "cell_type": "code",
      "source": [
        "a = [1, 2, 2, 1, 3, 2, 3]\n",
        "b = 1\n",
        "# -> a = [2, 2, 3, 2, 3]\n",
        "\n",
        "a = [1, 2, 2, 1, 3, 2, 3]\n",
        "b = 2\n",
        "# -> a = [1, 2, 1, 3, 3]"
      ],
      "metadata": {
        "id": "vwbMloPIGTAw"
      },
      "execution_count": null,
      "outputs": []
    },
    {
      "cell_type": "code",
      "source": [
        "a = [1, 2, 2, 1, 3, 2, 3]\n",
        "b = 1\n",
        "indices = [i for i in range(len(a)) if a[i] == b]\n",
        "min_indices = min(indices)\n",
        "max_indices = max(indices)\n",
        "print (indices)\n",
        "print (min_indices)\n",
        "print (max_indices)\n",
        "a.pop(min_indices) & a.pop(max_indices-1)\n",
        "print (a)\n",
        "\n",
        "\n",
        "\n",
        "\n",
        "\n"
      ],
      "metadata": {
        "colab": {
          "base_uri": "https://localhost:8080/"
        },
        "id": "OmTE9LVzGVaB",
        "outputId": "015a7ca9-835e-4a30-f89c-92035c2459e7"
      },
      "execution_count": 128,
      "outputs": [
        {
          "output_type": "stream",
          "name": "stdout",
          "text": [
            "[0, 3]\n",
            "0\n",
            "3\n",
            "[2, 2, 3, 2, 3]\n"
          ]
        }
      ]
    }
  ]
}