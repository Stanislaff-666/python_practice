{
  "nbformat": 4,
  "nbformat_minor": 0,
  "metadata": {
    "colab": {
      "provenance": [],
      "collapsed_sections": [
        "otpk9M1b9CfQ",
        "Z7QW8UZYjujw"
      ],
      "include_colab_link": true
    },
    "kernelspec": {
      "name": "python3",
      "display_name": "Python 3"
    },
    "language_info": {
      "name": "python"
    }
  },
  "cells": [
    {
      "cell_type": "markdown",
      "metadata": {
        "id": "view-in-github",
        "colab_type": "text"
      },
      "source": [
        "<a href=\"https://colab.research.google.com/github/Stanislaff-666/python_practice/blob/main/Carpov_Python.ipynb\" target=\"_parent\"><img src=\"https://colab.research.google.com/assets/colab-badge.svg\" alt=\"Open In Colab\"/></a>"
      ]
    },
    {
      "cell_type": "markdown",
      "source": [
        "# **LESSON 1**"
      ],
      "metadata": {
        "id": "8vvROmkkkHAq"
      }
    },
    {
      "cell_type": "markdown",
      "source": [
        "Давайте запрограммируем кота! Создайте три переменные:\n",
        "\n",
        "cat_name  со строкой как минимум из двух символов\n",
        "\n",
        "cat_age с неотрицательным числом\n",
        "\n",
        "is_fluffy с True или False"
      ],
      "metadata": {
        "id": "N4Wfy9oASaod"
      }
    },
    {
      "cell_type": "code",
      "source": [
        "cat_name = 'Vasya'\n",
        "cat_age = 15\n",
        "is_fluffy = True\n"
      ],
      "metadata": {
        "id": "NoMc5nPHSawG"
      },
      "execution_count": null,
      "outputs": []
    },
    {
      "cell_type": "code",
      "source": [
        "print (cat_name, cat_age, is_fluffy)"
      ],
      "metadata": {
        "colab": {
          "base_uri": "https://localhost:8080/"
        },
        "id": "_fWxVSvJXYvO",
        "outputId": "3a03edab-0acf-48ba-c2a6-c76f98a2876f"
      },
      "execution_count": null,
      "outputs": [
        {
          "output_type": "stream",
          "name": "stdout",
          "text": [
            "Vasya 15 True\n"
          ]
        }
      ]
    },
    {
      "cell_type": "markdown",
      "source": [
        "Давайте напишем программу для поиска длины гипотенузы. В переменных a и b уже записаны длины катетов прямоугольного треугольника. Создайте новую переменную c и сохраните в нее длину гипотенузы этого треугольника. a"
      ],
      "metadata": {
        "id": "6_E-JM34X2vw"
      }
    },
    {
      "cell_type": "code",
      "source": [
        "a=3\n",
        "b=4\n",
        "c = (a**2 + b**2)**0.5\n"
      ],
      "metadata": {
        "id": "zHJyl75LX5oW"
      },
      "execution_count": null,
      "outputs": []
    },
    {
      "cell_type": "code",
      "source": [
        "print(c)"
      ],
      "metadata": {
        "colab": {
          "base_uri": "https://localhost:8080/"
        },
        "id": "crLpjYI3YPge",
        "outputId": "749feb59-3c68-488f-b355-707b59814d6a"
      },
      "execution_count": null,
      "outputs": [
        {
          "output_type": "stream",
          "name": "stdout",
          "text": [
            "5.0\n"
          ]
        }
      ]
    },
    {
      "cell_type": "markdown",
      "source": [
        "В переменной father_age хранится возраст отца, а в переменной son_age — возраст сына. Посчитайте, через сколько лет отец будет вдвое старше сына. Результат сохраните в переменную result."
      ],
      "metadata": {
        "id": "cBB8OeoXaFnW"
      }
    },
    {
      "cell_type": "code",
      "source": [
        "father_age = 20\n",
        "son_age = 3\n",
        "result = (father_age-son_age)*2-father_age"
      ],
      "metadata": {
        "id": "biz1vHzqaGrW"
      },
      "execution_count": null,
      "outputs": []
    },
    {
      "cell_type": "code",
      "source": [
        "print (result)"
      ],
      "metadata": {
        "colab": {
          "base_uri": "https://localhost:8080/"
        },
        "id": "yzVwHW4Xaipf",
        "outputId": "eb41725a-c5ff-492c-8819-e3562d4c6ca3"
      },
      "execution_count": null,
      "outputs": [
        {
          "output_type": "stream",
          "name": "stdout",
          "text": [
            "14\n"
          ]
        }
      ]
    },
    {
      "cell_type": "markdown",
      "source": [
        "Заданы вещественные числа a, b и с – стороны треугольника. Вычислите периметр и площадь треугольника. Результат сохраните в переменные perimeter и area соответственно."
      ],
      "metadata": {
        "id": "SsvBNcqKbHRP"
      }
    },
    {
      "cell_type": "code",
      "source": [
        "a=3\n",
        "b=4\n",
        "c=5\n",
        "perimeter = (a+b+c)\n",
        "perimeter_1 = (a+b+c)/2\n",
        "area = (perimeter_1*(perimeter_1-a)*(perimeter_1-b)*(perimeter_1-c))**0.5"
      ],
      "metadata": {
        "id": "Hyw9KQ6DbKFf"
      },
      "execution_count": null,
      "outputs": []
    },
    {
      "cell_type": "code",
      "source": [
        "print ('Периметр = ', perimeter)\n",
        "print ('Площадь = ', area)"
      ],
      "metadata": {
        "colab": {
          "base_uri": "https://localhost:8080/"
        },
        "id": "eOhkq0GRbq1_",
        "outputId": "bf45a01a-0159-43b0-a91e-91a993183f4e"
      },
      "execution_count": null,
      "outputs": [
        {
          "output_type": "stream",
          "name": "stdout",
          "text": [
            "Периметр =  12\n",
            "Площадь =  6.0\n"
          ]
        }
      ]
    },
    {
      "cell_type": "markdown",
      "source": [
        "В переменную n сохранено целое число — количество секунд. Напишите программу, которая конвертирует заданное количество секунд n в часы, минуты и секунды. Результат сохраните в переменные hours, minutes, seconds."
      ],
      "metadata": {
        "id": "bRm_WPJOdKpX"
      }
    },
    {
      "cell_type": "code",
      "source": [
        "n = 123456 #seconds\n",
        "\n",
        "hours = n // 3600\n",
        "minutes = (n % 3600) // 60\n",
        "seconds = (n % 3600) % 60\n",
        "\n",
        "print(\"Часы:\", hours)\n",
        "print(\"Минуты:\", minutes)\n",
        "print(\"Секунды:\", seconds)"
      ],
      "metadata": {
        "colab": {
          "base_uri": "https://localhost:8080/"
        },
        "id": "8qsxvoXrdYpf",
        "outputId": "9bd28c99-6ddf-4558-c55a-f72997b4fb03"
      },
      "execution_count": null,
      "outputs": [
        {
          "output_type": "stream",
          "name": "stdout",
          "text": [
            "Часы: 34\n",
            "Минуты: 17\n",
            "Секунды: 36\n"
          ]
        }
      ]
    },
    {
      "cell_type": "markdown",
      "source": [
        "В переменной price_new хранится цена килограмма бананов в числовом формате, а в переменной price_old — цена килограмма бананов год назад. Вычислите, на сколько процентов по модулю изменилась цена за год. Результат сохраните в переменную result. Результат округлите до двух знаков после запятой."
      ],
      "metadata": {
        "id": "L0SZ3ewTiJVe"
      }
    },
    {
      "cell_type": "code",
      "source": [
        "price_new = 24\n",
        "price_old = 72\n",
        "result = round(abs(100-price_new*100/price_old),2)\n",
        "print (result)"
      ],
      "metadata": {
        "colab": {
          "base_uri": "https://localhost:8080/"
        },
        "id": "-xpX713xiMVW",
        "outputId": "28487c34-cfcb-4a72-860a-2c21a15a2595"
      },
      "execution_count": null,
      "outputs": [
        {
          "output_type": "stream",
          "name": "stdout",
          "text": [
            "66.67\n"
          ]
        }
      ]
    },
    {
      "cell_type": "markdown",
      "source": [
        "Создайте переменные:\n",
        "\n",
        "a со значением 5 типа int,\n",
        "\n",
        "b со значением \"10\" типа str,\n",
        "\n",
        "c со значением True типа bool.\n",
        "\n",
        "В переменную my_sum сохраните сумму трех переменных, которые вы создали, преобразовав b и с к типу int."
      ],
      "metadata": {
        "id": "xfj8X7rii6cw"
      }
    },
    {
      "cell_type": "code",
      "source": [
        "a_1 = 5\n",
        "a=int(a_1)\n",
        "\n",
        "b_1 = '10'\n",
        "b=int(b_1)\n",
        "\n",
        "c_1 = True\n",
        "c=int(c_1)\n",
        "\n",
        "my_sum = a + b + c\n",
        "\n",
        "print(a)\n",
        "print(b)\n",
        "print(c)\n",
        "print(my_sum)"
      ],
      "metadata": {
        "colab": {
          "base_uri": "https://localhost:8080/"
        },
        "id": "VZ3ZV9KwjNu4",
        "outputId": "7a04116e-146d-4759-fc50-15296be19c8a"
      },
      "execution_count": null,
      "outputs": [
        {
          "output_type": "stream",
          "name": "stdout",
          "text": [
            "5\n",
            "10\n",
            "1\n",
            "16\n"
          ]
        }
      ]
    },
    {
      "cell_type": "markdown",
      "source": [
        "В переменной a сохранено число с десятичной частью но в формате строки, например '3.14'. В переменную с сохраните целую часть из числа в переменной a."
      ],
      "metadata": {
        "id": "4YlUj6cklNgI"
      }
    },
    {
      "cell_type": "code",
      "source": [
        "a = '3.14'\n",
        "a_1= float(a)\n",
        "c=int(a_1)\n",
        "print (c)"
      ],
      "metadata": {
        "colab": {
          "base_uri": "https://localhost:8080/"
        },
        "id": "pOPlNenvlfmX",
        "outputId": "18ef3e10-1bf9-4bc2-dab7-bdba77fdc79c"
      },
      "execution_count": null,
      "outputs": [
        {
          "output_type": "stream",
          "name": "stdout",
          "text": [
            "3\n"
          ]
        }
      ]
    },
    {
      "cell_type": "markdown",
      "source": [
        "\n",
        "В переменной х уже сохранено целое положительное число. Вычислите x + x0x0x. Результат сохраните в переменную result.\n",
        "\n",
        "То есть, если x = 2, то нужно вычислить 2 + 20202."
      ],
      "metadata": {
        "id": "7w3RXCrwnkan"
      }
    },
    {
      "cell_type": "code",
      "source": [
        "x=str(2)\n",
        "x_1=2\n",
        "y=int(x+str(0)+x+str(0)+x)\n",
        "result=x_1+y\n",
        "print(y)\n",
        "print(result)"
      ],
      "metadata": {
        "colab": {
          "base_uri": "https://localhost:8080/",
          "height": 258
        },
        "id": "YPQnCX_snlCg",
        "outputId": "a7633d7f-902d-499e-c963-8e535a54bdea"
      },
      "execution_count": null,
      "outputs": [
        {
          "output_type": "error",
          "ename": "TypeError",
          "evalue": "ignored",
          "traceback": [
            "\u001b[0;31m---------------------------------------------------------------------------\u001b[0m",
            "\u001b[0;31mTypeError\u001b[0m                                 Traceback (most recent call last)",
            "\u001b[0;32m<ipython-input-135-9ee645329310>\u001b[0m in \u001b[0;36m<cell line: 3>\u001b[0;34m()\u001b[0m\n\u001b[1;32m      1\u001b[0m \u001b[0mx_1\u001b[0m\u001b[0;34m=\u001b[0m\u001b[0mstr\u001b[0m\u001b[0;34m(\u001b[0m\u001b[0;36m2\u001b[0m\u001b[0;34m)\u001b[0m\u001b[0;34m\u001b[0m\u001b[0;34m\u001b[0m\u001b[0m\n\u001b[1;32m      2\u001b[0m \u001b[0mx\u001b[0m\u001b[0;34m=\u001b[0m\u001b[0;36m2\u001b[0m\u001b[0;34m\u001b[0m\u001b[0;34m\u001b[0m\u001b[0m\n\u001b[0;32m----> 3\u001b[0;31m \u001b[0my\u001b[0m\u001b[0;34m=\u001b[0m\u001b[0mint\u001b[0m\u001b[0;34m(\u001b[0m\u001b[0mx\u001b[0m\u001b[0;34m+\u001b[0m\u001b[0mstr\u001b[0m\u001b[0;34m(\u001b[0m\u001b[0;36m0\u001b[0m\u001b[0;34m)\u001b[0m\u001b[0;34m+\u001b[0m\u001b[0mx\u001b[0m\u001b[0;34m+\u001b[0m\u001b[0mstr\u001b[0m\u001b[0;34m(\u001b[0m\u001b[0;36m0\u001b[0m\u001b[0;34m)\u001b[0m\u001b[0;34m+\u001b[0m\u001b[0mx\u001b[0m\u001b[0;34m)\u001b[0m\u001b[0;34m\u001b[0m\u001b[0;34m\u001b[0m\u001b[0m\n\u001b[0m\u001b[1;32m      4\u001b[0m \u001b[0mresult\u001b[0m\u001b[0;34m=\u001b[0m\u001b[0mx_1\u001b[0m\u001b[0;34m+\u001b[0m\u001b[0my\u001b[0m\u001b[0;34m\u001b[0m\u001b[0;34m\u001b[0m\u001b[0m\n\u001b[1;32m      5\u001b[0m \u001b[0mprint\u001b[0m\u001b[0;34m(\u001b[0m\u001b[0my\u001b[0m\u001b[0;34m)\u001b[0m\u001b[0;34m\u001b[0m\u001b[0;34m\u001b[0m\u001b[0m\n",
            "\u001b[0;31mTypeError\u001b[0m: unsupported operand type(s) for +: 'int' and 'str'"
          ]
        }
      ]
    },
    {
      "cell_type": "code",
      "source": [
        "x=str(10)\n",
        "#x_1=2\n",
        "y=int(x+str(0)+x+str(0)+x) + int(x)\n",
        "#result=x_1+y\n",
        "print(y)\n",
        "#print(result)"
      ],
      "metadata": {
        "colab": {
          "base_uri": "https://localhost:8080/"
        },
        "id": "5XOMYL1FuAUJ",
        "outputId": "2fe46e37-1724-4d71-8b73-b100a05476eb"
      },
      "execution_count": null,
      "outputs": [
        {
          "output_type": "stream",
          "name": "stdout",
          "text": [
            "10010020\n"
          ]
        }
      ]
    },
    {
      "cell_type": "markdown",
      "source": [
        "В переменной m хранится целое положительное число — продолжительность сна в минутах. Если продолжительность сна составит от 7 до 9 часов включительно, то в переменную optimal_sleep_duration сохраните значение True. В противном случае присвойте это переменной значение False."
      ],
      "metadata": {
        "id": "7Uf4AB29xMf4"
      }
    },
    {
      "cell_type": "code",
      "source": [
        "m=480\n",
        "optimal_sleep_duration=m//60\n",
        "print (optimal_sleep_duration>=7 and optimal_sleep_duration<=9)\n",
        "\n",
        "\n",
        "\n"
      ],
      "metadata": {
        "colab": {
          "base_uri": "https://localhost:8080/"
        },
        "id": "JXA0IpH9xNCH",
        "outputId": "f9944175-bf25-48db-8b28-f4bf0ce2d3a4"
      },
      "execution_count": null,
      "outputs": [
        {
          "output_type": "stream",
          "name": "stdout",
          "text": [
            "True\n"
          ]
        }
      ]
    },
    {
      "cell_type": "code",
      "source": [
        "m=480\n",
        "m_1=m//60\n",
        "optimal_sleep_duration=bool(m_1)\n",
        "print (m_1>=7 and m_1<=9)\n"
      ],
      "metadata": {
        "colab": {
          "base_uri": "https://localhost:8080/"
        },
        "id": "xaWVjfju0O_B",
        "outputId": "9937348b-ea9e-424c-cde0-7f45601fba48"
      },
      "execution_count": null,
      "outputs": [
        {
          "output_type": "stream",
          "name": "stdout",
          "text": [
            "True\n"
          ]
        }
      ]
    },
    {
      "cell_type": "code",
      "source": [
        "m=690\n",
        "optimal_sleep_duration=bool(m//60)\n",
        "print (optimal_sleep_duration>=7 and optimal_sleep_duration<=9)"
      ],
      "metadata": {
        "colab": {
          "base_uri": "https://localhost:8080/"
        },
        "id": "tFAbBPon0mkx",
        "outputId": "69b39a6e-017b-49d9-fbe2-9d6af77bfc1a"
      },
      "execution_count": null,
      "outputs": [
        {
          "output_type": "stream",
          "name": "stdout",
          "text": [
            "False\n"
          ]
        }
      ]
    },
    {
      "cell_type": "markdown",
      "source": [
        "В переменной x хранится целое число. Проверьте, делится ли это число без остатка на 3 и на 7. Результат сохраните в переменную result. Переменная result должна иметь логический тип данных.\n",
        "\n",
        "Если x = 7, то  result = False. Если x = 21, то result = True."
      ],
      "metadata": {
        "id": "Bysg1Rf2WhT2"
      }
    },
    {
      "cell_type": "code",
      "source": [
        "x = 21\n",
        "result = (x % 3 == 0) and (x % 7 == 0)\n",
        "print(result)\n"
      ],
      "metadata": {
        "colab": {
          "base_uri": "https://localhost:8080/"
        },
        "id": "g8R1_48pWh2t",
        "outputId": "e557d52d-e6ff-4991-d64a-14a76daf1643"
      },
      "execution_count": null,
      "outputs": [
        {
          "output_type": "stream",
          "name": "stdout",
          "text": [
            "True\n"
          ]
        }
      ]
    },
    {
      "cell_type": "code",
      "source": [
        "string1 = '\\'Манчестер Юнайтед\\' - чемпион Англии!\\n2013'\n",
        "print(string1)"
      ],
      "metadata": {
        "colab": {
          "base_uri": "https://localhost:8080/"
        },
        "id": "2o8nIHnaZABJ",
        "outputId": "82d244f0-e5d6-4d9f-a166-88ab4e551fdc"
      },
      "execution_count": null,
      "outputs": [
        {
          "output_type": "stream",
          "name": "stdout",
          "text": [
            "'Манчестер Юнайтед' - чемпион Англии!\n",
            "2013\n"
          ]
        }
      ]
    },
    {
      "cell_type": "code",
      "source": [
        "print(\"Hello\\nworld!\")\n",
        "print(\"C:\\\\Users\\\\user\\\\Desktop\\\\file.txt\")\n",
        "print(\"Name:\\tJohn\")\n",
        "print('It\\'s a beautiful day!')\n",
        "print(\"It's a beautiful day!\") # так тоже можно"
      ],
      "metadata": {
        "colab": {
          "base_uri": "https://localhost:8080/"
        },
        "id": "GDgDAzXvZ57L",
        "outputId": "6c2a4f46-2374-4c02-9ed1-dc5a518c8822"
      },
      "execution_count": null,
      "outputs": [
        {
          "output_type": "stream",
          "name": "stdout",
          "text": [
            "Hello\n",
            "world!\n",
            "C:\\Users\\user\\Desktop\\file.txt\n",
            "Name:\tJohn\n",
            "It's a beautiful day!\n",
            "It's a beautiful day!\n"
          ]
        }
      ]
    },
    {
      "cell_type": "markdown",
      "source": [
        "Сохраните в переменную square строку, которая выводит на экран прямоугольник 4 х 4, сформированный из звездочек, разделенных пробелом."
      ],
      "metadata": {
        "id": "r4gc7b1DaeIg"
      }
    },
    {
      "cell_type": "code",
      "source": [
        "square = '* * * *\\n* * * *\\n* * * *\\n* * * *'\n",
        "print (square)"
      ],
      "metadata": {
        "colab": {
          "base_uri": "https://localhost:8080/"
        },
        "id": "bshF-vkTacnY",
        "outputId": "0452aaa9-bdd3-4ba3-bcdb-522f9d39f37b"
      },
      "execution_count": null,
      "outputs": [
        {
          "output_type": "stream",
          "name": "stdout",
          "text": [
            "* * * *\n",
            "* * * *\n",
            "* * * *\n",
            "* * * *\n"
          ]
        }
      ]
    },
    {
      "cell_type": "markdown",
      "source": [
        "# **LESSON 2**"
      ],
      "metadata": {
        "id": "VbeFx2h9mYKD"
      }
    },
    {
      "cell_type": "markdown",
      "source": [
        "В my_list сохранен список как минимум с двумя элементами.\n",
        "\n",
        "В переменную first_item сохраните первый элемент списка.\n",
        "\n",
        "В переменную last_item сохраните последний элемент списка.\n",
        "\n",
        "В переменную reversed_list сохраните все элементы списка my_list в обратном порядке.\n",
        "\n",
        "В переменную even_items сохраните все элементы my_list с четными индексами."
      ],
      "metadata": {
        "id": "SAnGNlnmmhMy"
      }
    },
    {
      "cell_type": "code",
      "source": [
        "my_list = ['Anatoly', 'Fedor', 1, 2, 3]\n",
        "\n",
        "first_item = 'Anatoly'\n",
        "last_item = 3\n",
        "reversed_my_list = [3, 2, 1, 'Fedor', 'Anatoly']\n",
        "even_items = ['Anatoly', 1, 3]"
      ],
      "metadata": {
        "id": "YFl6NnNhmdtx"
      },
      "execution_count": null,
      "outputs": []
    },
    {
      "cell_type": "code",
      "source": [
        "my_list = ['Anatoly', 'Fedor', 1, 2, 3]\n",
        "first_item = my_list[0]\n",
        "last_item = my_list[-1]\n",
        "reversed_list = my_list[::-1]\n",
        "even_items = my_list[::2]\n",
        "\n",
        "print (first_item)\n",
        "print (last_item)\n",
        "print (reversed_list)\n",
        "print (even_items)"
      ],
      "metadata": {
        "colab": {
          "base_uri": "https://localhost:8080/"
        },
        "id": "oeD6IhjsrZ3c",
        "outputId": "0fde437e-a92f-4a4f-b37a-eed4da766a46"
      },
      "execution_count": null,
      "outputs": [
        {
          "output_type": "stream",
          "name": "stdout",
          "text": [
            "Anatoly\n",
            "3\n",
            "[3, 2, 1, 'Fedor', 'Anatoly']\n",
            "['Anatoly', 1, 3]\n"
          ]
        }
      ]
    },
    {
      "cell_type": "markdown",
      "source": [
        "В переменную var_1 сохраните список с числами от -100 до 100 включительно с шагом в 1.\n",
        "\n",
        "В переменную var_2 сохраните список с числами от 250 до 0 включительно с шагом в 2.\n",
        "\n",
        "В переменную var_3 сохраните список со всеми нечетными числами от 100 до 200.\n",
        "\n"
      ],
      "metadata": {
        "id": "T6qbJ11hunME"
      }
    },
    {
      "cell_type": "code",
      "source": [
        "var_1=list(range(-100,101, 1))\n",
        "var_2=list(range(250,-1, -2))\n",
        "var_3 = []\n",
        "for num in range(100, 201):\n",
        "    if num % 2 != 0:\n",
        "        var_3.append(num)\n",
        "\n",
        "var_4 = list(range(101, 200, 2))\n",
        "\n",
        "print (var_1)\n",
        "print (var_2)\n",
        "print (var_3)\n",
        "print (var_4)"
      ],
      "metadata": {
        "colab": {
          "base_uri": "https://localhost:8080/"
        },
        "id": "SCNdq5Loun4q",
        "outputId": "e236889c-5f04-4253-a6d0-8f2dee806981"
      },
      "execution_count": null,
      "outputs": [
        {
          "output_type": "stream",
          "name": "stdout",
          "text": [
            "[-100, -99, -98, -97, -96, -95, -94, -93, -92, -91, -90, -89, -88, -87, -86, -85, -84, -83, -82, -81, -80, -79, -78, -77, -76, -75, -74, -73, -72, -71, -70, -69, -68, -67, -66, -65, -64, -63, -62, -61, -60, -59, -58, -57, -56, -55, -54, -53, -52, -51, -50, -49, -48, -47, -46, -45, -44, -43, -42, -41, -40, -39, -38, -37, -36, -35, -34, -33, -32, -31, -30, -29, -28, -27, -26, -25, -24, -23, -22, -21, -20, -19, -18, -17, -16, -15, -14, -13, -12, -11, -10, -9, -8, -7, -6, -5, -4, -3, -2, -1, 0, 1, 2, 3, 4, 5, 6, 7, 8, 9, 10, 11, 12, 13, 14, 15, 16, 17, 18, 19, 20, 21, 22, 23, 24, 25, 26, 27, 28, 29, 30, 31, 32, 33, 34, 35, 36, 37, 38, 39, 40, 41, 42, 43, 44, 45, 46, 47, 48, 49, 50, 51, 52, 53, 54, 55, 56, 57, 58, 59, 60, 61, 62, 63, 64, 65, 66, 67, 68, 69, 70, 71, 72, 73, 74, 75, 76, 77, 78, 79, 80, 81, 82, 83, 84, 85, 86, 87, 88, 89, 90, 91, 92, 93, 94, 95, 96, 97, 98, 99, 100]\n",
            "[250, 248, 246, 244, 242, 240, 238, 236, 234, 232, 230, 228, 226, 224, 222, 220, 218, 216, 214, 212, 210, 208, 206, 204, 202, 200, 198, 196, 194, 192, 190, 188, 186, 184, 182, 180, 178, 176, 174, 172, 170, 168, 166, 164, 162, 160, 158, 156, 154, 152, 150, 148, 146, 144, 142, 140, 138, 136, 134, 132, 130, 128, 126, 124, 122, 120, 118, 116, 114, 112, 110, 108, 106, 104, 102, 100, 98, 96, 94, 92, 90, 88, 86, 84, 82, 80, 78, 76, 74, 72, 70, 68, 66, 64, 62, 60, 58, 56, 54, 52, 50, 48, 46, 44, 42, 40, 38, 36, 34, 32, 30, 28, 26, 24, 22, 20, 18, 16, 14, 12, 10, 8, 6, 4, 2, 0]\n",
            "[101, 103, 105, 107, 109, 111, 113, 115, 117, 119, 121, 123, 125, 127, 129, 131, 133, 135, 137, 139, 141, 143, 145, 147, 149, 151, 153, 155, 157, 159, 161, 163, 165, 167, 169, 171, 173, 175, 177, 179, 181, 183, 185, 187, 189, 191, 193, 195, 197, 199]\n",
            "[101, 103, 105, 107, 109, 111, 113, 115, 117, 119, 121, 123, 125, 127, 129, 131, 133, 135, 137, 139, 141, 143, 145, 147, 149, 151, 153, 155, 157, 159, 161, 163, 165, 167, 169, 171, 173, 175, 177, 179, 181, 183, 185, 187, 189, 191, 193, 195, 197, 199]\n"
          ]
        }
      ]
    },
    {
      "cell_type": "markdown",
      "source": [
        "В переменных  a и b хранятся числа — начало и конец диапазона. Напишите программу, которая вернет сумму всех чисел из этого диапазона. Сохраните значение в переменную result."
      ],
      "metadata": {
        "id": "yXsVHoOxy0Ys"
      }
    },
    {
      "cell_type": "code",
      "source": [
        "a=1\n",
        "b=3\n",
        "my_list=sum(list(range(a,b+1)))\n",
        "result=my_list\n",
        "print (result)\n",
        "#print (sum(my_list))"
      ],
      "metadata": {
        "colab": {
          "base_uri": "https://localhost:8080/"
        },
        "id": "dAcaxYcmy0uW",
        "outputId": "cde78634-bc2d-44cb-bbb0-d863830890c5"
      },
      "execution_count": null,
      "outputs": [
        {
          "output_type": "stream",
          "name": "stdout",
          "text": [
            "6\n"
          ]
        }
      ]
    },
    {
      "cell_type": "markdown",
      "source": [
        "Давайте потренируемся использовать различные методы списков. В переменной my_list сохранен не пустой список, в котором есть число 11.\n",
        "\n",
        "Найдите первый индекс числа 11 в my_list, сохраните индекс в переменную eleven_index.  \n",
        "\n",
        "В переменную ten_count сохраните, сколько раз в списке my_list встречается число 10."
      ],
      "metadata": {
        "id": "6TptYCHcN16Q"
      }
    },
    {
      "cell_type": "code",
      "source": [
        "my_list = [1, 10, 0, 10, 11]\n",
        "\n",
        "eleven_index = my_list.index(11, 0, 100000000000000000000)\n",
        "#eleven_index = my_list.index(11)\n",
        "ten_count = my_list.count(10)\n",
        "print(eleven_index)\n",
        "print(ten_count)\n"
      ],
      "metadata": {
        "colab": {
          "base_uri": "https://localhost:8080/"
        },
        "id": "2mdssvPIN242",
        "outputId": "c5a2a052-50c5-4664-8a7d-408f36c8170e"
      },
      "execution_count": null,
      "outputs": [
        {
          "output_type": "stream",
          "name": "stdout",
          "text": [
            "4\n",
            "2\n"
          ]
        }
      ]
    },
    {
      "cell_type": "markdown",
      "source": [
        "В student_names сохранен список с именами студентов, добавьте в список два имени 'Anatoly' и 'Oksana'.\n",
        "\n",
        "В scores сохранен список из десяти целых чисел, удалите из него второй, пятый и последний элемент.\n",
        "\n",
        "В lessons сохранен список с названием уроков, отсортируйте названия уроков в списке по алфавиту."
      ],
      "metadata": {
        "id": "I73SBOZyVk2I"
      }
    },
    {
      "cell_type": "code",
      "source": [
        "#student_names = ['Ian', 'Ivan']\n",
        "student_names.extend(['Anatoly', 'Oksana'])\n",
        "print (student_names)\n",
        "\n",
        "# scores = [0, 1, 2, 3, 4, 5, 6, 7, 8, 9, 10]\n",
        "scores.pop(1)\n",
        "print (scores) #[0, 2, 3, 4, 5, 6, 7, 8, 9, 10]\n",
        "scores.pop(3)\n",
        "print (scores) #[0, 2, 3, 5, 6, 7, 8, 9, 10]\n",
        "scores.pop()\n",
        "print (scores) # [0, 2, 3, 5, 6, 7, 8, 9]\n",
        "\n",
        "#lessons = ['Python', 'Analytics']\n",
        "lessons.sort()\n",
        "print (lessons)"
      ],
      "metadata": {
        "colab": {
          "base_uri": "https://localhost:8080/"
        },
        "id": "68VdPKljVnpu",
        "outputId": "df80b935-f143-45e4-c33a-bfc263e25bf0"
      },
      "execution_count": null,
      "outputs": [
        {
          "output_type": "stream",
          "name": "stdout",
          "text": [
            "['Ian', 'Ivan', 'Anatoly', 'Oksana']\n",
            "[0, 2, 3, 4, 5, 6, 7, 8, 9, 10]\n",
            "[0, 2, 3, 5, 6, 7, 8, 9, 10]\n",
            "[0, 2, 3, 5, 6, 7, 8, 9]\n",
            "['Analytics', 'Python']\n"
          ]
        }
      ]
    },
    {
      "cell_type": "markdown",
      "source": [],
      "metadata": {
        "id": "R29dwq7fcW8P"
      }
    },
    {
      "cell_type": "code",
      "source": [
        "month_index = 0\n",
        "month_name = months[month_index]\n",
        "print(month_name) # => 'January'"
      ],
      "metadata": {
        "colab": {
          "base_uri": "https://localhost:8080/"
        },
        "id": "6t2D40eucXKb",
        "outputId": "0effd7fc-f7a5-4550-9ebf-4f7b56ca65ae"
      },
      "execution_count": null,
      "outputs": [
        {
          "output_type": "stream",
          "name": "stdout",
          "text": [
            "January\n"
          ]
        }
      ]
    },
    {
      "cell_type": "markdown",
      "source": [
        "Создайте кортеж с названиями дней недели и сохраните его в переменную days_of_the_week.\n",
        "\n"
      ],
      "metadata": {
        "id": "RCZ1WxKaexzZ"
      }
    },
    {
      "cell_type": "code",
      "source": [
        "days_of_the_week = ('Monday', 'Tuesday', 'Wednesday', 'Thursday', 'Friday', 'Saturday', 'Sunday')\n",
        "print (days_of_the_week)"
      ],
      "metadata": {
        "colab": {
          "base_uri": "https://localhost:8080/"
        },
        "id": "LDg3JRy8eyMj",
        "outputId": "9e2a145c-4000-4176-8556-4f02a36b31a4"
      },
      "execution_count": null,
      "outputs": [
        {
          "output_type": "stream",
          "name": "stdout",
          "text": [
            "('Monday', 'Tuesday', 'Wednesday', 'Thursday', 'Friday', 'Saturday', 'Sunday')\n"
          ]
        }
      ]
    },
    {
      "cell_type": "markdown",
      "source": [
        "В переменной numbers_list сохранен список с целыми числами. В списке минимум два разных целых числа.\n",
        "\n",
        "В переменную numbers_list_ordered сохраните все числа из списка numbers_list, отсортированные по убыванию. При этом сам список numbers_list не должен изменяться.\n",
        "\n",
        "В переменную numbers_set сохраните множество из уникальных чисел из списка numbers_list. Дополните это множество следующим целым числом после максимального числа из numbers_list.\n",
        "\n",
        "В переменную numbers_frozenset сохраните неизменяемое множество из всех уникальных чисел из списка numbers_list, кроме минимального числа."
      ],
      "metadata": {
        "id": "UWMlSaxsg7XO"
      }
    },
    {
      "cell_type": "code",
      "source": [
        "# Пример 1\n",
        "numbers_list = [1, 5, 3, 3, 5]\n",
        "\n",
        "numbers_list_ordered = [5, 5, 3, 3, 1]\n",
        "numbers_set = set([1, 3, 5, 6])\n",
        "numbers_frozenset = frozenset([3, 5])\n",
        "\n",
        "\n",
        "# Пример 2\n",
        "numbers_list = [-1, 0, 1]\n",
        "\n",
        "numbers_list_ordered = [1, 0, -1]\n",
        "numbers_set = set([-1, 0, 1, 2])\n",
        "numbers_frozenset = frozenset([0, 1])\n",
        "\n",
        "\n",
        "# Пример 3\n",
        "numbers_list [-1, -5, -1]\n",
        "\n",
        "numbers_list_ordered = [-1, -1, -5]\n",
        "numbers_set = set([-5, -1, 0])\n",
        "numbers_frozenset = frozenset([-1])"
      ],
      "metadata": {
        "id": "0LdkGbeYhBI1"
      },
      "execution_count": null,
      "outputs": []
    },
    {
      "cell_type": "code",
      "source": [
        "numbers_list = [-1, -5, -1]\n",
        "print ('input_list = ', numbers_list)\n",
        "\n",
        "numbers_list_ordered = numbers_list.copy()\n",
        "numbers_list_ordered.sort(reverse=True)\n",
        "print ('orderder_list = ', numbers_list_ordered)\n",
        "\n",
        "numbers_set_1 = set(numbers_list)\n",
        "numbers_set = numbers_set_1.copy()\n",
        "max_number_set = max(numbers_set_1)                                                  #print (numbers_set)\n",
        "numbers_set = numbers_set_1.add(max_number_set+1)                                    #print (max_number_set)\n",
        "numbers_set = list(numbers_set_1)\n",
        "numbers_set.sort()\n",
        "print ('unique_set = ',numbers_set)\n",
        "\n",
        "numbers_frozenset = frozenset(numbers_list)                                         #print (numbers_frozenset)\n",
        "min_number_set = min(numbers_frozenset)                                             #print (min_number_set)\n",
        "numbers_frozenset = list(numbers_frozenset)\n",
        "numbers_frozenset.remove(min_number_set)\n",
        "print ('numbers_frozenset = ', numbers_frozenset)\n",
        "\n"
      ],
      "metadata": {
        "colab": {
          "base_uri": "https://localhost:8080/"
        },
        "id": "L02T8ZbchBuG",
        "outputId": "cce4b61d-4bdd-4fdf-ca9e-06e85b3246a5"
      },
      "execution_count": null,
      "outputs": [
        {
          "output_type": "stream",
          "name": "stdout",
          "text": [
            "input_list =  [-1, -5, -1]\n",
            "orderder_list =  [-1, -1, -5]\n",
            "unique_set =  [-5, -1, 0]\n",
            "numbers_frozenset =  [-1]\n"
          ]
        }
      ]
    },
    {
      "cell_type": "markdown",
      "source": [
        "Даны два списка list_1 и list_2. Отсортируйте list_1 по возрастанию, а list_2 по убыванию.\n",
        "Объедините list_1 и list_2 в один отсортированный по возрастанию список list_3.  \n",
        "В переменную list_3_len сохраните длину  list_3."
      ],
      "metadata": {
        "id": "Ej57Y9ni04g-"
      }
    },
    {
      "cell_type": "code",
      "source": [
        "# Пример\n",
        "list_1 = [1, 5, 3]\n",
        "list_2 = [2, 8]\n",
        "# ->\n",
        "list_1 = [1, 3, 5]\n",
        "list_2 = [8, 2]\n",
        "list_3 = [1, 2, 3, 5, 8]\n",
        "list_3_len = 5"
      ],
      "metadata": {
        "id": "W0ctlwhD049Q"
      },
      "execution_count": null,
      "outputs": []
    },
    {
      "cell_type": "code",
      "source": [
        "list_1 = [1, 5, 3]\n",
        "list_2 = [2, 8]\n",
        "\n",
        "list_1.sort()\n",
        "print (list_1)\n",
        "\n",
        "list_2.sort(reverse=True)\n",
        "print (list_2)\n",
        "\n",
        "list_3 = list_1 + list_2\n",
        "list_3.sort()\n",
        "print (list_3)\n",
        "\n",
        "list_3_len = len(list_3)\n",
        "print (list_3_len)\n"
      ],
      "metadata": {
        "colab": {
          "base_uri": "https://localhost:8080/"
        },
        "id": "A2QXRrJ409kf",
        "outputId": "8d4ed9c1-ef09-4695-d80b-1dfba9da8e4b"
      },
      "execution_count": null,
      "outputs": [
        {
          "output_type": "stream",
          "name": "stdout",
          "text": [
            "[1, 3, 5]\n",
            "[8, 2]\n",
            "[1, 2, 3, 5, 8]\n",
            "5\n"
          ]
        }
      ]
    },
    {
      "cell_type": "markdown",
      "source": [
        "\n",
        "В переменной menu хранится множество всех позиций меню кофейни, а в переменной stop — множество позиций меню кофейни, недоступных для заказа сегодня. Сохраните в переменную menu_today позиции меню, которые доступны для заказа сегодня.  "
      ],
      "metadata": {
        "id": "VJXsfqs_316u"
      }
    },
    {
      "cell_type": "code",
      "source": [
        "menu = {'White Chocolate Mocha', 'Americano', 'Flat White', 'Latte',\n",
        "        'Blueberry Muffin', 'Chocolate Chip Cookie'}\n",
        "stop = {'White Chocolate Mocha', 'Blueberry Muffin'}\n",
        "\n",
        "menu_today = {'Americano', 'Flat White', 'Latte', 'Chocolate Chip Cookie'}\n",
        "\n"
      ],
      "metadata": {
        "id": "oQQEu9qK31Ng"
      },
      "execution_count": null,
      "outputs": []
    },
    {
      "cell_type": "code",
      "source": [
        "menu = {'White Chocolate Mocha', 'Americano', 'Flat White', 'Latte',\n",
        "        'Blueberry Muffin', 'Chocolate Chip Cookie'}\n",
        "stop = {'White Chocolate Mocha', 'Blueberry Muffin'}\n",
        "\n",
        "menu_today = menu.difference(stop)\n",
        "print (menu_today)"
      ],
      "metadata": {
        "colab": {
          "base_uri": "https://localhost:8080/"
        },
        "id": "gtSe8-BI35XH",
        "outputId": "e2746eb9-3b8e-4179-bd4f-b2ca4b10f472"
      },
      "execution_count": null,
      "outputs": [
        {
          "output_type": "stream",
          "name": "stdout",
          "text": [
            "{'Americano', 'Flat White', 'Latte', 'Chocolate Chip Cookie'}\n"
          ]
        }
      ]
    },
    {
      "cell_type": "markdown",
      "source": [
        "В переменной my_set множество (set) из чисел. В переменной to_delete число, которое нужно удалить из my_set, если оно там есть. Если такого числа нет в my_set ничего делать не надо."
      ],
      "metadata": {
        "id": "SQDyzQS84g8w"
      }
    },
    {
      "cell_type": "code",
      "source": [
        "my_set = {0, 10, 100}\n",
        "to_delete = 0\n",
        "====>\n",
        "my_set = {10, 100} # удалили 0\n",
        "\n",
        "my_set = {0, 10, 100}\n",
        "to_delete = -2\n",
        "====>\n",
        "my_set = {0, 10, 100} # ничего не сделали\n"
      ],
      "metadata": {
        "id": "NYaMa0g-4hSr"
      },
      "execution_count": null,
      "outputs": []
    },
    {
      "cell_type": "code",
      "source": [
        "my_set = {0, 10, 100}\n",
        "to_delete = 0\n",
        "my_set.discard(to_delete)\n",
        "print (my_set)"
      ],
      "metadata": {
        "colab": {
          "base_uri": "https://localhost:8080/"
        },
        "id": "S23OymF54i9O",
        "outputId": "37a4158c-bd10-4ef0-a3d5-56d188a820b1"
      },
      "execution_count": null,
      "outputs": [
        {
          "output_type": "stream",
          "name": "stdout",
          "text": [
            "{10, 100}\n"
          ]
        }
      ]
    },
    {
      "cell_type": "markdown",
      "source": [
        "В students хранится множество студентов it-центра МАИ. Студент, имя которого записано в new_student, перевелся в МАИ из другого института, его имя нужно добавить в students. В переменной churn_student — студент, который хочет перевестись из МАИ в другой институт, его имя нужно убрать из students."
      ],
      "metadata": {
        "id": "7_fb7Om25PsY"
      }
    },
    {
      "cell_type": "code",
      "source": [
        "students = {'Кравченко Виталий', 'Полякова Ольга', 'Некрасов Игорь', 'Дудочкин Илья', 'Захарова Мария'}\n",
        "new_student = 'Василенко Анна'\n",
        "churn_student = 'Полякова Ольга'\n",
        "\n",
        "students.add(new_student)\n",
        "students.discard(churn_student)\n",
        "print (students)"
      ],
      "metadata": {
        "colab": {
          "base_uri": "https://localhost:8080/"
        },
        "id": "P4gPz-J25Rzm",
        "outputId": "0b281255-2642-42a1-e6af-4e529352d7ba"
      },
      "execution_count": null,
      "outputs": [
        {
          "output_type": "stream",
          "name": "stdout",
          "text": [
            "{'Захарова Мария', 'Кравченко Виталий', 'Полякова Ольга', 'Некрасов Игорь', 'Дудочкин Илья', 'Василенко Анна'}\n"
          ]
        }
      ]
    },
    {
      "cell_type": "markdown",
      "source": [
        "В переменной da_students хранятся имена студентов курса \"Аналитик данных\", а в переменной dv_students — имена студентов курса \"Визуализация данных\". Сохраните в переменную students студентов, которые обучаются на обоих курсах.\n",
        "\n",
        "Порядок элементов в students не имеет значения."
      ],
      "metadata": {
        "id": "_A9eKPUc8Y8f"
      }
    },
    {
      "cell_type": "code",
      "source": [
        "# студенты курса \"Аналитик данных\"\n",
        "da_students = {'Ivanov Alexander', 'Loginov Vladislav', 'Ershova Anna', 'Korneva Daria'}\n",
        "# студенты курса \"Визуализация данных\"\n",
        "dv_students = {'Ershova Anna', 'Egunov Andrey', 'Ignatov Alexey', 'Loginov Vladislav'}\n",
        "\n",
        "students = da_students.intersection (dv_students)\n",
        "print (students)"
      ],
      "metadata": {
        "colab": {
          "base_uri": "https://localhost:8080/"
        },
        "id": "PbFgpKMH8ZXv",
        "outputId": "ec275cda-42b2-41cc-a805-ccfdfb6fddea"
      },
      "execution_count": null,
      "outputs": [
        {
          "output_type": "stream",
          "name": "stdout",
          "text": [
            "{'Loginov Vladislav', 'Ershova Anna'}\n"
          ]
        }
      ]
    },
    {
      "cell_type": "markdown",
      "source": [
        "В переменной a хранится список целых неотрицательных чисел. Количество чисел четное.\n",
        "Напишите программу, которая будет делить этот список пополам, определять суммы чисел в половинах списка (sum_left и sum_right). Если sum_left равно sum_right, то сохраните в переменную result значение True,  в противном случае — False.  "
      ],
      "metadata": {
        "id": "T5-38ymG9AG5"
      }
    },
    {
      "cell_type": "code",
      "source": [
        "a = [1, 2, 4, 3]\n",
        "\n",
        "sum_left = 3\n",
        "sum_right = 7\n",
        "result = False"
      ],
      "metadata": {
        "id": "6Ujkm9aC9Ag5"
      },
      "execution_count": null,
      "outputs": []
    },
    {
      "cell_type": "code",
      "source": [
        "from pickle import TRUE\n",
        "a = [1, 2, 4, 3]\n",
        "length = len(a)\n",
        "middle=length//2\n",
        "left = a[:middle]\n",
        "right = a[middle:]\n",
        "\n",
        "sum_left = sum(left)\n",
        "sum_right = sum(right)\n",
        "print (middle)\n",
        "print (left)\n",
        "print (right)\n",
        "print (sum_left)\n",
        "print (sum_right)\n",
        "\n",
        "if sum_left==sum_right:\n",
        "    result = True\n",
        "else: result = False\n",
        "print (result)"
      ],
      "metadata": {
        "colab": {
          "base_uri": "https://localhost:8080/"
        },
        "id": "El-dtH3ZFCJz",
        "outputId": "fb4f80ee-4a93-4e53-b3c5-00ada46c9448"
      },
      "execution_count": null,
      "outputs": [
        {
          "output_type": "stream",
          "name": "stdout",
          "text": [
            "2\n",
            "[1, 2]\n",
            "[4, 3]\n",
            "3\n",
            "7\n",
            "False\n"
          ]
        }
      ]
    },
    {
      "cell_type": "markdown",
      "source": [
        "Даны список целых чисел a и число b. Удалите из a первое и последнее вхождение числа b."
      ],
      "metadata": {
        "id": "YY2mZBOeGP-I"
      }
    },
    {
      "cell_type": "code",
      "source": [
        "a = [1, 2, 2, 1, 3, 2, 3]\n",
        "b = 1\n",
        "# -> a = [2, 2, 3, 2, 3]\n",
        "\n",
        "a = [1, 2, 2, 1, 3, 2, 3]\n",
        "b = 2\n",
        "# -> a = [1, 2, 1, 3, 3]"
      ],
      "metadata": {
        "id": "vwbMloPIGTAw"
      },
      "execution_count": null,
      "outputs": []
    },
    {
      "cell_type": "code",
      "source": [
        "a = [1, 2, 2, 1, 3, 2, 3]\n",
        "b = 1\n",
        "indices = [i for i in range(len(a)) if a[i] == b]\n",
        "min_indices = min(indices)\n",
        "max_indices = max(indices)\n",
        "print (indices)\n",
        "print (min_indices)\n",
        "print (max_indices)\n",
        "a.pop(min_indices) & a.pop(max_indices-1)\n",
        "print (a)\n",
        "\n",
        "\n",
        "\n",
        "\n",
        "\n"
      ],
      "metadata": {
        "colab": {
          "base_uri": "https://localhost:8080/"
        },
        "id": "OmTE9LVzGVaB",
        "outputId": "015a7ca9-835e-4a30-f89c-92035c2459e7"
      },
      "execution_count": null,
      "outputs": [
        {
          "output_type": "stream",
          "name": "stdout",
          "text": [
            "[0, 3]\n",
            "0\n",
            "3\n",
            "[2, 2, 3, 2, 3]\n"
          ]
        }
      ]
    },
    {
      "cell_type": "markdown",
      "source": [
        "# **LESSON 3**"
      ],
      "metadata": {
        "id": "aQztvMlsj0Ly"
      }
    },
    {
      "cell_type": "code",
      "source": [
        "# создаем словарь, который хранит информацию о студентах\n",
        "students = {\n",
        "    'Василий': {'возраст': 23, 'курс': 3},\n",
        "    'Мария': {'возраст': 20, 'курс': 2},\n",
        "    'Петр': {'возраст': 22, 'курс': 2},\n",
        "    'Ольга': {'возраст': 21, 'курс': 3}\n",
        "}\n",
        "# выводим информацию о студенте с именем \"Василий\"\n",
        "print(students['Василий'])\n",
        "# выводим возраст студента \"Мария\"\n",
        "print(students['Мария']['возраст'])"
      ],
      "metadata": {
        "colab": {
          "base_uri": "https://localhost:8080/"
        },
        "id": "uY5C1UWujzEy",
        "outputId": "ba7354fa-c0b9-47c6-a6a0-a275d2e42ac9"
      },
      "execution_count": null,
      "outputs": [
        {
          "output_type": "stream",
          "name": "stdout",
          "text": [
            "{'возраст': 23, 'курс': 3}\n",
            "20\n"
          ]
        }
      ]
    },
    {
      "cell_type": "markdown",
      "source": [
        "В переменную cities_population  сохраните словарь с тремя ключами: 'Москва', 'Париж', 'Токио'. В качестве значений сохраните населедение этих городов в млн. человек: 11.98, 2.16, 13.96. Ключами нашего словаря будут строки, значениями — числа в формате float."
      ],
      "metadata": {
        "id": "xElR5djFlrFa"
      }
    },
    {
      "cell_type": "code",
      "source": [
        "cities_population = {\n",
        "                   'Москва': float(11.98),\n",
        "                    'Париж': float(2.16),\n",
        "                    'Токио': float(13.96)\n",
        "}\n",
        "print (cities_population)"
      ],
      "metadata": {
        "colab": {
          "base_uri": "https://localhost:8080/"
        },
        "id": "-IZxFfPflriC",
        "outputId": "3adbcd78-32fa-4564-953e-3c6ce77ddb09"
      },
      "execution_count": null,
      "outputs": [
        {
          "output_type": "stream",
          "name": "stdout",
          "text": [
            "{'Москва': 11.98, 'Париж': 2.16, 'Токио': 13.96}\n"
          ]
        }
      ]
    },
    {
      "cell_type": "markdown",
      "source": [
        "Дан словарь dict_input. Поменяйте ключи и значения местами. Результат сохраните в result."
      ],
      "metadata": {
        "id": "0sGIEiPIuT5F"
      }
    },
    {
      "cell_type": "code",
      "source": [
        "dict_input = {\"1\": 11, \"2\": 22, \"3\": 33}\n",
        "result = {11: \"1\", 22:\"2\", 33:\"3\"}"
      ],
      "metadata": {
        "id": "sUb-ZkrWsmJ0"
      },
      "execution_count": null,
      "outputs": []
    },
    {
      "cell_type": "code",
      "source": [
        "dict_input = {\"1\": 11, \"2\": 22, \"3\": 33}\n",
        "keys=list(dict_input.keys())\n",
        "values=list(dict_input.values())\n",
        "print (keys, values)\n",
        "result = dict(zip(values, keys))\n",
        "print (result)"
      ],
      "metadata": {
        "colab": {
          "base_uri": "https://localhost:8080/"
        },
        "id": "sVU8VT6gudJo",
        "outputId": "bf85fa6e-cf0a-4901-a88a-a849aa0603e1"
      },
      "execution_count": null,
      "outputs": [
        {
          "output_type": "stream",
          "name": "stdout",
          "text": [
            "['1', '2', '3'] [11, 22, 33]\n",
            "{11: '1', 22: '2', 33: '3'}\n"
          ]
        }
      ]
    },
    {
      "cell_type": "markdown",
      "source": [
        "Катя — владелец небольшого кондитерского производства, на котором изготавливаются эклеры.\n",
        "У нас  есть словарь data, в котором содержится информация о себестоимости единицы товара cost_price, продажную цену sell_price и количество товара eclairs.\n",
        "Нужно посчитать, какую прибыль Катя получает после продажи своей продукции. Результат сохраните в переменную result, округлив сумму до целого числа."
      ],
      "metadata": {
        "id": "AYBvhrvO1UJd"
      }
    },
    {
      "cell_type": "code",
      "source": [
        "data = {\n",
        "  \"cost_price\": 225.89,\n",
        "  \"sell_price\": 550.00,\n",
        "  \"eclairs\": 100\n",
        "}\n",
        "result = 32411"
      ],
      "metadata": {
        "id": "PsDWJwzp1UfM"
      },
      "execution_count": null,
      "outputs": []
    },
    {
      "cell_type": "code",
      "source": [
        "data = {\n",
        "  \"cost_price\": 225.89,\n",
        "  \"sell_price\": 550.00,\n",
        "  \"eclairs\": 100\n",
        "}\n",
        "cost=data['cost_price']\n",
        "sell=data['sell_price']\n",
        "count=data['eclairs']\n",
        "result=round(sell*count-cost*count)\n",
        "print(result)"
      ],
      "metadata": {
        "colab": {
          "base_uri": "https://localhost:8080/"
        },
        "id": "ojVhjuKp1XBk",
        "outputId": "77c61b52-f4be-4aa8-9afe-50b5c1051c4b"
      },
      "execution_count": null,
      "outputs": [
        {
          "output_type": "stream",
          "name": "stdout",
          "text": [
            "32411\n"
          ]
        }
      ]
    },
    {
      "cell_type": "markdown",
      "source": [
        "Есть словарь student, в котором хранятся имя студента и список его оценок. В result  сохраните словарь с именем студента и самой высокой его оценкой."
      ],
      "metadata": {
        "id": "lzHcHA3L4FG9"
      }
    },
    {
      "cell_type": "code",
      "source": [
        "student = {\"name\": \"Igor\", \"notes\": [4, 5, 4]}\n",
        "result = {\"name\": \"Igor\", \"max_note\": 5}"
      ],
      "metadata": {
        "id": "Mtfvyrz54Fj9"
      },
      "execution_count": null,
      "outputs": []
    },
    {
      "cell_type": "code",
      "source": [
        "student = {\"name\": \"Igor\", \"notes\": [4, 5, 4]}\n",
        "max_notes=max(student['notes'])\n",
        "print (max_notes)\n",
        "result = student.items()\n",
        "print (result)"
      ],
      "metadata": {
        "colab": {
          "base_uri": "https://localhost:8080/"
        },
        "id": "wrpNaPT94H2F",
        "outputId": "6a303039-6676-40b4-eeef-2485161e306d"
      },
      "execution_count": null,
      "outputs": [
        {
          "output_type": "stream",
          "name": "stdout",
          "text": [
            "5\n",
            "dict_items([('name', 'Igor'), ('notes', [4, 5, 4])])\n"
          ]
        }
      ]
    },
    {
      "cell_type": "markdown",
      "source": [
        "Антон учится в karpov.courses. В словаре anton_courses хранится информация о завершенных им курсах и количестве набранных баллов. Данные в словаре хранятся в формате ключ — название курса, значение — количество баллов в числовом формате.\n",
        "Антон завершил обучение на курсе HardML и набрал 120 баллов. Добавьте в словарь anton_courses эту информацию.\n",
        "В переменную courses сохраните список пройденных курсов.\n",
        "В переменную StartML сохраните количество баллов, набранное Антоном на одноименном курсе, эта информация есть в словаре."
      ],
      "metadata": {
        "id": "bBWflb8e6fJa"
      }
    },
    {
      "cell_type": "code",
      "source": [
        "anton_courses = {'SimulatorAnalyst': 56,\n",
        "                 'StartML': 87,\n",
        "                 'DataAnalyst': 140}\n",
        "# ->\n",
        "anton_courses = {'SimulatorAnalyst': 56,\n",
        "                 'StartML': 87,\n",
        "                 'DataAnalyst': 140,\n",
        "                 'HardML': 120}\n",
        "courses = ['SimulatorAnalyst', 'StartML', 'DataAnalyst', 'HardML']\n",
        "StartML = 87"
      ],
      "metadata": {
        "id": "uDJbKkD-6fgZ"
      },
      "execution_count": null,
      "outputs": []
    },
    {
      "cell_type": "code",
      "source": [
        "anton_courses = {'SimulatorAnalyst': 56,\n",
        "                 'StartML': 87,\n",
        "                 'DataAnalyst': 140}\n",
        "anton_courses_1 = {'HardML': 120}\n",
        "anton_courses.update(anton_courses_1)\n",
        "print (anton_courses)\n",
        "courses = list(anton_courses.keys())\n",
        "print  (courses)\n",
        "StartML = anton_courses['StartML']\n",
        "print (StartML)\n"
      ],
      "metadata": {
        "colab": {
          "base_uri": "https://localhost:8080/"
        },
        "id": "Ez-FbzhX6fw_",
        "outputId": "17a9603b-35a9-4ef4-d260-156918ec9c27"
      },
      "execution_count": null,
      "outputs": [
        {
          "output_type": "stream",
          "name": "stdout",
          "text": [
            "{'SimulatorAnalyst': 56, 'StartML': 87, 'DataAnalyst': 140, 'HardML': 120}\n",
            "['SimulatorAnalyst', 'StartML', 'DataAnalyst', 'HardML']\n",
            "87\n"
          ]
        }
      ]
    },
    {
      "cell_type": "markdown",
      "source": [
        "У нас есть магазин одежды LARA. В словаре shop_stock хранится информация о товарах, имеющихся в наличии на складе магазина. Информация указана в формате ключ — артикул товара, значение — количество единиц.\n",
        "В магазин поставили новую партию товаров, в словаре shop_new_goods записана информация о поставленых товарах и их количестве.\n",
        "Создайте словарь result, который будет содержать информацию и о товарах на складе, и о товарах из новой поставки. Известно, что если на складе оставалась хотя бы одна единица какого-то типа товара, то товара этого типа не было в поставке."
      ],
      "metadata": {
        "id": "dznyEDqt6pCK"
      }
    },
    {
      "cell_type": "code",
      "source": [
        "shop_stock = {\"2358241350-50\": 1, \"2358000350-30\": 24, \"2358241350-00\": 3}\n",
        "shop_new_goods = {\"2358241350-60\": 10}\n",
        "\n",
        "result = {\"2358241350-50\": 1, \"2358000350-30\": 24, \"2358241350-00\": 3, \"2358241350-60\": 10}"
      ],
      "metadata": {
        "id": "jruqOQvp6pYI"
      },
      "execution_count": null,
      "outputs": []
    },
    {
      "cell_type": "code",
      "source": [
        "shop_stock = {\"2358241350-50\": 1, \"2358000350-30\": 24, \"2358241350-00\": 3}\n",
        "shop_new_goods = {\"2358241350-60\": 10}\n",
        "#result = shop_stock.update(shop_new_goods)\n",
        "#print (shop_stock)\n",
        "#print (result)\n",
        "shop_stock_1 = list (shop_stock.items())\n",
        "shop_new_goods_1 = list (shop_new_goods.items())\n",
        "#print (shop_stock_1)\n",
        "#print (shop_new_goods_1)\n",
        "result = dict(shop_stock_1 + shop_new_goods_1)\n",
        "print (result)"
      ],
      "metadata": {
        "colab": {
          "base_uri": "https://localhost:8080/"
        },
        "id": "KAsARGTE6rmg",
        "outputId": "b12321e1-8869-4895-addb-70335069d827"
      },
      "execution_count": null,
      "outputs": [
        {
          "output_type": "stream",
          "name": "stdout",
          "text": [
            "{'2358241350-50': 1, '2358000350-30': 24, '2358241350-00': 3, '2358241350-60': 10}\n"
          ]
        }
      ]
    },
    {
      "cell_type": "markdown",
      "source": [
        "Магазин ВкуссЧилл хранит информацию о имеющихся в наличии фруктах и овощах в словаре input_dict в формате ключ — название фрукта или овоща, значение — количество килограмм в наличии. Посчитайте, сколько всего килограммов фруктов и овощей имеется в магазине. Результат сохраните в переменную result."
      ],
      "metadata": {
        "id": "iQEfPerv6uMQ"
      }
    },
    {
      "cell_type": "code",
      "source": [
        "input_dict = {\"морковь\": 10.44, \"капуста\": 5.06, \"клубника\": 3}\n",
        "result = 18.5"
      ],
      "metadata": {
        "id": "9zJk0bkH6xR4"
      },
      "execution_count": null,
      "outputs": []
    },
    {
      "cell_type": "code",
      "source": [
        "input_dict = {\"морковь\": 10.44, \"капуста\": 5.06, \"клубника\": 3}\n",
        "result = sum(input_dict.values())\n",
        "print (result)"
      ],
      "metadata": {
        "colab": {
          "base_uri": "https://localhost:8080/"
        },
        "id": "NZdPkviw6xhI",
        "outputId": "ab92bfeb-7798-4c49-b9bb-5067a38bd69c"
      },
      "execution_count": null,
      "outputs": [
        {
          "output_type": "stream",
          "name": "stdout",
          "text": [
            "18.5\n"
          ]
        }
      ]
    },
    {
      "cell_type": "markdown",
      "source": [
        "Имеется словарь courses, содержащий информацию о стоимости обучения в karpov.courses в формате:\n",
        "ключ — название курса\n",
        "значение — стоимость обучения\n",
        "\n",
        "Найдите цену самого дорогого курса. Результат сохраните в  result."
      ],
      "metadata": {
        "id": "iEcV8Xjl66E_"
      }
    },
    {
      "cell_type": "code",
      "source": [
        "courses = {\"Python\": 80000, \"SQL\": 300000}\n",
        "result = 300000"
      ],
      "metadata": {
        "id": "5z-IPS8f66eJ"
      },
      "execution_count": null,
      "outputs": []
    },
    {
      "cell_type": "code",
      "source": [
        "courses = {\"Python\": 80000, \"SQL\": 300000}\n",
        "result = max(courses.values())\n",
        "print (result)"
      ],
      "metadata": {
        "colab": {
          "base_uri": "https://localhost:8080/"
        },
        "id": "nuUX4DmB68mf",
        "outputId": "cf8cd4ec-37ca-440d-9a68-d2579090d1a5"
      },
      "execution_count": null,
      "outputs": [
        {
          "output_type": "stream",
          "name": "stdout",
          "text": [
            "300000\n"
          ]
        }
      ]
    },
    {
      "cell_type": "markdown",
      "source": [
        "В базе данных МАИ информация о студентах и кафедрах, к которым они прикреплены, хранится в словаре kaf_sudents в формате:\n",
        "ключ — ФИ студента\n",
        "значение — код кафедры.\n",
        "\n",
        "После второго курса по итогам последних двух сессий был составлен рейтинг студентов, на основе которого произошло перераспределение студентов по кафедрам. Часть студентов продолжила обучение на своей кафедре, а некоторые студенты перешли с одной кафедры на другую. Информация о студентах, перешедших на новую кафедру, хранится в словаре new_kaf_students.\n",
        "\n",
        "Обновите информацию в словаре kaf_sudents, добабвив в словарь данные из new_kaf_students."
      ],
      "metadata": {
        "id": "tOcKrAcp6-WI"
      }
    },
    {
      "cell_type": "code",
      "source": [
        "kaf_sudents  = {'Карпов Анатолий Дмитриевич': 100}\n",
        "new_kaf_students =  {'Иванчей Иван Иванович': 200}\n",
        "\n",
        "kaf_sudents = {'Карпов Анатолий Дмитриевич': 100, 'Иванчей Иван Иванович': 200}"
      ],
      "metadata": {
        "id": "DmTX2d9q7F7Q"
      },
      "execution_count": null,
      "outputs": []
    },
    {
      "cell_type": "code",
      "source": [
        "kaf_sudents  = {'Карпов Анатолий Дмитриевич': 100}\n",
        "new_kaf_students =  {'Иванчей Иван Иванович': 200}\n",
        "\n",
        "kaf_sudents.update(new_kaf_students)\n",
        "print (kaf_sudents)"
      ],
      "metadata": {
        "colab": {
          "base_uri": "https://localhost:8080/"
        },
        "id": "Edht4zJL7DCw",
        "outputId": "eea1c33e-8925-4adc-f882-00a8f75981e7"
      },
      "execution_count": null,
      "outputs": [
        {
          "output_type": "stream",
          "name": "stdout",
          "text": [
            "{'Карпов Анатолий Дмитриевич': 100, 'Иванчей Иван Иванович': 200}\n"
          ]
        }
      ]
    },
    {
      "cell_type": "markdown",
      "source": [],
      "metadata": {
        "id": "6omWGLiT7MGv"
      }
    },
    {
      "cell_type": "markdown",
      "source": [
        "# **LESSON 4**"
      ],
      "metadata": {
        "id": "otpk9M1b9CfQ"
      }
    },
    {
      "cell_type": "markdown",
      "source": [
        "В переменных str_1 и str_2 сохранены две строки. Если строки содержат одинаковые буквы, вам нужно сохранить в переменную is_the_same_letters значение True, если буквы в строках отличаются —сохраните в переменную значение False."
      ],
      "metadata": {
        "id": "bt7gjYqb9Ise"
      }
    },
    {
      "cell_type": "code",
      "source": [
        "str_1 = 'AaB'\n",
        "str_2 = 'Ab'\n",
        "is_the_same_letters = True\n",
        "\n",
        "str_1 = 'Aa'\n",
        "str_2 = 'AaB'\n",
        "is_the_same_letters = False\n"
      ],
      "metadata": {
        "id": "riHBSINKHp14"
      },
      "execution_count": null,
      "outputs": []
    },
    {
      "cell_type": "code",
      "source": [
        "str_1 = 'AaB'\n",
        "str_2 = 'Ab'\n",
        "string_1=set(str_1.lower())\n",
        "string_2=set(str_2.lower())\n",
        "is_the_same_letters=string_1==string_2\n",
        "print (is_the_same_letters)"
      ],
      "metadata": {
        "colab": {
          "base_uri": "https://localhost:8080/"
        },
        "id": "_BQ2JikaI-Kp",
        "outputId": "8b216faf-e80e-41d6-b3f0-e63bee1029bf"
      },
      "execution_count": null,
      "outputs": [
        {
          "output_type": "stream",
          "name": "stdout",
          "text": [
            "True\n"
          ]
        }
      ]
    },
    {
      "cell_type": "markdown",
      "source": [
        "В переменной x содержится число с десятичной частью но в формате строки. В переменную y сохраните целое число, которое равняется десятичной части числа x."
      ],
      "metadata": {
        "id": "2eiUf2QrL-lA"
      }
    },
    {
      "cell_type": "code",
      "source": [
        "x = 3.14\n",
        "y = 14\n",
        "\n",
        "x = 2.02\n",
        "y = 2"
      ],
      "metadata": {
        "id": "nX-dlyp8L-6R"
      },
      "execution_count": null,
      "outputs": []
    },
    {
      "cell_type": "code",
      "source": [
        "x = 3.03\n",
        "q=str(x)\n",
        "z=q.split(\".\")[1]\n",
        "y=int(z)\n",
        "print(y)"
      ],
      "metadata": {
        "colab": {
          "base_uri": "https://localhost:8080/"
        },
        "id": "LmazNOKvP3xJ",
        "outputId": "3d6928a4-4cb4-4b03-ac3e-71d3dcb612ad"
      },
      "execution_count": null,
      "outputs": [
        {
          "output_type": "stream",
          "name": "stdout",
          "text": [
            "3\n"
          ]
        }
      ]
    },
    {
      "cell_type": "markdown",
      "source": [
        "Даны две строки str_1 и str_2. Сохраните в result True, если str_1 является анаграммой str_2, и False в противном случае. Регистр букв (большая или маленькая буква) не должен влиять на работу программы. То есть 'Кот' и 'Ток' 'это валидная анаграмма."
      ],
      "metadata": {
        "id": "6w5ZL8y1sRVr"
      }
    },
    {
      "cell_type": "code",
      "source": [
        "str_1 = \"Привет\"\n",
        "str_2 = \"Провал\"\n",
        "result = False\n",
        "\n",
        "str_1 = \"Кот\"\n",
        "str_2 = \"Ток\"\n",
        "result = True"
      ],
      "metadata": {
        "id": "7Ql8IZpWsRwR"
      },
      "execution_count": null,
      "outputs": []
    },
    {
      "cell_type": "code",
      "source": [
        "str_1 = \"гора\"\n",
        "str_2 = \"рогаааа\"\n",
        "q1= sorted(str_1.lower())\n",
        "q2= sorted(str_2.lower())\n",
        "print (q1,q2)\n",
        "result = q1 == q2\n",
        "print (result)"
      ],
      "metadata": {
        "colab": {
          "base_uri": "https://localhost:8080/"
        },
        "id": "O4wte3LMsUzB",
        "outputId": "fa01aca0-cc36-483c-b47e-9516939bb267"
      },
      "execution_count": null,
      "outputs": [
        {
          "output_type": "stream",
          "name": "stdout",
          "text": [
            "['а', 'г', 'о', 'р'] ['а', 'а', 'а', 'а', 'г', 'о', 'р']\n",
            "False\n"
          ]
        }
      ]
    },
    {
      "cell_type": "markdown",
      "source": [
        "В переменную a сохранено некоторое предложение, в котором могут быть добавлены лишние пробелы.  Напишите программу, которая будет убирать из а лишние пробелы и сохранять результат в переменную result.\n",
        "Все слова должны быть разделены одним пробелом, а в начале и конце предложения пробелов быть не должно."
      ],
      "metadata": {
        "id": "pHO1Wg2euPsz"
      }
    },
    {
      "cell_type": "code",
      "source": [
        "a = \"Я     изучаю   новый язык      программирования.   \"\n",
        "result = \"Я изучаю новый язык программирования.\"\n"
      ],
      "metadata": {
        "id": "eQu9-z_ZuP_q"
      },
      "execution_count": null,
      "outputs": []
    },
    {
      "cell_type": "code",
      "source": [
        "a = \"Я     изучаю   новый язык    программирования.   \"\n",
        "result = \" \".join(a.split())\n",
        "print(result)"
      ],
      "metadata": {
        "colab": {
          "base_uri": "https://localhost:8080/"
        },
        "id": "4I5-N42ruS-6",
        "outputId": "bcaf6d90-caff-42e8-c816-87f018cd78ae"
      },
      "execution_count": null,
      "outputs": [
        {
          "output_type": "stream",
          "name": "stdout",
          "text": [
            "Я изучаю новый язык программирования.\n"
          ]
        }
      ]
    },
    {
      "cell_type": "markdown",
      "source": [
        "Напишите программу, основываясь на вводе и выводе в примерах. Вводом будет строка a. Результат сохраните в result.  "
      ],
      "metadata": {
        "id": "oCLJ7GdywZ3c"
      }
    },
    {
      "cell_type": "code",
      "source": [
        "a = \"div*2\"\n",
        "result = \"<div></div><div></div>\"\n",
        "\n",
        "a = \"p*1\"\n",
        "result = \"<p></p>\"\n",
        "\n",
        "a = \"li*3\"\n",
        "result = \"<li></li><li></li><li></li>\""
      ],
      "metadata": {
        "id": "Hd8nXRVmwaL1"
      },
      "execution_count": null,
      "outputs": []
    },
    {
      "cell_type": "code",
      "source": [
        "a = \"p*1\"\n",
        "tag = a.split('*')[0]\n",
        "num = a.split('*')[1]\n",
        "print (tag)\n",
        "print (num)\n",
        "result = (\"<\" + tag + \">\" + \"</\" + tag + \">\") * int(num)\n",
        "print (result)"
      ],
      "metadata": {
        "colab": {
          "base_uri": "https://localhost:8080/"
        },
        "id": "BCIjqSIDwbuj",
        "outputId": "da0a058b-43b1-435d-a257-5c5496ba230c"
      },
      "execution_count": null,
      "outputs": [
        {
          "output_type": "stream",
          "name": "stdout",
          "text": [
            "p\n",
            "1\n",
            "<p></p>\n"
          ]
        }
      ]
    },
    {
      "cell_type": "markdown",
      "source": [
        "Напишите программу, которая будет принимать строку из слов и возвращать строку, в которой эти слова будут отсортированы в лексикографическом порядке. Исходная строка содержится в переменной x, результат сохраните в result.\n",
        "\n",
        "Пример:"
      ],
      "metadata": {
        "id": "0H0P_w4pzfD0"
      }
    },
    {
      "cell_type": "code",
      "source": [
        "x = 'У лукоморья дуб зелёный'\n",
        "result = 'У дуб зелёный лукоморья'\n",
        "\n"
      ],
      "metadata": {
        "id": "caiMyYtMzfWV"
      },
      "execution_count": null,
      "outputs": []
    },
    {
      "cell_type": "code",
      "source": [
        "x = 'У лукоморья дуб зелёный'\n",
        "\n",
        "word = x.split()[0]\n",
        "word_1 = set(x.split()[1:])\n",
        "sort = sorted(x)\n",
        "print (word)\n",
        "print (word_1)\n"
      ],
      "metadata": {
        "colab": {
          "base_uri": "https://localhost:8080/",
          "height": 258
        },
        "id": "n7ijgekB2Tz-",
        "outputId": "2c8ca315-fd6e-4124-c28b-a61884fcc7cb"
      },
      "execution_count": null,
      "outputs": [
        {
          "output_type": "error",
          "ename": "TypeError",
          "evalue": "ignored",
          "traceback": [
            "\u001b[0;31m---------------------------------------------------------------------------\u001b[0m",
            "\u001b[0;31mTypeError\u001b[0m                                 Traceback (most recent call last)",
            "\u001b[0;32m<ipython-input-185-8e0b948d5d6c>\u001b[0m in \u001b[0;36m<cell line: 5>\u001b[0;34m()\u001b[0m\n\u001b[1;32m      3\u001b[0m \u001b[0mword\u001b[0m \u001b[0;34m=\u001b[0m \u001b[0mx\u001b[0m\u001b[0;34m.\u001b[0m\u001b[0msplit\u001b[0m\u001b[0;34m(\u001b[0m\u001b[0;34m)\u001b[0m\u001b[0;34m[\u001b[0m\u001b[0;36m0\u001b[0m\u001b[0;34m]\u001b[0m\u001b[0;34m\u001b[0m\u001b[0;34m\u001b[0m\u001b[0m\n\u001b[1;32m      4\u001b[0m \u001b[0mword_1\u001b[0m \u001b[0;34m=\u001b[0m \u001b[0mset\u001b[0m\u001b[0;34m(\u001b[0m\u001b[0mx\u001b[0m\u001b[0;34m.\u001b[0m\u001b[0msplit\u001b[0m\u001b[0;34m(\u001b[0m\u001b[0;34m)\u001b[0m\u001b[0;34m[\u001b[0m\u001b[0;36m1\u001b[0m\u001b[0;34m:\u001b[0m\u001b[0;34m]\u001b[0m\u001b[0;34m)\u001b[0m\u001b[0;34m\u001b[0m\u001b[0;34m\u001b[0m\u001b[0m\n\u001b[0;32m----> 5\u001b[0;31m \u001b[0msort\u001b[0m \u001b[0;34m=\u001b[0m \u001b[0msorted\u001b[0m\u001b[0;34m(\u001b[0m\u001b[0mx\u001b[0m\u001b[0;34m)\u001b[0m\u001b[0;34m\u001b[0m\u001b[0;34m\u001b[0m\u001b[0m\n\u001b[0m\u001b[1;32m      6\u001b[0m \u001b[0mprint\u001b[0m \u001b[0;34m(\u001b[0m\u001b[0mword\u001b[0m\u001b[0;34m)\u001b[0m\u001b[0;34m\u001b[0m\u001b[0;34m\u001b[0m\u001b[0m\n\u001b[1;32m      7\u001b[0m \u001b[0mprint\u001b[0m \u001b[0;34m(\u001b[0m\u001b[0mword_1\u001b[0m\u001b[0;34m)\u001b[0m\u001b[0;34m\u001b[0m\u001b[0;34m\u001b[0m\u001b[0m\n",
            "\u001b[0;31mTypeError\u001b[0m: 'list' object is not callable"
          ]
        }
      ]
    },
    {
      "cell_type": "code",
      "source": [
        "#word = x.split()[0]\n",
        "#print (word)"
      ],
      "metadata": {
        "id": "nJ-R8IJi0WFX"
      },
      "execution_count": null,
      "outputs": []
    },
    {
      "cell_type": "markdown",
      "source": [
        "Посчитайте, сколько раз в предложении x встречается строка y. Результат сохраните в переменную result."
      ],
      "metadata": {
        "id": "S6uCaA815XQ0"
      }
    },
    {
      "cell_type": "code",
      "source": [
        "x = 'На подоконнике в гостиной у бабушки росли цветы, цветы были красные и желтые, очень красивые цветы.'\n",
        "y = 'цветы'\n",
        "result = 3"
      ],
      "metadata": {
        "id": "mSzCzIkz5W6s"
      },
      "execution_count": null,
      "outputs": []
    },
    {
      "cell_type": "code",
      "source": [
        "x = 'На подоконнике в гостиной у бабушки росли цветы, цветы были красные и желтые, очень красивые цветы.'\n",
        "y = 'цветы'\n",
        "result = x.count(y)\n",
        "print (result)"
      ],
      "metadata": {
        "colab": {
          "base_uri": "https://localhost:8080/"
        },
        "id": "YnkyD7O35euz",
        "outputId": "99735243-a465-4828-d227-676a2bb34cd6"
      },
      "execution_count": null,
      "outputs": [
        {
          "output_type": "stream",
          "name": "stdout",
          "text": [
            "3\n"
          ]
        }
      ]
    },
    {
      "cell_type": "markdown",
      "source": [
        "Напишите программу, которая будет принимать номер кредитной карты card и возвращать номер карты, в котором будут видны только последние 4 цифры. Остальные цифры должны заменяться звездочками. Результат сохраните в result."
      ],
      "metadata": {
        "id": "EcyfHutZ5yu8"
      }
    },
    {
      "cell_type": "code",
      "source": [
        "card = '5468350018455833'\n",
        "result = '************5833'"
      ],
      "metadata": {
        "id": "78y2Pnzx5zpN"
      },
      "execution_count": null,
      "outputs": []
    },
    {
      "cell_type": "code",
      "source": [
        "card = '5468350018455833'\n",
        "card_list = list(card)\n",
        "print (card_list)\n",
        "first_number = card_list [:-4]\n",
        "zz = str(first_number)\n",
        "qq = first_number.replace('','*')\n",
        "print (first_number)\n",
        "print (qq)\n",
        "\n",
        "\n",
        "\n",
        "string = \"hello, world!\"\n",
        "new_string = string.replace(\"world\", \"there\")\n",
        "print(new_string) # \"hello, there!\"\n"
      ],
      "metadata": {
        "colab": {
          "base_uri": "https://localhost:8080/",
          "height": 276
        },
        "id": "5HUNDW3v7i1t",
        "outputId": "9f602a5e-9f06-4f63-d8b3-cbde3a03fcb9"
      },
      "execution_count": null,
      "outputs": [
        {
          "output_type": "stream",
          "name": "stdout",
          "text": [
            "['5', '4', '6', '8', '3', '5', '0', '0', '1', '8', '4', '5', '5', '8', '3', '3']\n"
          ]
        },
        {
          "output_type": "error",
          "ename": "AttributeError",
          "evalue": "ignored",
          "traceback": [
            "\u001b[0;31m---------------------------------------------------------------------------\u001b[0m",
            "\u001b[0;31mAttributeError\u001b[0m                            Traceback (most recent call last)",
            "\u001b[0;32m<ipython-input-206-b4ec0fd98e1a>\u001b[0m in \u001b[0;36m<cell line: 6>\u001b[0;34m()\u001b[0m\n\u001b[1;32m      4\u001b[0m \u001b[0mfirst_number\u001b[0m \u001b[0;34m=\u001b[0m \u001b[0mcard_list\u001b[0m \u001b[0;34m[\u001b[0m\u001b[0;34m:\u001b[0m\u001b[0;34m-\u001b[0m\u001b[0;36m4\u001b[0m\u001b[0;34m]\u001b[0m\u001b[0;34m\u001b[0m\u001b[0;34m\u001b[0m\u001b[0m\n\u001b[1;32m      5\u001b[0m \u001b[0mzz\u001b[0m \u001b[0;34m=\u001b[0m \u001b[0mstr\u001b[0m\u001b[0;34m(\u001b[0m\u001b[0mfirst_number\u001b[0m\u001b[0;34m)\u001b[0m\u001b[0;34m\u001b[0m\u001b[0;34m\u001b[0m\u001b[0m\n\u001b[0;32m----> 6\u001b[0;31m \u001b[0mqq\u001b[0m \u001b[0;34m=\u001b[0m \u001b[0mfirst_number\u001b[0m\u001b[0;34m.\u001b[0m\u001b[0mreplace\u001b[0m\u001b[0;34m(\u001b[0m\u001b[0;34m''\u001b[0m\u001b[0;34m,\u001b[0m\u001b[0;34m'*'\u001b[0m\u001b[0;34m)\u001b[0m\u001b[0;34m\u001b[0m\u001b[0;34m\u001b[0m\u001b[0m\n\u001b[0m\u001b[1;32m      7\u001b[0m \u001b[0mprint\u001b[0m \u001b[0;34m(\u001b[0m\u001b[0mfirst_number\u001b[0m\u001b[0;34m)\u001b[0m\u001b[0;34m\u001b[0m\u001b[0;34m\u001b[0m\u001b[0m\n\u001b[1;32m      8\u001b[0m \u001b[0mprint\u001b[0m \u001b[0;34m(\u001b[0m\u001b[0mqq\u001b[0m\u001b[0;34m)\u001b[0m\u001b[0;34m\u001b[0m\u001b[0;34m\u001b[0m\u001b[0m\n",
            "\u001b[0;31mAttributeError\u001b[0m: 'list' object has no attribute 'replace'"
          ]
        }
      ]
    },
    {
      "cell_type": "markdown",
      "source": [
        "В переменной а сохранено предложение. Удалите из предложения все вхождения слова или символа b. Результат сохраните в result.  "
      ],
      "metadata": {
        "id": "djVGdH-t_GdO"
      }
    },
    {
      "cell_type": "code",
      "source": [
        "a = 'Я помню чудное мгновенье'\n",
        "b = 'о'\n",
        "result = 'Я пмню чудне мгнвенье'\n"
      ],
      "metadata": {
        "id": "ZxaZ82N1_LSm"
      },
      "execution_count": null,
      "outputs": []
    },
    {
      "cell_type": "code",
      "source": [
        "a = 'Я помню чудное мгновенье'\n",
        "b = 'о'\n",
        "result = a.replace (b, \"\")\n",
        "print(result)\n"
      ],
      "metadata": {
        "colab": {
          "base_uri": "https://localhost:8080/"
        },
        "id": "JsA0nQk4_NoG",
        "outputId": "1cebfdbf-ac7b-4a31-c277-2e306eec86be"
      },
      "execution_count": null,
      "outputs": [
        {
          "output_type": "stream",
          "name": "stdout",
          "text": [
            "Я пмню чудне мгнвенье\n"
          ]
        }
      ]
    },
    {
      "cell_type": "markdown",
      "source": [
        "# **LESSON 5**"
      ],
      "metadata": {
        "id": "Z7QW8UZYjujw"
      }
    },
    {
      "cell_type": "markdown",
      "source": [
        "В переменных a и b заданы значения длины и ширины прямоугольника соответственно. Проверьте, является ли этот прямоугольник квадратом.\n",
        "\n",
        "Сохраните в переменную result значение True, если это квадрат, иначе False."
      ],
      "metadata": {
        "id": "XBt7Emeoj0W_"
      }
    },
    {
      "cell_type": "code",
      "source": [
        "#Пример 1\n",
        "a = 121\n",
        "b = 100\n",
        "result = False\n",
        "#Пример 2\n",
        "a = 10\n",
        "b = 10\n",
        "result = True"
      ],
      "metadata": {
        "id": "f4dg9sGqj0Dg"
      },
      "execution_count": null,
      "outputs": []
    },
    {
      "cell_type": "code",
      "source": [
        "a = 1\n",
        "b = 10\n",
        "if a==b:\n",
        "    result = 'True'\n",
        "else: result = 'False'\n",
        "print (result)"
      ],
      "metadata": {
        "colab": {
          "base_uri": "https://localhost:8080/"
        },
        "id": "QoGr_iU6j7v2",
        "outputId": "3194797f-0a2a-4f21-8b0c-cf093d698efb"
      },
      "execution_count": null,
      "outputs": [
        {
          "output_type": "stream",
          "name": "stdout",
          "text": [
            "False\n"
          ]
        }
      ]
    },
    {
      "cell_type": "code",
      "source": [
        "a = 10\n",
        "b = 10\n",
        "result = \"True\" if a==b else \"False\"\n",
        "print(result)"
      ],
      "metadata": {
        "colab": {
          "base_uri": "https://localhost:8080/"
        },
        "id": "Drhu2paWlcuQ",
        "outputId": "f3fabde8-9eec-4f27-d779-591efdac782b"
      },
      "execution_count": null,
      "outputs": [
        {
          "output_type": "stream",
          "name": "stdout",
          "text": [
            "True\n"
          ]
        }
      ]
    },
    {
      "cell_type": "markdown",
      "source": [
        "В переменных a и b заданы два числа. Квадрат какого числа больше? Сохраните это число в result.  "
      ],
      "metadata": {
        "id": "ALgMJhwPlxFQ"
      }
    },
    {
      "cell_type": "code",
      "source": [
        "# Пример 1\n",
        "a = 1\n",
        "b = 2\n",
        "result = 2\n",
        "# Пример 2\n",
        "a = 2\n",
        "b = -3\n",
        "result = -3"
      ],
      "metadata": {
        "id": "VlApipcslxcp"
      },
      "execution_count": null,
      "outputs": []
    },
    {
      "cell_type": "code",
      "source": [
        "a = 2\n",
        "b = -3\n",
        "result = a if a**2>b**2 else b\n",
        "print(result)"
      ],
      "metadata": {
        "colab": {
          "base_uri": "https://localhost:8080/"
        },
        "id": "gEeSgwNBlzh_",
        "outputId": "1c155df9-f725-4d42-f6ae-a7ff1c0e60a1"
      },
      "execution_count": null,
      "outputs": [
        {
          "output_type": "stream",
          "name": "stdout",
          "text": [
            "-3\n"
          ]
        }
      ]
    },
    {
      "cell_type": "markdown",
      "source": [
        "Катя и Дима решили купить квартиру в Москве. Семейный бюджет ограничен, поэтому им подходят следующие варианты:\n",
        "\n",
        "Стоимость не более 15 млн, площадь не менее 50 квадратных метров, удаленность от метро не более 25 минут пешком.\n",
        "Стоимость не более 13 млн, площадь не менее 35 квадратных метров, удаленность от метро не более 5 минут пешком."
      ],
      "metadata": {
        "id": "7nnrNAnkn0U6"
      }
    },
    {
      "cell_type": "code",
      "source": [
        "#Пример 1\n",
        "p = 12950000 #стоимость\n",
        "s = 32 #площадь\n",
        "d = 13 #удаленность от метро\n",
        "result = False\n",
        "\n",
        "#Пример 2\n",
        "p = 14980000 #стоимость\n",
        "s = 51.9 #площадь\n",
        "d = 23 #удаленность от метро\n",
        "result = True\n"
      ],
      "metadata": {
        "id": "TnVmpL2Xn0Ez"
      },
      "execution_count": null,
      "outputs": []
    },
    {
      "cell_type": "code",
      "source": [
        "p = 14980000 #стоимость\n",
        "s = 51.9 #площадь\n",
        "d = 23 #удаленность от метро\n",
        "if p<15000000 and s>50 and d<25:\n",
        "  result = 'True'\n",
        "elif p<13000000 and s>35 and d<5:\n",
        "  result = 'True'\n",
        "else: result = 'False'\n",
        "print (result)"
      ],
      "metadata": {
        "colab": {
          "base_uri": "https://localhost:8080/"
        },
        "id": "CvecZ2WVoGVi",
        "outputId": "0931106a-2562-4b8b-ce75-f7d2c7066562"
      },
      "execution_count": null,
      "outputs": [
        {
          "output_type": "stream",
          "name": "stdout",
          "text": [
            "True\n"
          ]
        }
      ]
    },
    {
      "cell_type": "markdown",
      "source": [
        "Катя завершила обучение на курсе Hard ML и набрала K баллов за решение задач. Чтобы получить сертификат о прохождении курса, необходимо набрать не менее M баллов. Если Катя набрала от L баллов, то получит сертификат с отличием.\n",
        "\n",
        "Переменные K, M и L уже определены.\n",
        "\n",
        "Напишите программу, которая сохранит в переменную result информацию о результатах прохождения курса в следующем формате:\n",
        "“Недостаточно баллов”, если Кате не хватило баллов для получения сертификата,\n",
        "“Сертификат выдан”, если Катя набрала количество баллов, необходимое для получения сертификата,\n",
        "“Выдан сертификат с отличием” если Катя набрала ≥ L баллов."
      ],
      "metadata": {
        "id": "6A3lY9EPpFYh"
      }
    },
    {
      "cell_type": "code",
      "source": [
        "#Пример 1\n",
        "K = 121 #количество баллов, полученных Катей\n",
        "M = 100 #количество баллов, необходимое для получения сертификата\n",
        "L = 150 #количество баллов, необходимое для получения сертификата с отличием\n",
        "result = \"Сертификат выдан\"\n",
        "#Пример 2\n",
        "K = 148\n",
        "M = 110\n",
        "L = 145\n",
        "result = \"Выдан сертификат с отличием\""
      ],
      "metadata": {
        "id": "OoCcF5YgpFHj"
      },
      "execution_count": null,
      "outputs": []
    },
    {
      "cell_type": "code",
      "source": [
        "K = 121\n",
        "M = 100\n",
        "L = 150\n",
        "if K>=M and K<L:\n",
        "  result='Сертификат выдан'\n",
        "elif K>=L:\n",
        "  result='Выдан сертификат с отличием'\n",
        "elif K<M:\n",
        "  result='Недостаточно баллов'\n",
        "print (result)\n"
      ],
      "metadata": {
        "colab": {
          "base_uri": "https://localhost:8080/"
        },
        "id": "Fexe3OqgpSuB",
        "outputId": "c4aa312d-38e7-4887-c5d2-352d570e3377"
      },
      "execution_count": null,
      "outputs": [
        {
          "output_type": "stream",
          "name": "stdout",
          "text": [
            "Сертификат выдан\n"
          ]
        }
      ]
    },
    {
      "cell_type": "markdown",
      "source": [
        "Компания решила выплатить сотрудникам премию в размере:\n",
        "\n",
        "2 оклада, если его стаж работы ≥ 2 года\n",
        "5 окладов, если стаж работы ≥ 5 лет\n",
        "10 окладов, если стаж работы ≥ 15 лет\n",
        "В переменной x — зарплата сотрудника, в переменной y — стаж. Вычислите размер премии, результат сохраните в переменную result."
      ],
      "metadata": {
        "id": "KwF0KILsqcJK"
      }
    },
    {
      "cell_type": "code",
      "source": [
        "# Пример 1\n",
        "x = 150000\n",
        "y = 3\n",
        "result = 300000\n",
        "# Пример 2\n",
        "x = 100000\n",
        "y = 1\n",
        "result = 0\n",
        "# Пример 3\n",
        "x = 200000\n",
        "y = 16\n",
        "result = 2000000"
      ],
      "metadata": {
        "id": "3zee6RVWqcfA"
      },
      "execution_count": null,
      "outputs": []
    },
    {
      "cell_type": "code",
      "source": [
        "x = 150000\n",
        "y = 3\n",
        "if y>=2 and y<5:\n",
        "  result=x*2\n",
        "elif y>=5 and y<15:\n",
        "  result=x*5\n",
        "elif y>=15:\n",
        "  result=x*10\n",
        "else: result=0\n",
        "print(result)"
      ],
      "metadata": {
        "colab": {
          "base_uri": "https://localhost:8080/"
        },
        "id": "ort2byrHqfCQ",
        "outputId": "2e3a860e-384c-4835-e99c-c3fb24eff759"
      },
      "execution_count": null,
      "outputs": [
        {
          "output_type": "stream",
          "name": "stdout",
          "text": [
            "300000\n"
          ]
        }
      ]
    },
    {
      "cell_type": "markdown",
      "source": [
        "Дан словарь dict_age, в котором хранится информация о возрасте трех братьев в формате:\n",
        "ключ — имя\n",
        "значение — возраст, число целых лет.\n",
        "\n",
        "Если возраст у братьев разный и получается однозначно определить среднего брата, сохраните имя среднего брата в переменную result.  \n",
        "\n",
        "Если хотя бы у двух братьев возраст одинаковый, то сохраните в переменную result пустую строку."
      ],
      "metadata": {
        "id": "HuvIXiLxrgRb"
      }
    },
    {
      "cell_type": "code",
      "source": [
        "dict_age = {'Антон': 5,\n",
        "            'Денис': 14,\n",
        "            'Борис': 9}\n",
        "result = 'Борис'\n",
        "\n",
        "dict_age = {'Марк': 5,\n",
        "            'Авель': 5,\n",
        "            'Карп': 9}\n",
        "result = ''"
      ],
      "metadata": {
        "id": "pgyPhRo8rgkS"
      },
      "execution_count": null,
      "outputs": []
    },
    {
      "cell_type": "code",
      "source": [
        "dict_age = {'Марк': 5,\n",
        "            'Авель': 5,\n",
        "            'Карп': 9}\n",
        "age=list(dict_age.values())\n",
        "max=max(age)\n",
        "\n",
        "\n",
        "print (age)\n",
        "\n"
      ],
      "metadata": {
        "colab": {
          "base_uri": "https://localhost:8080/",
          "height": 258
        },
        "id": "ZYZnOiS1ribq",
        "outputId": "76e70848-27e6-4e7f-c1b3-5c4ba518e9ce"
      },
      "execution_count": null,
      "outputs": [
        {
          "output_type": "error",
          "ename": "TypeError",
          "evalue": "ignored",
          "traceback": [
            "\u001b[0;31m---------------------------------------------------------------------------\u001b[0m",
            "\u001b[0;31mTypeError\u001b[0m                                 Traceback (most recent call last)",
            "\u001b[0;32m<ipython-input-45-770dab6b3e60>\u001b[0m in \u001b[0;36m<cell line: 5>\u001b[0;34m()\u001b[0m\n\u001b[1;32m      3\u001b[0m             'Карп': 9}\n\u001b[1;32m      4\u001b[0m \u001b[0mage\u001b[0m\u001b[0;34m=\u001b[0m\u001b[0mlist\u001b[0m\u001b[0;34m(\u001b[0m\u001b[0mdict_age\u001b[0m\u001b[0;34m.\u001b[0m\u001b[0mvalues\u001b[0m\u001b[0;34m(\u001b[0m\u001b[0;34m)\u001b[0m\u001b[0;34m)\u001b[0m\u001b[0;34m\u001b[0m\u001b[0;34m\u001b[0m\u001b[0m\n\u001b[0;32m----> 5\u001b[0;31m \u001b[0mmax\u001b[0m\u001b[0;34m=\u001b[0m\u001b[0mmax\u001b[0m\u001b[0;34m(\u001b[0m\u001b[0mage\u001b[0m\u001b[0;34m)\u001b[0m\u001b[0;34m\u001b[0m\u001b[0;34m\u001b[0m\u001b[0m\n\u001b[0m\u001b[1;32m      6\u001b[0m \u001b[0;34m\u001b[0m\u001b[0m\n\u001b[1;32m      7\u001b[0m \u001b[0;34m\u001b[0m\u001b[0m\n",
            "\u001b[0;31mTypeError\u001b[0m: 'int' object is not callable"
          ]
        }
      ]
    },
    {
      "cell_type": "code",
      "source": [
        "dict_age = {'Марк': 5,\n",
        "            'Авель': 5,\n",
        "            'Карп': 9}\n",
        "ages = list(dict_age.values())\n",
        "print (ages)\n",
        "if len(set(ages)) == len(ages):\n",
        "  middle_age = sum(ages) // len(ages)\n",
        "for name, age in dict_age.items():\n",
        "if age == middle_age:\n",
        "  result = name\n",
        "break\n",
        "print(result)"
      ],
      "metadata": {
        "colab": {
          "base_uri": "https://localhost:8080/",
          "height": 147
        },
        "id": "Napp-l7RU3hZ",
        "outputId": "d5c6f516-1398-46f0-cb25-7331c6c6b268"
      },
      "execution_count": null,
      "outputs": [
        {
          "output_type": "error",
          "ename": "IndentationError",
          "evalue": "ignored",
          "traceback": [
            "\u001b[0;36m  File \u001b[0;32m\"<ipython-input-29-9b956888deaf>\"\u001b[0;36m, line \u001b[0;32m9\u001b[0m\n\u001b[0;31m    if age == middle_age:\u001b[0m\n\u001b[0m    ^\u001b[0m\n\u001b[0;31mIndentationError\u001b[0m\u001b[0;31m:\u001b[0m expected an indented block after 'for' statement on line 8\n"
          ]
        }
      ]
    },
    {
      "cell_type": "markdown",
      "source": [
        "Напишите программу, которая будет принимать длины сторон треугольника a, b и c, определять, является ли он прямоугольным и сохранять результат проверки в result в формате True или False.\n",
        "\n",
        "Прямоугольный треугольник — это треугольник, в котором один угол прямой (то есть 90 градусов).\n",
        "Самая длинная сторона (гипотенуза) не обязательно будет последним аргументом.\n",
        "Все аргументы будут целыми числами."
      ],
      "metadata": {
        "id": "eF8V3YKHW5-g"
      }
    },
    {
      "cell_type": "code",
      "source": [
        "a = 3\n",
        "b = 5\n",
        "c = 4\n",
        "result = True\n",
        "\n",
        "a = 70\n",
        "b = 130\n",
        "c = 110\n",
        "result = False"
      ],
      "metadata": {
        "id": "VmJ-nboiW6SR"
      },
      "execution_count": null,
      "outputs": []
    },
    {
      "cell_type": "code",
      "source": [
        "a = 3\n",
        "b = 4\n",
        "c = 5\n",
        "if c**2==a**2+b**2:\n",
        "  result = 'True'\n",
        "elif a**2==c**2+b**2:\n",
        "  result = 'True'\n",
        "elif b**2==a**2+c**2:\n",
        "  result = 'True'\n",
        "else: result = 'False'\n",
        "print (result)"
      ],
      "metadata": {
        "colab": {
          "base_uri": "https://localhost:8080/"
        },
        "id": "NAKFsxuBW6gY",
        "outputId": "2817b087-ece3-4f10-9cba-b026058c339d"
      },
      "execution_count": null,
      "outputs": [
        {
          "output_type": "stream",
          "name": "stdout",
          "text": [
            "True\n"
          ]
        }
      ]
    },
    {
      "cell_type": "markdown",
      "source": [
        "Напишите программу, которая будет высчитывать либо длину окружности, либо периметр квадрата, исходя из переданных аргументов.\n",
        "\n",
        "На вход подаются буква в переменной f и число в переменной v.\n",
        "\n",
        "Буква будет определять геометрическую фигуру:\n",
        "\n",
        "'S' — квадрат\n",
        "'С' — круг\n",
        "Если буквой задан квадрат, то второй аргумент, число v, считается длиной стороны квадрата. В противном случае число считается радиусом круга.\n",
        "\n",
        "Результат сохраните в result\n",
        "\n",
        "Число pi возмите равным 3.14."
      ],
      "metadata": {
        "id": "01DY3DipYOpS"
      }
    },
    {
      "cell_type": "code",
      "source": [
        "f=('S','C')\n",
        "v = 3\n",
        "if f=='S':\n",
        "  result = v*4\n",
        "else: result = 2*3.14*v\n",
        "print (result)"
      ],
      "metadata": {
        "colab": {
          "base_uri": "https://localhost:8080/"
        },
        "id": "0xvEI4grYO95",
        "outputId": "2b2d4bdf-cc2c-4cd0-859b-8895f6fa15db"
      },
      "execution_count": null,
      "outputs": [
        {
          "output_type": "stream",
          "name": "stdout",
          "text": [
            "18.84\n"
          ]
        }
      ]
    },
    {
      "cell_type": "markdown",
      "source": [
        "# **LESSON 6**"
      ],
      "metadata": {
        "id": "RW2BMcOHi80j"
      }
    },
    {
      "cell_type": "markdown",
      "source": [
        "В переменных a и b сохранено два целых положительных числа, таких что a <= b. Напишите программу, которая находит сумму всех чисел от a до b, кратных 3 или 5. Сохраните сумму в переменную result. Если между a и b нет таких чисел, то сохраните в result 0."
      ],
      "metadata": {
        "id": "7Ho9Xn02jB3b"
      }
    },
    {
      "cell_type": "code",
      "source": [
        "# Пример 1\n",
        "a = 1\n",
        "b = 10\n",
        "result = 33\n",
        "# Пример 2\n",
        "a = 9\n",
        "b = 9\n",
        "result = 9\n",
        "# Пример 3\n",
        "a = 1\n",
        "b = 2\n",
        "result = 0"
      ],
      "metadata": {
        "id": "kDDf-xpRjCJ7"
      },
      "execution_count": null,
      "outputs": []
    },
    {
      "cell_type": "code",
      "source": [
        "a = 9\n",
        "b = 9\n",
        "result = 0\n",
        "my_list=list(range(a,b+1))\n",
        "for i in my_list:\n",
        "    if i % 3 == 0 or i % 5 == 0:\n",
        "        result+=i\n",
        "print (result)"
      ],
      "metadata": {
        "colab": {
          "base_uri": "https://localhost:8080/"
        },
        "id": "3y8Echsl4DOt",
        "outputId": "ad66d200-4bbb-4279-d015-19858df1956b"
      },
      "execution_count": null,
      "outputs": [
        {
          "output_type": "stream",
          "name": "stdout",
          "text": [
            "9\n"
          ]
        }
      ]
    },
    {
      "cell_type": "markdown",
      "source": [
        "Напишите программу на Python, которая определяет, является ли заданное число num простым.\n",
        "\n",
        "Если num — простое число, то сохраните в переменную result строку \"это простое число\". Если число не простое, то сохраните в переменную result строку \"это не простое число\".\n",
        "\n",
        "Используйте цикл для решения этой задачи."
      ],
      "metadata": {
        "id": "XY-hzD2NlRjg"
      }
    },
    {
      "cell_type": "code",
      "source": [
        "# Пример 1\n",
        "num = 7\n",
        "result = \"это простое число\"\n",
        "# Пример 2\n",
        "num = 8\n",
        "result = \"это не простое число\""
      ],
      "metadata": {
        "id": "1NXazZtilRvE"
      },
      "execution_count": null,
      "outputs": []
    },
    {
      "cell_type": "code",
      "source": [
        "num = 13\n",
        "result = False\n",
        "for i in range(2, num):\n",
        "  if (num % i) == 0:\n",
        "    result = True\n",
        "    break\n",
        "if result is True:\n",
        "  print(\"это не простое число\")\n",
        "else:\n",
        "  print( \"это простое число\")"
      ],
      "metadata": {
        "colab": {
          "base_uri": "https://localhost:8080/"
        },
        "id": "hahMKL0b7-Qo",
        "outputId": "ddefda90-1e59-4cec-be6a-5790f55e150d"
      },
      "execution_count": null,
      "outputs": [
        {
          "output_type": "stream",
          "name": "stdout",
          "text": [
            "это простое число\n"
          ]
        }
      ]
    },
    {
      "cell_type": "markdown",
      "source": [
        "В переменной number сохранено число, напишите код, который проверят, является ли number степенью двойки? Ряд степеней двойки:\n",
        "\n",
        "1, 2, 4, 8, 16, 32, 64 ...\n",
        "\n",
        "Результат проверки True или False сохраните в переменную is_two_power."
      ],
      "metadata": {
        "id": "9-N5_-3jAWB3"
      }
    },
    {
      "cell_type": "code",
      "source": [
        "number = 1024 # число для теста\n",
        "\n",
        "if number == 0:\n",
        "    is_two_power = False\n",
        "elif number != 0:\n",
        "  while number % 2 == 0:\n",
        "    number = number / 2\n",
        "is_two_power = number==1\n",
        "print (is_two_power)"
      ],
      "metadata": {
        "colab": {
          "base_uri": "https://localhost:8080/"
        },
        "id": "E1DIxXShAsYW",
        "outputId": "15dda309-42e5-4d31-9da0-c50ef0ad7031"
      },
      "execution_count": null,
      "outputs": [
        {
          "output_type": "stream",
          "name": "stdout",
          "text": [
            "True\n"
          ]
        }
      ]
    },
    {
      "cell_type": "markdown",
      "source": [
        "Для приготовления одной порции эспрессо требуется примерно 7 г молотого кофе. Для приготовления латте необходимо взбить 180 мл молока и добавить к эспрессо, а для приготовления капучино — 100 мл молока.\n",
        "\n",
        "Заданы две переменные:\n",
        "\n",
        "coffee — запас молотого кофе в кофейне (в килограммах);\n",
        "milk — запас молока в кофейне (в литрах).\n",
        "Напишите программу, которая посчитает, сколько посетителей сможет обслужить кофейня, если известно, что:\n",
        "\n",
        "В кофейне готовят три напитка на выбор: американо (эспрессо + вода), латте и капучино.\n",
        "Каждый посетитель заказывает только один напиток.\n",
        "Известно, что каждый третий заказанный напиток — капучино, а каждый пятый — латте.\n",
        "Если молоко закончилось, то кофейня работает, пока не придет посетитель, желающий заказать кофе с молоком.\n",
        "Запас воды для американо не ограничен.\n",
        "Результат сохраните в переменную visitors.\n",
        "\n",
        "Не забудьте перевести килограммы в граммы, а литры — в миллилитры."
      ],
      "metadata": {
        "id": "Yj15i_37F6pN"
      }
    },
    {
      "cell_type": "code",
      "source": [
        "# Пример 1\n",
        "coffee = 0.1\n",
        "milk = 1\n",
        "visitors = 14\n",
        "\n",
        "# Пример 2\n",
        "coffee = 0.07\n",
        "milk = 0.1\n",
        "visitors = 4"
      ],
      "metadata": {
        "id": "mic6a9OrF68L"
      },
      "execution_count": null,
      "outputs": []
    },
    {
      "cell_type": "code",
      "source": [
        "coffee = 0.07\n",
        "milk = 0.1\n",
        "count=0\n",
        "convert_coffee = coffee*1000\n",
        "convert_milk= milk*1000\n",
        "if"
      ],
      "metadata": {
        "id": "aoNhzVy_F_D8"
      },
      "execution_count": null,
      "outputs": []
    },
    {
      "cell_type": "markdown",
      "source": [
        "Дан список чисел a.  Напишите программу, которая вернет True, если в списке больше нечетных чисел, и False — во всех остальных случаях. Результат сохраните в result."
      ],
      "metadata": {
        "id": "me2RIi6dIgun"
      }
    },
    {
      "cell_type": "code",
      "source": [
        "# Пример 1\n",
        "a = [1, 2, 3, 4, 5, 6, 7, 8, 9]\n",
        "result = True\n",
        "# Пример 2\n",
        "a = [1, 2, 3, 4, 5, 6, 7, 8, 10]\n",
        "result = False\n",
        "# Пример 3\n",
        "a = [1, 2, 3, 4, 5, 6, 7, 8, 10]\n",
        "result = False"
      ],
      "metadata": {
        "id": "GsYZfr_sIg8d"
      },
      "execution_count": null,
      "outputs": []
    },
    {
      "cell_type": "code",
      "source": [
        "a = [1, 2, 3, 4, 5, 6, 7, 8, 10]\n",
        "count_even_number=0\n",
        "count_odd_number=0\n",
        "for i in a:\n",
        "  if i%2==0:\n",
        "    count_even_number=count_even_number+1\n",
        "  else: count_odd_number=count_odd_number+1\n",
        "if count_odd_number>count_even_number:\n",
        "  result=True\n",
        "else: result=False\n",
        "print (result)\n"
      ],
      "metadata": {
        "colab": {
          "base_uri": "https://localhost:8080/"
        },
        "id": "GtTNvcqnIlBF",
        "outputId": "25922c8f-ca31-4748-d45c-ff959c92f41e"
      },
      "execution_count": null,
      "outputs": [
        {
          "output_type": "stream",
          "name": "stdout",
          "text": [
            "False\n"
          ]
        }
      ]
    },
    {
      "cell_type": "markdown",
      "source": [
        "Есть словарь grades, содержащий информацию о школьных предметах и их оценках. В список good_subjects  сохраните названия всех предметов, у которых оценка больше или равна 4."
      ],
      "metadata": {
        "id": "IOkdNYb9KwmN"
      }
    },
    {
      "cell_type": "code",
      "source": [
        "grades = {\"Математика\": 4, \"История\": 3, \"Биология\": 3, \"География\": 4}\n",
        "good_subjects = [\"Математика\", \"География\"]\n",
        "\n",
        "grades = {\"Алгебра\": 3, \"ИЗО\": 2}\n",
        "good_subjects = []"
      ],
      "metadata": {
        "id": "oaDfeWI2Kw3n"
      },
      "execution_count": null,
      "outputs": []
    },
    {
      "cell_type": "code",
      "source": [
        "grades = {\"Математика\": 4, \"История\": 3, \"Биология\": 3, \"География\": 4}\n",
        "keys = grades.keys()\n",
        "values = grades.values()\n",
        "for i in values:\n",
        "  if i>=4:\n",
        "    good_subjects=grades.keys()\n",
        "  else: good_subjects=[]\n",
        "print (good_subjects)\n",
        "print (keys)\n",
        "print (values)"
      ],
      "metadata": {
        "colab": {
          "base_uri": "https://localhost:8080/"
        },
        "id": "cFGVirBsOFWf",
        "outputId": "6b0672a1-a5c9-45b0-f2d5-7c93f080fa81"
      },
      "execution_count": null,
      "outputs": [
        {
          "output_type": "stream",
          "name": "stdout",
          "text": [
            "dict_keys(['Математика', 'История', 'Биология', 'География'])\n",
            "dict_keys(['Математика', 'История', 'Биология', 'География'])\n",
            "dict_values([4, 3, 3, 4])\n"
          ]
        }
      ]
    },
    {
      "cell_type": "code",
      "source": [
        "grades = {\"Математика\": 4, \"История\": 3, \"Биология\": 3, \"География\": 4}\n",
        "items = grades.items()\n",
        "for i in grades.values():\n",
        "  if i>=4:\n",
        "    good_subjects=grades.keys()\n",
        "  else: good_subjects=[]\n",
        "print (items)\n",
        "print (good_subjects)"
      ],
      "metadata": {
        "colab": {
          "base_uri": "https://localhost:8080/",
          "height": 256
        },
        "id": "w3JnjAJkC-AM",
        "outputId": "9a78dab7-c987-49cc-ecf9-84bb062f2ee9"
      },
      "execution_count": null,
      "outputs": [
        {
          "output_type": "error",
          "ename": "TypeError",
          "evalue": "ignored",
          "traceback": [
            "\u001b[0;31m---------------------------------------------------------------------------\u001b[0m",
            "\u001b[0;31mTypeError\u001b[0m                                 Traceback (most recent call last)",
            "\u001b[0;32m<ipython-input-7-0e5f94a82246>\u001b[0m in \u001b[0;36m<cell line: 3>\u001b[0;34m()\u001b[0m\n\u001b[1;32m      3\u001b[0m \u001b[0;32mfor\u001b[0m \u001b[0mi\u001b[0m \u001b[0;32min\u001b[0m \u001b[0mgrades\u001b[0m\u001b[0;34m.\u001b[0m\u001b[0mvalues\u001b[0m\u001b[0;34m(\u001b[0m\u001b[0;34m)\u001b[0m\u001b[0;34m:\u001b[0m\u001b[0;34m\u001b[0m\u001b[0;34m\u001b[0m\u001b[0m\n\u001b[1;32m      4\u001b[0m   \u001b[0;32mif\u001b[0m \u001b[0mi\u001b[0m\u001b[0;34m>=\u001b[0m\u001b[0;36m4\u001b[0m\u001b[0;34m:\u001b[0m\u001b[0;34m\u001b[0m\u001b[0;34m\u001b[0m\u001b[0m\n\u001b[0;32m----> 5\u001b[0;31m     \u001b[0mgood_subjects\u001b[0m\u001b[0;34m=\u001b[0m\u001b[0mgrades\u001b[0m\u001b[0;34m.\u001b[0m\u001b[0mkeys\u001b[0m\u001b[0;34m(\u001b[0m\u001b[0mi\u001b[0m\u001b[0;34m)\u001b[0m\u001b[0;34m\u001b[0m\u001b[0;34m\u001b[0m\u001b[0m\n\u001b[0m\u001b[1;32m      6\u001b[0m   \u001b[0;32melse\u001b[0m\u001b[0;34m:\u001b[0m \u001b[0mgood_subjects\u001b[0m\u001b[0;34m=\u001b[0m\u001b[0;34m[\u001b[0m\u001b[0;34m]\u001b[0m\u001b[0;34m\u001b[0m\u001b[0;34m\u001b[0m\u001b[0m\n\u001b[1;32m      7\u001b[0m \u001b[0mprint\u001b[0m \u001b[0;34m(\u001b[0m\u001b[0mitems\u001b[0m\u001b[0;34m)\u001b[0m\u001b[0;34m\u001b[0m\u001b[0;34m\u001b[0m\u001b[0m\n",
            "\u001b[0;31mTypeError\u001b[0m: dict.keys() takes no arguments (1 given)"
          ]
        }
      ]
    },
    {
      "cell_type": "code",
      "source": [
        "grades = {\"Математика\": 4, \"История\": 3, \"Биология\": 4, \"География\": 4}\n",
        "keys = grades.keys()\n",
        "values = grades.values()\n",
        "good_subjects = [grades.keys() for x in values if x>=4]\n",
        "print (good_subjects)\n"
      ],
      "metadata": {
        "colab": {
          "base_uri": "https://localhost:8080/"
        },
        "id": "T0bIKM5xPGIH",
        "outputId": "7c4ee6a5-8d93-4768-f3c1-4cf49828b0b3"
      },
      "execution_count": null,
      "outputs": [
        {
          "output_type": "stream",
          "name": "stdout",
          "text": [
            "[dict_keys(['Математика', 'История', 'Биология', 'География']), dict_keys(['Математика', 'История', 'Биология', 'География']), dict_keys(['Математика', 'История', 'Биология', 'География'])]\n"
          ]
        }
      ]
    },
    {
      "cell_type": "markdown",
      "source": [
        "Напишите программу, которая будет принимать список чисел nums и возвращать два числа, абсолютная разность которых минимальна. Пару чисел сохраните в переменную result в виде списка, отсортированного по возрастанию.\n",
        "\n",
        "Если несколько пар дают минимальную абсолютную разность, выберете ту пару элементов, сумма которых больше."
      ],
      "metadata": {
        "id": "YoHPwG8GDo1D"
      }
    },
    {
      "cell_type": "code",
      "source": [
        "# Пример 1\n",
        "nums = [40, 16, 8, 17, 15]\n",
        "result = [16, 17]\n",
        "# пара 16 и 15 не подходит, так как сумма 16 и 17 больше\n",
        "\n",
        "# Пример 2\n",
        "nums = [0, 2, 35, 42, 45, 14, -6, -1]\n",
        "result = [-1, 0]\n",
        "\n"
      ],
      "metadata": {
        "id": "yB2Ij21RDpFj"
      },
      "execution_count": null,
      "outputs": []
    },
    {
      "cell_type": "code",
      "source": [
        "nums = [40, 16, 8, 17, 15]\n",
        "sorted_nums=sorted(nums)\n",
        "print (sorted_nums)\n",
        "for i in range(len(sorted_nums)-1):\n",
        "  result_razn = sorted_nums[i+1] - sorted_nums[i]\n",
        "  result_sum= sorted_nums[i+1] + sorted_nums[i]\n",
        "  result = zip(result_razn, result_sum)\n",
        "  print (result_razn)\n",
        "  print (result_sum)\n",
        "  print (result)"
      ],
      "metadata": {
        "colab": {
          "base_uri": "https://localhost:8080/",
          "height": 274
        },
        "id": "nF1-P_j1D6S6",
        "outputId": "e6deb672-69da-4fc5-853e-5c0e9d13a495"
      },
      "execution_count": null,
      "outputs": [
        {
          "output_type": "stream",
          "name": "stdout",
          "text": [
            "[8, 15, 16, 17, 40]\n"
          ]
        },
        {
          "output_type": "error",
          "ename": "TypeError",
          "evalue": "ignored",
          "traceback": [
            "\u001b[0;31m---------------------------------------------------------------------------\u001b[0m",
            "\u001b[0;31mTypeError\u001b[0m                                 Traceback (most recent call last)",
            "\u001b[0;32m<ipython-input-63-fdeb51d30863>\u001b[0m in \u001b[0;36m<cell line: 4>\u001b[0;34m()\u001b[0m\n\u001b[1;32m      5\u001b[0m   \u001b[0mresult_razn\u001b[0m \u001b[0;34m=\u001b[0m \u001b[0msorted_nums\u001b[0m\u001b[0;34m[\u001b[0m\u001b[0mi\u001b[0m\u001b[0;34m+\u001b[0m\u001b[0;36m1\u001b[0m\u001b[0;34m]\u001b[0m \u001b[0;34m-\u001b[0m \u001b[0msorted_nums\u001b[0m\u001b[0;34m[\u001b[0m\u001b[0mi\u001b[0m\u001b[0;34m]\u001b[0m\u001b[0;34m\u001b[0m\u001b[0;34m\u001b[0m\u001b[0m\n\u001b[1;32m      6\u001b[0m   \u001b[0mresult_sum\u001b[0m\u001b[0;34m=\u001b[0m \u001b[0msorted_nums\u001b[0m\u001b[0;34m[\u001b[0m\u001b[0mi\u001b[0m\u001b[0;34m+\u001b[0m\u001b[0;36m1\u001b[0m\u001b[0;34m]\u001b[0m \u001b[0;34m+\u001b[0m \u001b[0msorted_nums\u001b[0m\u001b[0;34m[\u001b[0m\u001b[0mi\u001b[0m\u001b[0;34m]\u001b[0m\u001b[0;34m\u001b[0m\u001b[0;34m\u001b[0m\u001b[0m\n\u001b[0;32m----> 7\u001b[0;31m   \u001b[0mresult\u001b[0m \u001b[0;34m=\u001b[0m \u001b[0mzip\u001b[0m\u001b[0;34m(\u001b[0m\u001b[0mresult_razn\u001b[0m\u001b[0;34m,\u001b[0m \u001b[0mresult_sum\u001b[0m\u001b[0;34m)\u001b[0m\u001b[0;34m\u001b[0m\u001b[0;34m\u001b[0m\u001b[0m\n\u001b[0m\u001b[1;32m      8\u001b[0m   \u001b[0mprint\u001b[0m \u001b[0;34m(\u001b[0m\u001b[0mresult_razn\u001b[0m\u001b[0;34m)\u001b[0m\u001b[0;34m\u001b[0m\u001b[0;34m\u001b[0m\u001b[0m\n\u001b[1;32m      9\u001b[0m   \u001b[0mprint\u001b[0m \u001b[0;34m(\u001b[0m\u001b[0mresult_sum\u001b[0m\u001b[0;34m)\u001b[0m\u001b[0;34m\u001b[0m\u001b[0;34m\u001b[0m\u001b[0m\n",
            "\u001b[0;31mTypeError\u001b[0m: 'int' object is not iterable"
          ]
        }
      ]
    },
    {
      "cell_type": "code",
      "source": [
        "nums = [40, 16, 8, 17, 15]\n",
        "x = float('inf')\n",
        "sorted_nums=sorted(nums)\n",
        "print (sorted_nums)\n",
        "for i in range(len(sorted_nums)-1):\n",
        "  if sorted_nums[i+1] - sorted_nums[i]<x:\n",
        "    sum=sorted_nums[i+1] - sorted_nums[i]\n",
        "    result = sorted_nums[i+1] - sorted_nums[i]\n",
        "    print (result)\n"
      ],
      "metadata": {
        "colab": {
          "base_uri": "https://localhost:8080/"
        },
        "id": "hng70DaYN59H",
        "outputId": "46f12696-85d7-4bca-c010-232d2ae80b88"
      },
      "execution_count": null,
      "outputs": [
        {
          "output_type": "stream",
          "name": "stdout",
          "text": [
            "[8, 15, 16, 17, 40]\n",
            "23\n"
          ]
        }
      ]
    },
    {
      "cell_type": "markdown",
      "source": [
        "Напишите программу, принимающую в виде аргументов два списка lst_1 и lst_2 и определяющую, являются ли они противоположными друг другу. Результат проверки сохраните в result в формате True или False.\n",
        "\n",
        "Каждая пара списков будет состоять из одинаковых элементов (типа a и b). Список считается анти-списком, если все элементы в нем противоположны соответствующим элементам в первом списке."
      ],
      "metadata": {
        "id": "qf7mnTqUPuy-"
      }
    },
    {
      "cell_type": "code",
      "source": [
        "lst_1 = [\"1\", \"0\", \"0\", \"1\"]\n",
        "lst_2 = [\"0\", \"1\", \"1\", \"0\"]\n",
        "result = True\n",
        "lst_1 = [\"1\", \"0\", \"0\", \"1\"]\n",
        "lst_2 = [\"0\", \"1\", \"1\", \"1\"]\n",
        "result = False"
      ],
      "metadata": {
        "id": "ReUyLhJUPvGt"
      },
      "execution_count": null,
      "outputs": []
    },
    {
      "cell_type": "code",
      "source": [
        "lst_1 = [\"1\", \"0\", \"0\", \"1\"]\n",
        "lst_2 = [\"0\", \"1\", \"1\", \"1\"]\n",
        "for i in lst_1:\n",
        "  for j in lst_2:\n",
        "    if i==j:\n",
        "      result = False\n",
        "    else: result = True\n",
        "print (result)"
      ],
      "metadata": {
        "colab": {
          "base_uri": "https://localhost:8080/"
        },
        "id": "OU_y9aTiPxN9",
        "outputId": "4f5fd540-2123-4930-d91b-6295b7cbef50"
      },
      "execution_count": null,
      "outputs": [
        {
          "output_type": "stream",
          "name": "stdout",
          "text": [
            "False\n"
          ]
        }
      ]
    },
    {
      "cell_type": "markdown",
      "source": [
        "Задана переменная m — список из списков одинаковой длины. Проверьте, что суммы элементов  на диагоналях равны.\n",
        "\n",
        "Результат проверки сохраните в result в формате True или False."
      ],
      "metadata": {
        "id": "NLPpcwBbWAZC"
      }
    },
    {
      "cell_type": "code",
      "source": [
        "# Пример 1\n",
        "m = [[1, 23, 4],\n",
        "     [3, 2, 1],\n",
        "     [6, 3, 4]]\n",
        "result = False\n",
        "# Пример 2\n",
        "m = [[1, 23, 4],\n",
        "     [3, 2, 1],\n",
        "     [1, 3, 4]]\n",
        "result = True"
      ],
      "metadata": {
        "id": "-ILFFX7CWAmQ"
      },
      "execution_count": null,
      "outputs": []
    },
    {
      "cell_type": "code",
      "source": [
        "m = [[1, 23, 2],\n",
        "     [3, 5, 1],\n",
        "     [1, 3, 4]]\n",
        "\n",
        "def primary_diagonal(m):\n",
        "    sum = 0\n",
        "    for i in range(len(m)):\n",
        "        sum += m[i][i]\n",
        "    return sum\n",
        "\n",
        "def secondary_left_diagonal(m):\n",
        "    sum = 0\n",
        "    for i in range(len(m)):\n",
        "        sum += m[i][len(m) - i - 1]\n",
        "    return sum\n",
        "\n",
        "if primary_diagonal(m)==secondary_left_diagonal(m):\n",
        "  result = True\n",
        "else: result = False\n",
        "print(result)\n",
        "\n",
        "# result = sum([m[i][i] for i in range(len(m))]) == sum([m[i][len(m[i]) - i - 1] for i in range(len(m))])"
      ],
      "metadata": {
        "colab": {
          "base_uri": "https://localhost:8080/"
        },
        "id": "DTL311t5eouq",
        "outputId": "2ac59423-9fc3-46c3-ac30-75375fd371af"
      },
      "execution_count": null,
      "outputs": [
        {
          "output_type": "stream",
          "name": "stdout",
          "text": [
            "False\n"
          ]
        }
      ]
    },
    {
      "cell_type": "markdown",
      "source": [
        "Напишите программу, которая принимает словарь input_dict и возвращает строку вида: ключ=значение&ключ=значение\n",
        "\n",
        "Строка должна быть лексикографически отсортирована по ключам исходного словаря. Сохраните полученный ответ в result.\n",
        "\n",
        "Пример:"
      ],
      "metadata": {
        "id": "2ALrTrq7hnPr"
      }
    },
    {
      "cell_type": "code",
      "source": [
        "input_dict = {'lesson': 2, 'task': 21, 'course': 'python'}\n",
        "result = 'course=python&lesson=2&task=21'"
      ],
      "metadata": {
        "id": "jY4LZRw8htqj"
      },
      "execution_count": null,
      "outputs": []
    },
    {
      "cell_type": "code",
      "source": [
        "input_dict = {'lesson': 2, 'task': 21, 'course': 'python'}\n",
        "query_string = ''\n",
        "for key in sorted(input_dict.keys()):\n",
        "  query_string += f\"{key}={input_dict[key]}&\"\n",
        "result = query_string[0:-1]\n",
        "print(result)"
      ],
      "metadata": {
        "colab": {
          "base_uri": "https://localhost:8080/"
        },
        "id": "ODFnwpWKqgvw",
        "outputId": "acc45d4c-7a5f-414f-fd41-b02100b343ee"
      },
      "execution_count": null,
      "outputs": [
        {
          "output_type": "stream",
          "name": "stdout",
          "text": [
            "course=python&lesson=2&task=21\n"
          ]
        }
      ]
    },
    {
      "cell_type": "markdown",
      "source": [
        "Напишите программу, которая принимает одну строку input_str и возвращает другую result, в которой каждая буква исходной строки повторяется дважды."
      ],
      "metadata": {
        "id": "k_MIyZhcshPe"
      }
    },
    {
      "cell_type": "code",
      "source": [
        "input_str = \"String\"\n",
        "result = \"SSttrriinngg\"\n"
      ],
      "metadata": {
        "id": "TXhRbpvfshd4"
      },
      "execution_count": null,
      "outputs": []
    },
    {
      "cell_type": "code",
      "source": [
        "input_str = \"String\"\n",
        "result = ''\n",
        "for char in input_str:\n",
        "    result += char * 2\n",
        "print (result)\n",
        "\n",
        "\n"
      ],
      "metadata": {
        "colab": {
          "base_uri": "https://localhost:8080/"
        },
        "id": "q42Hh0DPyAY4",
        "outputId": "bc05f3f3-2f6b-4b22-bd54-ebbb68cfeaa1"
      },
      "execution_count": null,
      "outputs": [
        {
          "output_type": "stream",
          "name": "stdout",
          "text": [
            "SSttrriinngg\n"
          ]
        }
      ]
    },
    {
      "cell_type": "markdown",
      "source": [
        "Напишите программу, которая будет принимать число n и проверять, кратна ли каждая его цифра цифре, стоящей слева от нее. Ответ сохраните в result в виде массива булевых значений результатов проверок.\n",
        "\n",
        "result всегда должен начинаться с False, так как слева от первой цифры ничего нет."
      ],
      "metadata": {
        "id": "enBRgH41YKC-"
      }
    },
    {
      "cell_type": "code",
      "source": [
        "n = 54412\n",
        "result = [False, False, True, False, True]"
      ],
      "metadata": {
        "id": "mk2wE5DAYKWy"
      },
      "execution_count": null,
      "outputs": []
    },
    {
      "cell_type": "code",
      "source": [
        "n = 53333\n",
        "n = str(n)\n",
        "result = [False]\n",
        "for i in range(1,len(n)):\n",
        "  if int(n[i-1]) == 0 or int(n[i]) % int(n[i-1]) != 0:\n",
        "    result.append(False)\n",
        "  else:\n",
        "    result.append(True)\n",
        "print (result)"
      ],
      "metadata": {
        "colab": {
          "base_uri": "https://localhost:8080/"
        },
        "id": "qn4wRDEKeYIF",
        "outputId": "1778ba3b-df95-4ad5-b04b-7fc1d6bec482"
      },
      "execution_count": null,
      "outputs": [
        {
          "output_type": "stream",
          "name": "stdout",
          "text": [
            "[False, False, True, True, True]\n"
          ]
        }
      ]
    },
    {
      "cell_type": "markdown",
      "source": [
        "В словаре students сохранены данные про студентов, ключ — фамилия, значение — число баллов за экзамен, создайте список students_order, в котором каждый элемент это кортеж (tuple) с номером выступления студента и его фамилией. В students_order должны быть только те студенты, у которых более 90 баллов. Порядок определяется сортировкой по фамилии."
      ],
      "metadata": {
        "id": "zNk05yxPifNq"
      }
    },
    {
      "cell_type": "code",
      "source": [
        "students = {'Бабаков': 80, 'Антонов': 99, 'Волгов': 100}\n",
        "students_order = [(1, 'Антонов'), (2, 'Волгов')]"
      ],
      "metadata": {
        "id": "1Q9SIR0BihWQ"
      },
      "execution_count": null,
      "outputs": []
    },
    {
      "cell_type": "code",
      "source": [
        "students = {'Бабаков': 80, 'Антонов': 99, 'Волгов': 100}\n",
        "students_list= list(students)\n",
        "number_list = list(range(1,30))\n",
        "values=list(students.values())\n",
        "zips = list(zip(students_list,values))\n",
        "print (zips)\n",
        "print(number_list)\n",
        "print (values)\n",
        "print (students_list)\n",
        "#if students>90:\n",
        "#  students_sort=sorted(students.items())\n",
        "#print(students_sort)"
      ],
      "metadata": {
        "id": "HoAgjN_gif0u",
        "colab": {
          "base_uri": "https://localhost:8080/",
          "height": 258
        },
        "outputId": "fee80fb9-ced9-41a1-bdd1-2281a26020c0"
      },
      "execution_count": null,
      "outputs": [
        {
          "output_type": "error",
          "ename": "TypeError",
          "evalue": "ignored",
          "traceback": [
            "\u001b[0;31m---------------------------------------------------------------------------\u001b[0m",
            "\u001b[0;31mTypeError\u001b[0m                                 Traceback (most recent call last)",
            "\u001b[0;32m<ipython-input-12-034f24b911d0>\u001b[0m in \u001b[0;36m<cell line: 5>\u001b[0;34m()\u001b[0m\n\u001b[1;32m      3\u001b[0m \u001b[0mnumber_list\u001b[0m \u001b[0;34m=\u001b[0m \u001b[0mlist\u001b[0m\u001b[0;34m(\u001b[0m\u001b[0mrange\u001b[0m\u001b[0;34m(\u001b[0m\u001b[0;36m1\u001b[0m\u001b[0;34m,\u001b[0m\u001b[0;36m30\u001b[0m\u001b[0;34m)\u001b[0m\u001b[0;34m)\u001b[0m\u001b[0;34m\u001b[0m\u001b[0;34m\u001b[0m\u001b[0m\n\u001b[1;32m      4\u001b[0m \u001b[0mvalues\u001b[0m\u001b[0;34m=\u001b[0m\u001b[0mlist\u001b[0m\u001b[0;34m(\u001b[0m\u001b[0mstudents\u001b[0m\u001b[0;34m.\u001b[0m\u001b[0mvalues\u001b[0m\u001b[0;34m(\u001b[0m\u001b[0;34m)\u001b[0m\u001b[0;34m)\u001b[0m\u001b[0;34m\u001b[0m\u001b[0;34m\u001b[0m\u001b[0m\n\u001b[0;32m----> 5\u001b[0;31m \u001b[0mzips\u001b[0m \u001b[0;34m=\u001b[0m \u001b[0mlist\u001b[0m\u001b[0;34m(\u001b[0m\u001b[0mzip\u001b[0m\u001b[0;34m(\u001b[0m\u001b[0mstudents_list\u001b[0m\u001b[0;34m,\u001b[0m\u001b[0mvalues\u001b[0m\u001b[0;34m)\u001b[0m\u001b[0;34m)\u001b[0m\u001b[0;34m\u001b[0m\u001b[0;34m\u001b[0m\u001b[0m\n\u001b[0m\u001b[1;32m      6\u001b[0m \u001b[0mprint\u001b[0m \u001b[0;34m(\u001b[0m\u001b[0mzips\u001b[0m\u001b[0;34m)\u001b[0m\u001b[0;34m\u001b[0m\u001b[0;34m\u001b[0m\u001b[0m\n\u001b[1;32m      7\u001b[0m \u001b[0mprint\u001b[0m\u001b[0;34m(\u001b[0m\u001b[0mnumber_list\u001b[0m\u001b[0;34m)\u001b[0m\u001b[0;34m\u001b[0m\u001b[0;34m\u001b[0m\u001b[0m\n",
            "\u001b[0;31mTypeError\u001b[0m: 'zip' object is not callable"
          ]
        }
      ]
    },
    {
      "cell_type": "markdown",
      "source": [
        "Напишите программу, которая расшифровывает строку my_string при помощи словаря secret_dict. Расшифрованную строку сохраните в переменную decrypted_string."
      ],
      "metadata": {
        "id": "eC8qQTpWdYka"
      }
    },
    {
      "cell_type": "code",
      "source": [
        "my_string = 'zis jqd qbdx qjjgsd bcd zjm fbc bvbx'\n",
        "secret_dict = {\n",
        "'v': 'w',\n",
        "'x': 'y',\n",
        "'i': 'h',\n",
        "'q': 'l',\n",
        "'c': 'n',\n",
        "'b': 'a',\n",
        "'f': 'r',\n",
        "'j': 'o',\n",
        "'s': 'e',\n",
        "'z': 't',\n",
        "'g': 'k'}\n",
        "\n",
        "decrypted_string = 'the old lady looked and tom ran away'"
      ],
      "metadata": {
        "id": "One2MnjZdY6h"
      },
      "execution_count": null,
      "outputs": []
    },
    {
      "cell_type": "code",
      "source": [
        "my_string = 'zis jqd qbdx qjjgsd bcd zjm fbc bvbx'\n",
        "secret_dict = {\n",
        "'v': 'w',\n",
        "'x': 'y',\n",
        "'i': 'h',\n",
        "'q': 'l',\n",
        "'c': 'n',\n",
        "'b': 'a',\n",
        "'f': 'r',\n",
        "'j': 'o',\n",
        "'s': 'e',\n",
        "'z': 't',\n",
        "'g': 'k'}\n",
        "decrypted_string= ''\n",
        "for i in my_string:\n",
        "  if i==secret_dict.keys():\n",
        "    decrypted_string+=secret_dict.keys(value)\n",
        "    print (decrypted_string)\n",
        "  else: decrypted_string+=i\n",
        "\n"
      ],
      "metadata": {
        "id": "fjRB9bKOdaY5"
      },
      "execution_count": 49,
      "outputs": []
    },
    {
      "cell_type": "code",
      "source": [
        "my_string = 'zis jqd qbdx qjjgsd bcd zjm fbc bvbx'\n",
        "secret_dict = {\n",
        "'v': 'w',\n",
        "'x': 'y',\n",
        "'i': 'h',\n",
        "'q': 'l',\n",
        "'c': 'n',\n",
        "'b': 'a',\n",
        "'f': 'r',\n",
        "'j': 'o',\n",
        "'s': 'e',\n",
        "'z': 't',\n",
        "'g': 'k'}\n",
        "decrypted_string= ''\n",
        "for i in list(my_string):\n",
        "  if i==secret_dict.keys():\n",
        "    decrypted_string=decrypted_string.add(secret_dict.values())\n",
        "    print (decrypted_string)\n",
        "  else: decrypted_string=decrypted_string.add(i)\n",
        "  print (decrypted_string)\n"
      ],
      "metadata": {
        "colab": {
          "base_uri": "https://localhost:8080/",
          "height": 239
        },
        "id": "_HDy7jRGezzL",
        "outputId": "e326694e-9db1-47f0-f4de-9c6f4d9c70e2"
      },
      "execution_count": 41,
      "outputs": [
        {
          "output_type": "error",
          "ename": "AttributeError",
          "evalue": "ignored",
          "traceback": [
            "\u001b[0;31m---------------------------------------------------------------------------\u001b[0m",
            "\u001b[0;31mAttributeError\u001b[0m                            Traceback (most recent call last)",
            "\u001b[0;32m<ipython-input-41-3de942f0da8a>\u001b[0m in \u001b[0;36m<cell line: 15>\u001b[0;34m()\u001b[0m\n\u001b[1;32m     17\u001b[0m     \u001b[0mdecrypted_string\u001b[0m\u001b[0;34m=\u001b[0m\u001b[0mdecrypted_string\u001b[0m\u001b[0;34m.\u001b[0m\u001b[0madd\u001b[0m\u001b[0;34m(\u001b[0m\u001b[0msecret_dict\u001b[0m\u001b[0;34m.\u001b[0m\u001b[0mvalues\u001b[0m\u001b[0;34m(\u001b[0m\u001b[0;34m)\u001b[0m\u001b[0;34m)\u001b[0m\u001b[0;34m\u001b[0m\u001b[0;34m\u001b[0m\u001b[0m\n\u001b[1;32m     18\u001b[0m     \u001b[0mprint\u001b[0m \u001b[0;34m(\u001b[0m\u001b[0mdecrypted_string\u001b[0m\u001b[0;34m)\u001b[0m\u001b[0;34m\u001b[0m\u001b[0;34m\u001b[0m\u001b[0m\n\u001b[0;32m---> 19\u001b[0;31m   \u001b[0;32melse\u001b[0m\u001b[0;34m:\u001b[0m \u001b[0mdecrypted_string\u001b[0m\u001b[0;34m=\u001b[0m\u001b[0mdecrypted_string\u001b[0m\u001b[0;34m.\u001b[0m\u001b[0madd\u001b[0m\u001b[0;34m(\u001b[0m\u001b[0mi\u001b[0m\u001b[0;34m)\u001b[0m\u001b[0;34m\u001b[0m\u001b[0;34m\u001b[0m\u001b[0m\n\u001b[0m\u001b[1;32m     20\u001b[0m   \u001b[0mprint\u001b[0m \u001b[0;34m(\u001b[0m\u001b[0mdecrypted_string\u001b[0m\u001b[0;34m)\u001b[0m\u001b[0;34m\u001b[0m\u001b[0;34m\u001b[0m\u001b[0m\n",
            "\u001b[0;31mAttributeError\u001b[0m: 'str' object has no attribute 'add'"
          ]
        }
      ]
    },
    {
      "cell_type": "code",
      "source": [
        "my_string = 'zis jqd qbdx qjjgsd bcd zjm fbc bvbx'\n",
        "secret_dict = {\n",
        "'v': 'w',\n",
        "'x': 'y',\n",
        "'i': 'h',\n",
        "'q': 'l',\n",
        "'c': 'n',\n",
        "'b': 'a',\n",
        "'f': 'r',\n",
        "'j': 'o',\n",
        "'s': 'e',\n",
        "'z': 't',\n",
        "'g': 'k'}\n",
        "decrypted_string = \"\"\n",
        "for letter in my_string:\n",
        "    decrypted_string += secret_dict[letter]\n",
        "print (\"\".join(decrypted_string))"
      ],
      "metadata": {
        "colab": {
          "base_uri": "https://localhost:8080/",
          "height": 239
        },
        "id": "VPzLMG8fe2Jp",
        "outputId": "98c9cb19-f458-4a69-d727-8c75231b77f7"
      },
      "execution_count": 44,
      "outputs": [
        {
          "output_type": "error",
          "ename": "KeyError",
          "evalue": "ignored",
          "traceback": [
            "\u001b[0;31m---------------------------------------------------------------------------\u001b[0m",
            "\u001b[0;31mKeyError\u001b[0m                                  Traceback (most recent call last)",
            "\u001b[0;32m<ipython-input-44-a24a0d6acf7a>\u001b[0m in \u001b[0;36m<cell line: 15>\u001b[0;34m()\u001b[0m\n\u001b[1;32m     14\u001b[0m \u001b[0mdecrypted_string\u001b[0m \u001b[0;34m=\u001b[0m \u001b[0;34m\"\"\u001b[0m\u001b[0;34m\u001b[0m\u001b[0;34m\u001b[0m\u001b[0m\n\u001b[1;32m     15\u001b[0m \u001b[0;32mfor\u001b[0m \u001b[0mletter\u001b[0m \u001b[0;32min\u001b[0m \u001b[0mmy_string\u001b[0m\u001b[0;34m:\u001b[0m\u001b[0;34m\u001b[0m\u001b[0;34m\u001b[0m\u001b[0m\n\u001b[0;32m---> 16\u001b[0;31m     \u001b[0mdecrypted_string\u001b[0m \u001b[0;34m+=\u001b[0m \u001b[0msecret_dict\u001b[0m\u001b[0;34m[\u001b[0m\u001b[0mletter\u001b[0m\u001b[0;34m]\u001b[0m\u001b[0;34m\u001b[0m\u001b[0;34m\u001b[0m\u001b[0m\n\u001b[0m\u001b[1;32m     17\u001b[0m \u001b[0mprint\u001b[0m \u001b[0;34m(\u001b[0m\u001b[0;34m\"\"\u001b[0m\u001b[0;34m.\u001b[0m\u001b[0mjoin\u001b[0m\u001b[0;34m(\u001b[0m\u001b[0mdecrypted_string\u001b[0m\u001b[0;34m)\u001b[0m\u001b[0;34m)\u001b[0m\u001b[0;34m\u001b[0m\u001b[0;34m\u001b[0m\u001b[0m\n",
            "\u001b[0;31mKeyError\u001b[0m: ' '"
          ]
        }
      ]
    }
  ]
}